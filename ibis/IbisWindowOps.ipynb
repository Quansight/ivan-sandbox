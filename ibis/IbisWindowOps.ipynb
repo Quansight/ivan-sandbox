{
 "cells": [
  {
   "cell_type": "markdown",
   "metadata": {},
   "source": [
    "# Ibis MapD/OmniSci Window Operations"
   ]
  },
  {
   "cell_type": "markdown",
   "metadata": {},
   "source": [
    "The PR [#1771](https://github.com/ibis-project/ibis/pull/1771) added support to window operations into Ibis MapD/OmniSci backend.\n",
    "\n",
    "The first operations available are:\n",
    "\n",
    "- lag\n",
    "- firstvalue\n",
    "- lead\n",
    "- lastvalue\n",
    "- mean\n",
    "- min\n",
    "- max\n",
    "- sum"
   ]
  },
  {
   "cell_type": "code",
   "execution_count": 1,
   "metadata": {},
   "outputs": [],
   "source": [
    "import ibis\n",
    "import pandas as pd"
   ]
  },
  {
   "cell_type": "code",
   "execution_count": 19,
   "metadata": {},
   "outputs": [],
   "source": [
    "db_conf = dict(\n",
    "    host='localhost', port='6274', \n",
    "    user='mapd', password='HyperInteractive', \n",
    "    database='ibis_testing'\n",
    ")\n",
    "\n",
    "def make_mapd_connection(db_conf):\n",
    "    return ibis.mapd.connect(**db_conf)\n",
    "\n",
    "mapd = make_mapd_connection(db_conf)"
   ]
  },
  {
   "cell_type": "code",
   "execution_count": 20,
   "metadata": {},
   "outputs": [
    {
     "data": {
      "text/plain": [
       "'4.6.1-20190501-1937c23915'"
      ]
     },
     "execution_count": 20,
     "metadata": {},
     "output_type": "execute_result"
    }
   ],
   "source": [
    "# show database version\n",
    "mapd.con._client.get_version()"
   ]
  },
  {
   "cell_type": "code",
   "execution_count": 21,
   "metadata": {},
   "outputs": [
    {
     "data": {
      "text/plain": [
       "['diamonds', 'batting', 'awards_players', 'functional_alltypes', 'geo']"
      ]
     },
     "execution_count": 21,
     "metadata": {},
     "output_type": "execute_result"
    }
   ],
   "source": [
    "mapd.list_tables()"
   ]
  },
  {
   "cell_type": "code",
   "execution_count": 22,
   "metadata": {},
   "outputs": [],
   "source": [
    "t = mapd.table('functional_alltypes')\n",
    "win = ibis.window(\n",
    "    following=0,\n",
    "    group_by=[t.string_col],\n",
    "    order_by=[t.id],\n",
    ")"
   ]
  },
  {
   "cell_type": "markdown",
   "metadata": {},
   "source": [
    "## lag"
   ]
  },
  {
   "cell_type": "code",
   "execution_count": 25,
   "metadata": {},
   "outputs": [
    {
     "name": "stdout",
     "output_type": "stream",
     "text": [
      "SELECT lag(\"double_col\") OVER (PARTITION BY \"string_col\" ORDER BY \"id\") AS tmp\n",
      "FROM functional_alltypes\n"
     ]
    },
    {
     "data": {
      "text/plain": [
       "0     0.0\n",
       "1    10.1\n",
       "2    20.2\n",
       "3    30.3\n",
       "4    40.4\n",
       "Name: tmp, dtype: float64"
      ]
     },
     "execution_count": 25,
     "metadata": {},
     "output_type": "execute_result"
    }
   ],
   "source": [
    "expr = t.double_col.lag().over(win)\n",
    "print(expr.compile())\n",
    "expr.execute().head(5)"
   ]
  },
  {
   "cell_type": "markdown",
   "metadata": {},
   "source": [
    "# firstvalue"
   ]
  },
  {
   "cell_type": "code",
   "execution_count": 26,
   "metadata": {},
   "outputs": [
    {
     "name": "stdout",
     "output_type": "stream",
     "text": [
      "SELECT first_value(\"double_col\") OVER (PARTITION BY \"string_col\" ORDER BY \"id\") AS tmp\n",
      "FROM functional_alltypes\n"
     ]
    },
    {
     "data": {
      "text/plain": [
       "0     0.0\n",
       "1    10.1\n",
       "2    20.2\n",
       "3    30.3\n",
       "4    40.4\n",
       "Name: tmp, dtype: float64"
      ]
     },
     "execution_count": 26,
     "metadata": {},
     "output_type": "execute_result"
    }
   ],
   "source": [
    "expr = t.double_col.first().over(win)\n",
    "print(expr.compile())\n",
    "expr.execute().head(5)"
   ]
  },
  {
   "cell_type": "markdown",
   "metadata": {},
   "source": [
    "## lead"
   ]
  },
  {
   "cell_type": "code",
   "execution_count": 27,
   "metadata": {},
   "outputs": [
    {
     "name": "stdout",
     "output_type": "stream",
     "text": [
      "SELECT lead(\"double_col\") OVER (PARTITION BY \"string_col\" ORDER BY \"id\") AS tmp\n",
      "FROM functional_alltypes\n"
     ]
    },
    {
     "data": {
      "text/plain": [
       "0     0.0\n",
       "1    10.1\n",
       "2    20.2\n",
       "3    30.3\n",
       "4    40.4\n",
       "Name: tmp, dtype: float64"
      ]
     },
     "execution_count": 27,
     "metadata": {},
     "output_type": "execute_result"
    }
   ],
   "source": [
    "expr = t.double_col.lead().over(win)\n",
    "print(expr.compile())\n",
    "expr.execute().head(5)"
   ]
  },
  {
   "cell_type": "markdown",
   "metadata": {},
   "source": [
    "## lastvalue"
   ]
  },
  {
   "cell_type": "code",
   "execution_count": 28,
   "metadata": {},
   "outputs": [
    {
     "name": "stdout",
     "output_type": "stream",
     "text": [
      "SELECT last_value(\"double_col\") OVER (PARTITION BY \"string_col\" ORDER BY \"id\") AS tmp\n",
      "FROM functional_alltypes\n"
     ]
    },
    {
     "data": {
      "text/plain": [
       "0     0.0\n",
       "1    10.1\n",
       "2    20.2\n",
       "3    30.3\n",
       "4    40.4\n",
       "Name: tmp, dtype: float64"
      ]
     },
     "execution_count": 28,
     "metadata": {},
     "output_type": "execute_result"
    }
   ],
   "source": [
    "expr = t.double_col.last().over(win)\n",
    "print(expr.compile())\n",
    "expr.execute().head(5)"
   ]
  },
  {
   "cell_type": "markdown",
   "metadata": {},
   "source": [
    "## mean"
   ]
  },
  {
   "cell_type": "code",
   "execution_count": 29,
   "metadata": {},
   "outputs": [
    {
     "name": "stdout",
     "output_type": "stream",
     "text": [
      "SELECT avg(\"double_col\") OVER (PARTITION BY \"string_col\" ORDER BY \"id\") AS tmp\n",
      "FROM functional_alltypes\n"
     ]
    },
    {
     "data": {
      "text/plain": [
       "0     0.0\n",
       "1    10.1\n",
       "2    20.2\n",
       "3    30.3\n",
       "4    40.4\n",
       "Name: tmp, dtype: float64"
      ]
     },
     "execution_count": 29,
     "metadata": {},
     "output_type": "execute_result"
    }
   ],
   "source": [
    "expr = t.double_col.mean().over(win)\n",
    "print(expr.compile())\n",
    "expr.execute().head(5)"
   ]
  },
  {
   "cell_type": "markdown",
   "metadata": {},
   "source": [
    "## min"
   ]
  },
  {
   "cell_type": "code",
   "execution_count": 30,
   "metadata": {},
   "outputs": [
    {
     "name": "stdout",
     "output_type": "stream",
     "text": [
      "SELECT min(\"double_col\") OVER (PARTITION BY \"string_col\" ORDER BY \"id\") AS tmp\n",
      "FROM functional_alltypes\n"
     ]
    },
    {
     "data": {
      "text/plain": [
       "0     0.0\n",
       "1    10.1\n",
       "2    20.2\n",
       "3    30.3\n",
       "4    40.4\n",
       "Name: tmp, dtype: float64"
      ]
     },
     "execution_count": 30,
     "metadata": {},
     "output_type": "execute_result"
    }
   ],
   "source": [
    "expr = t.double_col.min().over(win)\n",
    "print(expr.compile())\n",
    "expr.execute().head(5)"
   ]
  },
  {
   "cell_type": "markdown",
   "metadata": {},
   "source": [
    "## max"
   ]
  },
  {
   "cell_type": "code",
   "execution_count": 34,
   "metadata": {},
   "outputs": [
    {
     "name": "stdout",
     "output_type": "stream",
     "text": [
      "SELECT max(\"double_col\") OVER (PARTITION BY \"string_col\" ORDER BY \"id\") AS tmp\n",
      "FROM functional_alltypes\n"
     ]
    },
    {
     "data": {
      "text/plain": [
       "0     0.0\n",
       "1    10.1\n",
       "2    20.2\n",
       "3    30.3\n",
       "4    40.4\n",
       "Name: tmp, dtype: float64"
      ]
     },
     "execution_count": 34,
     "metadata": {},
     "output_type": "execute_result"
    }
   ],
   "source": [
    "expr = t.double_col.max().over(win)\n",
    "print(expr.compile())\n",
    "expr.execute().head(5)"
   ]
  },
  {
   "cell_type": "markdown",
   "metadata": {},
   "source": [
    "## sum"
   ]
  },
  {
   "cell_type": "code",
   "execution_count": 33,
   "metadata": {},
   "outputs": [
    {
     "name": "stdout",
     "output_type": "stream",
     "text": [
      "SELECT sum(\"double_col\") OVER (PARTITION BY \"string_col\" ORDER BY \"id\") AS tmp\n",
      "FROM functional_alltypes\n"
     ]
    },
    {
     "data": {
      "text/plain": [
       "0        0.0\n",
       "1     6767.0\n",
       "2    13534.0\n",
       "3    20301.0\n",
       "4    27068.0\n",
       "Name: tmp, dtype: float64"
      ]
     },
     "execution_count": 33,
     "metadata": {},
     "output_type": "execute_result"
    }
   ],
   "source": [
    "expr = t.double_col.sum().over(win)\n",
    "print(expr.compile())\n",
    "expr.execute().head(5)"
   ]
  }
 ],
 "metadata": {
  "kernelspec": {
   "display_name": "Python 3",
   "language": "python",
   "name": "python3"
  },
  "language_info": {
   "codemirror_mode": {
    "name": "ipython",
    "version": 3
   },
   "file_extension": ".py",
   "mimetype": "text/x-python",
   "name": "python",
   "nbconvert_exporter": "python",
   "pygments_lexer": "ipython3",
   "version": "3.6.7"
  }
 },
 "nbformat": 4,
 "nbformat_minor": 2
}
