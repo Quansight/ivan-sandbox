{
 "cells": [
  {
   "cell_type": "markdown",
   "metadata": {},
   "source": [
    "# Prof of concept Ibis.MapD Geo Spatial Data Types"
   ]
  },
  {
   "cell_type": "code",
   "execution_count": 1,
   "metadata": {},
   "outputs": [
    {
     "name": "stderr",
     "output_type": "stream",
     "text": [
      "/mnt/sda1/storage/miniconda/envs/ibis/lib/python3.6/importlib/_bootstrap.py:219: RuntimeWarning: numpy.dtype size changed, may indicate binary incompatibility. Expected 96, got 88\n",
      "  return f(*args, **kwds)\n"
     ]
    }
   ],
   "source": [
    "import pymapd"
   ]
  },
  {
   "cell_type": "code",
   "execution_count": 2,
   "metadata": {},
   "outputs": [],
   "source": [
    "conn_info = dict(\n",
    "    host='localhost', port='9091', \n",
    "    user='mapd', password='HyperInteractive', \n",
    "    dbname='mapd'\n",
    ")\n",
    "\n",
    "conn = pymapd.connect(**conn_info)"
   ]
  },
  {
   "cell_type": "code",
   "execution_count": 3,
   "metadata": {},
   "outputs": [
    {
     "data": {
      "text/plain": [
       "['omnisci_states', 'omnisci_counties', 'omnisci_countries']"
      ]
     },
     "execution_count": 3,
     "metadata": {},
     "output_type": "execute_result"
    }
   ],
   "source": [
    "conn.get_tables()"
   ]
  },
  {
   "cell_type": "code",
   "execution_count": 4,
   "metadata": {},
   "outputs": [],
   "source": [
    "t_name = 'omnisci_states'"
   ]
  },
  {
   "cell_type": "code",
   "execution_count": 5,
   "metadata": {},
   "outputs": [
    {
     "data": {
      "text/plain": [
       "[ColumnDetails(name='id', type='STR', nullable=True, precision=0, scale=0, comp_param=32),\n",
       " ColumnDetails(name='abbr', type='STR', nullable=True, precision=0, scale=0, comp_param=32),\n",
       " ColumnDetails(name='name', type='STR', nullable=True, precision=0, scale=0, comp_param=32),\n",
       " ColumnDetails(name='omnisci_geo', type='MULTIPOLYGON', nullable=True, precision=23, scale=4326, comp_param=32)]"
      ]
     },
     "execution_count": 5,
     "metadata": {},
     "output_type": "execute_result"
    }
   ],
   "source": [
    "conn.get_table_details(t_name)"
   ]
  },
  {
   "cell_type": "code",
   "execution_count": 6,
   "metadata": {},
   "outputs": [],
   "source": [
    "import ibis"
   ]
  },
  {
   "cell_type": "code",
   "execution_count": 7,
   "metadata": {},
   "outputs": [],
   "source": [
    "ibis_conn_info = conn_info.copy()\n",
    "ibis_conn_info['database'] = ibis_conn_info['dbname']\n",
    "del ibis_conn_info['dbname']\n",
    "\n",
    "ibis_conn = ibis.mapd.connect(**ibis_conn_info)"
   ]
  },
  {
   "cell_type": "code",
   "execution_count": 8,
   "metadata": {},
   "outputs": [
    {
     "data": {
      "image/png": "[encoded data removed]",
      "text/plain": [
       "DatabaseTable[table]\n",
       "  name: omnisci_states\n",
       "  schema:\n",
       "    id : string\n",
       "    abbr : string\n",
       "    name : string\n",
       "    omnisci_geo : multipolygon"
      ]
     },
     "execution_count": 8,
     "metadata": {},
     "output_type": "execute_result"
    }
   ],
   "source": [
    "t = ibis_conn.table(t_name)\n",
    "t"
   ]
  },
  {
   "cell_type": "code",
   "execution_count": 9,
   "metadata": {},
   "outputs": [
    {
     "name": "stdout",
     "output_type": "stream",
     "text": [
      "         area\n",
      "0   12.874780\n",
      "1  281.894593\n",
      "2   28.951159\n",
      "3   13.573046\n",
      "4   41.644424\n"
     ]
    }
   ],
   "source": [
    "print(t[t.omnisci_geo.area().name('area')].head().execute())"
   ]
  },
  {
   "cell_type": "code",
   "execution_count": 10,
   "metadata": {},
   "outputs": [
    {
     "name": "stdout",
     "output_type": "stream",
     "text": [
      "    perimeter\n",
      "0   16.546430\n",
      "1  266.490637\n",
      "2   22.749151\n",
      "3   16.556801\n",
      "4   34.613895\n"
     ]
    }
   ],
   "source": [
    "print(t[t.omnisci_geo.perimeter().name('perimeter')].head().execute())"
   ]
  },
  {
   "cell_type": "code",
   "execution_count": 11,
   "metadata": {},
   "outputs": [
    {
     "name": "stdout",
     "output_type": "stream",
     "text": [
      "SELECT *, ST_LENGTH('LINESTRING(0 1, 2 3)') AS length\n",
      "FROM omnisci_states\n",
      "LIMIT 5\n"
     ]
    },
    {
     "data": {
      "text/html": [
       "<div>\n",
       "<style scoped>\n",
       "    .dataframe tbody tr th:only-of-type {\n",
       "        vertical-align: middle;\n",
       "    }\n",
       "\n",
       "    .dataframe tbody tr th {\n",
       "        vertical-align: top;\n",
       "    }\n",
       "\n",
       "    .dataframe thead th {\n",
       "        text-align: right;\n",
       "    }\n",
       "</style>\n",
       "<table border=\"1\" class=\"dataframe\">\n",
       "  <thead>\n",
       "    <tr style=\"text-align: right;\">\n",
       "      <th></th>\n",
       "      <th>id</th>\n",
       "      <th>abbr</th>\n",
       "      <th>name</th>\n",
       "      <th>omnisci_geo</th>\n",
       "      <th>rowid</th>\n",
       "      <th>length</th>\n",
       "    </tr>\n",
       "  </thead>\n",
       "  <tbody>\n",
       "    <tr>\n",
       "      <th>0</th>\n",
       "      <td>01</td>\n",
       "      <td>AL</td>\n",
       "      <td>Alabama</td>\n",
       "      <td>MULTIPOLYGON (((-87.3592959471789 35.001179988...</td>\n",
       "      <td>0</td>\n",
       "      <td>2.828427</td>\n",
       "    </tr>\n",
       "    <tr>\n",
       "      <th>1</th>\n",
       "      <td>02</td>\n",
       "      <td>AK</td>\n",
       "      <td>Alaska</td>\n",
       "      <td>MULTIPOLYGON (((-131.602020939627 55.117981967...</td>\n",
       "      <td>1</td>\n",
       "      <td>2.828427</td>\n",
       "    </tr>\n",
       "    <tr>\n",
       "      <th>2</th>\n",
       "      <td>04</td>\n",
       "      <td>AZ</td>\n",
       "      <td>Arizona</td>\n",
       "      <td>MULTIPOLYGON (((-109.042502962538 37.000262973...</td>\n",
       "      <td>2</td>\n",
       "      <td>2.828427</td>\n",
       "    </tr>\n",
       "    <tr>\n",
       "      <th>3</th>\n",
       "      <td>05</td>\n",
       "      <td>AR</td>\n",
       "      <td>Arkansas</td>\n",
       "      <td>MULTIPOLYGON (((-94.4738419514493 36.501860970...</td>\n",
       "      <td>3</td>\n",
       "      <td>2.828427</td>\n",
       "    </tr>\n",
       "    <tr>\n",
       "      <th>4</th>\n",
       "      <td>06</td>\n",
       "      <td>CA</td>\n",
       "      <td>California</td>\n",
       "      <td>MULTIPOLYGON (((-123.233255978317 42.006185959...</td>\n",
       "      <td>4</td>\n",
       "      <td>2.828427</td>\n",
       "    </tr>\n",
       "  </tbody>\n",
       "</table>\n",
       "</div>"
      ],
      "text/plain": [
       "   id abbr        name                                        omnisci_geo  \\\n",
       "0  01   AL     Alabama  MULTIPOLYGON (((-87.3592959471789 35.001179988...   \n",
       "1  02   AK      Alaska  MULTIPOLYGON (((-131.602020939627 55.117981967...   \n",
       "2  04   AZ     Arizona  MULTIPOLYGON (((-109.042502962538 37.000262973...   \n",
       "3  05   AR    Arkansas  MULTIPOLYGON (((-94.4738419514493 36.501860970...   \n",
       "4  06   CA  California  MULTIPOLYGON (((-123.233255978317 42.006185959...   \n",
       "\n",
       "   rowid    length  \n",
       "0      0  2.828427  \n",
       "1      1  2.828427  \n",
       "2      2  2.828427  \n",
       "3      3  2.828427  \n",
       "4      4  2.828427  "
      ]
     },
     "execution_count": 11,
     "metadata": {},
     "output_type": "execute_result"
    }
   ],
   "source": [
    "linestring1 = ibis.literal([(0, 1), (2, 3)], type=\"linestring\")\n",
    "expr = t[[t, linestring1.length().name('length')]]\n",
    "print(expr.head().compile())\n",
    "expr.head().execute()"
   ]
  },
  {
   "cell_type": "code",
   "execution_count": 12,
   "metadata": {},
   "outputs": [
    {
     "name": "stdout",
     "output_type": "stream",
     "text": [
      "SELECT *, ST_DISTANCE('LINESTRING(0 1, 2 3)', 'POINT(0 0)') AS distance\n",
      "FROM omnisci_states\n",
      "LIMIT 5\n"
     ]
    },
    {
     "data": {
      "text/html": [
       "<div>\n",
       "<style scoped>\n",
       "    .dataframe tbody tr th:only-of-type {\n",
       "        vertical-align: middle;\n",
       "    }\n",
       "\n",
       "    .dataframe tbody tr th {\n",
       "        vertical-align: top;\n",
       "    }\n",
       "\n",
       "    .dataframe thead th {\n",
       "        text-align: right;\n",
       "    }\n",
       "</style>\n",
       "<table border=\"1\" class=\"dataframe\">\n",
       "  <thead>\n",
       "    <tr style=\"text-align: right;\">\n",
       "      <th></th>\n",
       "      <th>id</th>\n",
       "      <th>abbr</th>\n",
       "      <th>name</th>\n",
       "      <th>omnisci_geo</th>\n",
       "      <th>rowid</th>\n",
       "      <th>distance</th>\n",
       "    </tr>\n",
       "  </thead>\n",
       "  <tbody>\n",
       "    <tr>\n",
       "      <th>0</th>\n",
       "      <td>01</td>\n",
       "      <td>AL</td>\n",
       "      <td>Alabama</td>\n",
       "      <td>MULTIPOLYGON (((-87.3592959471789 35.001179988...</td>\n",
       "      <td>0</td>\n",
       "      <td>1.0</td>\n",
       "    </tr>\n",
       "    <tr>\n",
       "      <th>1</th>\n",
       "      <td>02</td>\n",
       "      <td>AK</td>\n",
       "      <td>Alaska</td>\n",
       "      <td>MULTIPOLYGON (((-131.602020939627 55.117981967...</td>\n",
       "      <td>1</td>\n",
       "      <td>1.0</td>\n",
       "    </tr>\n",
       "    <tr>\n",
       "      <th>2</th>\n",
       "      <td>04</td>\n",
       "      <td>AZ</td>\n",
       "      <td>Arizona</td>\n",
       "      <td>MULTIPOLYGON (((-109.042502962538 37.000262973...</td>\n",
       "      <td>2</td>\n",
       "      <td>1.0</td>\n",
       "    </tr>\n",
       "    <tr>\n",
       "      <th>3</th>\n",
       "      <td>05</td>\n",
       "      <td>AR</td>\n",
       "      <td>Arkansas</td>\n",
       "      <td>MULTIPOLYGON (((-94.4738419514493 36.501860970...</td>\n",
       "      <td>3</td>\n",
       "      <td>1.0</td>\n",
       "    </tr>\n",
       "    <tr>\n",
       "      <th>4</th>\n",
       "      <td>06</td>\n",
       "      <td>CA</td>\n",
       "      <td>California</td>\n",
       "      <td>MULTIPOLYGON (((-123.233255978317 42.006185959...</td>\n",
       "      <td>4</td>\n",
       "      <td>1.0</td>\n",
       "    </tr>\n",
       "  </tbody>\n",
       "</table>\n",
       "</div>"
      ],
      "text/plain": [
       "   id abbr        name                                        omnisci_geo  \\\n",
       "0  01   AL     Alabama  MULTIPOLYGON (((-87.3592959471789 35.001179988...   \n",
       "1  02   AK      Alaska  MULTIPOLYGON (((-131.602020939627 55.117981967...   \n",
       "2  04   AZ     Arizona  MULTIPOLYGON (((-109.042502962538 37.000262973...   \n",
       "3  05   AR    Arkansas  MULTIPOLYGON (((-94.4738419514493 36.501860970...   \n",
       "4  06   CA  California  MULTIPOLYGON (((-123.233255978317 42.006185959...   \n",
       "\n",
       "   rowid  distance  \n",
       "0      0       1.0  \n",
       "1      1       1.0  \n",
       "2      2       1.0  \n",
       "3      3       1.0  \n",
       "4      4       1.0  "
      ]
     },
     "execution_count": 12,
     "metadata": {},
     "output_type": "execute_result"
    }
   ],
   "source": [
    "linestring1 = ibis.literal([(0, 1), (2, 3)], type=\"linestring\")\n",
    "point1 = ibis.literal((0, 0), type=\"point\")\n",
    "\n",
    "expr = t[[t, linestring1.distance(point1).name('distance')]]\n",
    "print(expr.head().compile())\n",
    "expr.head().execute()"
   ]
  },
  {
   "cell_type": "code",
   "execution_count": 13,
   "metadata": {},
   "outputs": [
    {
     "name": "stdout",
     "output_type": "stream",
     "text": [
      "SELECT *,\n",
      "       ST_CONTAINS(\"omnisci_geo\", ST_GeomFromText('POINT(0 0)', 4326)) AS contained\n",
      "FROM omnisci_states\n",
      "LIMIT 5\n"
     ]
    },
    {
     "data": {
      "text/html": [
       "<div>\n",
       "<style scoped>\n",
       "    .dataframe tbody tr th:only-of-type {\n",
       "        vertical-align: middle;\n",
       "    }\n",
       "\n",
       "    .dataframe tbody tr th {\n",
       "        vertical-align: top;\n",
       "    }\n",
       "\n",
       "    .dataframe thead th {\n",
       "        text-align: right;\n",
       "    }\n",
       "</style>\n",
       "<table border=\"1\" class=\"dataframe\">\n",
       "  <thead>\n",
       "    <tr style=\"text-align: right;\">\n",
       "      <th></th>\n",
       "      <th>id</th>\n",
       "      <th>abbr</th>\n",
       "      <th>name</th>\n",
       "      <th>omnisci_geo</th>\n",
       "      <th>rowid</th>\n",
       "      <th>contained</th>\n",
       "    </tr>\n",
       "  </thead>\n",
       "  <tbody>\n",
       "    <tr>\n",
       "      <th>0</th>\n",
       "      <td>01</td>\n",
       "      <td>AL</td>\n",
       "      <td>Alabama</td>\n",
       "      <td>MULTIPOLYGON (((-87.3592959471789 35.001179988...</td>\n",
       "      <td>0</td>\n",
       "      <td>0.0</td>\n",
       "    </tr>\n",
       "    <tr>\n",
       "      <th>1</th>\n",
       "      <td>02</td>\n",
       "      <td>AK</td>\n",
       "      <td>Alaska</td>\n",
       "      <td>MULTIPOLYGON (((-131.602020939627 55.117981967...</td>\n",
       "      <td>1</td>\n",
       "      <td>0.0</td>\n",
       "    </tr>\n",
       "    <tr>\n",
       "      <th>2</th>\n",
       "      <td>04</td>\n",
       "      <td>AZ</td>\n",
       "      <td>Arizona</td>\n",
       "      <td>MULTIPOLYGON (((-109.042502962538 37.000262973...</td>\n",
       "      <td>2</td>\n",
       "      <td>0.0</td>\n",
       "    </tr>\n",
       "    <tr>\n",
       "      <th>3</th>\n",
       "      <td>05</td>\n",
       "      <td>AR</td>\n",
       "      <td>Arkansas</td>\n",
       "      <td>MULTIPOLYGON (((-94.4738419514493 36.501860970...</td>\n",
       "      <td>3</td>\n",
       "      <td>0.0</td>\n",
       "    </tr>\n",
       "    <tr>\n",
       "      <th>4</th>\n",
       "      <td>06</td>\n",
       "      <td>CA</td>\n",
       "      <td>California</td>\n",
       "      <td>MULTIPOLYGON (((-123.233255978317 42.006185959...</td>\n",
       "      <td>4</td>\n",
       "      <td>0.0</td>\n",
       "    </tr>\n",
       "  </tbody>\n",
       "</table>\n",
       "</div>"
      ],
      "text/plain": [
       "   id abbr        name                                        omnisci_geo  \\\n",
       "0  01   AL     Alabama  MULTIPOLYGON (((-87.3592959471789 35.001179988...   \n",
       "1  02   AK      Alaska  MULTIPOLYGON (((-131.602020939627 55.117981967...   \n",
       "2  04   AZ     Arizona  MULTIPOLYGON (((-109.042502962538 37.000262973...   \n",
       "3  05   AR    Arkansas  MULTIPOLYGON (((-94.4738419514493 36.501860970...   \n",
       "4  06   CA  California  MULTIPOLYGON (((-123.233255978317 42.006185959...   \n",
       "\n",
       "   rowid  contained  \n",
       "0      0        0.0  \n",
       "1      1        0.0  \n",
       "2      2        0.0  \n",
       "3      3        0.0  \n",
       "4      4        0.0  "
      ]
     },
     "execution_count": 13,
     "metadata": {},
     "output_type": "execute_result"
    }
   ],
   "source": [
    "# \n",
    "\n",
    "point1 = ibis.literal((0, 0), type=\"point;4326:geometry\")\n",
    "expr = t[[t, t.omnisci_geo.contains(point1).name('contained')]]\n",
    "\n",
    "\n",
    "print(expr.head().compile())\n",
    "expr.head().execute()"
   ]
  },
  {
   "cell_type": "code",
   "execution_count": 14,
   "metadata": {},
   "outputs": [
    {
     "name": "stdout",
     "output_type": "stream",
     "text": [
      "================================================================================\n",
      "SELECT *, ST_X(ST_GeomFromText('POINT(0 0)', 4326)) AS tmp\n",
      "FROM omnisci_states\n",
      "LIMIT 5\n",
      "================================================================================\n",
      "SELECT *, ST_Y(ST_GeomFromText('POINT(0 0)', 4326)) AS tmp\n",
      "FROM omnisci_states\n",
      "LIMIT 5\n",
      "================================================================================\n",
      "SELECT *, ST_SRID(ST_GeomFromText('POINT(0 0)', 4326)) AS tmp\n",
      "FROM omnisci_states\n",
      "LIMIT 5\n"
     ]
    }
   ],
   "source": [
    "fs_points = [\n",
    "    'x',\n",
    "    'y',\n",
    "    'srid'\n",
    "]\n",
    "\n",
    "point1 = ibis.literal((0, 0), type=\"point;4326:geometry\")\n",
    "\n",
    "for f in fs_points:\n",
    "    d = getattr(point1, f)\n",
    "    expr = t[[t, d().name('tmp')]]\n",
    "    print('=' * 80)\n",
    "    print(expr.head().compile())\n",
    "    expr.head().execute()"
   ]
  },
  {
   "cell_type": "code",
   "execution_count": 15,
   "metadata": {},
   "outputs": [
    {
     "name": "stdout",
     "output_type": "stream",
     "text": [
      "================================================================================\n",
      "SELECT *, ST_XMIN(ST_GeomFromText('LINESTRING(0 1, 2 3)', 4326)) AS tmp\n",
      "FROM omnisci_states\n",
      "LIMIT 5\n",
      "================================================================================\n",
      "SELECT *, ST_XMAX(ST_GeomFromText('LINESTRING(0 1, 2 3)', 4326)) AS tmp\n",
      "FROM omnisci_states\n",
      "LIMIT 5\n",
      "================================================================================\n",
      "SELECT *, ST_YMIN(ST_GeomFromText('LINESTRING(0 1, 2 3)', 4326)) AS tmp\n",
      "FROM omnisci_states\n",
      "LIMIT 5\n",
      "================================================================================\n",
      "SELECT *, ST_YMAX(ST_GeomFromText('LINESTRING(0 1, 2 3)', 4326)) AS tmp\n",
      "FROM omnisci_states\n",
      "LIMIT 5\n",
      "================================================================================\n",
      "SELECT *, ST_NPOINTS(ST_GeomFromText('LINESTRING(0 1, 2 3)', 4326)) AS tmp\n",
      "FROM omnisci_states\n",
      "LIMIT 5\n",
      "================================================================================\n",
      "SELECT *, ST_SRID(ST_GeomFromText('LINESTRING(0 1, 2 3)', 4326)) AS tmp\n",
      "FROM omnisci_states\n",
      "LIMIT 5\n"
     ]
    }
   ],
   "source": [
    "fs_lines = [\n",
    "    'x_min',\n",
    "    'x_max',\n",
    "    'y_min',\n",
    "    'y_max',\n",
    "    # 'start_point',  # Function ST_StartPoint not supported\n",
    "    # 'end_point',  # Function ST_EndPoint not supported\n",
    "    'n_points',\n",
    "    'srid'\n",
    "]\n",
    "\n",
    "linestring1 = ibis.literal([(0, 1), (2, 3)], type=\"linestring;4326:geometry\")\n",
    "\n",
    "for f in fs_lines:\n",
    "    d = getattr(linestring1, f)\n",
    "    expr = t[[t, d().name('tmp')]]\n",
    "    print('=' * 80)\n",
    "    print(expr.head().compile())\n",
    "    expr.head().execute()"
   ]
  },
  {
   "cell_type": "code",
   "execution_count": 16,
   "metadata": {},
   "outputs": [
    {
     "name": "stdout",
     "output_type": "stream",
     "text": [
      "================================================================================\n",
      "SELECT *,\n",
      "       ST_NRINGS(ST_GeomFromText('POLYGON((0 0, 4 0, 4 4, 0 4, 0 0), (1 1, 2 1, 2 2, 1 2, 1 1))', 4326)) AS tmp\n",
      "FROM omnisci_states\n",
      "LIMIT 5\n"
     ]
    }
   ],
   "source": [
    "fs_polygons = [\n",
    "    'n_rings',\n",
    "]\n",
    "\n",
    "polygon = [\n",
    "    ((0, 0), (4, 0), (4, 4), (0, 4), (0, 0)),\n",
    "    ((1, 1), (2, 1), (2, 2), (1, 2), (1, 1))\n",
    "]\n",
    "\n",
    "polygon1 = ibis.literal(polygon, type=\"polygon;4326:geometry\")\n",
    "\n",
    "for f in fs_polygons:\n",
    "    d = getattr(polygon1, f)\n",
    "    expr = t[[t, d().name('tmp')]]\n",
    "    print('=' * 80)\n",
    "    print(expr.head().compile())\n",
    "    expr.head().execute()"
   ]
  },
  {
   "cell_type": "code",
   "execution_count": 17,
   "metadata": {},
   "outputs": [
    {
     "name": "stdout",
     "output_type": "stream",
     "text": [
      "================================================================================\n",
      "SELECT *,\n",
      "       ST_MAXDISTANCE(ST_GeomFromText('LINESTRING(0 1, 2 3)', 4326), ST_GeomFromText('POINT(0 0)', 4326)) AS tmp\n",
      "FROM omnisci_states\n",
      "LIMIT 5\n",
      "================================================================================\n",
      "SELECT *, ST_POINTN(ST_GeomFromText('LINESTRING(0 1, 2 3)', 4326), 1) AS tmp\n",
      "FROM omnisci_states\n",
      "LIMIT 5\n"
     ]
    },
    {
     "ename": "Exception",
     "evalue": "Exception: Function ST_PointN not supported: SELECT *, ST_POINTN(ST_GeomFromText('LINESTRING(0 1, 2 3)', 4326), 1) AS tmp\nFROM omnisci_states\nLIMIT 5",
     "output_type": "error",
     "traceback": [
      "\u001b[0;31m---------------------------------------------------------------------------\u001b[0m",
      "\u001b[0;31mTMapDException\u001b[0m                            Traceback (most recent call last)",
      "\u001b[0;32m/mnt/sda1/storage/miniconda/envs/ibis/lib/python3.6/site-packages/pymapd/cursor.py\u001b[0m in \u001b[0;36mexecute\u001b[0;34m(self, operation, parameters)\u001b[0m\n\u001b[1;32m    119\u001b[0m                 \u001b[0mcolumn_format\u001b[0m\u001b[0;34m=\u001b[0m\u001b[0mself\u001b[0m\u001b[0;34m.\u001b[0m\u001b[0mcolumnar\u001b[0m\u001b[0;34m,\u001b[0m\u001b[0;34m\u001b[0m\u001b[0m\n\u001b[0;32m--> 120\u001b[0;31m                 nonce=None, first_n=-1, at_most_n=-1)\n\u001b[0m\u001b[1;32m    121\u001b[0m         \u001b[0;32mexcept\u001b[0m \u001b[0mT\u001b[0m\u001b[0;34m.\u001b[0m\u001b[0mTMapDException\u001b[0m \u001b[0;32mas\u001b[0m \u001b[0me\u001b[0m\u001b[0;34m:\u001b[0m\u001b[0;34m\u001b[0m\u001b[0m\n",
      "\u001b[0;32m/mnt/sda1/storage/miniconda/envs/ibis/lib/python3.6/site-packages/mapd/MapD.py\u001b[0m in \u001b[0;36msql_execute\u001b[0;34m(self, session, query, column_format, nonce, first_n, at_most_n)\u001b[0m\n\u001b[1;32m   1457\u001b[0m         \u001b[0mself\u001b[0m\u001b[0;34m.\u001b[0m\u001b[0msend_sql_execute\u001b[0m\u001b[0;34m(\u001b[0m\u001b[0msession\u001b[0m\u001b[0;34m,\u001b[0m \u001b[0mquery\u001b[0m\u001b[0;34m,\u001b[0m \u001b[0mcolumn_format\u001b[0m\u001b[0;34m,\u001b[0m \u001b[0mnonce\u001b[0m\u001b[0;34m,\u001b[0m \u001b[0mfirst_n\u001b[0m\u001b[0;34m,\u001b[0m \u001b[0mat_most_n\u001b[0m\u001b[0;34m)\u001b[0m\u001b[0;34m\u001b[0m\u001b[0m\n\u001b[0;32m-> 1458\u001b[0;31m         \u001b[0;32mreturn\u001b[0m \u001b[0mself\u001b[0m\u001b[0;34m.\u001b[0m\u001b[0mrecv_sql_execute\u001b[0m\u001b[0;34m(\u001b[0m\u001b[0;34m)\u001b[0m\u001b[0;34m\u001b[0m\u001b[0m\n\u001b[0m\u001b[1;32m   1459\u001b[0m \u001b[0;34m\u001b[0m\u001b[0m\n",
      "\u001b[0;32m/mnt/sda1/storage/miniconda/envs/ibis/lib/python3.6/site-packages/mapd/MapD.py\u001b[0m in \u001b[0;36mrecv_sql_execute\u001b[0;34m(self)\u001b[0m\n\u001b[1;32m   1486\u001b[0m         \u001b[0;32mif\u001b[0m \u001b[0mresult\u001b[0m\u001b[0;34m.\u001b[0m\u001b[0me\u001b[0m \u001b[0;32mis\u001b[0m \u001b[0;32mnot\u001b[0m \u001b[0;32mNone\u001b[0m\u001b[0;34m:\u001b[0m\u001b[0;34m\u001b[0m\u001b[0m\n\u001b[0;32m-> 1487\u001b[0;31m             \u001b[0;32mraise\u001b[0m \u001b[0mresult\u001b[0m\u001b[0;34m.\u001b[0m\u001b[0me\u001b[0m\u001b[0;34m\u001b[0m\u001b[0m\n\u001b[0m\u001b[1;32m   1488\u001b[0m         \u001b[0;32mraise\u001b[0m \u001b[0mTApplicationException\u001b[0m\u001b[0;34m(\u001b[0m\u001b[0mTApplicationException\u001b[0m\u001b[0;34m.\u001b[0m\u001b[0mMISSING_RESULT\u001b[0m\u001b[0;34m,\u001b[0m \u001b[0;34m\"sql_execute failed: unknown result\"\u001b[0m\u001b[0;34m)\u001b[0m\u001b[0;34m\u001b[0m\u001b[0m\n",
      "\u001b[0;31mTMapDException\u001b[0m: TMapDException(error_msg='Exception: Function ST_PointN not supported')",
      "\nThe above exception was the direct cause of the following exception:\n",
      "\u001b[0;31mError\u001b[0m                                     Traceback (most recent call last)",
      "\u001b[0;32m/mnt/sda1/dev/quansight/ibis/ibis/mapd/client.py\u001b[0m in \u001b[0;36m_execute\u001b[0;34m(self, query, results)\u001b[0m\n\u001b[1;32m    411\u001b[0m         \u001b[0;32mtry\u001b[0m\u001b[0;34m:\u001b[0m\u001b[0;34m\u001b[0m\u001b[0m\n\u001b[0;32m--> 412\u001b[0;31m             \u001b[0mresult\u001b[0m \u001b[0;34m=\u001b[0m \u001b[0mMapDCursor\u001b[0m\u001b[0;34m(\u001b[0m\u001b[0mexecute\u001b[0m\u001b[0;34m(\u001b[0m\u001b[0mquery\u001b[0m\u001b[0;34m)\u001b[0m\u001b[0;34m)\u001b[0m\u001b[0;34m\u001b[0m\u001b[0m\n\u001b[0m\u001b[1;32m    413\u001b[0m         \u001b[0;32mexcept\u001b[0m \u001b[0mException\u001b[0m \u001b[0;32mas\u001b[0m \u001b[0me\u001b[0m\u001b[0;34m:\u001b[0m\u001b[0;34m\u001b[0m\u001b[0m\n",
      "\u001b[0;32m/mnt/sda1/storage/miniconda/envs/ibis/lib/python3.6/site-packages/pymapd/cursor.py\u001b[0m in \u001b[0;36mexecute\u001b[0;34m(self, operation, parameters)\u001b[0m\n\u001b[1;32m    121\u001b[0m         \u001b[0;32mexcept\u001b[0m \u001b[0mT\u001b[0m\u001b[0;34m.\u001b[0m\u001b[0mTMapDException\u001b[0m \u001b[0;32mas\u001b[0m \u001b[0me\u001b[0m\u001b[0;34m:\u001b[0m\u001b[0;34m\u001b[0m\u001b[0m\n\u001b[0;32m--> 122\u001b[0;31m             \u001b[0msix\u001b[0m\u001b[0;34m.\u001b[0m\u001b[0mraise_from\u001b[0m\u001b[0;34m(\u001b[0m\u001b[0m_translate_exception\u001b[0m\u001b[0;34m(\u001b[0m\u001b[0me\u001b[0m\u001b[0;34m)\u001b[0m\u001b[0;34m,\u001b[0m \u001b[0me\u001b[0m\u001b[0;34m)\u001b[0m\u001b[0;34m\u001b[0m\u001b[0m\n\u001b[0m\u001b[1;32m    123\u001b[0m         \u001b[0mself\u001b[0m\u001b[0;34m.\u001b[0m\u001b[0m_description\u001b[0m \u001b[0;34m=\u001b[0m \u001b[0m_extract_description\u001b[0m\u001b[0;34m(\u001b[0m\u001b[0mresult\u001b[0m\u001b[0;34m.\u001b[0m\u001b[0mrow_set\u001b[0m\u001b[0;34m.\u001b[0m\u001b[0mrow_desc\u001b[0m\u001b[0;34m)\u001b[0m\u001b[0;34m\u001b[0m\u001b[0m\n",
      "\u001b[0;32m/mnt/sda1/storage/miniconda/envs/ibis/lib/python3.6/site-packages/six.py\u001b[0m in \u001b[0;36mraise_from\u001b[0;34m(value, from_value)\u001b[0m\n",
      "\u001b[0;31mError\u001b[0m: Exception: Function ST_PointN not supported",
      "\nDuring handling of the above exception, another exception occurred:\n",
      "\u001b[0;31mException\u001b[0m                                 Traceback (most recent call last)",
      "\u001b[0;32m<ipython-input-17-243731219ca8>\u001b[0m in \u001b[0;36m<module>\u001b[0;34m\u001b[0m\n\u001b[1;32m     11\u001b[0m     \u001b[0mprint\u001b[0m\u001b[0;34m(\u001b[0m\u001b[0;34m'='\u001b[0m \u001b[0;34m*\u001b[0m \u001b[0;36m80\u001b[0m\u001b[0;34m)\u001b[0m\u001b[0;34m\u001b[0m\u001b[0m\n\u001b[1;32m     12\u001b[0m     \u001b[0mprint\u001b[0m\u001b[0;34m(\u001b[0m\u001b[0mexpr\u001b[0m\u001b[0;34m.\u001b[0m\u001b[0mhead\u001b[0m\u001b[0;34m(\u001b[0m\u001b[0;34m)\u001b[0m\u001b[0;34m.\u001b[0m\u001b[0mcompile\u001b[0m\u001b[0;34m(\u001b[0m\u001b[0;34m)\u001b[0m\u001b[0;34m)\u001b[0m\u001b[0;34m\u001b[0m\u001b[0m\n\u001b[0;32m---> 13\u001b[0;31m     \u001b[0mexpr\u001b[0m\u001b[0;34m.\u001b[0m\u001b[0mhead\u001b[0m\u001b[0;34m(\u001b[0m\u001b[0;34m)\u001b[0m\u001b[0;34m.\u001b[0m\u001b[0mexecute\u001b[0m\u001b[0;34m(\u001b[0m\u001b[0;34m)\u001b[0m\u001b[0;34m\u001b[0m\u001b[0m\n\u001b[0m",
      "\u001b[0;32m/mnt/sda1/dev/quansight/ibis/ibis/expr/types.py\u001b[0m in \u001b[0;36mexecute\u001b[0;34m(self, limit, params, **kwargs)\u001b[0m\n\u001b[1;32m    195\u001b[0m         \"\"\"\n\u001b[1;32m    196\u001b[0m         \u001b[0;32mfrom\u001b[0m \u001b[0mibis\u001b[0m\u001b[0;34m.\u001b[0m\u001b[0mclient\u001b[0m \u001b[0;32mimport\u001b[0m \u001b[0mexecute\u001b[0m\u001b[0;34m\u001b[0m\u001b[0m\n\u001b[0;32m--> 197\u001b[0;31m         \u001b[0;32mreturn\u001b[0m \u001b[0mexecute\u001b[0m\u001b[0;34m(\u001b[0m\u001b[0mself\u001b[0m\u001b[0;34m,\u001b[0m \u001b[0mlimit\u001b[0m\u001b[0;34m=\u001b[0m\u001b[0mlimit\u001b[0m\u001b[0;34m,\u001b[0m \u001b[0mparams\u001b[0m\u001b[0;34m=\u001b[0m\u001b[0mparams\u001b[0m\u001b[0;34m,\u001b[0m \u001b[0;34m**\u001b[0m\u001b[0mkwargs\u001b[0m\u001b[0;34m)\u001b[0m\u001b[0;34m\u001b[0m\u001b[0m\n\u001b[0m\u001b[1;32m    198\u001b[0m \u001b[0;34m\u001b[0m\u001b[0m\n\u001b[1;32m    199\u001b[0m     \u001b[0;32mdef\u001b[0m \u001b[0mcompile\u001b[0m\u001b[0;34m(\u001b[0m\u001b[0mself\u001b[0m\u001b[0;34m,\u001b[0m \u001b[0mlimit\u001b[0m\u001b[0;34m=\u001b[0m\u001b[0;32mNone\u001b[0m\u001b[0;34m,\u001b[0m \u001b[0mparams\u001b[0m\u001b[0;34m=\u001b[0m\u001b[0;32mNone\u001b[0m\u001b[0;34m)\u001b[0m\u001b[0;34m:\u001b[0m\u001b[0;34m\u001b[0m\u001b[0m\n",
      "\u001b[0;32m/mnt/sda1/dev/quansight/ibis/ibis/client.py\u001b[0m in \u001b[0;36mexecute\u001b[0;34m(expr, limit, params, **kwargs)\u001b[0m\n\u001b[1;32m    282\u001b[0m \u001b[0;32mdef\u001b[0m \u001b[0mexecute\u001b[0m\u001b[0;34m(\u001b[0m\u001b[0mexpr\u001b[0m\u001b[0;34m,\u001b[0m \u001b[0mlimit\u001b[0m\u001b[0;34m=\u001b[0m\u001b[0;34m'default'\u001b[0m\u001b[0;34m,\u001b[0m \u001b[0mparams\u001b[0m\u001b[0;34m=\u001b[0m\u001b[0;32mNone\u001b[0m\u001b[0;34m,\u001b[0m \u001b[0;34m**\u001b[0m\u001b[0mkwargs\u001b[0m\u001b[0;34m)\u001b[0m\u001b[0;34m:\u001b[0m\u001b[0;34m\u001b[0m\u001b[0m\n\u001b[1;32m    283\u001b[0m     \u001b[0mbackend\u001b[0m\u001b[0;34m,\u001b[0m \u001b[0;34m=\u001b[0m \u001b[0mvalidate_backends\u001b[0m\u001b[0;34m(\u001b[0m\u001b[0mlist\u001b[0m\u001b[0;34m(\u001b[0m\u001b[0mfind_backends\u001b[0m\u001b[0;34m(\u001b[0m\u001b[0mexpr\u001b[0m\u001b[0;34m)\u001b[0m\u001b[0;34m)\u001b[0m\u001b[0;34m)\u001b[0m\u001b[0;34m\u001b[0m\u001b[0m\n\u001b[0;32m--> 284\u001b[0;31m     \u001b[0;32mreturn\u001b[0m \u001b[0mbackend\u001b[0m\u001b[0;34m.\u001b[0m\u001b[0mexecute\u001b[0m\u001b[0;34m(\u001b[0m\u001b[0mexpr\u001b[0m\u001b[0;34m,\u001b[0m \u001b[0mlimit\u001b[0m\u001b[0;34m=\u001b[0m\u001b[0mlimit\u001b[0m\u001b[0;34m,\u001b[0m \u001b[0mparams\u001b[0m\u001b[0;34m=\u001b[0m\u001b[0mparams\u001b[0m\u001b[0;34m,\u001b[0m \u001b[0;34m**\u001b[0m\u001b[0mkwargs\u001b[0m\u001b[0;34m)\u001b[0m\u001b[0;34m\u001b[0m\u001b[0m\n\u001b[0m\u001b[1;32m    285\u001b[0m \u001b[0;34m\u001b[0m\u001b[0m\n\u001b[1;32m    286\u001b[0m \u001b[0;34m\u001b[0m\u001b[0m\n",
      "\u001b[0;32m/mnt/sda1/dev/quansight/ibis/ibis/client.py\u001b[0m in \u001b[0;36mexecute\u001b[0;34m(self, expr, params, limit, **kwargs)\u001b[0m\n\u001b[1;32m    182\u001b[0m         \"\"\"\n\u001b[1;32m    183\u001b[0m         \u001b[0mquery_ast\u001b[0m \u001b[0;34m=\u001b[0m \u001b[0mself\u001b[0m\u001b[0;34m.\u001b[0m\u001b[0m_build_ast_ensure_limit\u001b[0m\u001b[0;34m(\u001b[0m\u001b[0mexpr\u001b[0m\u001b[0;34m,\u001b[0m \u001b[0mlimit\u001b[0m\u001b[0;34m,\u001b[0m \u001b[0mparams\u001b[0m\u001b[0;34m=\u001b[0m\u001b[0mparams\u001b[0m\u001b[0;34m)\u001b[0m\u001b[0;34m\u001b[0m\u001b[0m\n\u001b[0;32m--> 184\u001b[0;31m         \u001b[0mresult\u001b[0m \u001b[0;34m=\u001b[0m \u001b[0mself\u001b[0m\u001b[0;34m.\u001b[0m\u001b[0m_execute_query\u001b[0m\u001b[0;34m(\u001b[0m\u001b[0mquery_ast\u001b[0m\u001b[0;34m,\u001b[0m \u001b[0;34m**\u001b[0m\u001b[0mkwargs\u001b[0m\u001b[0;34m)\u001b[0m\u001b[0;34m\u001b[0m\u001b[0m\n\u001b[0m\u001b[1;32m    185\u001b[0m         \u001b[0;32mreturn\u001b[0m \u001b[0mresult\u001b[0m\u001b[0;34m\u001b[0m\u001b[0m\n\u001b[1;32m    186\u001b[0m \u001b[0;34m\u001b[0m\u001b[0m\n",
      "\u001b[0;32m/mnt/sda1/dev/quansight/ibis/ibis/client.py\u001b[0m in \u001b[0;36m_execute_query\u001b[0;34m(self, dml, **kwargs)\u001b[0m\n\u001b[1;32m    187\u001b[0m     \u001b[0;32mdef\u001b[0m \u001b[0m_execute_query\u001b[0m\u001b[0;34m(\u001b[0m\u001b[0mself\u001b[0m\u001b[0;34m,\u001b[0m \u001b[0mdml\u001b[0m\u001b[0;34m,\u001b[0m \u001b[0;34m**\u001b[0m\u001b[0mkwargs\u001b[0m\u001b[0;34m)\u001b[0m\u001b[0;34m:\u001b[0m\u001b[0;34m\u001b[0m\u001b[0m\n\u001b[1;32m    188\u001b[0m         \u001b[0mquery\u001b[0m \u001b[0;34m=\u001b[0m \u001b[0mself\u001b[0m\u001b[0;34m.\u001b[0m\u001b[0mquery_class\u001b[0m\u001b[0;34m(\u001b[0m\u001b[0mself\u001b[0m\u001b[0;34m,\u001b[0m \u001b[0mdml\u001b[0m\u001b[0;34m,\u001b[0m \u001b[0;34m**\u001b[0m\u001b[0mkwargs\u001b[0m\u001b[0;34m)\u001b[0m\u001b[0;34m\u001b[0m\u001b[0m\n\u001b[0;32m--> 189\u001b[0;31m         \u001b[0;32mreturn\u001b[0m \u001b[0mquery\u001b[0m\u001b[0;34m.\u001b[0m\u001b[0mexecute\u001b[0m\u001b[0;34m(\u001b[0m\u001b[0;34m)\u001b[0m\u001b[0;34m\u001b[0m\u001b[0m\n\u001b[0m\u001b[1;32m    190\u001b[0m \u001b[0;34m\u001b[0m\u001b[0m\n\u001b[1;32m    191\u001b[0m     \u001b[0;32mdef\u001b[0m \u001b[0mcompile\u001b[0m\u001b[0;34m(\u001b[0m\u001b[0mself\u001b[0m\u001b[0;34m,\u001b[0m \u001b[0mexpr\u001b[0m\u001b[0;34m,\u001b[0m \u001b[0mparams\u001b[0m\u001b[0;34m=\u001b[0m\u001b[0;32mNone\u001b[0m\u001b[0;34m,\u001b[0m \u001b[0mlimit\u001b[0m\u001b[0;34m=\u001b[0m\u001b[0;32mNone\u001b[0m\u001b[0;34m)\u001b[0m\u001b[0;34m:\u001b[0m\u001b[0;34m\u001b[0m\u001b[0m\n",
      "\u001b[0;32m/mnt/sda1/dev/quansight/ibis/ibis/client.py\u001b[0m in \u001b[0;36mexecute\u001b[0;34m(self)\u001b[0m\n\u001b[1;32m     39\u001b[0m     \u001b[0;32mdef\u001b[0m \u001b[0mexecute\u001b[0m\u001b[0;34m(\u001b[0m\u001b[0mself\u001b[0m\u001b[0;34m)\u001b[0m\u001b[0;34m:\u001b[0m\u001b[0;34m\u001b[0m\u001b[0m\n\u001b[1;32m     40\u001b[0m         \u001b[0;31m# synchronous by default\u001b[0m\u001b[0;34m\u001b[0m\u001b[0;34m\u001b[0m\u001b[0m\n\u001b[0;32m---> 41\u001b[0;31m         \u001b[0;32mwith\u001b[0m \u001b[0mself\u001b[0m\u001b[0;34m.\u001b[0m\u001b[0mclient\u001b[0m\u001b[0;34m.\u001b[0m\u001b[0m_execute\u001b[0m\u001b[0;34m(\u001b[0m\u001b[0mself\u001b[0m\u001b[0;34m.\u001b[0m\u001b[0mcompiled_sql\u001b[0m\u001b[0;34m,\u001b[0m \u001b[0mresults\u001b[0m\u001b[0;34m=\u001b[0m\u001b[0;32mTrue\u001b[0m\u001b[0;34m)\u001b[0m \u001b[0;32mas\u001b[0m \u001b[0mcur\u001b[0m\u001b[0;34m:\u001b[0m\u001b[0;34m\u001b[0m\u001b[0m\n\u001b[0m\u001b[1;32m     42\u001b[0m             \u001b[0mresult\u001b[0m \u001b[0;34m=\u001b[0m \u001b[0mself\u001b[0m\u001b[0;34m.\u001b[0m\u001b[0m_fetch\u001b[0m\u001b[0;34m(\u001b[0m\u001b[0mcur\u001b[0m\u001b[0;34m)\u001b[0m\u001b[0;34m\u001b[0m\u001b[0m\n\u001b[1;32m     43\u001b[0m \u001b[0;34m\u001b[0m\u001b[0m\n",
      "\u001b[0;32m/mnt/sda1/dev/quansight/ibis/ibis/mapd/client.py\u001b[0m in \u001b[0;36m_execute\u001b[0;34m(self, query, results)\u001b[0m\n\u001b[1;32m    412\u001b[0m             \u001b[0mresult\u001b[0m \u001b[0;34m=\u001b[0m \u001b[0mMapDCursor\u001b[0m\u001b[0;34m(\u001b[0m\u001b[0mexecute\u001b[0m\u001b[0;34m(\u001b[0m\u001b[0mquery\u001b[0m\u001b[0;34m)\u001b[0m\u001b[0;34m)\u001b[0m\u001b[0;34m\u001b[0m\u001b[0m\n\u001b[1;32m    413\u001b[0m         \u001b[0;32mexcept\u001b[0m \u001b[0mException\u001b[0m \u001b[0;32mas\u001b[0m \u001b[0me\u001b[0m\u001b[0;34m:\u001b[0m\u001b[0;34m\u001b[0m\u001b[0m\n\u001b[0;32m--> 414\u001b[0;31m             \u001b[0;32mraise\u001b[0m \u001b[0mException\u001b[0m\u001b[0;34m(\u001b[0m\u001b[0;34m'{}: {}'\u001b[0m\u001b[0;34m.\u001b[0m\u001b[0mformat\u001b[0m\u001b[0;34m(\u001b[0m\u001b[0me\u001b[0m\u001b[0;34m,\u001b[0m \u001b[0mquery\u001b[0m\u001b[0;34m)\u001b[0m\u001b[0;34m)\u001b[0m\u001b[0;34m\u001b[0m\u001b[0m\n\u001b[0m\u001b[1;32m    415\u001b[0m \u001b[0;34m\u001b[0m\u001b[0m\n\u001b[1;32m    416\u001b[0m         \u001b[0;32mif\u001b[0m \u001b[0mresults\u001b[0m\u001b[0;34m:\u001b[0m\u001b[0;34m\u001b[0m\u001b[0m\n",
      "\u001b[0;31mException\u001b[0m: Exception: Function ST_PointN not supported: SELECT *, ST_POINTN(ST_GeomFromText('LINESTRING(0 1, 2 3)', 4326), 1) AS tmp\nFROM omnisci_states\nLIMIT 5"
     ]
    }
   ],
   "source": [
    "fs = [\n",
    "    ('max_distance', point1),\n",
    "    # ('point_n', 1)  # Function ST_PointN not supported\n",
    "]\n",
    "\n",
    "linestring1 = ibis.literal([(0, 1), (2, 3)], type=\"linestring;4326:geometry\")\n",
    "\n",
    "for f, arg in fs:\n",
    "    d = getattr(linestring1, f)\n",
    "    expr = t[[t, d(arg).name('tmp')]]\n",
    "    print('=' * 80)\n",
    "    print(expr.head().compile())\n",
    "    expr.head().execute()"
   ]
  }
 ],
 "metadata": {
  "kernelspec": {
   "display_name": "Python 3",
   "language": "python",
   "name": "python3"
  },
  "language_info": {
   "codemirror_mode": {
    "name": "ipython",
    "version": 3
   },
   "file_extension": ".py",
   "mimetype": "text/x-python",
   "name": "python",
   "nbconvert_exporter": "python",
   "pygments_lexer": "ipython3",
   "version": "3.6.7"
  }
 },
 "nbformat": 4,
 "nbformat_minor": 2
}
