{
 "cells": [
  {
   "cell_type": "code",
   "execution_count": 1,
   "metadata": {},
   "outputs": [],
   "source": [
    "from datetime import datetime, date\n",
    "\n",
    "import ibis\n",
    "import numpy as np\n",
    "import pandas as pd\n",
    "# local\n",
    "from settings import conf\n",
    "from utils import cursor2df\n",
    "from gen_data import salary_date, salary_date_schema"
   ]
  },
  {
   "cell_type": "markdown",
   "metadata": {},
   "source": [
    "### Data"
   ]
  },
  {
   "cell_type": "code",
   "execution_count": 2,
   "metadata": {},
   "outputs": [
    {
     "name": "stdout",
     "output_type": "stream",
     "text": [
      "last_name                     object\n",
      "salary                       float64\n",
      "date_of_birth                 object\n",
      "timestamp_of_birth    datetime64[ns]\n",
      "dtype: object\n"
     ]
    },
    {
     "data": {
      "text/html": [
       "<div>\n",
       "<style scoped>\n",
       "    .dataframe tbody tr th:only-of-type {\n",
       "        vertical-align: middle;\n",
       "    }\n",
       "\n",
       "    .dataframe tbody tr th {\n",
       "        vertical-align: top;\n",
       "    }\n",
       "\n",
       "    .dataframe thead th {\n",
       "        text-align: right;\n",
       "    }\n",
       "</style>\n",
       "<table border=\"1\" class=\"dataframe\">\n",
       "  <thead>\n",
       "    <tr style=\"text-align: right;\">\n",
       "      <th></th>\n",
       "      <th>last_name</th>\n",
       "      <th>salary</th>\n",
       "      <th>date_of_birth</th>\n",
       "      <th>timestamp_of_birth</th>\n",
       "    </tr>\n",
       "  </thead>\n",
       "  <tbody>\n",
       "    <tr>\n",
       "      <th>0</th>\n",
       "      <td>Name 2010 1 1</td>\n",
       "      <td>2010011.0</td>\n",
       "      <td>2010-01-01</td>\n",
       "      <td>2010-01-01 01:01:01.010101</td>\n",
       "    </tr>\n",
       "    <tr>\n",
       "      <th>1</th>\n",
       "      <td>Name 2011 1 1</td>\n",
       "      <td>2011011.0</td>\n",
       "      <td>2011-01-01</td>\n",
       "      <td>2011-01-01 01:01:01.010101</td>\n",
       "    </tr>\n",
       "    <tr>\n",
       "      <th>2</th>\n",
       "      <td>Name 2012 1 1</td>\n",
       "      <td>2012011.0</td>\n",
       "      <td>2012-01-01</td>\n",
       "      <td>2012-01-01 01:01:01.010101</td>\n",
       "    </tr>\n",
       "    <tr>\n",
       "      <th>3</th>\n",
       "      <td>Name 2013 1 1</td>\n",
       "      <td>2013011.0</td>\n",
       "      <td>2013-01-01</td>\n",
       "      <td>2013-01-01 01:01:01.010101</td>\n",
       "    </tr>\n",
       "    <tr>\n",
       "      <th>4</th>\n",
       "      <td>Name 2014 1 1</td>\n",
       "      <td>2014011.0</td>\n",
       "      <td>2014-01-01</td>\n",
       "      <td>2014-01-01 01:01:01.010101</td>\n",
       "    </tr>\n",
       "    <tr>\n",
       "      <th>...</th>\n",
       "      <td>...</td>\n",
       "      <td>...</td>\n",
       "      <td>...</td>\n",
       "      <td>...</td>\n",
       "    </tr>\n",
       "    <tr>\n",
       "      <th>4013</th>\n",
       "      <td>Name 2016 12 31</td>\n",
       "      <td>2016151.0</td>\n",
       "      <td>2016-12-31</td>\n",
       "      <td>2016-12-31 12:12:12.121231</td>\n",
       "    </tr>\n",
       "    <tr>\n",
       "      <th>4014</th>\n",
       "      <td>Name 2017 12 31</td>\n",
       "      <td>2017151.0</td>\n",
       "      <td>2017-12-31</td>\n",
       "      <td>2017-12-31 12:12:12.121231</td>\n",
       "    </tr>\n",
       "    <tr>\n",
       "      <th>4015</th>\n",
       "      <td>Name 2018 12 31</td>\n",
       "      <td>2018151.0</td>\n",
       "      <td>2018-12-31</td>\n",
       "      <td>2018-12-31 12:12:12.121231</td>\n",
       "    </tr>\n",
       "    <tr>\n",
       "      <th>4016</th>\n",
       "      <td>Name 2019 12 31</td>\n",
       "      <td>2019151.0</td>\n",
       "      <td>2019-12-31</td>\n",
       "      <td>2019-12-31 12:12:12.121231</td>\n",
       "    </tr>\n",
       "    <tr>\n",
       "      <th>4017</th>\n",
       "      <td>Name 2020 12 31</td>\n",
       "      <td>2020151.0</td>\n",
       "      <td>2020-12-31</td>\n",
       "      <td>2020-12-31 12:12:12.121231</td>\n",
       "    </tr>\n",
       "  </tbody>\n",
       "</table>\n",
       "<p>4018 rows × 4 columns</p>\n",
       "</div>"
      ],
      "text/plain": [
       "            last_name     salary date_of_birth         timestamp_of_birth\n",
       "0       Name 2010 1 1  2010011.0    2010-01-01 2010-01-01 01:01:01.010101\n",
       "1       Name 2011 1 1  2011011.0    2011-01-01 2011-01-01 01:01:01.010101\n",
       "2       Name 2012 1 1  2012011.0    2012-01-01 2012-01-01 01:01:01.010101\n",
       "3       Name 2013 1 1  2013011.0    2013-01-01 2013-01-01 01:01:01.010101\n",
       "4       Name 2014 1 1  2014011.0    2014-01-01 2014-01-01 01:01:01.010101\n",
       "...               ...        ...           ...                        ...\n",
       "4013  Name 2016 12 31  2016151.0    2016-12-31 2016-12-31 12:12:12.121231\n",
       "4014  Name 2017 12 31  2017151.0    2017-12-31 2017-12-31 12:12:12.121231\n",
       "4015  Name 2018 12 31  2018151.0    2018-12-31 2018-12-31 12:12:12.121231\n",
       "4016  Name 2019 12 31  2019151.0    2019-12-31 2019-12-31 12:12:12.121231\n",
       "4017  Name 2020 12 31  2020151.0    2020-12-31 2020-12-31 12:12:12.121231\n",
       "\n",
       "[4018 rows x 4 columns]"
      ]
     },
     "execution_count": 2,
     "metadata": {},
     "output_type": "execute_result"
    }
   ],
   "source": [
    "df_salary1 = salary_date()\n",
    "print(df_salary1.dtypes)\n",
    "df_salary1"
   ]
  },
  {
   "cell_type": "code",
   "execution_count": 3,
   "metadata": {},
   "outputs": [
    {
     "data": {
      "text/plain": [
       "ibis.Schema {  \n",
       "  last_name           string\n",
       "  salary              float64\n",
       "  date_of_birth       date\n",
       "  timestamp_of_birth  timestamp\n",
       "}"
      ]
     },
     "execution_count": 3,
     "metadata": {},
     "output_type": "execute_result"
    }
   ],
   "source": [
    "sch = salary_date_schema()\n",
    "sch"
   ]
  },
  {
   "cell_type": "code",
   "execution_count": 4,
   "metadata": {},
   "outputs": [],
   "source": [
    "con = {}\n",
    "expr = {}\n",
    "df = {}\n",
    "result = {}\n",
    "expected = {}\n",
    "table_name = 'salary'"
   ]
  },
  {
   "cell_type": "markdown",
   "metadata": {},
   "source": [
    "### OmniSciDB"
   ]
  },
  {
   "cell_type": "code",
   "execution_count": 5,
   "metadata": {},
   "outputs": [],
   "source": [
    "con['omniscidb'] = ibis.omniscidb.connect(**conf['omniscidb'])"
   ]
  },
  {
   "cell_type": "code",
   "execution_count": 6,
   "metadata": {},
   "outputs": [
    {
     "data": {
      "image/png": "[encoded data removed]",
      "text/plain": [
       "DatabaseTable[table]\n",
       "  name: salary\n",
       "  schema:\n",
       "    last_name : string\n",
       "    salary : float64\n",
       "    date_of_birth : date\n",
       "    timestamp_of_birth : timestamp"
      ]
     },
     "execution_count": 6,
     "metadata": {},
     "output_type": "execute_result"
    }
   ],
   "source": [
    "con['omniscidb'].drop_table(table_name, force=True)\n",
    "con['omniscidb'].create_table(table_name, schema=sch)\n",
    "con['omniscidb'].load_data(table_name, df_salary1)\n",
    "t = con['omniscidb'].table(table_name)\n",
    "t"
   ]
  },
  {
   "cell_type": "code",
   "execution_count": 7,
   "metadata": {},
   "outputs": [],
   "source": [
    "df['omniscidb'] = t.execute()"
   ]
  },
  {
   "cell_type": "code",
   "execution_count": 8,
   "metadata": {},
   "outputs": [
    {
     "name": "stdout",
     "output_type": "stream",
     "text": [
      "SELECT\n",
      "  CASE\n",
      "    WHEN CAST(floor(((EXTRACT(DOY FROM \"timestamp_of_birth\") - (EXTRACT(ISODOW FROM \"timestamp_of_birth\")- 1 + 1)) + 10) / 7) AS SMALLINT) < 1 THEN CASE WHEN ((mod((((EXTRACT(YEAR FROM \"timestamp_of_birth\") - 1) + floor((EXTRACT(YEAR FROM \"timestamp_of_birth\") - 1) / 4)) - floor((EXTRACT(YEAR FROM \"timestamp_of_birth\") - 1) / 100)) + floor((EXTRACT(YEAR FROM \"timestamp_of_birth\") - 1) / 400), 7)) = 4) OR ((mod(((((EXTRACT(YEAR FROM \"timestamp_of_birth\") - 1) - 1) + floor(((EXTRACT(YEAR FROM \"timestamp_of_birth\") - 1) - 1) / 4)) - floor(((EXTRACT(YEAR FROM \"timestamp_of_birth\") - 1) - 1) / 100)) + floor(((EXTRACT(YEAR FROM \"timestamp_of_birth\") - 1) - 1) / 400), 7)) = 3) THEN 1 ELSE 0 END + 52\n",
      "    WHEN CAST(floor(((EXTRACT(DOY FROM \"timestamp_of_birth\") - (EXTRACT(ISODOW FROM \"timestamp_of_birth\")- 1 + 1)) + 10) / 7) AS SMALLINT) > (CASE WHEN ((mod(((EXTRACT(YEAR FROM \"timestamp_of_birth\") + floor(EXTRACT(YEAR FROM \"timestamp_of_birth\") / 4)) - floor(EXTRACT(YEAR FROM \"timestamp_of_birth\") / 100)) + floor(EXTRACT(YEAR FROM \"timestamp_of_birth\") / 400), 7)) = 4) OR ((mod((((EXTRACT(YEAR FROM \"timestamp_of_birth\") - 1) + floor((EXTRACT(YEAR FROM \"timestamp_of_birth\") - 1) / 4)) - floor((EXTRACT(YEAR FROM \"timestamp_of_birth\") - 1) / 100)) + floor((EXTRACT(YEAR FROM \"timestamp_of_birth\") - 1) / 400), 7)) = 3) THEN 1 ELSE 0 END + 52) THEN 1\n",
      "    ELSE CAST(floor(((EXTRACT(DOY FROM \"timestamp_of_birth\") - (EXTRACT(ISODOW FROM \"timestamp_of_birth\")- 1 + 1)) + 10) / 7) AS SMALLINT)\n",
      "  END AS tmp\n",
      "FROM salary\n"
     ]
    }
   ],
   "source": [
    "# https://stackoverflow.com/a/29263010\n",
    "def _ibis_p(year):\n",
    "    return (\n",
    "        year + (year // 4) - (year // 100) + (year // 400) \n",
    "    ) % 7\n",
    "\n",
    "def ibis_n_weeks_year(year):\n",
    "    return 52 + (\n",
    "        ibis.case()\n",
    "        .when((_ibis_p(year) == 4) | (_ibis_p(year - 1) == 3), 1)\n",
    "        .else_(0)\n",
    "        .end()\n",
    "    )\n",
    "\n",
    "def ibis_woy_preliminary(d):\n",
    "    # https://en.wikipedia.org/wiki/ISO_week_date\n",
    "    doy = d.day_of_year()\n",
    "    y = d.year()\n",
    "    dow = d.day_of_week.index() + 1\n",
    "    \n",
    "    result = doy - dow\n",
    "    result += 10\n",
    "    return (result // 7).cast('int16')\n",
    "\n",
    "def ibis_woy(d):\n",
    "    w = ibis_woy_preliminary(d)\n",
    "    y = d.year()\n",
    "    \n",
    "    one = ibis.literal(1, type='int16')\n",
    "    \n",
    "    return (\n",
    "        ibis.case()\n",
    "        .when(w < one, ibis_n_weeks_year(y - one))\n",
    "        .when(w > ibis_n_weeks_year(y), one)\n",
    "        .else_(w)\n",
    "        .end()\n",
    "    )\n",
    "\n",
    "expr['omniscidb'] = ibis_woy(t.timestamp_of_birth).name('tmp')\n",
    "print(expr['omniscidb'].compile())\n",
    "result['omniscidb'] = expr['omniscidb'].execute()\n",
    "expected['omniscidb'] = df['omniscidb'].timestamp_of_birth.dt.weekofyear.astype('int16')\n",
    "np.testing.assert_array_equal(result['omniscidb'].values, expected['omniscidb'].values)"
   ]
  }
 ],
 "metadata": {
  "kernelspec": {
   "display_name": "Python 3",
   "language": "python",
   "name": "python3"
  },
  "language_info": {
   "codemirror_mode": {
    "name": "ipython",
    "version": 3
   },
   "file_extension": ".py",
   "mimetype": "text/x-python",
   "name": "python",
   "nbconvert_exporter": "python",
   "pygments_lexer": "ipython3",
   "version": "3.7.6"
  }
 },
 "nbformat": 4,
 "nbformat_minor": 4
}
