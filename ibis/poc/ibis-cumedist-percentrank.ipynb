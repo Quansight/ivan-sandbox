{
 "cells": [
  {
   "cell_type": "markdown",
   "metadata": {},
   "source": [
    "# Cume Dist and Percent Rank"
   ]
  },
  {
   "cell_type": "markdown",
   "metadata": {},
   "source": [
    "Currently Percent rank implemented by SQL Databases and Pandas Percent rank use different algorithms.\n",
    "\n",
    "Pandas Percent Rank uses the same algoritm used by SQL Databases CumeDist function.\n",
    "\n",
    "The calculation used by SQL Databases for CumeDist and Percent rank are:\n",
    "\n",
    "\n",
    "$$\n",
    "PERCENT\\_RANK = (RANK – 1)/(COUNT -1)\n",
    "$$\n",
    "\n",
    "$$\n",
    "CUME\\_DIST = RANK/COUNT\n",
    "$$\n",
    "\n",
    "\n",
    "Current, [Ibis](http://ibis-project.org) uses the approach of Pandas, but probably should use the same \n",
    "behavior used by the SQL Databases.\n",
    "\n",
    "More information about the difference between Percent Rank and CumeDist [here](https://www.sqlservercentral.com/articles/whats-the-difference-between-percent_rank-and-cume_dist)\n",
    "\n",
    "\n",
    "Some Ibis reference about the current implementation:\n",
    "\n",
    "- https://github.com/ibis-project/ibis/blob/1.3.0/ibis/pandas/execution/window.py#L360\n",
    "- https://github.com/ibis-project/ibis/blob/1.3.0/ibis/tests/all/test_window.py#L41\n",
    "\n",
    "\n",
    "This notebook aims to implement a function for sql percent_rank using pandas and test it against \n",
    "[OmniSciDB](https://docs.omnisci.com/)."
   ]
  },
  {
   "cell_type": "code",
   "execution_count": 1,
   "metadata": {},
   "outputs": [],
   "source": [
    "from copy import copy\n",
    "\n",
    "import ibis\n",
    "import pandas as pd\n",
    "# local\n",
    "from settings import conf\n",
    "from utils import cursor2df"
   ]
  },
  {
   "cell_type": "markdown",
   "metadata": {},
   "source": [
    "### Setup"
   ]
  },
  {
   "cell_type": "code",
   "execution_count": 2,
   "metadata": {},
   "outputs": [],
   "source": [
    "BACKENDS = ['omniscidb']\n",
    "con = {\n",
    "    backend: getattr(ibis, backend).connect(**conf[backend]) \n",
    "    for backend in BACKENDS\n",
    "}"
   ]
  },
  {
   "cell_type": "code",
   "execution_count": 10,
   "metadata": {},
   "outputs": [
    {
     "name": "stdout",
     "output_type": "stream",
     "text": [
      "ref_0\n",
      "DatabaseTable[table]\n",
      "  name: functional_alltypes\n",
      "  schema:\n",
      "    index : int64\n",
      "    Unnamed__0 : int64\n",
      "    id : int32\n",
      "    bool_col : boolean\n",
      "    tinyint_col : int16\n",
      "    smallint_col : int16\n",
      "    int_col : int32\n",
      "    bigint_col : int64\n",
      "    float_col : float32\n",
      "    double_col : float64\n",
      "    date_string_col : string\n",
      "    string_col : string\n",
      "    timestamp_col : timestamp\n",
      "    year_ : int32\n",
      "    month_ : int32\n",
      "\n",
      "index = Column[int64*] 'index' from table\n",
      "  ref_0\n"
     ]
    }
   ],
   "source": [
    "t = con['omniscidb'].table('functional_alltypes')"
   ]
  },
  {
   "cell_type": "markdown",
   "metadata": {},
   "source": [
    "### Percent Rank and CumeDist definition"
   ]
  },
  {
   "cell_type": "code",
   "execution_count": null,
   "metadata": {},
   "outputs": [],
   "source": [
    "def win_count(se):\n",
    "    count = copy(se)\n",
    "    count[:] = se.count()\n",
    "    return count\n",
    "\n",
    "\n",
    "def sql_percent_rank(se):\n",
    "    \"\"\"\n",
    "    PERCENT_RANK = (RANK – 1)/(COUNT -1)\n",
    "    \"\"\"\n",
    "    return (se.rank(method='min') - 1) / (se.apply(win_count) - 1)\n",
    "\n",
    "\n",
    "def sql_cume_dist(se):\n",
    "    \"\"\"\n",
    "    CUME_DIST = RANK/COUNT\n",
    "    \"\"\"\n",
    "    return se.rank(method='min') / se.apply(win_count)\n",
    "\n",
    "\n",
    "def pd_percent_rank(se): \n",
    "    return se.rank(method='min', pct=True)"
   ]
  },
  {
   "cell_type": "markdown",
   "metadata": {},
   "source": [
    "### Test CUME DIST using Ibis/OmniSciDB"
   ]
  },
  {
   "cell_type": "code",
   "execution_count": null,
   "metadata": {},
   "outputs": [],
   "source": [
    "alltypes = t.execute()\n",
    "\n",
    "analytic_alltypes = alltypes.sort_values('id').groupby('string_col')\n",
    "\n",
    "result = alltypes.assign(\n",
    "    pandas_pct_rank=pd_percent_rank(analytic_alltypes.id),\n",
    "    cume_dist=sql_cume_dist(analytic_alltypes.id),\n",
    "    pct_rank=sql_percent_rank(analytic_alltypes.id),\n",
    ").set_index('id').sort_index()\n",
    "\n",
    "# display(result[['pandas_pct_rank', 'cume_dist']].describe())\n",
    "pd.testing.assert_series_equal(\n",
    "    result['pandas_pct_rank'], result['cume_dist'],\n",
    "    check_dtype=False,\n",
    "    check_names=False,\n",
    ")"
   ]
  },
  {
   "cell_type": "markdown",
   "metadata": {},
   "source": [
    "### Test OmniSciDB Percent Rank"
   ]
  },
  {
   "cell_type": "code",
   "execution_count": null,
   "metadata": {},
   "outputs": [],
   "source": [
    "sql = '''\n",
    "SELECT \n",
    "    id, cume_dist() OVER (PARTITION BY \"string_col\" ORDER BY \"id\") AS cume_dist_val,\n",
    "    percent_rank() OVER (PARTITION BY \"string_col\" ORDER BY \"id\") AS percent_rank_val\n",
    "FROM functional_alltypes\n",
    "'''\n",
    "\n",
    "cur = con['omniscidb'].con.execute(sql)\n",
    "df = cursor2df(cur).set_index('id').sort_index()\n",
    "df.head()"
   ]
  },
  {
   "cell_type": "code",
   "execution_count": null,
   "metadata": {},
   "outputs": [],
   "source": [
    "pd.testing.assert_series_equal(\n",
    "    result['cume_dist'], \n",
    "    df['cume_dist_val'],\n",
    "    check_dtype=False,\n",
    "    check_names=False,\n",
    ")\n",
    "\n",
    "pd.testing.assert_series_equal(\n",
    "    result['cume_dist'], \n",
    "    df['cume_dist_val'],\n",
    "    check_dtype=False,\n",
    "    check_names=False,\n",
    ")"
   ]
  },
  {
   "cell_type": "markdown",
   "metadata": {},
   "source": [
    "### MySQL"
   ]
  },
  {
   "cell_type": "code",
   "execution_count": null,
   "metadata": {},
   "outputs": [],
   "source": [
    "con['mysql'] = ibis.mysql.connect(**conf['mysql'])\n",
    "\n",
    "sql = '''\n",
    "SELECT \n",
    "    t0.`index`, t0.`Unnamed: 0`, t0.id, t0.bool_col, \n",
    "    t0.tinyint_col, t0.smallint_col, t0.int_col, \n",
    "    t0.bigint_col, t0.float_col, t0.double_col, \n",
    "    t0.date_string_col, t0.string_col, \n",
    "    t0.timestamp_col, t0.year, t0.month, \n",
    "    percent_rank() OVER (PARTITION BY t0.string_col ORDER BY t0.id ASC ROWS BETWEEN UNBOUNDED PRECEDING AND CURRENT ROW) AS val \n",
    "FROM (\n",
    "    SELECT t1.`index` AS `index`, t1.`Unnamed: 0` AS `Unnamed: 0`, t1.id AS id, \n",
    "    t1.bool_col = 1 AS bool_col, t1.tinyint_col AS tinyint_col, t1.smallint_col AS smallint_col, \n",
    "    t1.int_col AS int_col, t1.bigint_col AS bigint_col, t1.float_col AS float_col, \n",
    "    t1.double_col AS double_col, t1.date_string_col AS date_string_col, t1.string_col AS string_col, \n",
    "    t1.timestamp_col AS timestamp_col, t1.year AS year, t1.month AS month \n",
    "FROM functional_alltypes AS t1) AS t0 \n",
    "LIMIT 10000\n",
    "'''\n",
    "\n",
    "con['mysql'].con.execute(sql)"
   ]
  },
  {
   "cell_type": "code",
   "execution_count": null,
   "metadata": {},
   "outputs": [],
   "source": [
    "sql = '''\n",
    "SELECT \n",
    "    t0.`index`, t0.`Unnamed: 0`, t0.id, t0.bool_col, t0.tinyint_col,\n",
    "    t0.smallint_col, t0.int_col, t0.bigint_col, t0.float_col, t0.double_col,\n",
    "    t0.date_string_col, t0.string_col, t0.timestamp_col, t0.year, t0.month,\n",
    "    percent_rank() OVER (PARTITION BY t0.string_col ORDER BY t0.id ASC) AS val\n",
    "FROM (\n",
    "    SELECT t1.`index` AS `index`, t1.`Unnamed: 0` AS `Unnamed: 0`, t1.id AS id, \n",
    "        t1.bool_col = 1 AS bool_col, \n",
    "        t1.tinyint_col AS tinyint_col, t1.smallint_col AS smallint_col, \n",
    "        t1.int_col AS int_col, t1.bigint_col AS bigint_col, t1.float_col AS float_col,\n",
    "        t1.double_col AS double_col, t1.date_string_col AS date_string_col,\n",
    "        t1.string_col AS string_col, t1.timestamp_col AS timestamp_col,\n",
    "        t1.year AS year, t1.month AS month\n",
    "    FROM functional_alltypes AS t1\n",
    ") AS t0\n",
    "'''\n",
    "con['mysql'].con.execute(sql)"
   ]
  },
  {
   "cell_type": "markdown",
   "metadata": {},
   "source": [
    "## Conclusions"
   ]
  },
  {
   "cell_type": "markdown",
   "metadata": {},
   "source": [
    "This notebook implemented Percent Rank and CumeDist for pandas. The tests against OmniSciDB passed with success.  "
   ]
  }
 ],
 "metadata": {
  "kernelspec": {
   "display_name": "Python 3",
   "language": "python",
   "name": "python3"
  },
  "language_info": {
   "codemirror_mode": {
    "name": "ipython",
    "version": 3
   },
   "file_extension": ".py",
   "mimetype": "text/x-python",
   "name": "python",
   "nbconvert_exporter": "python",
   "pygments_lexer": "ipython3",
   "version": "3.7.6"
  }
 },
 "nbformat": 4,
 "nbformat_minor": 4
}
