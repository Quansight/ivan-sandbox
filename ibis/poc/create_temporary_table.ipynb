{
 "cells": [
  {
   "cell_type": "code",
   "execution_count": 3,
   "metadata": {},
   "outputs": [],
   "source": [
    "import ibis\n",
    "\n",
    "from settings import conf"
   ]
  },
  {
   "cell_type": "code",
   "execution_count": 7,
   "metadata": {},
   "outputs": [
    {
     "data": {
      "text/plain": [
       "['diamonds', 'batting', 'awards_players', 'functional_alltypes', 'geo']"
      ]
     },
     "execution_count": 7,
     "metadata": {},
     "output_type": "execute_result"
    }
   ],
   "source": [
    "con = ibis.omniscidb.connect(**conf['omniscidb'])\n",
    "con.list_tables()"
   ]
  },
  {
   "cell_type": "code",
   "execution_count": 8,
   "metadata": {},
   "outputs": [],
   "source": [
    "expr = con.table('functional_alltypes').head()\n",
    "con.create_table(table_name='my_new_table_temp', obj=expr, is_temporary=True)"
   ]
  },
  {
   "cell_type": "code",
   "execution_count": 9,
   "metadata": {},
   "outputs": [
    {
     "data": {
      "text/plain": [
       "['diamonds',\n",
       " 'batting',\n",
       " 'awards_players',\n",
       " 'functional_alltypes',\n",
       " 'geo',\n",
       " 'my_new_table_temp']"
      ]
     },
     "execution_count": 9,
     "metadata": {},
     "output_type": "execute_result"
    }
   ],
   "source": [
    "con.list_tables()"
   ]
  },
  {
   "cell_type": "code",
   "execution_count": 10,
   "metadata": {},
   "outputs": [
    {
     "data": {
      "text/html": [
       "<div>\n",
       "<style scoped>\n",
       "    .dataframe tbody tr th:only-of-type {\n",
       "        vertical-align: middle;\n",
       "    }\n",
       "\n",
       "    .dataframe tbody tr th {\n",
       "        vertical-align: top;\n",
       "    }\n",
       "\n",
       "    .dataframe thead th {\n",
       "        text-align: right;\n",
       "    }\n",
       "</style>\n",
       "<table border=\"1\" class=\"dataframe\">\n",
       "  <thead>\n",
       "    <tr style=\"text-align: right;\">\n",
       "      <th></th>\n",
       "      <th>index</th>\n",
       "      <th>Unnamed__0</th>\n",
       "      <th>id</th>\n",
       "      <th>bool_col</th>\n",
       "      <th>tinyint_col</th>\n",
       "      <th>smallint_col</th>\n",
       "      <th>int_col</th>\n",
       "      <th>bigint_col</th>\n",
       "      <th>float_col</th>\n",
       "      <th>double_col</th>\n",
       "      <th>date_string_col</th>\n",
       "      <th>string_col</th>\n",
       "      <th>timestamp_col</th>\n",
       "      <th>year_</th>\n",
       "      <th>month_</th>\n",
       "    </tr>\n",
       "  </thead>\n",
       "  <tbody>\n",
       "    <tr>\n",
       "      <th>0</th>\n",
       "      <td>0</td>\n",
       "      <td>0</td>\n",
       "      <td>6690</td>\n",
       "      <td>True</td>\n",
       "      <td>0</td>\n",
       "      <td>0</td>\n",
       "      <td>0</td>\n",
       "      <td>0</td>\n",
       "      <td>0.0</td>\n",
       "      <td>0.0</td>\n",
       "      <td>11/01/10</td>\n",
       "      <td>0</td>\n",
       "      <td>2010-11-01 00:00:00</td>\n",
       "      <td>2010</td>\n",
       "      <td>11</td>\n",
       "    </tr>\n",
       "    <tr>\n",
       "      <th>1</th>\n",
       "      <td>1</td>\n",
       "      <td>1</td>\n",
       "      <td>6691</td>\n",
       "      <td>False</td>\n",
       "      <td>1</td>\n",
       "      <td>1</td>\n",
       "      <td>1</td>\n",
       "      <td>10</td>\n",
       "      <td>1.1</td>\n",
       "      <td>10.1</td>\n",
       "      <td>11/01/10</td>\n",
       "      <td>1</td>\n",
       "      <td>2010-11-01 00:01:00</td>\n",
       "      <td>2010</td>\n",
       "      <td>11</td>\n",
       "    </tr>\n",
       "    <tr>\n",
       "      <th>2</th>\n",
       "      <td>2</td>\n",
       "      <td>2</td>\n",
       "      <td>6692</td>\n",
       "      <td>True</td>\n",
       "      <td>2</td>\n",
       "      <td>2</td>\n",
       "      <td>2</td>\n",
       "      <td>20</td>\n",
       "      <td>2.2</td>\n",
       "      <td>20.2</td>\n",
       "      <td>11/01/10</td>\n",
       "      <td>2</td>\n",
       "      <td>2010-11-01 00:02:00</td>\n",
       "      <td>2010</td>\n",
       "      <td>11</td>\n",
       "    </tr>\n",
       "    <tr>\n",
       "      <th>3</th>\n",
       "      <td>3</td>\n",
       "      <td>3</td>\n",
       "      <td>6693</td>\n",
       "      <td>False</td>\n",
       "      <td>3</td>\n",
       "      <td>3</td>\n",
       "      <td>3</td>\n",
       "      <td>30</td>\n",
       "      <td>3.3</td>\n",
       "      <td>30.3</td>\n",
       "      <td>11/01/10</td>\n",
       "      <td>3</td>\n",
       "      <td>2010-11-01 00:03:00</td>\n",
       "      <td>2010</td>\n",
       "      <td>11</td>\n",
       "    </tr>\n",
       "    <tr>\n",
       "      <th>4</th>\n",
       "      <td>4</td>\n",
       "      <td>4</td>\n",
       "      <td>6694</td>\n",
       "      <td>True</td>\n",
       "      <td>4</td>\n",
       "      <td>4</td>\n",
       "      <td>4</td>\n",
       "      <td>40</td>\n",
       "      <td>4.4</td>\n",
       "      <td>40.4</td>\n",
       "      <td>11/01/10</td>\n",
       "      <td>4</td>\n",
       "      <td>2010-11-01 00:04:00</td>\n",
       "      <td>2010</td>\n",
       "      <td>11</td>\n",
       "    </tr>\n",
       "  </tbody>\n",
       "</table>\n",
       "</div>"
      ],
      "text/plain": [
       "   index  Unnamed__0    id  bool_col  tinyint_col  smallint_col  int_col  \\\n",
       "0      0           0  6690      True            0             0        0   \n",
       "1      1           1  6691     False            1             1        1   \n",
       "2      2           2  6692      True            2             2        2   \n",
       "3      3           3  6693     False            3             3        3   \n",
       "4      4           4  6694      True            4             4        4   \n",
       "\n",
       "   bigint_col  float_col  double_col date_string_col string_col  \\\n",
       "0           0        0.0         0.0        11/01/10          0   \n",
       "1          10        1.1        10.1        11/01/10          1   \n",
       "2          20        2.2        20.2        11/01/10          2   \n",
       "3          30        3.3        30.3        11/01/10          3   \n",
       "4          40        4.4        40.4        11/01/10          4   \n",
       "\n",
       "        timestamp_col  year_  month_  \n",
       "0 2010-11-01 00:00:00   2010      11  \n",
       "1 2010-11-01 00:01:00   2010      11  \n",
       "2 2010-11-01 00:02:00   2010      11  \n",
       "3 2010-11-01 00:03:00   2010      11  \n",
       "4 2010-11-01 00:04:00   2010      11  "
      ]
     },
     "execution_count": 10,
     "metadata": {},
     "output_type": "execute_result"
    }
   ],
   "source": [
    "con.table('my_new_table_temp').execute()"
   ]
  }
 ],
 "metadata": {
  "kernelspec": {
   "display_name": "Python 3",
   "language": "python",
   "name": "python3"
  },
  "language_info": {
   "codemirror_mode": {
    "name": "ipython",
    "version": 3
   },
   "file_extension": ".py",
   "mimetype": "text/x-python",
   "name": "python",
   "nbconvert_exporter": "python",
   "pygments_lexer": "ipython3",
   "version": "3.7.6"
  }
 },
 "nbformat": 4,
 "nbformat_minor": 4
}
