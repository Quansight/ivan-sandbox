{
 "cells": [
  {
   "cell_type": "code",
   "execution_count": 1,
   "metadata": {},
   "outputs": [],
   "source": [
    "from datetime import datetime, date\n",
    "\n",
    "import ibis\n",
    "import numpy as np\n",
    "import pandas as pd\n",
    "# local\n",
    "from settings import conf\n",
    "from utils import cursor2df\n",
    "from gen_data import salary_date, salary_date_schema"
   ]
  },
  {
   "cell_type": "markdown",
   "metadata": {},
   "source": [
    "### Data"
   ]
  },
  {
   "cell_type": "code",
   "execution_count": 2,
   "metadata": {},
   "outputs": [
    {
     "name": "stdout",
     "output_type": "stream",
     "text": [
      "last_name                     object\n",
      "salary                       float64\n",
      "date_of_birth                 object\n",
      "timestamp_of_birth    datetime64[ns]\n",
      "dtype: object\n"
     ]
    },
    {
     "data": {
      "text/html": [
       "<div>\n",
       "<style scoped>\n",
       "    .dataframe tbody tr th:only-of-type {\n",
       "        vertical-align: middle;\n",
       "    }\n",
       "\n",
       "    .dataframe tbody tr th {\n",
       "        vertical-align: top;\n",
       "    }\n",
       "\n",
       "    .dataframe thead th {\n",
       "        text-align: right;\n",
       "    }\n",
       "</style>\n",
       "<table border=\"1\" class=\"dataframe\">\n",
       "  <thead>\n",
       "    <tr style=\"text-align: right;\">\n",
       "      <th></th>\n",
       "      <th>last_name</th>\n",
       "      <th>salary</th>\n",
       "      <th>date_of_birth</th>\n",
       "      <th>timestamp_of_birth</th>\n",
       "    </tr>\n",
       "  </thead>\n",
       "  <tbody>\n",
       "    <tr>\n",
       "      <th>0</th>\n",
       "      <td>Name 2010 1 1</td>\n",
       "      <td>2010011.0</td>\n",
       "      <td>2010-01-01</td>\n",
       "      <td>2010-01-01 01:01:01.001001001</td>\n",
       "    </tr>\n",
       "    <tr>\n",
       "      <th>1</th>\n",
       "      <td>Name 2011 1 1</td>\n",
       "      <td>2011011.0</td>\n",
       "      <td>2011-01-01</td>\n",
       "      <td>2011-01-01 01:01:01.001001001</td>\n",
       "    </tr>\n",
       "    <tr>\n",
       "      <th>2</th>\n",
       "      <td>Name 2012 1 1</td>\n",
       "      <td>2012011.0</td>\n",
       "      <td>2012-01-01</td>\n",
       "      <td>2012-01-01 01:01:01.001001001</td>\n",
       "    </tr>\n",
       "    <tr>\n",
       "      <th>3</th>\n",
       "      <td>Name 2013 1 1</td>\n",
       "      <td>2013011.0</td>\n",
       "      <td>2013-01-01</td>\n",
       "      <td>2013-01-01 01:01:01.001001001</td>\n",
       "    </tr>\n",
       "    <tr>\n",
       "      <th>4</th>\n",
       "      <td>Name 2014 1 1</td>\n",
       "      <td>2014011.0</td>\n",
       "      <td>2014-01-01</td>\n",
       "      <td>2014-01-01 01:01:01.001001001</td>\n",
       "    </tr>\n",
       "    <tr>\n",
       "      <th>...</th>\n",
       "      <td>...</td>\n",
       "      <td>...</td>\n",
       "      <td>...</td>\n",
       "      <td>...</td>\n",
       "    </tr>\n",
       "    <tr>\n",
       "      <th>4013</th>\n",
       "      <td>Name 2016 12 31</td>\n",
       "      <td>2016151.0</td>\n",
       "      <td>2016-12-31</td>\n",
       "      <td>2016-12-31 12:12:12.012012031</td>\n",
       "    </tr>\n",
       "    <tr>\n",
       "      <th>4014</th>\n",
       "      <td>Name 2017 12 31</td>\n",
       "      <td>2017151.0</td>\n",
       "      <td>2017-12-31</td>\n",
       "      <td>2017-12-31 12:12:12.012012031</td>\n",
       "    </tr>\n",
       "    <tr>\n",
       "      <th>4015</th>\n",
       "      <td>Name 2018 12 31</td>\n",
       "      <td>2018151.0</td>\n",
       "      <td>2018-12-31</td>\n",
       "      <td>2018-12-31 12:12:12.012012031</td>\n",
       "    </tr>\n",
       "    <tr>\n",
       "      <th>4016</th>\n",
       "      <td>Name 2019 12 31</td>\n",
       "      <td>2019151.0</td>\n",
       "      <td>2019-12-31</td>\n",
       "      <td>2019-12-31 12:12:12.012012031</td>\n",
       "    </tr>\n",
       "    <tr>\n",
       "      <th>4017</th>\n",
       "      <td>Name 2020 12 31</td>\n",
       "      <td>2020151.0</td>\n",
       "      <td>2020-12-31</td>\n",
       "      <td>2020-12-31 12:12:12.012012031</td>\n",
       "    </tr>\n",
       "  </tbody>\n",
       "</table>\n",
       "<p>4018 rows × 4 columns</p>\n",
       "</div>"
      ],
      "text/plain": [
       "            last_name     salary date_of_birth            timestamp_of_birth\n",
       "0       Name 2010 1 1  2010011.0    2010-01-01 2010-01-01 01:01:01.001001001\n",
       "1       Name 2011 1 1  2011011.0    2011-01-01 2011-01-01 01:01:01.001001001\n",
       "2       Name 2012 1 1  2012011.0    2012-01-01 2012-01-01 01:01:01.001001001\n",
       "3       Name 2013 1 1  2013011.0    2013-01-01 2013-01-01 01:01:01.001001001\n",
       "4       Name 2014 1 1  2014011.0    2014-01-01 2014-01-01 01:01:01.001001001\n",
       "...               ...        ...           ...                           ...\n",
       "4013  Name 2016 12 31  2016151.0    2016-12-31 2016-12-31 12:12:12.012012031\n",
       "4014  Name 2017 12 31  2017151.0    2017-12-31 2017-12-31 12:12:12.012012031\n",
       "4015  Name 2018 12 31  2018151.0    2018-12-31 2018-12-31 12:12:12.012012031\n",
       "4016  Name 2019 12 31  2019151.0    2019-12-31 2019-12-31 12:12:12.012012031\n",
       "4017  Name 2020 12 31  2020151.0    2020-12-31 2020-12-31 12:12:12.012012031\n",
       "\n",
       "[4018 rows x 4 columns]"
      ]
     },
     "execution_count": 2,
     "metadata": {},
     "output_type": "execute_result"
    }
   ],
   "source": [
    "df_salary1 = salary_date()\n",
    "print(df_salary1.dtypes)\n",
    "df_salary1"
   ]
  },
  {
   "cell_type": "code",
   "execution_count": 3,
   "metadata": {},
   "outputs": [],
   "source": [
    "df_salary1.to_csv('./salary_example.csv')"
   ]
  },
  {
   "cell_type": "code",
   "execution_count": 4,
   "metadata": {},
   "outputs": [
    {
     "data": {
      "text/plain": [
       "ibis.Schema {  \n",
       "  last_name           string\n",
       "  salary              float64\n",
       "  date_of_birth       date\n",
       "  timestamp_of_birth  timestamp\n",
       "}"
      ]
     },
     "execution_count": 4,
     "metadata": {},
     "output_type": "execute_result"
    }
   ],
   "source": [
    "sch = salary_date_schema()\n",
    "sch"
   ]
  },
  {
   "cell_type": "code",
   "execution_count": 5,
   "metadata": {},
   "outputs": [],
   "source": [
    "con = {}\n",
    "table_name = 'salary'"
   ]
  },
  {
   "cell_type": "code",
   "execution_count": 6,
   "metadata": {},
   "outputs": [],
   "source": [
    "def test_woy(result, expected):\n",
    "    pd.testing.assert_series_equal(result, expected, check_dtype=False, check_names=False)"
   ]
  },
  {
   "cell_type": "markdown",
   "metadata": {},
   "source": [
    "### OmniSciDB"
   ]
  },
  {
   "cell_type": "code",
   "execution_count": 7,
   "metadata": {},
   "outputs": [],
   "source": [
    "con['omniscidb'] = ibis.omniscidb.connect(**conf['omniscidb'])"
   ]
  },
  {
   "cell_type": "code",
   "execution_count": 8,
   "metadata": {},
   "outputs": [
    {
     "data": {
      "image/png": "[encoded data removed]",
      "text/plain": [
       "DatabaseTable[table]\n",
       "  name: salary\n",
       "  schema:\n",
       "    last_name : string\n",
       "    salary : float64\n",
       "    date_of_birth : date\n",
       "    timestamp_of_birth : timestamp"
      ]
     },
     "execution_count": 8,
     "metadata": {},
     "output_type": "execute_result"
    }
   ],
   "source": [
    "con['omniscidb'].drop_table(table_name, force=True)\n",
    "con['omniscidb'].create_table(table_name, schema=sch)\n",
    "con['omniscidb'].load_data(table_name, df_salary1)\n",
    "t = con['omniscidb'].table(table_name)\n",
    "t"
   ]
  },
  {
   "cell_type": "code",
   "execution_count": 9,
   "metadata": {},
   "outputs": [],
   "source": [
    "df = t.execute()"
   ]
  },
  {
   "cell_type": "code",
   "execution_count": 10,
   "metadata": {},
   "outputs": [
    {
     "ename": "AssertionError",
     "evalue": "Series are different\n\nSeries values are different (37.90443 %)\n[left]:  [1, 1, 1, 1, 1, 1, 1, 1, 1, 1, 1, 6, 6, 5, 5, 5, 6, 6, 5, 5, 5, 5, 10, 10, 9, 9, 9, 10, 10, 9, 9, 9, 10, 14, 14, 14, 14, 14, 14, 14, 13, 14, 14, 14, 18, 19, 18, 18, 18, 18, 19, 18, 18, 18, 18, 23, 23, 22, 22, 23, 23, 23, 22, 22, 22, 23, 27, 27, 27, 27, 27, 27, 27, 26, 27, 27, 27, 32, 32, 31, 31, 31, 31, 32, 31, 31, 31, 31, 36, 36, 35, 36, 36, 36, 36, 35, 35, 36, 36, 40, ...]\n[right]: [53, 52, 52, 1, 1, 1, 53, 52, 1, 1, 1, 5, 5, 5, 5, 5, 5, 5, 5, 5, 5, 5, 9, 9, 9, 9, 9, 9, 9, 9, 9, 9, 9, 13, 13, 13, 14, 14, 14, 13, 13, 13, 14, 14, 17, 17, 18, 18, 18, 18, 17, 18, 18, 18, 18, 22, 22, 22, 22, 22, 23, 22, 22, 22, 22, 23, 26, 26, 26, 27, 27, 27, 26, 26, 26, 27, 27, 30, 31, 31, 31, 31, 31, 31, 31, 31, 31, 31, 35, 35, 35, 35, 36, 36, 35, 35, 35, 35, 36, 39, ...]",
     "output_type": "error",
     "traceback": [
      "\u001b[0;31m---------------------------------------------------------------------------\u001b[0m",
      "\u001b[0;31mAssertionError\u001b[0m                            Traceback (most recent call last)",
      "\u001b[0;32m<ipython-input-10-c062e463e71e>\u001b[0m in \u001b[0;36m<module>\u001b[0;34m\u001b[0m\n\u001b[1;32m      7\u001b[0m \u001b[0mresult\u001b[0m \u001b[0;34m=\u001b[0m \u001b[0mcursor2df\u001b[0m\u001b[0;34m(\u001b[0m\u001b[0mcon\u001b[0m\u001b[0;34m[\u001b[0m\u001b[0;34m'omniscidb'\u001b[0m\u001b[0;34m]\u001b[0m\u001b[0;34m.\u001b[0m\u001b[0mcon\u001b[0m\u001b[0;34m.\u001b[0m\u001b[0mexecute\u001b[0m\u001b[0;34m(\u001b[0m\u001b[0msql\u001b[0m\u001b[0;34m)\u001b[0m\u001b[0;34m)\u001b[0m\u001b[0;34m.\u001b[0m\u001b[0mtmp\u001b[0m\u001b[0;34m\u001b[0m\u001b[0;34m\u001b[0m\u001b[0m\n\u001b[1;32m      8\u001b[0m \u001b[0;34m\u001b[0m\u001b[0m\n\u001b[0;32m----> 9\u001b[0;31m \u001b[0mtest_woy\u001b[0m\u001b[0;34m(\u001b[0m\u001b[0mresult\u001b[0m\u001b[0;34m,\u001b[0m \u001b[0mdf\u001b[0m\u001b[0;34m.\u001b[0m\u001b[0mtimestamp_of_birth\u001b[0m\u001b[0;34m.\u001b[0m\u001b[0mdt\u001b[0m\u001b[0;34m.\u001b[0m\u001b[0mweekofyear\u001b[0m\u001b[0;34m.\u001b[0m\u001b[0mastype\u001b[0m\u001b[0;34m(\u001b[0m\u001b[0;34m'int16'\u001b[0m\u001b[0;34m)\u001b[0m\u001b[0;34m)\u001b[0m\u001b[0;34m\u001b[0m\u001b[0;34m\u001b[0m\u001b[0m\n\u001b[0m",
      "\u001b[0;32m<ipython-input-6-44a7bc12703b>\u001b[0m in \u001b[0;36mtest_woy\u001b[0;34m(result, expected)\u001b[0m\n\u001b[1;32m      1\u001b[0m \u001b[0;32mdef\u001b[0m \u001b[0mtest_woy\u001b[0m\u001b[0;34m(\u001b[0m\u001b[0mresult\u001b[0m\u001b[0;34m,\u001b[0m \u001b[0mexpected\u001b[0m\u001b[0;34m)\u001b[0m\u001b[0;34m:\u001b[0m\u001b[0;34m\u001b[0m\u001b[0;34m\u001b[0m\u001b[0m\n\u001b[0;32m----> 2\u001b[0;31m     \u001b[0mpd\u001b[0m\u001b[0;34m.\u001b[0m\u001b[0mtesting\u001b[0m\u001b[0;34m.\u001b[0m\u001b[0massert_series_equal\u001b[0m\u001b[0;34m(\u001b[0m\u001b[0mresult\u001b[0m\u001b[0;34m,\u001b[0m \u001b[0mexpected\u001b[0m\u001b[0;34m,\u001b[0m \u001b[0mcheck_dtype\u001b[0m\u001b[0;34m=\u001b[0m\u001b[0;32mFalse\u001b[0m\u001b[0;34m,\u001b[0m \u001b[0mcheck_names\u001b[0m\u001b[0;34m=\u001b[0m\u001b[0;32mFalse\u001b[0m\u001b[0;34m)\u001b[0m\u001b[0;34m\u001b[0m\u001b[0;34m\u001b[0m\u001b[0m\n\u001b[0m",
      "\u001b[0;32m~/miniconda3/envs/ibis-nb/lib/python3.7/site-packages/pandas/_testing.py\u001b[0m in \u001b[0;36massert_series_equal\u001b[0;34m(left, right, check_dtype, check_index_type, check_series_type, check_less_precise, check_names, check_exact, check_datetimelike_compat, check_categorical, check_category_order, obj)\u001b[0m\n\u001b[1;32m   1189\u001b[0m             \u001b[0mcheck_less_precise\u001b[0m\u001b[0;34m=\u001b[0m\u001b[0mcheck_less_precise\u001b[0m\u001b[0;34m,\u001b[0m\u001b[0;34m\u001b[0m\u001b[0;34m\u001b[0m\u001b[0m\n\u001b[1;32m   1190\u001b[0m             \u001b[0mcheck_dtype\u001b[0m\u001b[0;34m=\u001b[0m\u001b[0mcheck_dtype\u001b[0m\u001b[0;34m,\u001b[0m\u001b[0;34m\u001b[0m\u001b[0;34m\u001b[0m\u001b[0m\n\u001b[0;32m-> 1191\u001b[0;31m             \u001b[0mobj\u001b[0m\u001b[0;34m=\u001b[0m\u001b[0mstr\u001b[0m\u001b[0;34m(\u001b[0m\u001b[0mobj\u001b[0m\u001b[0;34m)\u001b[0m\u001b[0;34m,\u001b[0m\u001b[0;34m\u001b[0m\u001b[0;34m\u001b[0m\u001b[0m\n\u001b[0m\u001b[1;32m   1192\u001b[0m         )\n\u001b[1;32m   1193\u001b[0m \u001b[0;34m\u001b[0m\u001b[0m\n",
      "\u001b[0;32mpandas/_libs/testing.pyx\u001b[0m in \u001b[0;36mpandas._libs.testing.assert_almost_equal\u001b[0;34m()\u001b[0m\n",
      "\u001b[0;32mpandas/_libs/testing.pyx\u001b[0m in \u001b[0;36mpandas._libs.testing.assert_almost_equal\u001b[0;34m()\u001b[0m\n",
      "\u001b[0;32m~/miniconda3/envs/ibis-nb/lib/python3.7/site-packages/pandas/_testing.py\u001b[0m in \u001b[0;36mraise_assert_detail\u001b[0;34m(obj, message, left, right, diff)\u001b[0m\n\u001b[1;32m    913\u001b[0m         \u001b[0mmsg\u001b[0m \u001b[0;34m+=\u001b[0m \u001b[0;34mf\"\\n[diff]: {diff}\"\u001b[0m\u001b[0;34m\u001b[0m\u001b[0;34m\u001b[0m\u001b[0m\n\u001b[1;32m    914\u001b[0m \u001b[0;34m\u001b[0m\u001b[0m\n\u001b[0;32m--> 915\u001b[0;31m     \u001b[0;32mraise\u001b[0m \u001b[0mAssertionError\u001b[0m\u001b[0;34m(\u001b[0m\u001b[0mmsg\u001b[0m\u001b[0;34m)\u001b[0m\u001b[0;34m\u001b[0m\u001b[0;34m\u001b[0m\u001b[0m\n\u001b[0m\u001b[1;32m    916\u001b[0m \u001b[0;34m\u001b[0m\u001b[0m\n\u001b[1;32m    917\u001b[0m \u001b[0;34m\u001b[0m\u001b[0m\n",
      "\u001b[0;31mAssertionError\u001b[0m: Series are different\n\nSeries values are different (37.90443 %)\n[left]:  [1, 1, 1, 1, 1, 1, 1, 1, 1, 1, 1, 6, 6, 5, 5, 5, 6, 6, 5, 5, 5, 5, 10, 10, 9, 9, 9, 10, 10, 9, 9, 9, 10, 14, 14, 14, 14, 14, 14, 14, 13, 14, 14, 14, 18, 19, 18, 18, 18, 18, 19, 18, 18, 18, 18, 23, 23, 22, 22, 23, 23, 23, 22, 22, 22, 23, 27, 27, 27, 27, 27, 27, 27, 26, 27, 27, 27, 32, 32, 31, 31, 31, 31, 32, 31, 31, 31, 31, 36, 36, 35, 36, 36, 36, 36, 35, 35, 36, 36, 40, ...]\n[right]: [53, 52, 52, 1, 1, 1, 53, 52, 1, 1, 1, 5, 5, 5, 5, 5, 5, 5, 5, 5, 5, 5, 9, 9, 9, 9, 9, 9, 9, 9, 9, 9, 9, 13, 13, 13, 14, 14, 14, 13, 13, 13, 14, 14, 17, 17, 18, 18, 18, 18, 17, 18, 18, 18, 18, 22, 22, 22, 22, 22, 23, 22, 22, 22, 22, 23, 26, 26, 26, 27, 27, 27, 26, 26, 26, 27, 27, 30, 31, 31, 31, 31, 31, 31, 31, 31, 31, 31, 35, 35, 35, 35, 36, 36, 35, 35, 35, 35, 36, 39, ...]"
     ]
    }
   ],
   "source": [
    "sql = '''\n",
    "SELECT\n",
    "  EXTRACT(WEEK FROM \"timestamp_of_birth\") AS tmp\n",
    "FROM salary\n",
    "'''\n",
    "\n",
    "result = cursor2df(con['omniscidb'].con.execute(sql)).tmp\n",
    "\n",
    "test_woy(result, df.timestamp_of_birth.dt.weekofyear.astype('int16'))"
   ]
  },
  {
   "cell_type": "code",
   "execution_count": 11,
   "metadata": {},
   "outputs": [],
   "source": [
    "sql = '''\n",
    "SELECT\n",
    "  CASE\n",
    "    WHEN CAST(floor(((EXTRACT(DOY FROM \"timestamp_of_birth\") - (EXTRACT(ISODOW FROM \"timestamp_of_birth\")- 1 + 1)) + 10) / 7) AS SMALLINT) < 1 THEN CASE WHEN ((mod((((EXTRACT(YEAR FROM \"timestamp_of_birth\") - 1) + floor((EXTRACT(YEAR FROM \"timestamp_of_birth\") - 1) / 4)) - floor((EXTRACT(YEAR FROM \"timestamp_of_birth\") - 1) / 100)) + floor((EXTRACT(YEAR FROM \"timestamp_of_birth\") - 1) / 400), 7)) = 4) OR ((mod(((((EXTRACT(YEAR FROM \"timestamp_of_birth\") - 1) - 1) + floor(((EXTRACT(YEAR FROM \"timestamp_of_birth\") - 1) - 1) / 4)) - floor(((EXTRACT(YEAR FROM \"timestamp_of_birth\") - 1) - 1) / 100)) + floor(((EXTRACT(YEAR FROM \"timestamp_of_birth\") - 1) - 1) / 400), 7)) = 3) THEN 1 ELSE 0 END + 52\n",
    "    WHEN CAST(floor(((EXTRACT(DOY FROM \"timestamp_of_birth\") - (EXTRACT(ISODOW FROM \"timestamp_of_birth\")- 1 + 1)) + 10) / 7) AS SMALLINT) > (CASE WHEN ((mod(((EXTRACT(YEAR FROM \"timestamp_of_birth\") + floor(EXTRACT(YEAR FROM \"timestamp_of_birth\") / 4)) - floor(EXTRACT(YEAR FROM \"timestamp_of_birth\") / 100)) + floor(EXTRACT(YEAR FROM \"timestamp_of_birth\") / 400), 7)) = 4) OR ((mod((((EXTRACT(YEAR FROM \"timestamp_of_birth\") - 1) + floor((EXTRACT(YEAR FROM \"timestamp_of_birth\") - 1) / 4)) - floor((EXTRACT(YEAR FROM \"timestamp_of_birth\") - 1) / 100)) + floor((EXTRACT(YEAR FROM \"timestamp_of_birth\") - 1) / 400), 7)) = 3) THEN 1 ELSE 0 END + 52) THEN 1\n",
    "    ELSE CAST(floor(((EXTRACT(DOY FROM \"timestamp_of_birth\") - (EXTRACT(ISODOW FROM \"timestamp_of_birth\")- 1 + 1)) + 10) / 7) AS SMALLINT)\n",
    "  END AS tmp\n",
    "FROM salary\n",
    "'''\n",
    "\n",
    "result = cursor2df(con['omniscidb'].con.execute(sql)).tmp\n",
    "test_woy(result, df.timestamp_of_birth.dt.weekofyear.astype('int16'))"
   ]
  },
  {
   "cell_type": "markdown",
   "metadata": {},
   "source": [
    "## PostgreSQL"
   ]
  },
  {
   "cell_type": "code",
   "execution_count": 12,
   "metadata": {},
   "outputs": [],
   "source": [
    "db = 'postgres'\n",
    "con[db] = ibis.postgres.connect(**conf[db])"
   ]
  },
  {
   "cell_type": "code",
   "execution_count": 13,
   "metadata": {},
   "outputs": [
    {
     "data": {
      "image/png": "[encoded data removed]",
      "text/plain": [
       "PostgreSQLTable[table]\n",
       "  name: salary\n",
       "  schema:\n",
       "    last_name : string\n",
       "    salary : float64\n",
       "    date_of_birth : date\n",
       "    timestamp_of_birth : timestamp"
      ]
     },
     "execution_count": 13,
     "metadata": {},
     "output_type": "execute_result"
    }
   ],
   "source": [
    "con[db].drop_table(table_name, force=True)\n",
    "con[db].create_table(table_name, schema=sch)\n",
    "con[db].load_data(table_name, df_salary1, if_exists='append')\n",
    "t = con[db].table(table_name)\n",
    "t"
   ]
  },
  {
   "cell_type": "code",
   "execution_count": 14,
   "metadata": {},
   "outputs": [
    {
     "name": "stdout",
     "output_type": "stream",
     "text": [
      "SELECT CAST(EXTRACT(week FROM t0.timestamp_of_birth) AS SMALLINT) AS tmp \n",
      "FROM salary AS t0\n"
     ]
    }
   ],
   "source": [
    "expr = t.timestamp_of_birth.week_of_year().name('tmp')\n",
    "expr = t[expr]\n",
    "\n",
    "print(str(expr.compile()))\n",
    "\n",
    "result = expr.execute().tmp\n",
    "test_woy(result, df.timestamp_of_birth.dt.weekofyear.astype('int16'))"
   ]
  }
 ],
 "metadata": {
  "kernelspec": {
   "display_name": "Python 3",
   "language": "python",
   "name": "python3"
  },
  "language_info": {
   "codemirror_mode": {
    "name": "ipython",
    "version": 3
   },
   "file_extension": ".py",
   "mimetype": "text/x-python",
   "name": "python",
   "nbconvert_exporter": "python",
   "pygments_lexer": "ipython3",
   "version": "3.7.6"
  }
 },
 "nbformat": 4,
 "nbformat_minor": 4
}
