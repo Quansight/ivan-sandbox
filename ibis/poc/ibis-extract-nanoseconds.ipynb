{
 "cells": [
  {
   "cell_type": "markdown",
   "metadata": {},
   "source": [
    "# Nanosecond extraction"
   ]
  },
  {
   "cell_type": "code",
   "execution_count": 1,
   "metadata": {},
   "outputs": [],
   "source": [
    "from datetime import datetime, date\n",
    "import ibis\n",
    "import numpy as np\n",
    "import pandas as pd\n",
    "# local\n",
    "from settings import conf\n",
    "from utils import cursor2df\n",
    "from gen_data import salary_date, salary_date_schema\n",
    "\n",
    "ibis.options.interactive = False"
   ]
  },
  {
   "cell_type": "code",
   "execution_count": 2,
   "metadata": {},
   "outputs": [],
   "source": [
    "# nanosecond example:\n",
    "# np.datetime64('2010-02-28T02:03:01.123412344')"
   ]
  },
  {
   "cell_type": "markdown",
   "metadata": {},
   "source": [
    "### Setup"
   ]
  },
  {
   "cell_type": "code",
   "execution_count": 3,
   "metadata": {},
   "outputs": [],
   "source": [
    "BACKENDS = ['omniscidb']\n",
    "con = {\n",
    "    backend: getattr(ibis, backend).connect(**conf[backend]) \n",
    "    for backend in BACKENDS\n",
    "}"
   ]
  },
  {
   "cell_type": "code",
   "execution_count": 4,
   "metadata": {},
   "outputs": [
    {
     "name": "stdout",
     "output_type": "stream",
     "text": [
      "last_name                     object\n",
      "salary                       float64\n",
      "date_of_birth                 object\n",
      "timestamp_of_birth    datetime64[ns]\n",
      "dtype: object\n",
      "<class 'pandas.core.frame.DataFrame'>\n",
      "RangeIndex: 4018 entries, 0 to 4017\n",
      "Data columns (total 4 columns):\n",
      " #   Column              Non-Null Count  Dtype         \n",
      "---  ------              --------------  -----         \n",
      " 0   last_name           4018 non-null   object        \n",
      " 1   salary              4018 non-null   float64       \n",
      " 2   date_of_birth       4018 non-null   object        \n",
      " 3   timestamp_of_birth  4018 non-null   datetime64[ns]\n",
      "dtypes: datetime64[ns](1), float64(1), object(2)\n",
      "memory usage: 125.7+ KB\n"
     ]
    }
   ],
   "source": [
    "df_salary1 = salary_date()\n",
    "print(df_salary1.dtypes)\n",
    "df_salary1.info()"
   ]
  },
  {
   "cell_type": "code",
   "execution_count": 5,
   "metadata": {},
   "outputs": [
    {
     "data": {
      "text/plain": [
       "ibis.Schema {  \n",
       "  last_name           string\n",
       "  salary              float64\n",
       "  date_of_birth       date\n",
       "  timestamp_of_birth  timestamp\n",
       "}"
      ]
     },
     "execution_count": 5,
     "metadata": {},
     "output_type": "execute_result"
    }
   ],
   "source": [
    "sch = salary_date_schema()\n",
    "sch"
   ]
  },
  {
   "cell_type": "code",
   "execution_count": 6,
   "metadata": {},
   "outputs": [
    {
     "data": {
      "text/html": [
       "<div>\n",
       "<style scoped>\n",
       "    .dataframe tbody tr th:only-of-type {\n",
       "        vertical-align: middle;\n",
       "    }\n",
       "\n",
       "    .dataframe tbody tr th {\n",
       "        vertical-align: top;\n",
       "    }\n",
       "\n",
       "    .dataframe thead th {\n",
       "        text-align: right;\n",
       "    }\n",
       "</style>\n",
       "<table border=\"1\" class=\"dataframe\">\n",
       "  <thead>\n",
       "    <tr style=\"text-align: right;\">\n",
       "      <th></th>\n",
       "      <th>last_name</th>\n",
       "      <th>salary</th>\n",
       "      <th>date_of_birth</th>\n",
       "      <th>timestamp_of_birth</th>\n",
       "    </tr>\n",
       "  </thead>\n",
       "  <tbody>\n",
       "    <tr>\n",
       "      <th>4013</th>\n",
       "      <td>Name 2016 12 31</td>\n",
       "      <td>2016151.0</td>\n",
       "      <td>2016-12-31</td>\n",
       "      <td>2016-12-31 12:12:12.012012031</td>\n",
       "    </tr>\n",
       "    <tr>\n",
       "      <th>4014</th>\n",
       "      <td>Name 2017 12 31</td>\n",
       "      <td>2017151.0</td>\n",
       "      <td>2017-12-31</td>\n",
       "      <td>2017-12-31 12:12:12.012012031</td>\n",
       "    </tr>\n",
       "    <tr>\n",
       "      <th>4015</th>\n",
       "      <td>Name 2018 12 31</td>\n",
       "      <td>2018151.0</td>\n",
       "      <td>2018-12-31</td>\n",
       "      <td>2018-12-31 12:12:12.012012031</td>\n",
       "    </tr>\n",
       "    <tr>\n",
       "      <th>4016</th>\n",
       "      <td>Name 2019 12 31</td>\n",
       "      <td>2019151.0</td>\n",
       "      <td>2019-12-31</td>\n",
       "      <td>2019-12-31 12:12:12.012012031</td>\n",
       "    </tr>\n",
       "    <tr>\n",
       "      <th>4017</th>\n",
       "      <td>Name 2020 12 31</td>\n",
       "      <td>2020151.0</td>\n",
       "      <td>2020-12-31</td>\n",
       "      <td>2020-12-31 12:12:12.012012031</td>\n",
       "    </tr>\n",
       "  </tbody>\n",
       "</table>\n",
       "</div>"
      ],
      "text/plain": [
       "            last_name     salary date_of_birth            timestamp_of_birth\n",
       "4013  Name 2016 12 31  2016151.0    2016-12-31 2016-12-31 12:12:12.012012031\n",
       "4014  Name 2017 12 31  2017151.0    2017-12-31 2017-12-31 12:12:12.012012031\n",
       "4015  Name 2018 12 31  2018151.0    2018-12-31 2018-12-31 12:12:12.012012031\n",
       "4016  Name 2019 12 31  2019151.0    2019-12-31 2019-12-31 12:12:12.012012031\n",
       "4017  Name 2020 12 31  2020151.0    2020-12-31 2020-12-31 12:12:12.012012031"
      ]
     },
     "execution_count": 6,
     "metadata": {},
     "output_type": "execute_result"
    }
   ],
   "source": [
    "def get_sample(df):\n",
    "    return df.head(10000).tail(5)\n",
    "\n",
    "sample = get_sample(df_salary1)\n",
    "sample"
   ]
  },
  {
   "cell_type": "code",
   "execution_count": 7,
   "metadata": {},
   "outputs": [
    {
     "data": {
      "text/plain": [
       "4013    31\n",
       "4014    31\n",
       "4015    31\n",
       "4016    31\n",
       "4017    31\n",
       "Name: timestamp_of_birth, dtype: int64"
      ]
     },
     "execution_count": 7,
     "metadata": {},
     "output_type": "execute_result"
    }
   ],
   "source": [
    "sample.timestamp_of_birth.dt.nanosecond"
   ]
  },
  {
   "cell_type": "code",
   "execution_count": 8,
   "metadata": {},
   "outputs": [
    {
     "data": {
      "text/plain": [
       "4013    1483186332012012031\n",
       "4014    1514722332012012031\n",
       "4015    1546258332012012031\n",
       "4016    1577794332012012031\n",
       "4017    1609416732012012031\n",
       "Name: timestamp_of_birth, dtype: int64"
      ]
     },
     "execution_count": 8,
     "metadata": {},
     "output_type": "execute_result"
    }
   ],
   "source": [
    "se_epoch = sample.timestamp_of_birth.astype(int)\n",
    "se_epoch"
   ]
  },
  {
   "cell_type": "code",
   "execution_count": 9,
   "metadata": {},
   "outputs": [
    {
     "data": {
      "text/plain": [
       "numpy.datetime64('2016-12-31T08:12:12.012012032')"
      ]
     },
     "execution_count": 9,
     "metadata": {},
     "output_type": "execute_result"
    }
   ],
   "source": [
    "def epoch_to_datetime64(epoch):\n",
    "    dt = datetime.fromtimestamp(epoch / 1e9)\n",
    "    dt_str = '{}{:03.0f}'.format(dt.strftime('%Y-%m-%dT%H:%M:%S.%f'), epoch % 1e3)\n",
    "    return np.datetime64(dt_str)\n",
    "\n",
    "epoch_to_datetime64(1483186332012012031)"
   ]
  },
  {
   "cell_type": "code",
   "execution_count": 10,
   "metadata": {},
   "outputs": [
    {
     "data": {
      "text/plain": [
       "numpy.datetime64('2016-12-31T12:12:12.012012031')"
      ]
     },
     "execution_count": 10,
     "metadata": {},
     "output_type": "execute_result"
    }
   ],
   "source": [
    "np.datetime64(1483186332012012031, 'ns')"
   ]
  },
  {
   "cell_type": "code",
   "execution_count": 11,
   "metadata": {},
   "outputs": [
    {
     "name": "stdout",
     "output_type": "stream",
     "text": [
      "    INSERT INTO salary_epoch (last_name, salary, date_of_birth, timestamp_of_birth) VALUES ('Name 2016 12 31', 2016151.0, '2016-12-31', '2016-12-31 12:12:12.012012031');\n",
      "    INSERT INTO salary_epoch (last_name, salary, date_of_birth, timestamp_of_birth) VALUES ('Name 2017 12 31', 2017151.0, '2017-12-31', '2017-12-31 12:12:12.012012031');\n",
      "    INSERT INTO salary_epoch (last_name, salary, date_of_birth, timestamp_of_birth) VALUES ('Name 2018 12 31', 2018151.0, '2018-12-31', '2018-12-31 12:12:12.012012031');\n",
      "    INSERT INTO salary_epoch (last_name, salary, date_of_birth, timestamp_of_birth) VALUES ('Name 2019 12 31', 2019151.0, '2019-12-31', '2019-12-31 12:12:12.012012031');\n",
      "    INSERT INTO salary_epoch (last_name, salary, date_of_birth, timestamp_of_birth) VALUES ('Name 2020 12 31', 2020151.0, '2020-12-31', '2020-12-31 12:12:12.012012031');\n"
     ]
    }
   ],
   "source": [
    "table_name = 'salary_epoch'\n",
    "t = {}\n",
    "params = {\n",
    "    'omniscidb': {},\n",
    "    'postgres': {'if_exists': 'append'}\n",
    "}\n",
    "\n",
    "def create_table(con):\n",
    "    sql = '''\n",
    "    CREATE TABLE {} (\n",
    "        last_name TEXT,\n",
    "        salary DOUBLE,\n",
    "        date_of_birth DATE,\n",
    "        timestamp_of_birth TIMESTAMP(9)\n",
    "    )'''.format(table_name)\n",
    "    con.execute(sql)\n",
    "    \n",
    "\n",
    "def load_table(con):\n",
    "    sql = '''\n",
    "    INSERT INTO {0} ({1}) VALUES ('Name 2016 12 31', 2016151.0, '2016-12-31', '2016-12-31 12:12:12.012012031');\n",
    "    INSERT INTO {0} ({1}) VALUES ('Name 2017 12 31', 2017151.0, '2017-12-31', '2017-12-31 12:12:12.012012031');\n",
    "    INSERT INTO {0} ({1}) VALUES ('Name 2018 12 31', 2018151.0, '2018-12-31', '2018-12-31 12:12:12.012012031');\n",
    "    INSERT INTO {0} ({1}) VALUES ('Name 2019 12 31', 2019151.0, '2019-12-31', '2019-12-31 12:12:12.012012031');\n",
    "    INSERT INTO {0} ({1}) VALUES ('Name 2020 12 31', 2020151.0, '2020-12-31', '2020-12-31 12:12:12.012012031');\n",
    "    '''.format(table_name, 'last_name, salary, date_of_birth, timestamp_of_birth')\n",
    "    \n",
    "    for row in sql.split('\\n'):\n",
    "        if 'INSERT' not in row:\n",
    "            continue\n",
    "        print(row)\n",
    "        con.execute(row)\n",
    "\n",
    "for backend in BACKENDS:\n",
    "    if hasattr(con[backend], 'load_data'):\n",
    "        con[backend].drop_table(table_name, force=True)\n",
    "        # con[backend].create_table(table_name, schema=sch)\n",
    "        create_table(con[backend].con)\n",
    "        load_table(con[backend].con)\n",
    "        # con[backend].load_data(table_name, df_salary1, **params[backend])\n",
    "    t[backend] = con[backend].table(table_name)"
   ]
  },
  {
   "cell_type": "code",
   "execution_count": 12,
   "metadata": {},
   "outputs": [
    {
     "name": "stdout",
     "output_type": "stream",
     "text": [
      "Description(name='last_name', type_code=6, display_size=None, internal_size=None, precision=None, scale=None, null_ok=True)\n",
      "Description(name='salary', type_code=5, display_size=None, internal_size=None, precision=None, scale=None, null_ok=True)\n",
      "Description(name='date_of_birth', type_code=9, display_size=None, internal_size=None, precision=None, scale=None, null_ok=True)\n",
      "Description(name='timestamp_of_birth', type_code=8, display_size=None, internal_size=None, precision=None, scale=None, null_ok=True)\n",
      "('Name 2016 12 31', 2016151.0, datetime.date(2016, 12, 31), numpy.datetime64('2016-12-31T12:12:12.012012031'))\n",
      "('Name 2017 12 31', 2017151.0, datetime.date(2017, 12, 31), numpy.datetime64('2017-12-31T12:12:12.012012031'))\n",
      "('Name 2018 12 31', 2018151.0, datetime.date(2018, 12, 31), numpy.datetime64('2018-12-31T12:12:12.012012031'))\n",
      "('Name 2019 12 31', 2019151.0, datetime.date(2019, 12, 31), numpy.datetime64('2019-12-31T12:12:12.012012031'))\n",
      "('Name 2020 12 31', 2020151.0, datetime.date(2020, 12, 31), numpy.datetime64('2020-12-31T12:12:12.012012031'))\n"
     ]
    }
   ],
   "source": [
    "sql = t['omniscidb'].head().compile()\n",
    "\n",
    "cur = con['omniscidb'].con.execute(sql)\n",
    "\n",
    "for row in cur.description:\n",
    "    print(row)\n",
    "\n",
    "for row in cur:\n",
    "    print(row)"
   ]
  },
  {
   "cell_type": "code",
   "execution_count": 13,
   "metadata": {},
   "outputs": [
    {
     "data": {
      "image/png": "[encoded data removed]",
      "text/plain": [
       "DatabaseTable[table]\n",
       "  name: salary_epoch\n",
       "  schema:\n",
       "    last_name : string\n",
       "    salary : float64\n",
       "    date_of_birth : date\n",
       "    timestamp_of_birth : timestamp"
      ]
     },
     "execution_count": 13,
     "metadata": {},
     "output_type": "execute_result"
    }
   ],
   "source": [
    "con['omniscidb'].table(table_name)"
   ]
  },
  {
   "cell_type": "code",
   "execution_count": 14,
   "metadata": {},
   "outputs": [
    {
     "data": {
      "image/png": "[encoded data removed]",
      "text/plain": [
       "DatabaseTable[table]\n",
       "  name: salary_epoch\n",
       "  schema:\n",
       "    last_name : string\n",
       "    salary : float64\n",
       "    date_of_birth : date\n",
       "    timestamp_of_birth : timestamp"
      ]
     },
     "execution_count": 14,
     "metadata": {},
     "output_type": "execute_result"
    }
   ],
   "source": [
    "t['omniscidb']"
   ]
  },
  {
   "cell_type": "code",
   "execution_count": 15,
   "metadata": {},
   "outputs": [
    {
     "data": {
      "text/html": [
       "<div>\n",
       "<style scoped>\n",
       "    .dataframe tbody tr th:only-of-type {\n",
       "        vertical-align: middle;\n",
       "    }\n",
       "\n",
       "    .dataframe tbody tr th {\n",
       "        vertical-align: top;\n",
       "    }\n",
       "\n",
       "    .dataframe thead th {\n",
       "        text-align: right;\n",
       "    }\n",
       "</style>\n",
       "<table border=\"1\" class=\"dataframe\">\n",
       "  <thead>\n",
       "    <tr style=\"text-align: right;\">\n",
       "      <th></th>\n",
       "      <th>last_name</th>\n",
       "      <th>salary</th>\n",
       "      <th>date_of_birth</th>\n",
       "      <th>timestamp_of_birth</th>\n",
       "    </tr>\n",
       "  </thead>\n",
       "  <tbody>\n",
       "    <tr>\n",
       "      <th>0</th>\n",
       "      <td>Name 2016 12 31</td>\n",
       "      <td>2016151.0</td>\n",
       "      <td>2016-12-31</td>\n",
       "      <td>2016-12-31 12:12:12.012012031</td>\n",
       "    </tr>\n",
       "    <tr>\n",
       "      <th>1</th>\n",
       "      <td>Name 2017 12 31</td>\n",
       "      <td>2017151.0</td>\n",
       "      <td>2017-12-31</td>\n",
       "      <td>2017-12-31 12:12:12.012012031</td>\n",
       "    </tr>\n",
       "    <tr>\n",
       "      <th>2</th>\n",
       "      <td>Name 2018 12 31</td>\n",
       "      <td>2018151.0</td>\n",
       "      <td>2018-12-31</td>\n",
       "      <td>2018-12-31 12:12:12.012012031</td>\n",
       "    </tr>\n",
       "    <tr>\n",
       "      <th>3</th>\n",
       "      <td>Name 2019 12 31</td>\n",
       "      <td>2019151.0</td>\n",
       "      <td>2019-12-31</td>\n",
       "      <td>2019-12-31 12:12:12.012012031</td>\n",
       "    </tr>\n",
       "    <tr>\n",
       "      <th>4</th>\n",
       "      <td>Name 2020 12 31</td>\n",
       "      <td>2020151.0</td>\n",
       "      <td>2020-12-31</td>\n",
       "      <td>2020-12-31 12:12:12.012012031</td>\n",
       "    </tr>\n",
       "  </tbody>\n",
       "</table>\n",
       "</div>"
      ],
      "text/plain": [
       "         last_name     salary date_of_birth            timestamp_of_birth\n",
       "0  Name 2016 12 31  2016151.0    2016-12-31 2016-12-31 12:12:12.012012031\n",
       "1  Name 2017 12 31  2017151.0    2017-12-31 2017-12-31 12:12:12.012012031\n",
       "2  Name 2018 12 31  2018151.0    2018-12-31 2018-12-31 12:12:12.012012031\n",
       "3  Name 2019 12 31  2019151.0    2019-12-31 2019-12-31 12:12:12.012012031\n",
       "4  Name 2020 12 31  2020151.0    2020-12-31 2020-12-31 12:12:12.012012031"
      ]
     },
     "execution_count": 15,
     "metadata": {},
     "output_type": "execute_result"
    }
   ],
   "source": [
    "t['omniscidb'].execute().head()"
   ]
  },
  {
   "cell_type": "code",
   "execution_count": 16,
   "metadata": {},
   "outputs": [
    {
     "name": "stdout",
     "output_type": "stream",
     "text": [
      "('Name 2016 12 31', 2016151.0, datetime.date(2016, 12, 31), numpy.datetime64('2016-12-31T12:12:12.012012031'))\n",
      "('Name 2017 12 31', 2017151.0, datetime.date(2017, 12, 31), numpy.datetime64('2017-12-31T12:12:12.012012031'))\n",
      "('Name 2018 12 31', 2018151.0, datetime.date(2018, 12, 31), numpy.datetime64('2018-12-31T12:12:12.012012031'))\n",
      "('Name 2019 12 31', 2019151.0, datetime.date(2019, 12, 31), numpy.datetime64('2019-12-31T12:12:12.012012031'))\n",
      "('Name 2020 12 31', 2020151.0, datetime.date(2020, 12, 31), numpy.datetime64('2020-12-31T12:12:12.012012031'))\n",
      "[Description(name='last_name', type_code=6, display_size=None, internal_size=None, precision=None, scale=None, null_ok=True), Description(name='salary', type_code=5, display_size=None, internal_size=None, precision=None, scale=None, null_ok=True), Description(name='date_of_birth', type_code=9, display_size=None, internal_size=None, precision=None, scale=None, null_ok=True), Description(name='timestamp_of_birth', type_code=8, display_size=None, internal_size=None, precision=None, scale=None, null_ok=True)]\n"
     ]
    }
   ],
   "source": [
    "sql = t['omniscidb'].head().compile()\n",
    "\n",
    "cur = con['omniscidb'].con.execute(sql)\n",
    "\n",
    "for row in cur:\n",
    "    print(row)\n",
    "    \n",
    "print(cur.description)"
   ]
  },
  {
   "cell_type": "code",
   "execution_count": 17,
   "metadata": {},
   "outputs": [],
   "source": [
    "_t = t['omniscidb']"
   ]
  },
  {
   "cell_type": "code",
   "execution_count": 18,
   "metadata": {},
   "outputs": [
    {
     "ename": "AttributeError",
     "evalue": "'TimestampColumn' object has no attribute 'nanosecond'",
     "output_type": "error",
     "traceback": [
      "\u001b[0;31m---------------------------------------------------------------------------\u001b[0m",
      "\u001b[0;31mAttributeError\u001b[0m                            Traceback (most recent call last)",
      "\u001b[0;32m<ipython-input-18-63526fa68832>\u001b[0m in \u001b[0;36m<module>\u001b[0;34m\u001b[0m\n\u001b[0;32m----> 1\u001b[0;31m \u001b[0mexpr\u001b[0m \u001b[0;34m=\u001b[0m \u001b[0m_t\u001b[0m\u001b[0;34m.\u001b[0m\u001b[0mtimestamp_of_birth\u001b[0m\u001b[0;34m.\u001b[0m\u001b[0mnanosecond\u001b[0m\u001b[0;34m(\u001b[0m\u001b[0;34m)\u001b[0m\u001b[0;34m.\u001b[0m\u001b[0mname\u001b[0m\u001b[0;34m(\u001b[0m\u001b[0;34m'tmp'\u001b[0m\u001b[0;34m)\u001b[0m\u001b[0;34m\u001b[0m\u001b[0;34m\u001b[0m\u001b[0m\n\u001b[0m\u001b[1;32m      2\u001b[0m \u001b[0mexpr\u001b[0m \u001b[0;34m=\u001b[0m \u001b[0m_t\u001b[0m\u001b[0;34m[\u001b[0m\u001b[0m_t\u001b[0m\u001b[0;34m.\u001b[0m\u001b[0mtimestamp_of_birth\u001b[0m\u001b[0;34m,\u001b[0m \u001b[0mexpr\u001b[0m\u001b[0;34m]\u001b[0m\u001b[0;34m\u001b[0m\u001b[0;34m\u001b[0m\u001b[0m\n\u001b[1;32m      3\u001b[0m \u001b[0mprint\u001b[0m\u001b[0;34m(\u001b[0m\u001b[0mexpr\u001b[0m\u001b[0;34m.\u001b[0m\u001b[0mcompile\u001b[0m\u001b[0;34m(\u001b[0m\u001b[0;34m)\u001b[0m\u001b[0;34m)\u001b[0m\u001b[0;34m\u001b[0m\u001b[0;34m\u001b[0m\u001b[0m\n\u001b[1;32m      4\u001b[0m \u001b[0mexpr\u001b[0m\u001b[0;34m.\u001b[0m\u001b[0mexecute\u001b[0m\u001b[0;34m(\u001b[0m\u001b[0;34m)\u001b[0m\u001b[0;34m;\u001b[0m\u001b[0;34m\u001b[0m\u001b[0;34m\u001b[0m\u001b[0m\n",
      "\u001b[0;31mAttributeError\u001b[0m: 'TimestampColumn' object has no attribute 'nanosecond'"
     ]
    }
   ],
   "source": [
    "expr = _t.timestamp_of_birth.nanosecond().name('tmp')\n",
    "expr = _t[_t.timestamp_of_birth, expr]\n",
    "print(expr.compile())\n",
    "expr.execute();"
   ]
  },
  {
   "cell_type": "markdown",
   "metadata": {},
   "source": [
    "## Tests"
   ]
  },
  {
   "cell_type": "code",
   "execution_count": 25,
   "metadata": {},
   "outputs": [
    {
     "data": {
      "text/plain": [
       "True"
      ]
     },
     "execution_count": 25,
     "metadata": {},
     "output_type": "execute_result"
    }
   ],
   "source": [
    "d = np.datetime64('2010-01-01 01:01:01.001001001')"
   ]
  },
  {
   "cell_type": "code",
   "execution_count": 72,
   "metadata": {},
   "outputs": [
    {
     "data": {
      "text/plain": [
       "1262307661001001001"
      ]
     },
     "execution_count": 72,
     "metadata": {},
     "output_type": "execute_result"
    }
   ],
   "source": [
    "int(d.view('i8'))"
   ]
  },
  {
   "cell_type": "code",
   "execution_count": 74,
   "metadata": {},
   "outputs": [
    {
     "data": {
      "text/plain": [
       "numpy.datetime64('2010-01-01T01:01:01.001001001')"
      ]
     },
     "execution_count": 74,
     "metadata": {},
     "output_type": "execute_result"
    }
   ],
   "source": [
    "np.datetime64(1262307661001001001, 'ns')"
   ]
  },
  {
   "cell_type": "code",
   "execution_count": null,
   "metadata": {},
   "outputs": [],
   "source": [
    "# pd.testing.assert_frame_equal(t['omniscidb'].execute(), t['postgres'].execute())"
   ]
  },
  {
   "cell_type": "code",
   "execution_count": null,
   "metadata": {},
   "outputs": [],
   "source": [
    "df = expr.execute()\n",
    "df"
   ]
  },
  {
   "cell_type": "markdown",
   "metadata": {},
   "source": [
    "### 1. Nanosecond and epoch"
   ]
  },
  {
   "cell_type": "markdown",
   "metadata": {},
   "source": [
    "#### Compare 2 pandas approach for epoch"
   ]
  },
  {
   "cell_type": "code",
   "execution_count": null,
   "metadata": {},
   "outputs": [],
   "source": [
    "expected_1 = pd.Series(\n",
    "    (pd.DatetimeIndex(df.timestamp_of_birth) - pd.Timestamp('1970-01-01'))\n",
    "    // pd.Timedelta('1s')\n",
    ")\n",
    "\n",
    "expected_2 = df.timestamp_of_birth.astype(int) // int(1e9)\n",
    "pd.testing.assert_series_equal(expected_1, expected_2)"
   ]
  },
  {
   "cell_type": "code",
   "execution_count": null,
   "metadata": {},
   "outputs": [],
   "source": [
    "for b in BACKENDS:\n",
    "    try:\n",
    "        print(' {} '.format(b).center(80, '='))\n",
    "        expr = t[b].timestamp_of_birth.nanosecond()\n",
    "        result = expr.execute()\n",
    "        expected = df.timestamp_of_birth.dt.nanosecond\n",
    "        print(expr.compile())\n",
    "        print('.' * 80)\n",
    "        pd.testing.assert_series_equal(result, expected, check_names=False, check_dtype=False)\n",
    "    except ibis.common.exceptions.OperationNotDefinedError:\n",
    "        print('[WW] Not implemented')\n",
    "    except AssertionError as e:\n",
    "        print('[EE] AssertionError (left=result, right=expected)')\n",
    "        print(e)"
   ]
  },
  {
   "cell_type": "code",
   "execution_count": 103,
   "metadata": {},
   "outputs": [
    {
     "data": {
      "text/plain": [
       "'2010-01-01T01:01:01.001001001'"
      ]
     },
     "execution_count": 103,
     "metadata": {},
     "output_type": "execute_result"
    }
   ],
   "source": [
    "np.datetime64(1262307661001001001, 'ns').astype(str)"
   ]
  },
  {
   "cell_type": "code",
   "execution_count": 104,
   "metadata": {},
   "outputs": [
    {
     "data": {
      "text/plain": [
       "numpy.datetime64('2010-01-01T01:01:01.001001001')"
      ]
     },
     "execution_count": 104,
     "metadata": {},
     "output_type": "execute_result"
    }
   ],
   "source": [
    "np.datetime64(\"2010-01-01T01:01:01.001001001\")"
   ]
  }
 ],
 "metadata": {
  "kernelspec": {
   "display_name": "Python 3",
   "language": "python",
   "name": "python3"
  },
  "language_info": {
   "codemirror_mode": {
    "name": "ipython",
    "version": 3
   },
   "file_extension": ".py",
   "mimetype": "text/x-python",
   "name": "python",
   "nbconvert_exporter": "python",
   "pygments_lexer": "ipython3",
   "version": "3.7.6"
  }
 },
 "nbformat": 4,
 "nbformat_minor": 4
}
