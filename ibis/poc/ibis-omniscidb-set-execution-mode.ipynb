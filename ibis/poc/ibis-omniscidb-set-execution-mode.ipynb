{
 "cells": [
  {
   "cell_type": "markdown",
   "metadata": {},
   "source": [
    "# OmniSciDB set execution mode"
   ]
  },
  {
   "cell_type": "code",
   "execution_count": 1,
   "metadata": {},
   "outputs": [],
   "source": [
    "from copy import copy\n",
    "from typing import Optional\n",
    "\n",
    "import ibis\n",
    "import pandas as pd\n",
    "import pymapd\n",
    "# local\n",
    "from settings import conf\n",
    "from utils import cursor2df"
   ]
  },
  {
   "cell_type": "markdown",
   "metadata": {},
   "source": [
    "### Setup"
   ]
  },
  {
   "cell_type": "code",
   "execution_count": 2,
   "metadata": {},
   "outputs": [
    {
     "data": {
      "text/plain": [
       "<ibis.omniscidb.client.OmniSciDBClient at 0x7f5d3310ded0>"
      ]
     },
     "execution_count": 2,
     "metadata": {},
     "output_type": "execute_result"
    }
   ],
   "source": [
    "con = ibis.omniscidb.connect(**conf['omniscidb'])\n",
    "con"
   ]
  },
  {
   "cell_type": "markdown",
   "metadata": {},
   "source": [
    "### PyMapD set_execution_mode"
   ]
  },
  {
   "cell_type": "code",
   "execution_count": 3,
   "metadata": {},
   "outputs": [
    {
     "data": {
      "text/plain": [
       "'SELECT *\\nFROM functional_alltypes\\nLIMIT 1'"
      ]
     },
     "execution_count": 3,
     "metadata": {},
     "output_type": "execute_result"
    }
   ],
   "source": [
    "t = con.table('functional_alltypes')\n",
    "sql = t.head(1).compile()\n",
    "sql"
   ]
  },
  {
   "cell_type": "code",
   "execution_count": 4,
   "metadata": {},
   "outputs": [
    {
     "data": {
      "text/html": [
       "<div>\n",
       "<style scoped>\n",
       "    .dataframe tbody tr th:only-of-type {\n",
       "        vertical-align: middle;\n",
       "    }\n",
       "\n",
       "    .dataframe tbody tr th {\n",
       "        vertical-align: top;\n",
       "    }\n",
       "\n",
       "    .dataframe thead th {\n",
       "        text-align: right;\n",
       "    }\n",
       "</style>\n",
       "<table border=\"1\" class=\"dataframe\">\n",
       "  <thead>\n",
       "    <tr style=\"text-align: right;\">\n",
       "      <th></th>\n",
       "      <th>index</th>\n",
       "      <th>Unnamed__0</th>\n",
       "      <th>id</th>\n",
       "      <th>bool_col</th>\n",
       "      <th>tinyint_col</th>\n",
       "      <th>smallint_col</th>\n",
       "      <th>int_col</th>\n",
       "      <th>bigint_col</th>\n",
       "      <th>float_col</th>\n",
       "      <th>double_col</th>\n",
       "      <th>date_string_col</th>\n",
       "      <th>string_col</th>\n",
       "      <th>timestamp_col</th>\n",
       "      <th>year_</th>\n",
       "      <th>month_</th>\n",
       "    </tr>\n",
       "  </thead>\n",
       "  <tbody>\n",
       "    <tr>\n",
       "      <th>0</th>\n",
       "      <td>0</td>\n",
       "      <td>0</td>\n",
       "      <td>6690</td>\n",
       "      <td>1</td>\n",
       "      <td>0</td>\n",
       "      <td>0</td>\n",
       "      <td>0</td>\n",
       "      <td>0</td>\n",
       "      <td>0.0</td>\n",
       "      <td>0.0</td>\n",
       "      <td>11/01/10</td>\n",
       "      <td>0</td>\n",
       "      <td>2010-11-01</td>\n",
       "      <td>2010</td>\n",
       "      <td>11</td>\n",
       "    </tr>\n",
       "  </tbody>\n",
       "</table>\n",
       "</div>"
      ],
      "text/plain": [
       "   index  Unnamed__0    id  bool_col  tinyint_col  smallint_col  int_col  \\\n",
       "0      0           0  6690         1            0             0        0   \n",
       "\n",
       "   bigint_col  float_col  double_col date_string_col string_col timestamp_col  \\\n",
       "0           0        0.0         0.0        11/01/10          0    2010-11-01   \n",
       "\n",
       "   year_  month_  \n",
       "0   2010      11  "
      ]
     },
     "execution_count": 4,
     "metadata": {},
     "output_type": "execute_result"
    }
   ],
   "source": [
    "cursor2df(con.con.execute(sql))"
   ]
  },
  {
   "cell_type": "code",
   "execution_count": 5,
   "metadata": {},
   "outputs": [
    {
     "data": {
      "text/plain": [
       "'Z3bqpR1SJuOXn51l1ei03gmfHpX8K3Mp'"
      ]
     },
     "execution_count": 5,
     "metadata": {},
     "output_type": "execute_result"
    }
   ],
   "source": [
    "con.con._session"
   ]
  },
  {
   "cell_type": "code",
   "execution_count": 6,
   "metadata": {},
   "outputs": [],
   "source": [
    "con.con._client.set_execution_mode(con.con._session, 2)\n"
   ]
  },
  {
   "cell_type": "markdown",
   "metadata": {},
   "source": [
    "### Ibis execution_mode implementation\n",
    "\n",
    "In this prototype, `ibis.omniscidb.client.OmniSciDBClient._execute`, \n",
    "the method responsible for the prepare the **SQL** execution, is wrapped \n",
    "to demonstrate the changes needed by `set_execution_mode` implementation."
   ]
  },
  {
   "cell_type": "code",
   "execution_count": 7,
   "metadata": {},
   "outputs": [
    {
     "data": {
      "text/html": [
       "<div>\n",
       "<style scoped>\n",
       "    .dataframe tbody tr th:only-of-type {\n",
       "        vertical-align: middle;\n",
       "    }\n",
       "\n",
       "    .dataframe tbody tr th {\n",
       "        vertical-align: top;\n",
       "    }\n",
       "\n",
       "    .dataframe thead th {\n",
       "        text-align: right;\n",
       "    }\n",
       "</style>\n",
       "<table border=\"1\" class=\"dataframe\">\n",
       "  <thead>\n",
       "    <tr style=\"text-align: right;\">\n",
       "      <th></th>\n",
       "      <th>index</th>\n",
       "      <th>Unnamed__0</th>\n",
       "      <th>id</th>\n",
       "      <th>bool_col</th>\n",
       "      <th>tinyint_col</th>\n",
       "      <th>smallint_col</th>\n",
       "      <th>int_col</th>\n",
       "      <th>bigint_col</th>\n",
       "      <th>float_col</th>\n",
       "      <th>double_col</th>\n",
       "      <th>date_string_col</th>\n",
       "      <th>string_col</th>\n",
       "      <th>timestamp_col</th>\n",
       "      <th>year_</th>\n",
       "      <th>month_</th>\n",
       "    </tr>\n",
       "  </thead>\n",
       "  <tbody>\n",
       "    <tr>\n",
       "      <th>0</th>\n",
       "      <td>0</td>\n",
       "      <td>0</td>\n",
       "      <td>6690</td>\n",
       "      <td>True</td>\n",
       "      <td>0</td>\n",
       "      <td>0</td>\n",
       "      <td>0</td>\n",
       "      <td>0</td>\n",
       "      <td>0.0</td>\n",
       "      <td>0.0</td>\n",
       "      <td>11/01/10</td>\n",
       "      <td>0</td>\n",
       "      <td>2010-11-01 00:00:00</td>\n",
       "      <td>2010</td>\n",
       "      <td>11</td>\n",
       "    </tr>\n",
       "    <tr>\n",
       "      <th>1</th>\n",
       "      <td>1</td>\n",
       "      <td>1</td>\n",
       "      <td>6691</td>\n",
       "      <td>False</td>\n",
       "      <td>1</td>\n",
       "      <td>1</td>\n",
       "      <td>1</td>\n",
       "      <td>10</td>\n",
       "      <td>1.1</td>\n",
       "      <td>10.1</td>\n",
       "      <td>11/01/10</td>\n",
       "      <td>1</td>\n",
       "      <td>2010-11-01 00:01:00</td>\n",
       "      <td>2010</td>\n",
       "      <td>11</td>\n",
       "    </tr>\n",
       "    <tr>\n",
       "      <th>2</th>\n",
       "      <td>2</td>\n",
       "      <td>2</td>\n",
       "      <td>6692</td>\n",
       "      <td>True</td>\n",
       "      <td>2</td>\n",
       "      <td>2</td>\n",
       "      <td>2</td>\n",
       "      <td>20</td>\n",
       "      <td>2.2</td>\n",
       "      <td>20.2</td>\n",
       "      <td>11/01/10</td>\n",
       "      <td>2</td>\n",
       "      <td>2010-11-01 00:02:00</td>\n",
       "      <td>2010</td>\n",
       "      <td>11</td>\n",
       "    </tr>\n",
       "    <tr>\n",
       "      <th>3</th>\n",
       "      <td>3</td>\n",
       "      <td>3</td>\n",
       "      <td>6693</td>\n",
       "      <td>False</td>\n",
       "      <td>3</td>\n",
       "      <td>3</td>\n",
       "      <td>3</td>\n",
       "      <td>30</td>\n",
       "      <td>3.3</td>\n",
       "      <td>30.3</td>\n",
       "      <td>11/01/10</td>\n",
       "      <td>3</td>\n",
       "      <td>2010-11-01 00:03:00</td>\n",
       "      <td>2010</td>\n",
       "      <td>11</td>\n",
       "    </tr>\n",
       "    <tr>\n",
       "      <th>4</th>\n",
       "      <td>4</td>\n",
       "      <td>4</td>\n",
       "      <td>6694</td>\n",
       "      <td>True</td>\n",
       "      <td>4</td>\n",
       "      <td>4</td>\n",
       "      <td>4</td>\n",
       "      <td>40</td>\n",
       "      <td>4.4</td>\n",
       "      <td>40.4</td>\n",
       "      <td>11/01/10</td>\n",
       "      <td>4</td>\n",
       "      <td>2010-11-01 00:04:00</td>\n",
       "      <td>2010</td>\n",
       "      <td>11</td>\n",
       "    </tr>\n",
       "  </tbody>\n",
       "</table>\n",
       "</div>"
      ],
      "text/plain": [
       "   index  Unnamed__0    id  bool_col  tinyint_col  smallint_col  int_col  \\\n",
       "0      0           0  6690      True            0             0        0   \n",
       "1      1           1  6691     False            1             1        1   \n",
       "2      2           2  6692      True            2             2        2   \n",
       "3      3           3  6693     False            3             3        3   \n",
       "4      4           4  6694      True            4             4        4   \n",
       "\n",
       "   bigint_col  float_col  double_col date_string_col string_col  \\\n",
       "0           0        0.0         0.0        11/01/10          0   \n",
       "1          10        1.1        10.1        11/01/10          1   \n",
       "2          20        2.2        20.2        11/01/10          2   \n",
       "3          30        3.3        30.3        11/01/10          3   \n",
       "4          40        4.4        40.4        11/01/10          4   \n",
       "\n",
       "        timestamp_col  year_  month_  \n",
       "0 2010-11-01 00:00:00   2010      11  \n",
       "1 2010-11-01 00:01:00   2010      11  \n",
       "2 2010-11-01 00:02:00   2010      11  \n",
       "3 2010-11-01 00:03:00   2010      11  \n",
       "4 2010-11-01 00:04:00   2010      11  "
      ]
     },
     "execution_count": 7,
     "metadata": {},
     "output_type": "execute_result"
    }
   ],
   "source": [
    "con.execution_mode('cpu')\n",
    "con.execute(t.head())"
   ]
  },
  {
   "cell_type": "code",
   "execution_count": 8,
   "metadata": {},
   "outputs": [],
   "source": [
    "try:\n",
    "    con.execution_mode('gpu')\n",
    "except Exception as e:\n",
    "    assert e.error_msg == 'Cannot switch to GPU mode in a server started in CPU-only mode.'"
   ]
  }
 ],
 "metadata": {
  "kernelspec": {
   "display_name": "Python 3",
   "language": "python",
   "name": "python3"
  },
  "language_info": {
   "codemirror_mode": {
    "name": "ipython",
    "version": 3
   },
   "file_extension": ".py",
   "mimetype": "text/x-python",
   "name": "python",
   "nbconvert_exporter": "python",
   "pygments_lexer": "ipython3",
   "version": "3.7.6"
  }
 },
 "nbformat": 4,
 "nbformat_minor": 4
}
