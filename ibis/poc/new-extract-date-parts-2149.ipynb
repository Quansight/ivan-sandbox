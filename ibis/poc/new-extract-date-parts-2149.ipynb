{
 "cells": [
  {
   "cell_type": "markdown",
   "metadata": {},
   "source": [
    "# New Extraction date/timestamp parts (#2149)"
   ]
  },
  {
   "cell_type": "code",
   "execution_count": 1,
   "metadata": {},
   "outputs": [],
   "source": [
    "# t.timestamp_of_birth - ibis.interval(1, 'D')\n",
    "# Error: Unknown HTML element <int8> on line 1 \n",
    "# in label of node 7208238078510608626"
   ]
  },
  {
   "cell_type": "code",
   "execution_count": 2,
   "metadata": {},
   "outputs": [],
   "source": [
    "from datetime import datetime, date\n",
    "\n",
    "import ibis\n",
    "import numpy as np\n",
    "import pandas as pd\n",
    "# local\n",
    "from settings import conf\n",
    "from utils import cursor2df\n",
    "from gen_data import salary_date, salary_date_schema"
   ]
  },
  {
   "cell_type": "code",
   "execution_count": 3,
   "metadata": {},
   "outputs": [],
   "source": [
    "BACKENDS = ['omniscidb', 'postgres']\n",
    "con = {\n",
    "    backend: getattr(ibis, backend).connect(**conf[backend]) \n",
    "    for backend in BACKENDS\n",
    "}"
   ]
  },
  {
   "cell_type": "code",
   "execution_count": 4,
   "metadata": {},
   "outputs": [
    {
     "name": "stdout",
     "output_type": "stream",
     "text": [
      "last_name                     object\n",
      "salary                         int64\n",
      "date_of_birth                 object\n",
      "timestamp_of_birth    datetime64[ns]\n",
      "dtype: object\n",
      "<class 'pandas.core.frame.DataFrame'>\n",
      "RangeIndex: 4018 entries, 0 to 4017\n",
      "Data columns (total 4 columns):\n",
      " #   Column              Non-Null Count  Dtype         \n",
      "---  ------              --------------  -----         \n",
      " 0   last_name           4018 non-null   object        \n",
      " 1   salary              4018 non-null   int64         \n",
      " 2   date_of_birth       4018 non-null   object        \n",
      " 3   timestamp_of_birth  4018 non-null   datetime64[ns]\n",
      "dtypes: datetime64[ns](1), int64(1), object(2)\n",
      "memory usage: 125.7+ KB\n"
     ]
    }
   ],
   "source": [
    "df_salary1 = salary_date()\n",
    "print(df_salary1.dtypes)\n",
    "df_salary1.info()"
   ]
  },
  {
   "cell_type": "code",
   "execution_count": 5,
   "metadata": {},
   "outputs": [
    {
     "data": {
      "text/plain": [
       "ibis.Schema {  \n",
       "  last_name           string\n",
       "  salary              float64\n",
       "  date_of_birth       date\n",
       "  timestamp_of_birth  timestamp\n",
       "}"
      ]
     },
     "execution_count": 5,
     "metadata": {},
     "output_type": "execute_result"
    }
   ],
   "source": [
    "sch = salary_date_schema()\n",
    "sch"
   ]
  },
  {
   "cell_type": "code",
   "execution_count": 6,
   "metadata": {},
   "outputs": [],
   "source": [
    "table_name = 'salary'\n",
    "t = {}\n",
    "params = {\n",
    "    'postgres': {'if_exists': 'append'}\n",
    "}\n",
    "\n",
    "for backend in BACKENDS:\n",
    "    if hasattr(con[backend], 'load_data'):\n",
    "        con[backend].drop_table(table_name, force=True)\n",
    "        con[backend].create_table(table_name, schema=sch)\n",
    "        con[backend].load_data(table_name, df_salary1, **params.get(backend, {}))\n",
    "    t[backend] = con[backend].table(table_name)"
   ]
  },
  {
   "cell_type": "code",
   "execution_count": 7,
   "metadata": {},
   "outputs": [
    {
     "data": {
      "image/png": "[encoded data removed]",
      "text/plain": [
       "DatabaseTable[table]\n",
       "  name: salary\n",
       "  schema:\n",
       "    last_name : string\n",
       "    salary : float64\n",
       "    date_of_birth : date\n",
       "    timestamp_of_birth : timestamp"
      ]
     },
     "execution_count": 7,
     "metadata": {},
     "output_type": "execute_result"
    }
   ],
   "source": [
    "con['omniscidb'].table(table_name)"
   ]
  },
  {
   "cell_type": "code",
   "execution_count": 8,
   "metadata": {},
   "outputs": [
    {
     "data": {
      "image/png": "[encoded data removed]",
      "text/plain": [
       "DatabaseTable[table]\n",
       "  name: salary\n",
       "  schema:\n",
       "    last_name : string\n",
       "    salary : float64\n",
       "    date_of_birth : date\n",
       "    timestamp_of_birth : timestamp"
      ]
     },
     "execution_count": 8,
     "metadata": {},
     "output_type": "execute_result"
    }
   ],
   "source": [
    "t['omniscidb']"
   ]
  },
  {
   "cell_type": "code",
   "execution_count": 9,
   "metadata": {},
   "outputs": [
    {
     "data": {
      "text/html": [
       "<div>\n",
       "<style scoped>\n",
       "    .dataframe tbody tr th:only-of-type {\n",
       "        vertical-align: middle;\n",
       "    }\n",
       "\n",
       "    .dataframe tbody tr th {\n",
       "        vertical-align: top;\n",
       "    }\n",
       "\n",
       "    .dataframe thead th {\n",
       "        text-align: right;\n",
       "    }\n",
       "</style>\n",
       "<table border=\"1\" class=\"dataframe\">\n",
       "  <thead>\n",
       "    <tr style=\"text-align: right;\">\n",
       "      <th></th>\n",
       "      <th>last_name</th>\n",
       "      <th>salary</th>\n",
       "      <th>date_of_birth</th>\n",
       "      <th>timestamp_of_birth</th>\n",
       "    </tr>\n",
       "  </thead>\n",
       "  <tbody>\n",
       "    <tr>\n",
       "      <th>0</th>\n",
       "      <td>Name 2010 1 1</td>\n",
       "      <td>2.010000e+10</td>\n",
       "      <td>2010-01-01</td>\n",
       "      <td>2010-01-01 01:01:01.010101</td>\n",
       "    </tr>\n",
       "    <tr>\n",
       "      <th>1</th>\n",
       "      <td>Name 2011 1 1</td>\n",
       "      <td>2.011000e+10</td>\n",
       "      <td>2011-01-01</td>\n",
       "      <td>2011-01-01 01:01:01.010101</td>\n",
       "    </tr>\n",
       "    <tr>\n",
       "      <th>2</th>\n",
       "      <td>Name 2012 1 1</td>\n",
       "      <td>2.012000e+10</td>\n",
       "      <td>2012-01-01</td>\n",
       "      <td>2012-01-01 01:01:01.010101</td>\n",
       "    </tr>\n",
       "    <tr>\n",
       "      <th>3</th>\n",
       "      <td>Name 2013 1 1</td>\n",
       "      <td>2.013000e+10</td>\n",
       "      <td>2013-01-01</td>\n",
       "      <td>2013-01-01 01:01:01.010101</td>\n",
       "    </tr>\n",
       "    <tr>\n",
       "      <th>4</th>\n",
       "      <td>Name 2014 1 1</td>\n",
       "      <td>2.014000e+10</td>\n",
       "      <td>2014-01-01</td>\n",
       "      <td>2014-01-01 01:01:01.010101</td>\n",
       "    </tr>\n",
       "    <tr>\n",
       "      <th>...</th>\n",
       "      <td>...</td>\n",
       "      <td>...</td>\n",
       "      <td>...</td>\n",
       "      <td>...</td>\n",
       "    </tr>\n",
       "    <tr>\n",
       "      <th>4013</th>\n",
       "      <td>Name 2016 12 31</td>\n",
       "      <td>2.016001e+10</td>\n",
       "      <td>2016-12-31</td>\n",
       "      <td>2016-12-31 12:12:12.121231</td>\n",
       "    </tr>\n",
       "    <tr>\n",
       "      <th>4014</th>\n",
       "      <td>Name 2017 12 31</td>\n",
       "      <td>2.017001e+10</td>\n",
       "      <td>2017-12-31</td>\n",
       "      <td>2017-12-31 12:12:12.121231</td>\n",
       "    </tr>\n",
       "    <tr>\n",
       "      <th>4015</th>\n",
       "      <td>Name 2018 12 31</td>\n",
       "      <td>2.018001e+10</td>\n",
       "      <td>2018-12-31</td>\n",
       "      <td>2018-12-31 12:12:12.121231</td>\n",
       "    </tr>\n",
       "    <tr>\n",
       "      <th>4016</th>\n",
       "      <td>Name 2019 12 31</td>\n",
       "      <td>2.019001e+10</td>\n",
       "      <td>2019-12-31</td>\n",
       "      <td>2019-12-31 12:12:12.121231</td>\n",
       "    </tr>\n",
       "    <tr>\n",
       "      <th>4017</th>\n",
       "      <td>Name 2020 12 31</td>\n",
       "      <td>2.020001e+10</td>\n",
       "      <td>2020-12-31</td>\n",
       "      <td>2020-12-31 12:12:12.121231</td>\n",
       "    </tr>\n",
       "  </tbody>\n",
       "</table>\n",
       "<p>4018 rows × 4 columns</p>\n",
       "</div>"
      ],
      "text/plain": [
       "            last_name        salary date_of_birth         timestamp_of_birth\n",
       "0       Name 2010 1 1  2.010000e+10    2010-01-01 2010-01-01 01:01:01.010101\n",
       "1       Name 2011 1 1  2.011000e+10    2011-01-01 2011-01-01 01:01:01.010101\n",
       "2       Name 2012 1 1  2.012000e+10    2012-01-01 2012-01-01 01:01:01.010101\n",
       "3       Name 2013 1 1  2.013000e+10    2013-01-01 2013-01-01 01:01:01.010101\n",
       "4       Name 2014 1 1  2.014000e+10    2014-01-01 2014-01-01 01:01:01.010101\n",
       "...               ...           ...           ...                        ...\n",
       "4013  Name 2016 12 31  2.016001e+10    2016-12-31 2016-12-31 12:12:12.121231\n",
       "4014  Name 2017 12 31  2.017001e+10    2017-12-31 2017-12-31 12:12:12.121231\n",
       "4015  Name 2018 12 31  2.018001e+10    2018-12-31 2018-12-31 12:12:12.121231\n",
       "4016  Name 2019 12 31  2.019001e+10    2019-12-31 2019-12-31 12:12:12.121231\n",
       "4017  Name 2020 12 31  2.020001e+10    2020-12-31 2020-12-31 12:12:12.121231\n",
       "\n",
       "[4018 rows x 4 columns]"
      ]
     },
     "execution_count": 9,
     "metadata": {},
     "output_type": "execute_result"
    }
   ],
   "source": [
    "t['omniscidb'].execute()"
   ]
  },
  {
   "cell_type": "markdown",
   "metadata": {},
   "source": [
    "## Implementation check list\n",
    "\n",
    "Check if extraction is working for OmniSciDB\n",
    "\n",
    "- [x] YEAR\n",
    "- [x] MONTH\n",
    "- [x] DAY\n",
    "- [x] HOUR\n",
    "- [x] MINUTE\n",
    "- [x] SECOND\n",
    "\n",
    "Fix operations that are not working for OmniSciDB\n",
    "\n",
    "- [x] MILLISECOND \n",
    "\n",
    "Add support for operations on OmniSciDB\n",
    "\n",
    "- [x] DOW (full name and index)\n",
    "\n",
    "Add new operations (core) and OmniSciDB support\n",
    "\n",
    "- [x] QUARTER\n",
    "- [x] MICROSECOND\n",
    "- [x] ISODOW\n",
    "- [x] DOY\n",
    "- [x] QUARTERDAY\n",
    "- [x] WEEK\n"
   ]
  },
  {
   "cell_type": "code",
   "execution_count": 10,
   "metadata": {},
   "outputs": [],
   "source": [
    "_t = t['omniscidb']"
   ]
  },
  {
   "cell_type": "code",
   "execution_count": 11,
   "metadata": {},
   "outputs": [
    {
     "name": "stdout",
     "output_type": "stream",
     "text": [
      "SELECT \"timestamp_of_birth\", EXTRACT(SECOND FROM \"timestamp_of_birth\") AS tmp\n",
      "FROM salary\n"
     ]
    }
   ],
   "source": [
    "expr = _t.timestamp_of_birth.second().name('tmp')\n",
    "expr = _t[_t.timestamp_of_birth, expr]\n",
    "print(expr.compile())\n",
    "expr.execute();"
   ]
  },
  {
   "cell_type": "code",
   "execution_count": 12,
   "metadata": {},
   "outputs": [
    {
     "name": "stdout",
     "output_type": "stream",
     "text": [
      "SELECT \"timestamp_of_birth\",\n",
      "        mod(EXTRACT(MICROSECOND FROM \"timestamp_of_birth\"), 1000000) AS tmp\n",
      "FROM salary\n"
     ]
    }
   ],
   "source": [
    "expr = _t.timestamp_of_birth.microsecond().name('tmp')\n",
    "expr = _t[_t.timestamp_of_birth, expr]\n",
    "print(expr.compile())\n",
    "expr.execute();"
   ]
  },
  {
   "cell_type": "code",
   "execution_count": 13,
   "metadata": {},
   "outputs": [
    {
     "name": "stdout",
     "output_type": "stream",
     "text": [
      "SELECT \"timestamp_of_birth\",\n",
      "        mod(EXTRACT(MICROSECOND FROM \"timestamp_of_birth\"), 1000000) AS tmp\n",
      "FROM salary\n"
     ]
    }
   ],
   "source": [
    "expr = _t.timestamp_of_birth.microsecond().name('tmp')\n",
    "expr = _t[_t.timestamp_of_birth, expr]\n",
    "print(expr.compile())\n",
    "# print(expr.execute())"
   ]
  },
  {
   "cell_type": "code",
   "execution_count": 14,
   "metadata": {},
   "outputs": [
    {
     "name": "stdout",
     "output_type": "stream",
     "text": [
      "SELECT \"timestamp_of_birth\",\n",
      "        mod(EXTRACT(MILLISECOND FROM \"timestamp_of_birth\"), 1000) AS tmp\n",
      "FROM salary\n"
     ]
    }
   ],
   "source": [
    "expr = _t.timestamp_of_birth.millisecond().name('tmp')\n",
    "expr = _t[_t.timestamp_of_birth, expr]\n",
    "print(expr.compile())\n",
    "# print(expr.execute())"
   ]
  },
  {
   "cell_type": "code",
   "execution_count": 15,
   "metadata": {},
   "outputs": [
    {
     "name": "stdout",
     "output_type": "stream",
     "text": [
      "checking year ... ok\n",
      "checking month ... ok\n",
      "checking day ... ok\n",
      "checking hour ... ok\n",
      "checking minute ... ok\n",
      "checking second ... ok\n",
      "checking millisecond ... ok\n"
     ]
    }
   ],
   "source": [
    "# check datetime_part available\n",
    "for m in [\n",
    "    'year', 'month', 'day', 'hour', 'minute', 'second', 'millisecond'\n",
    "]:\n",
    "    print('checking', m, '...', end=' ')\n",
    "    getattr(_t.timestamp_of_birth, m)().execute()\n",
    "    print('ok')\n",
    "\n",
    "# t.timestamp_of_birth.day_of_week()"
   ]
  },
  {
   "cell_type": "code",
   "execution_count": 16,
   "metadata": {},
   "outputs": [
    {
     "name": "stdout",
     "output_type": "stream",
     "text": [
      "................................. day_of_year ..................................\n",
      "checking day_of_year ...\n",
      "SELECT EXTRACT(DOY FROM \"timestamp_of_birth\") AS tmp\n",
      "FROM salary\n",
      "................................... quarter ....................................\n",
      "checking quarter ...\n",
      "SELECT EXTRACT(QUARTER FROM \"timestamp_of_birth\") AS tmp\n",
      "FROM salary\n",
      "................................. week_of_year .................................\n",
      "checking week_of_year ...\n",
      "SELECT\n",
      "  CASE\n",
      "    WHEN CAST(floor(((EXTRACT(DOY FROM \"timestamp_of_birth\") - (EXTRACT(ISODOW FROM \"timestamp_of_birth\") - 1 + 1)) + 10) / 7) AS SMALLINT) < 1 THEN CASE WHEN ((mod((((EXTRACT(YEAR FROM \"timestamp_of_birth\") - 1) + floor((EXTRACT(YEAR FROM \"timestamp_of_birth\") - 1) / 4)) - floor((EXTRACT(YEAR FROM \"timestamp_of_birth\") - 1) / 100)) + floor((EXTRACT(YEAR FROM \"timestamp_of_birth\") - 1) / 400), 7)) = 4) OR ((mod(((((EXTRACT(YEAR FROM \"timestamp_of_birth\") - 1) - 1) + floor(((EXTRACT(YEAR FROM \"timestamp_of_birth\") - 1) - 1) / 4)) - floor(((EXTRACT(YEAR FROM \"timestamp_of_birth\") - 1) - 1) / 100)) + floor(((EXTRACT(YEAR FROM \"timestamp_of_birth\") - 1) - 1) / 400), 7)) = 3) THEN 1 ELSE 0 END + 52\n",
      "    WHEN CAST(floor(((EXTRACT(DOY FROM \"timestamp_of_birth\") - (EXTRACT(ISODOW FROM \"timestamp_of_birth\") - 1 + 1)) + 10) / 7) AS SMALLINT) > (CASE WHEN ((mod(((EXTRACT(YEAR FROM \"timestamp_of_birth\") + floor(EXTRACT(YEAR FROM \"timestamp_of_birth\") / 4)) - floor(EXTRACT(YEAR FROM \"timestamp_of_birth\") / 100)) + floor(EXTRACT(YEAR FROM \"timestamp_of_birth\") / 400), 7)) = 4) OR ((mod((((EXTRACT(YEAR FROM \"timestamp_of_birth\") - 1) + floor((EXTRACT(YEAR FROM \"timestamp_of_birth\") - 1) / 4)) - floor((EXTRACT(YEAR FROM \"timestamp_of_birth\") - 1) / 100)) + floor((EXTRACT(YEAR FROM \"timestamp_of_birth\") - 1) / 400), 7)) = 3) THEN 1 ELSE 0 END + 52) THEN 1\n",
      "    ELSE CAST(floor(((EXTRACT(DOY FROM \"timestamp_of_birth\") - (EXTRACT(ISODOW FROM \"timestamp_of_birth\") - 1 + 1)) + 10) / 7) AS SMALLINT)\n",
      "  END AS tmp\n",
      "FROM salary\n",
      "................................. microsecond ..................................\n",
      "checking microsecond ...\n",
      "SELECT  mod(EXTRACT(MICROSECOND FROM \"timestamp_of_birth\"), 1000000) AS tmp\n",
      "FROM salary\n"
     ]
    }
   ],
   "source": [
    "# new datetime_part\n",
    "for m in [\n",
    "    'day_of_year',\n",
    "    'quarter',\n",
    "    'week_of_year',\n",
    "    'microsecond', \n",
    "]:\n",
    "    print(' {} '.format(m).center(80, '.'))\n",
    "    print('checking', m, '...')\n",
    "    expr = getattr(_t.timestamp_of_birth, m)().name('tmp')\n",
    "    expr = _t[expr]\n",
    "    print(expr.compile())\n",
    "    expr.execute()\n"
   ]
  },
  {
   "cell_type": "code",
   "execution_count": 17,
   "metadata": {},
   "outputs": [
    {
     "data": {
      "image/png": "[encoded data removed]",
      "text/plain": [
       "ref_0\n",
       "DatabaseTable[table]\n",
       "  name: salary\n",
       "  schema:\n",
       "    last_name : string\n",
       "    salary : float64\n",
       "    date_of_birth : date\n",
       "    timestamp_of_birth : timestamp\n",
       "\n",
       "tmp = ExtractDayOfYear[int32*]\n",
       "  timestamp_of_birth = Column[timestamp*] 'timestamp_of_birth' from table\n",
       "    ref_0"
      ]
     },
     "execution_count": 17,
     "metadata": {},
     "output_type": "execute_result"
    }
   ],
   "source": [
    "expr = _t.timestamp_of_birth.day_of_year().name('tmp')\n",
    "expr"
   ]
  },
  {
   "cell_type": "code",
   "execution_count": 18,
   "metadata": {},
   "outputs": [
    {
     "name": "stdout",
     "output_type": "stream",
     "text": [
      "SELECT \"timestamp_of_birth\",\n",
      "       EXTRACT(ISODOW FROM \"timestamp_of_birth\") - 1 AS tmp\n",
      "FROM salary\n"
     ]
    }
   ],
   "source": [
    "expr = _t.timestamp_of_birth.day_of_week.index().name('tmp')\n",
    "expr = _t[_t.timestamp_of_birth, expr]\n",
    "print(expr.compile())\n",
    "expr.execute();"
   ]
  },
  {
   "cell_type": "code",
   "execution_count": 19,
   "metadata": {},
   "outputs": [
    {
     "name": "stdout",
     "output_type": "stream",
     "text": [
      "SELECT \"timestamp_of_birth\",\n",
      "       EXTRACT(ISODOW FROM \"timestamp_of_birth\") - 1 AS tmp\n",
      "FROM salary\n"
     ]
    }
   ],
   "source": [
    "expr = _t.timestamp_of_birth.day_of_week.index().name('tmp')\n",
    "expr = _t[_t.timestamp_of_birth, expr]\n",
    "print(expr.compile())\n",
    "expr.execute();"
   ]
  },
  {
   "cell_type": "code",
   "execution_count": 20,
   "metadata": {},
   "outputs": [
    {
     "name": "stdout",
     "output_type": "stream",
     "text": [
      "SELECT \"timestamp_of_birth\",\n",
      "       EXTRACT(ISODOW FROM \"timestamp_of_birth\") - 1 AS tmp\n",
      "FROM salary\n"
     ]
    }
   ],
   "source": [
    "expr = _t.timestamp_of_birth.day_of_week.index().name('tmp')\n",
    "expr = _t[_t.timestamp_of_birth, expr]\n",
    "print(expr.compile())\n",
    "expr.execute();"
   ]
  },
  {
   "cell_type": "code",
   "execution_count": 21,
   "metadata": {},
   "outputs": [
    {
     "name": "stdout",
     "output_type": "stream",
     "text": [
      "SELECT \"timestamp_of_birth\",\n",
      "  CASE EXTRACT(ISODOW FROM \"timestamp_of_birth\") - 1\n",
      "    WHEN 0 THEN 'Monday'\n",
      "    WHEN 1 THEN 'Tuesday'\n",
      "    WHEN 2 THEN 'Wednesday'\n",
      "    WHEN 3 THEN 'Thursday'\n",
      "    WHEN 4 THEN 'Friday'\n",
      "    WHEN 5 THEN 'Saturday'\n",
      "    WHEN 6 THEN 'Sunday'\n",
      "    ELSE ''\n",
      "  END AS tmp\n",
      "FROM salary\n"
     ]
    }
   ],
   "source": [
    "expr = _t.timestamp_of_birth.day_of_week.full_name().name('tmp')\n",
    "expr = _t[_t.timestamp_of_birth, expr]\n",
    "print(expr.compile())\n",
    "expr.execute();"
   ]
  },
  {
   "cell_type": "code",
   "execution_count": 22,
   "metadata": {},
   "outputs": [
    {
     "name": "stdout",
     "output_type": "stream",
     "text": [
      "SELECT \"timestamp_of_birth\",\n",
      "  CASE EXTRACT(ISODOW FROM \"timestamp_of_birth\") - 1\n",
      "    WHEN 0 THEN 'Monday'\n",
      "    WHEN 1 THEN 'Tuesday'\n",
      "    WHEN 2 THEN 'Wednesday'\n",
      "    WHEN 3 THEN 'Thursday'\n",
      "    WHEN 4 THEN 'Friday'\n",
      "    WHEN 5 THEN 'Saturday'\n",
      "    WHEN 6 THEN 'Sunday'\n",
      "    ELSE ''\n",
      "  END AS tmp\n",
      "FROM salary\n"
     ]
    }
   ],
   "source": [
    "expr = _t.timestamp_of_birth.day_of_week.full_name().name('tmp')\n",
    "expr = _t[_t.timestamp_of_birth, expr]\n",
    "print(expr.compile())\n",
    "expr.execute();"
   ]
  },
  {
   "cell_type": "markdown",
   "metadata": {},
   "source": [
    "## Tests"
   ]
  },
  {
   "cell_type": "code",
   "execution_count": 23,
   "metadata": {},
   "outputs": [],
   "source": [
    "pd.testing.assert_frame_equal(t['omniscidb'].execute(), t['postgres'].execute())"
   ]
  },
  {
   "cell_type": "code",
   "execution_count": 24,
   "metadata": {},
   "outputs": [
    {
     "data": {
      "text/html": [
       "<div>\n",
       "<style scoped>\n",
       "    .dataframe tbody tr th:only-of-type {\n",
       "        vertical-align: middle;\n",
       "    }\n",
       "\n",
       "    .dataframe tbody tr th {\n",
       "        vertical-align: top;\n",
       "    }\n",
       "\n",
       "    .dataframe thead th {\n",
       "        text-align: right;\n",
       "    }\n",
       "</style>\n",
       "<table border=\"1\" class=\"dataframe\">\n",
       "  <thead>\n",
       "    <tr style=\"text-align: right;\">\n",
       "      <th></th>\n",
       "      <th>last_name</th>\n",
       "      <th>salary</th>\n",
       "      <th>date_of_birth</th>\n",
       "      <th>timestamp_of_birth</th>\n",
       "    </tr>\n",
       "  </thead>\n",
       "  <tbody>\n",
       "    <tr>\n",
       "      <th>0</th>\n",
       "      <td>Name 2010 1 1</td>\n",
       "      <td>2.010000e+10</td>\n",
       "      <td>2010-01-01</td>\n",
       "      <td>2010-01-01 01:01:01.010101</td>\n",
       "    </tr>\n",
       "    <tr>\n",
       "      <th>1</th>\n",
       "      <td>Name 2011 1 1</td>\n",
       "      <td>2.011000e+10</td>\n",
       "      <td>2011-01-01</td>\n",
       "      <td>2011-01-01 01:01:01.010101</td>\n",
       "    </tr>\n",
       "    <tr>\n",
       "      <th>2</th>\n",
       "      <td>Name 2012 1 1</td>\n",
       "      <td>2.012000e+10</td>\n",
       "      <td>2012-01-01</td>\n",
       "      <td>2012-01-01 01:01:01.010101</td>\n",
       "    </tr>\n",
       "    <tr>\n",
       "      <th>3</th>\n",
       "      <td>Name 2013 1 1</td>\n",
       "      <td>2.013000e+10</td>\n",
       "      <td>2013-01-01</td>\n",
       "      <td>2013-01-01 01:01:01.010101</td>\n",
       "    </tr>\n",
       "    <tr>\n",
       "      <th>4</th>\n",
       "      <td>Name 2014 1 1</td>\n",
       "      <td>2.014000e+10</td>\n",
       "      <td>2014-01-01</td>\n",
       "      <td>2014-01-01 01:01:01.010101</td>\n",
       "    </tr>\n",
       "    <tr>\n",
       "      <th>...</th>\n",
       "      <td>...</td>\n",
       "      <td>...</td>\n",
       "      <td>...</td>\n",
       "      <td>...</td>\n",
       "    </tr>\n",
       "    <tr>\n",
       "      <th>4013</th>\n",
       "      <td>Name 2016 12 31</td>\n",
       "      <td>2.016001e+10</td>\n",
       "      <td>2016-12-31</td>\n",
       "      <td>2016-12-31 12:12:12.121231</td>\n",
       "    </tr>\n",
       "    <tr>\n",
       "      <th>4014</th>\n",
       "      <td>Name 2017 12 31</td>\n",
       "      <td>2.017001e+10</td>\n",
       "      <td>2017-12-31</td>\n",
       "      <td>2017-12-31 12:12:12.121231</td>\n",
       "    </tr>\n",
       "    <tr>\n",
       "      <th>4015</th>\n",
       "      <td>Name 2018 12 31</td>\n",
       "      <td>2.018001e+10</td>\n",
       "      <td>2018-12-31</td>\n",
       "      <td>2018-12-31 12:12:12.121231</td>\n",
       "    </tr>\n",
       "    <tr>\n",
       "      <th>4016</th>\n",
       "      <td>Name 2019 12 31</td>\n",
       "      <td>2.019001e+10</td>\n",
       "      <td>2019-12-31</td>\n",
       "      <td>2019-12-31 12:12:12.121231</td>\n",
       "    </tr>\n",
       "    <tr>\n",
       "      <th>4017</th>\n",
       "      <td>Name 2020 12 31</td>\n",
       "      <td>2.020001e+10</td>\n",
       "      <td>2020-12-31</td>\n",
       "      <td>2020-12-31 12:12:12.121231</td>\n",
       "    </tr>\n",
       "  </tbody>\n",
       "</table>\n",
       "<p>4018 rows × 4 columns</p>\n",
       "</div>"
      ],
      "text/plain": [
       "            last_name        salary date_of_birth         timestamp_of_birth\n",
       "0       Name 2010 1 1  2.010000e+10    2010-01-01 2010-01-01 01:01:01.010101\n",
       "1       Name 2011 1 1  2.011000e+10    2011-01-01 2011-01-01 01:01:01.010101\n",
       "2       Name 2012 1 1  2.012000e+10    2012-01-01 2012-01-01 01:01:01.010101\n",
       "3       Name 2013 1 1  2.013000e+10    2013-01-01 2013-01-01 01:01:01.010101\n",
       "4       Name 2014 1 1  2.014000e+10    2014-01-01 2014-01-01 01:01:01.010101\n",
       "...               ...           ...           ...                        ...\n",
       "4013  Name 2016 12 31  2.016001e+10    2016-12-31 2016-12-31 12:12:12.121231\n",
       "4014  Name 2017 12 31  2.017001e+10    2017-12-31 2017-12-31 12:12:12.121231\n",
       "4015  Name 2018 12 31  2.018001e+10    2018-12-31 2018-12-31 12:12:12.121231\n",
       "4016  Name 2019 12 31  2.019001e+10    2019-12-31 2019-12-31 12:12:12.121231\n",
       "4017  Name 2020 12 31  2.020001e+10    2020-12-31 2020-12-31 12:12:12.121231\n",
       "\n",
       "[4018 rows x 4 columns]"
      ]
     },
     "execution_count": 24,
     "metadata": {},
     "output_type": "execute_result"
    }
   ],
   "source": [
    "df = _t.execute()\n",
    "df"
   ]
  },
  {
   "cell_type": "markdown",
   "metadata": {},
   "source": [
    "### 1. day of year"
   ]
  },
  {
   "cell_type": "code",
   "execution_count": 25,
   "metadata": {},
   "outputs": [
    {
     "name": "stdout",
     "output_type": "stream",
     "text": [
      "================================== omniscidb ===================================\n",
      "SELECT EXTRACT(DOY FROM \"timestamp_of_birth\") AS tmp\n",
      "FROM salary\n",
      "................................................................................\n",
      "result: [  1   1   1 ... 365 365 366]\n",
      "expected: [  1   1   1 ... 365 365 366]\n",
      "=================================== postgres ===================================\n",
      "SELECT CAST(EXTRACT(doy FROM t0.timestamp_of_birth) AS SMALLINT) AS tmp \n",
      "FROM salary AS t0\n",
      "................................................................................\n",
      "result: [  1   1   1 ... 365 365 366]\n",
      "expected: [  1   1   1 ... 365 365 366]\n"
     ]
    }
   ],
   "source": [
    "for b in BACKENDS:\n",
    "    try:\n",
    "        print(' {} '.format(b).center(80, '='))\n",
    "        expr = t[b].timestamp_of_birth.day_of_year()\n",
    "        result = expr.execute().values\n",
    "        expected = df.timestamp_of_birth.dt.dayofyear.values\n",
    "        print(expr.compile())\n",
    "        print('.' * 80)\n",
    "        print('result:', result)\n",
    "        print('expected:', expected)\n",
    "        assert all((result == expected))\n",
    "    except ibis.common.exceptions.OperationNotDefinedError:\n",
    "        print('[WW] Not implemented.')\n",
    "    except AssertionError:\n",
    "        print('[EE] AssertionError')"
   ]
  },
  {
   "cell_type": "markdown",
   "metadata": {},
   "source": [
    "### 2. week of year"
   ]
  },
  {
   "cell_type": "code",
   "execution_count": 26,
   "metadata": {},
   "outputs": [
    {
     "name": "stdout",
     "output_type": "stream",
     "text": [
      "================================== omniscidb ===================================\n",
      "SELECT\n",
      "  CASE\n",
      "    WHEN CAST(floor(((EXTRACT(DOY FROM \"timestamp_of_birth\") - (EXTRACT(ISODOW FROM \"timestamp_of_birth\") - 1 + 1)) + 10) / 7) AS SMALLINT) < 1 THEN CASE WHEN ((mod((((EXTRACT(YEAR FROM \"timestamp_of_birth\") - 1) + floor((EXTRACT(YEAR FROM \"timestamp_of_birth\") - 1) / 4)) - floor((EXTRACT(YEAR FROM \"timestamp_of_birth\") - 1) / 100)) + floor((EXTRACT(YEAR FROM \"timestamp_of_birth\") - 1) / 400), 7)) = 4) OR ((mod(((((EXTRACT(YEAR FROM \"timestamp_of_birth\") - 1) - 1) + floor(((EXTRACT(YEAR FROM \"timestamp_of_birth\") - 1) - 1) / 4)) - floor(((EXTRACT(YEAR FROM \"timestamp_of_birth\") - 1) - 1) / 100)) + floor(((EXTRACT(YEAR FROM \"timestamp_of_birth\") - 1) - 1) / 400), 7)) = 3) THEN 1 ELSE 0 END + 52\n",
      "    WHEN CAST(floor(((EXTRACT(DOY FROM \"timestamp_of_birth\") - (EXTRACT(ISODOW FROM \"timestamp_of_birth\") - 1 + 1)) + 10) / 7) AS SMALLINT) > (CASE WHEN ((mod(((EXTRACT(YEAR FROM \"timestamp_of_birth\") + floor(EXTRACT(YEAR FROM \"timestamp_of_birth\") / 4)) - floor(EXTRACT(YEAR FROM \"timestamp_of_birth\") / 100)) + floor(EXTRACT(YEAR FROM \"timestamp_of_birth\") / 400), 7)) = 4) OR ((mod((((EXTRACT(YEAR FROM \"timestamp_of_birth\") - 1) + floor((EXTRACT(YEAR FROM \"timestamp_of_birth\") - 1) / 4)) - floor((EXTRACT(YEAR FROM \"timestamp_of_birth\") - 1) / 100)) + floor((EXTRACT(YEAR FROM \"timestamp_of_birth\") - 1) / 400), 7)) = 3) THEN 1 ELSE 0 END + 52) THEN 1\n",
      "    ELSE CAST(floor(((EXTRACT(DOY FROM \"timestamp_of_birth\") - (EXTRACT(ISODOW FROM \"timestamp_of_birth\") - 1 + 1)) + 10) / 7) AS SMALLINT)\n",
      "  END AS tmp\n",
      "FROM salary\n",
      "................................................................................\n",
      "result: [53 52 52 ...  1  1 53]\n",
      "expected: [53 52 52 ...  1  1 53]\n",
      "=================================== postgres ===================================\n",
      "SELECT CAST(EXTRACT(week FROM t0.timestamp_of_birth) AS SMALLINT) AS tmp \n",
      "FROM salary AS t0\n",
      "................................................................................\n",
      "result: [53 52 52 ...  1  1 53]\n",
      "expected: [53 52 52 ...  1  1 53]\n"
     ]
    }
   ],
   "source": [
    "for b in BACKENDS:\n",
    "    try:\n",
    "        print(' {} '.format(b).center(80, '='))\n",
    "        expr = t[b].timestamp_of_birth.week_of_year()\n",
    "        result = expr.execute().values\n",
    "        expected = df.timestamp_of_birth.dt.weekofyear.values\n",
    "        print(expr.compile())\n",
    "        print('.' * 80)\n",
    "        print('result:', result)\n",
    "        print('expected:', expected)\n",
    "        assert all((result == expected))\n",
    "    except ibis.common.exceptions.OperationNotDefinedError:\n",
    "        print('[WW] Not implemented.')\n",
    "    except AssertionError:\n",
    "        print('[EE] AssertionError')"
   ]
  },
  {
   "cell_type": "markdown",
   "metadata": {},
   "source": [
    "### 3. quarter"
   ]
  },
  {
   "cell_type": "code",
   "execution_count": 27,
   "metadata": {},
   "outputs": [
    {
     "name": "stdout",
     "output_type": "stream",
     "text": [
      "================================== omniscidb ===================================\n",
      "SELECT EXTRACT(QUARTER FROM \"timestamp_of_birth\") AS tmp\n",
      "FROM salary\n",
      "................................................................................\n",
      "result: [1 1 1 ... 4 4 4]\n",
      "expected: [1 1 1 ... 4 4 4]\n",
      "=================================== postgres ===================================\n",
      "SELECT CAST(EXTRACT(quarter FROM t0.timestamp_of_birth) AS SMALLINT) AS tmp \n",
      "FROM salary AS t0\n",
      "................................................................................\n",
      "result: [1 1 1 ... 4 4 4]\n",
      "expected: [1 1 1 ... 4 4 4]\n"
     ]
    }
   ],
   "source": [
    "for b in BACKENDS:\n",
    "    try:\n",
    "        print(' {} '.format(b).center(80, '='))\n",
    "        expr = t[b].timestamp_of_birth.quarter()\n",
    "        result = expr.execute().values\n",
    "        expected = df.timestamp_of_birth.dt.quarter.values\n",
    "        print(expr.compile())\n",
    "        print('.' * 80)\n",
    "        print('result:', result)\n",
    "        print('expected:', expected)\n",
    "        assert all((result == expected))\n",
    "    except ibis.common.exceptions.OperationNotDefinedError:\n",
    "        print('[WW] Not implemented.')\n",
    "    except AssertionError:\n",
    "        print('[EE] AssertionError')"
   ]
  },
  {
   "cell_type": "markdown",
   "metadata": {},
   "source": [
    "### 4. millisecond"
   ]
  },
  {
   "cell_type": "code",
   "execution_count": 39,
   "metadata": {},
   "outputs": [
    {
     "name": "stdout",
     "output_type": "stream",
     "text": [
      "==================================== mysql =====================================\n",
      "[II] Done.\n",
      "==================================== sqlite ====================================\n",
      "[II] Done.\n",
      "==================================== spark =====================================\n",
      "[EE] Fail.\n",
      "=================================== pyspark ====================================\n",
      "[EE] Fail.\n"
     ]
    }
   ],
   "source": [
    "# test for extra backends\n",
    "from settings import post_connection_spark\n",
    "\n",
    "extra_backends = ['mysql', 'sqlite', 'spark', 'pyspark']\n",
    "salary_csv_path = '/tmp/salary.csv'\n",
    "\n",
    "con.update({\n",
    "    name: getattr(ibis, name).connect(**conf[name]) for name in extra_backends\n",
    "})\n",
    "\n",
    "post_connection_spark(con['pyspark'])\n",
    "post_connection_spark(con['spark'])\n",
    "\n",
    "\n",
    "df_salary1.to_csv(salary_csv_path, index=False)\n",
    "params.update({\n",
    "    'mysql': {'if_exists': 'append'},\n",
    "    'sqlite': {'if_exists': 'append'},\n",
    "})\n",
    "\n",
    "for backend in extra_backends:\n",
    "    print(' {} '.format(backend).center(80, '='))\n",
    "    if hasattr(con[backend], 'load_data') or backend == 'pyspark':\n",
    "        con[backend].drop_table(table_name, force=True)\n",
    "        if backend == 'pyspark':\n",
    "            try:\n",
    "                con[backend]._create_table_or_temp_view_from_csv(\n",
    "                    table_name, schema=sch, path=salary_csv_path\n",
    "                )\n",
    "            except:\n",
    "                ...\n",
    "        else:\n",
    "            con[backend].create_table(table_name, schema=sch)\n",
    "            con[backend].load_data(table_name, df_salary1, **params.get(backend, {}))\n",
    "    try:\n",
    "        t[backend] = con[backend].table(table_name)\n",
    "        print('[II] Done.')\n",
    "    except:\n",
    "        print('[EE] Fail.')\n",
    "    "
   ]
  },
  {
   "cell_type": "code",
   "execution_count": 29,
   "metadata": {},
   "outputs": [
    {
     "name": "stdout",
     "output_type": "stream",
     "text": [
      "================================== omniscidb ===================================\n",
      "SELECT  mod(EXTRACT(MILLISECOND FROM \"timestamp_of_birth\"), 1000) AS tmp\n",
      "FROM salary\n",
      "................................................................................\n",
      "result: [ 10  10  10 ... 121 121 121]\n",
      "expected: [ 10  10  10 ... 121 121 121]\n",
      "=================================== postgres ===================================\n",
      "SELECT CAST(floor(EXTRACT(millisecond FROM t0.timestamp_of_birth)) AS SMALLINT) %% %(param_1)s AS tmp \n",
      "FROM salary AS t0\n",
      "................................................................................\n",
      "result: [ 10  10  10 ... 121 121 121]\n",
      "expected: [ 10  10  10 ... 121 121 121]\n",
      "==================================== mysql =====================================\n",
      "SELECT EXTRACT(microsecond FROM t0.timestamp_of_birth) %% %(param_1)s AS tmp \n",
      "FROM salary AS t0\n",
      "................................................................................\n",
      "result: [0 0 0 ... 0 0 0]\n",
      "expected: [ 10  10  10 ... 121 121 121]\n",
      "[EE] AssertionError: \n",
      "Arrays are not equal\n",
      "\n",
      "Mismatched elements: 4018 / 4018 (100%)\n",
      "Max absolute difference: 121\n",
      "Max relative difference: 1.\n",
      " x: array([0, 0, 0, ..., 0, 0, 0], dtype=int32)\n",
      " y: array([ 10,  10,  10, ..., 121, 121, 121], dtype=int32)\n",
      "==================================== sqlite ====================================\n",
      "SELECT (strftime(?, t0.timestamp_of_birth) * ?) % ? AS tmp \n",
      "FROM base.salary AS t0\n",
      "................................................................................\n",
      "result: [ 10  10  10 ... 121 121 121]\n",
      "expected: [ 10  10  10 ... 121 121 121]\n",
      "[EE] AssertionError: \n",
      "Arrays are not equal\n",
      "\n",
      "Mismatched elements: 1342 / 4018 (33.4%)\n",
      "Max absolute difference: 1\n",
      "Max relative difference: 0.02\n",
      " x: array([ 10,  10,  10, ..., 121, 121, 121], dtype=int32)\n",
      " y: array([ 10,  10,  10, ..., 121, 121, 121], dtype=int32)\n",
      "=================================== pyspark ====================================\n",
      "[EE] Exception: 'pyspark'\n"
     ]
    }
   ],
   "source": [
    "for b in BACKENDS + extra_backends:\n",
    "    try:\n",
    "        print(' {} '.format(b).center(80, '='))\n",
    "        expr = t[b].timestamp_of_birth.millisecond()\n",
    "        result = expr.execute()\n",
    "        expected = (df.timestamp_of_birth.dt.microsecond // 1000).astype('int32')\n",
    "        # expected = expected.apply(round).values\n",
    "        print(expr.compile())\n",
    "        print('.' * 80)\n",
    "        print('result:', result.values)\n",
    "        print('expected:', expected.values)\n",
    "        np.testing.assert_equal(result.values, expected.values)\n",
    "    except ibis.common.exceptions.OperationNotDefinedError:\n",
    "        print('[WW] Not implemented.')\n",
    "    except AssertionError as e:\n",
    "        print('[EE] AssertionError: {}'.format(e))\n",
    "    except Exception as e:\n",
    "        print('[EE] Exception: {}'.format(e))"
   ]
  },
  {
   "cell_type": "code",
   "execution_count": 40,
   "metadata": {},
   "outputs": [
    {
     "name": "stdout",
     "output_type": "stream",
     "text": [
      "SELECT extract(`timestamp_col`, 'millisecond') AS `tmp`\n",
      "FROM functional_alltypes\n"
     ]
    },
    {
     "ename": "AnalysisException",
     "evalue": "\"Undefined function: 'extract'. This function is neither a registered temporary function nor a permanent function registered in the database 'default'.; line 1 pos 7\"",
     "output_type": "error",
     "traceback": [
      "\u001b[0;31m---------------------------------------------------------------------------\u001b[0m",
      "\u001b[0;31mPy4JJavaError\u001b[0m                             Traceback (most recent call last)",
      "\u001b[0;32m~/miniconda3/envs/ibis-nb/lib/python3.7/site-packages/pyspark/sql/utils.py\u001b[0m in \u001b[0;36mdeco\u001b[0;34m(*a, **kw)\u001b[0m\n\u001b[1;32m     62\u001b[0m         \u001b[0;32mtry\u001b[0m\u001b[0;34m:\u001b[0m\u001b[0;34m\u001b[0m\u001b[0;34m\u001b[0m\u001b[0m\n\u001b[0;32m---> 63\u001b[0;31m             \u001b[0;32mreturn\u001b[0m \u001b[0mf\u001b[0m\u001b[0;34m(\u001b[0m\u001b[0;34m*\u001b[0m\u001b[0ma\u001b[0m\u001b[0;34m,\u001b[0m \u001b[0;34m**\u001b[0m\u001b[0mkw\u001b[0m\u001b[0;34m)\u001b[0m\u001b[0;34m\u001b[0m\u001b[0;34m\u001b[0m\u001b[0m\n\u001b[0m\u001b[1;32m     64\u001b[0m         \u001b[0;32mexcept\u001b[0m \u001b[0mpy4j\u001b[0m\u001b[0;34m.\u001b[0m\u001b[0mprotocol\u001b[0m\u001b[0;34m.\u001b[0m\u001b[0mPy4JJavaError\u001b[0m \u001b[0;32mas\u001b[0m \u001b[0me\u001b[0m\u001b[0;34m:\u001b[0m\u001b[0;34m\u001b[0m\u001b[0;34m\u001b[0m\u001b[0m\n",
      "\u001b[0;32m~/miniconda3/envs/ibis-nb/lib/python3.7/site-packages/py4j/protocol.py\u001b[0m in \u001b[0;36mget_return_value\u001b[0;34m(answer, gateway_client, target_id, name)\u001b[0m\n\u001b[1;32m    327\u001b[0m                     \u001b[0;34m\"An error occurred while calling {0}{1}{2}.\\n\"\u001b[0m\u001b[0;34m.\u001b[0m\u001b[0;34m\u001b[0m\u001b[0;34m\u001b[0m\u001b[0m\n\u001b[0;32m--> 328\u001b[0;31m                     format(target_id, \".\", name), value)\n\u001b[0m\u001b[1;32m    329\u001b[0m             \u001b[0;32melse\u001b[0m\u001b[0;34m:\u001b[0m\u001b[0;34m\u001b[0m\u001b[0;34m\u001b[0m\u001b[0m\n",
      "\u001b[0;31mPy4JJavaError\u001b[0m: An error occurred while calling o20.sql.\n: org.apache.spark.sql.AnalysisException: Undefined function: 'extract'. This function is neither a registered temporary function nor a permanent function registered in the database 'default'.; line 1 pos 7\n\tat org.apache.spark.sql.catalyst.analysis.Analyzer$LookupFunctions$$anonfun$apply$15$$anonfun$applyOrElse$49.apply(Analyzer.scala:1291)\n\tat org.apache.spark.sql.catalyst.analysis.Analyzer$LookupFunctions$$anonfun$apply$15$$anonfun$applyOrElse$49.apply(Analyzer.scala:1291)\n\tat org.apache.spark.sql.catalyst.analysis.package$.withPosition(package.scala:53)\n\tat org.apache.spark.sql.catalyst.analysis.Analyzer$LookupFunctions$$anonfun$apply$15.applyOrElse(Analyzer.scala:1290)\n\tat org.apache.spark.sql.catalyst.analysis.Analyzer$LookupFunctions$$anonfun$apply$15.applyOrElse(Analyzer.scala:1282)\n\tat org.apache.spark.sql.catalyst.trees.TreeNode$$anonfun$2.apply(TreeNode.scala:258)\n\tat org.apache.spark.sql.catalyst.trees.TreeNode$$anonfun$2.apply(TreeNode.scala:258)\n\tat org.apache.spark.sql.catalyst.trees.CurrentOrigin$.withOrigin(TreeNode.scala:69)\n\tat org.apache.spark.sql.catalyst.trees.TreeNode.transformDown(TreeNode.scala:257)\n\tat org.apache.spark.sql.catalyst.trees.TreeNode$$anonfun$transformDown$1.apply(TreeNode.scala:263)\n\tat org.apache.spark.sql.catalyst.trees.TreeNode$$anonfun$transformDown$1.apply(TreeNode.scala:263)\n\tat org.apache.spark.sql.catalyst.trees.TreeNode$$anonfun$4.apply(TreeNode.scala:328)\n\tat org.apache.spark.sql.catalyst.trees.TreeNode.mapProductIterator(TreeNode.scala:186)\n\tat org.apache.spark.sql.catalyst.trees.TreeNode.mapChildren(TreeNode.scala:326)\n\tat org.apache.spark.sql.catalyst.trees.TreeNode.transformDown(TreeNode.scala:263)\n\tat org.apache.spark.sql.catalyst.plans.QueryPlan$$anonfun$transformExpressionsDown$1.apply(QueryPlan.scala:83)\n\tat org.apache.spark.sql.catalyst.plans.QueryPlan$$anonfun$transformExpressionsDown$1.apply(QueryPlan.scala:83)\n\tat org.apache.spark.sql.catalyst.plans.QueryPlan$$anonfun$1.apply(QueryPlan.scala:105)\n\tat org.apache.spark.sql.catalyst.plans.QueryPlan$$anonfun$1.apply(QueryPlan.scala:105)\n\tat org.apache.spark.sql.catalyst.trees.CurrentOrigin$.withOrigin(TreeNode.scala:69)\n\tat org.apache.spark.sql.catalyst.plans.QueryPlan.transformExpression$1(QueryPlan.scala:104)\n\tat org.apache.spark.sql.catalyst.plans.QueryPlan.org$apache$spark$sql$catalyst$plans$QueryPlan$$recursiveTransform$1(QueryPlan.scala:116)\n\tat org.apache.spark.sql.catalyst.plans.QueryPlan$$anonfun$org$apache$spark$sql$catalyst$plans$QueryPlan$$recursiveTransform$1$2.apply(QueryPlan.scala:121)\n\tat scala.collection.TraversableLike$$anonfun$map$1.apply(TraversableLike.scala:234)\n\tat scala.collection.TraversableLike$$anonfun$map$1.apply(TraversableLike.scala:234)\n\tat scala.collection.immutable.List.foreach(List.scala:392)\n\tat scala.collection.TraversableLike$class.map(TraversableLike.scala:234)\n\tat scala.collection.immutable.List.map(List.scala:296)\n\tat org.apache.spark.sql.catalyst.plans.QueryPlan.org$apache$spark$sql$catalyst$plans$QueryPlan$$recursiveTransform$1(QueryPlan.scala:121)\n\tat org.apache.spark.sql.catalyst.plans.QueryPlan$$anonfun$2.apply(QueryPlan.scala:126)\n\tat org.apache.spark.sql.catalyst.trees.TreeNode.mapProductIterator(TreeNode.scala:186)\n\tat org.apache.spark.sql.catalyst.plans.QueryPlan.mapExpressions(QueryPlan.scala:126)\n\tat org.apache.spark.sql.catalyst.plans.QueryPlan.transformExpressionsDown(QueryPlan.scala:83)\n\tat org.apache.spark.sql.catalyst.plans.QueryPlan.transformExpressions(QueryPlan.scala:74)\n\tat org.apache.spark.sql.catalyst.plans.logical.AnalysisHelper$$anonfun$resolveExpressions$1.applyOrElse(AnalysisHelper.scala:129)\n\tat org.apache.spark.sql.catalyst.plans.logical.AnalysisHelper$$anonfun$resolveExpressions$1.applyOrElse(AnalysisHelper.scala:128)\n\tat org.apache.spark.sql.catalyst.plans.logical.AnalysisHelper$$anonfun$resolveOperatorsDown$1$$anonfun$2.apply(AnalysisHelper.scala:108)\n\tat org.apache.spark.sql.catalyst.plans.logical.AnalysisHelper$$anonfun$resolveOperatorsDown$1$$anonfun$2.apply(AnalysisHelper.scala:108)\n\tat org.apache.spark.sql.catalyst.trees.CurrentOrigin$.withOrigin(TreeNode.scala:69)\n\tat org.apache.spark.sql.catalyst.plans.logical.AnalysisHelper$$anonfun$resolveOperatorsDown$1.apply(AnalysisHelper.scala:107)\n\tat org.apache.spark.sql.catalyst.plans.logical.AnalysisHelper$$anonfun$resolveOperatorsDown$1.apply(AnalysisHelper.scala:106)\n\tat org.apache.spark.sql.catalyst.plans.logical.AnalysisHelper$.allowInvokingTransformsInAnalyzer(AnalysisHelper.scala:194)\n\tat org.apache.spark.sql.catalyst.plans.logical.AnalysisHelper$class.resolveOperatorsDown(AnalysisHelper.scala:106)\n\tat org.apache.spark.sql.catalyst.plans.logical.LogicalPlan.resolveOperatorsDown(LogicalPlan.scala:29)\n\tat org.apache.spark.sql.catalyst.plans.logical.AnalysisHelper$class.resolveOperators(AnalysisHelper.scala:73)\n\tat org.apache.spark.sql.catalyst.plans.logical.LogicalPlan.resolveOperators(LogicalPlan.scala:29)\n\tat org.apache.spark.sql.catalyst.plans.logical.AnalysisHelper$class.resolveExpressions(AnalysisHelper.scala:128)\n\tat org.apache.spark.sql.catalyst.plans.logical.LogicalPlan.resolveExpressions(LogicalPlan.scala:29)\n\tat org.apache.spark.sql.catalyst.analysis.Analyzer$LookupFunctions$.apply(Analyzer.scala:1282)\n\tat org.apache.spark.sql.catalyst.analysis.Analyzer$LookupFunctions$.apply(Analyzer.scala:1279)\n\tat org.apache.spark.sql.catalyst.rules.RuleExecutor$$anonfun$execute$1$$anonfun$apply$1.apply(RuleExecutor.scala:87)\n\tat org.apache.spark.sql.catalyst.rules.RuleExecutor$$anonfun$execute$1$$anonfun$apply$1.apply(RuleExecutor.scala:84)\n\tat scala.collection.IndexedSeqOptimized$class.foldl(IndexedSeqOptimized.scala:57)\n\tat scala.collection.IndexedSeqOptimized$class.foldLeft(IndexedSeqOptimized.scala:66)\n\tat scala.collection.mutable.WrappedArray.foldLeft(WrappedArray.scala:35)\n\tat org.apache.spark.sql.catalyst.rules.RuleExecutor$$anonfun$execute$1.apply(RuleExecutor.scala:84)\n\tat org.apache.spark.sql.catalyst.rules.RuleExecutor$$anonfun$execute$1.apply(RuleExecutor.scala:76)\n\tat scala.collection.immutable.List.foreach(List.scala:392)\n\tat org.apache.spark.sql.catalyst.rules.RuleExecutor.execute(RuleExecutor.scala:76)\n\tat org.apache.spark.sql.catalyst.analysis.Analyzer.org$apache$spark$sql$catalyst$analysis$Analyzer$$executeSameContext(Analyzer.scala:127)\n\tat org.apache.spark.sql.catalyst.analysis.Analyzer.execute(Analyzer.scala:121)\n\tat org.apache.spark.sql.catalyst.analysis.Analyzer$$anonfun$executeAndCheck$1.apply(Analyzer.scala:106)\n\tat org.apache.spark.sql.catalyst.analysis.Analyzer$$anonfun$executeAndCheck$1.apply(Analyzer.scala:105)\n\tat org.apache.spark.sql.catalyst.plans.logical.AnalysisHelper$.markInAnalyzer(AnalysisHelper.scala:201)\n\tat org.apache.spark.sql.catalyst.analysis.Analyzer.executeAndCheck(Analyzer.scala:105)\n\tat org.apache.spark.sql.execution.QueryExecution.analyzed$lzycompute(QueryExecution.scala:58)\n\tat org.apache.spark.sql.execution.QueryExecution.analyzed(QueryExecution.scala:56)\n\tat org.apache.spark.sql.execution.QueryExecution.assertAnalyzed(QueryExecution.scala:48)\n\tat org.apache.spark.sql.Dataset$.ofRows(Dataset.scala:78)\n\tat org.apache.spark.sql.SparkSession.sql(SparkSession.scala:642)\n\tat sun.reflect.NativeMethodAccessorImpl.invoke0(Native Method)\n\tat sun.reflect.NativeMethodAccessorImpl.invoke(NativeMethodAccessorImpl.java:62)\n\tat sun.reflect.DelegatingMethodAccessorImpl.invoke(DelegatingMethodAccessorImpl.java:43)\n\tat java.lang.reflect.Method.invoke(Method.java:498)\n\tat py4j.reflection.MethodInvoker.invoke(MethodInvoker.java:244)\n\tat py4j.reflection.ReflectionEngine.invoke(ReflectionEngine.java:357)\n\tat py4j.Gateway.invoke(Gateway.java:282)\n\tat py4j.commands.AbstractCommand.invokeMethod(AbstractCommand.java:132)\n\tat py4j.commands.CallCommand.execute(CallCommand.java:79)\n\tat py4j.GatewayConnection.run(GatewayConnection.java:238)\n\tat java.lang.Thread.run(Thread.java:748)\n",
      "\nDuring handling of the above exception, another exception occurred:\n",
      "\u001b[0;31mAnalysisException\u001b[0m                         Traceback (most recent call last)",
      "\u001b[0;32m<ipython-input-40-c5b5124402c2>\u001b[0m in \u001b[0;36m<module>\u001b[0;34m\u001b[0m\n\u001b[1;32m      3\u001b[0m \u001b[0mexpr\u001b[0m \u001b[0;34m=\u001b[0m \u001b[0mcon\u001b[0m\u001b[0;34m[\u001b[0m\u001b[0;34m'spark'\u001b[0m\u001b[0;34m]\u001b[0m\u001b[0;34m.\u001b[0m\u001b[0mtable\u001b[0m\u001b[0;34m(\u001b[0m\u001b[0;34m'functional_alltypes'\u001b[0m\u001b[0;34m)\u001b[0m\u001b[0;34m.\u001b[0m\u001b[0mtimestamp_col\u001b[0m\u001b[0;34m.\u001b[0m\u001b[0mmillisecond\u001b[0m\u001b[0;34m(\u001b[0m\u001b[0;34m)\u001b[0m\u001b[0;34m\u001b[0m\u001b[0;34m\u001b[0m\u001b[0m\n\u001b[1;32m      4\u001b[0m \u001b[0mprint\u001b[0m\u001b[0;34m(\u001b[0m\u001b[0mexpr\u001b[0m\u001b[0;34m.\u001b[0m\u001b[0mcompile\u001b[0m\u001b[0;34m(\u001b[0m\u001b[0;34m)\u001b[0m\u001b[0;34m)\u001b[0m\u001b[0;34m\u001b[0m\u001b[0;34m\u001b[0m\u001b[0m\n\u001b[0;32m----> 5\u001b[0;31m \u001b[0mresult\u001b[0m \u001b[0;34m=\u001b[0m \u001b[0mexpr\u001b[0m\u001b[0;34m.\u001b[0m\u001b[0mexecute\u001b[0m\u001b[0;34m(\u001b[0m\u001b[0;34m)\u001b[0m\u001b[0;34m\u001b[0m\u001b[0;34m\u001b[0m\u001b[0m\n\u001b[0m\u001b[1;32m      6\u001b[0m \u001b[0mprint\u001b[0m\u001b[0;34m(\u001b[0m\u001b[0;34m'result:'\u001b[0m\u001b[0;34m,\u001b[0m \u001b[0mresult\u001b[0m\u001b[0;34m.\u001b[0m\u001b[0mvalues\u001b[0m\u001b[0;34m)\u001b[0m\u001b[0;34m\u001b[0m\u001b[0;34m\u001b[0m\u001b[0m\n",
      "\u001b[0;32m~/dev/quansight/ibis-project/ibis/ibis/expr/types.py\u001b[0m in \u001b[0;36mexecute\u001b[0;34m(self, limit, params, **kwargs)\u001b[0m\n\u001b[1;32m    200\u001b[0m         \u001b[0;32mfrom\u001b[0m \u001b[0mibis\u001b[0m\u001b[0;34m.\u001b[0m\u001b[0mclient\u001b[0m \u001b[0;32mimport\u001b[0m \u001b[0mexecute\u001b[0m\u001b[0;34m\u001b[0m\u001b[0;34m\u001b[0m\u001b[0m\n\u001b[1;32m    201\u001b[0m \u001b[0;34m\u001b[0m\u001b[0m\n\u001b[0;32m--> 202\u001b[0;31m         \u001b[0;32mreturn\u001b[0m \u001b[0mexecute\u001b[0m\u001b[0;34m(\u001b[0m\u001b[0mself\u001b[0m\u001b[0;34m,\u001b[0m \u001b[0mlimit\u001b[0m\u001b[0;34m=\u001b[0m\u001b[0mlimit\u001b[0m\u001b[0;34m,\u001b[0m \u001b[0mparams\u001b[0m\u001b[0;34m=\u001b[0m\u001b[0mparams\u001b[0m\u001b[0;34m,\u001b[0m \u001b[0;34m**\u001b[0m\u001b[0mkwargs\u001b[0m\u001b[0;34m)\u001b[0m\u001b[0;34m\u001b[0m\u001b[0;34m\u001b[0m\u001b[0m\n\u001b[0m\u001b[1;32m    203\u001b[0m \u001b[0;34m\u001b[0m\u001b[0m\n\u001b[1;32m    204\u001b[0m     \u001b[0;32mdef\u001b[0m \u001b[0mcompile\u001b[0m\u001b[0;34m(\u001b[0m\u001b[0mself\u001b[0m\u001b[0;34m,\u001b[0m \u001b[0mlimit\u001b[0m\u001b[0;34m=\u001b[0m\u001b[0;32mNone\u001b[0m\u001b[0;34m,\u001b[0m \u001b[0mparams\u001b[0m\u001b[0;34m=\u001b[0m\u001b[0;32mNone\u001b[0m\u001b[0;34m)\u001b[0m\u001b[0;34m:\u001b[0m\u001b[0;34m\u001b[0m\u001b[0;34m\u001b[0m\u001b[0m\n",
      "\u001b[0;32m~/dev/quansight/ibis-project/ibis/ibis/client.py\u001b[0m in \u001b[0;36mexecute\u001b[0;34m(expr, limit, params, **kwargs)\u001b[0m\n\u001b[1;32m    350\u001b[0m     \"\"\"\n\u001b[1;32m    351\u001b[0m     \u001b[0;34m(\u001b[0m\u001b[0mbackend\u001b[0m\u001b[0;34m,\u001b[0m\u001b[0;34m)\u001b[0m \u001b[0;34m=\u001b[0m \u001b[0mvalidate_backends\u001b[0m\u001b[0;34m(\u001b[0m\u001b[0mlist\u001b[0m\u001b[0;34m(\u001b[0m\u001b[0mfind_backends\u001b[0m\u001b[0;34m(\u001b[0m\u001b[0mexpr\u001b[0m\u001b[0;34m)\u001b[0m\u001b[0;34m)\u001b[0m\u001b[0;34m)\u001b[0m\u001b[0;34m\u001b[0m\u001b[0;34m\u001b[0m\u001b[0m\n\u001b[0;32m--> 352\u001b[0;31m     \u001b[0;32mreturn\u001b[0m \u001b[0mbackend\u001b[0m\u001b[0;34m.\u001b[0m\u001b[0mexecute\u001b[0m\u001b[0;34m(\u001b[0m\u001b[0mexpr\u001b[0m\u001b[0;34m,\u001b[0m \u001b[0mlimit\u001b[0m\u001b[0;34m=\u001b[0m\u001b[0mlimit\u001b[0m\u001b[0;34m,\u001b[0m \u001b[0mparams\u001b[0m\u001b[0;34m=\u001b[0m\u001b[0mparams\u001b[0m\u001b[0;34m,\u001b[0m \u001b[0;34m**\u001b[0m\u001b[0mkwargs\u001b[0m\u001b[0;34m)\u001b[0m\u001b[0;34m\u001b[0m\u001b[0;34m\u001b[0m\u001b[0m\n\u001b[0m\u001b[1;32m    353\u001b[0m \u001b[0;34m\u001b[0m\u001b[0m\n\u001b[1;32m    354\u001b[0m \u001b[0;34m\u001b[0m\u001b[0m\n",
      "\u001b[0;32m~/dev/quansight/ibis-project/ibis/ibis/client.py\u001b[0m in \u001b[0;36mexecute\u001b[0;34m(self, expr, params, limit, **kwargs)\u001b[0m\n\u001b[1;32m    213\u001b[0m         \"\"\"\n\u001b[1;32m    214\u001b[0m         \u001b[0mquery_ast\u001b[0m \u001b[0;34m=\u001b[0m \u001b[0mself\u001b[0m\u001b[0;34m.\u001b[0m\u001b[0m_build_ast_ensure_limit\u001b[0m\u001b[0;34m(\u001b[0m\u001b[0mexpr\u001b[0m\u001b[0;34m,\u001b[0m \u001b[0mlimit\u001b[0m\u001b[0;34m,\u001b[0m \u001b[0mparams\u001b[0m\u001b[0;34m=\u001b[0m\u001b[0mparams\u001b[0m\u001b[0;34m)\u001b[0m\u001b[0;34m\u001b[0m\u001b[0;34m\u001b[0m\u001b[0m\n\u001b[0;32m--> 215\u001b[0;31m         \u001b[0mresult\u001b[0m \u001b[0;34m=\u001b[0m \u001b[0mself\u001b[0m\u001b[0;34m.\u001b[0m\u001b[0m_execute_query\u001b[0m\u001b[0;34m(\u001b[0m\u001b[0mquery_ast\u001b[0m\u001b[0;34m,\u001b[0m \u001b[0;34m**\u001b[0m\u001b[0mkwargs\u001b[0m\u001b[0;34m)\u001b[0m\u001b[0;34m\u001b[0m\u001b[0;34m\u001b[0m\u001b[0m\n\u001b[0m\u001b[1;32m    216\u001b[0m         \u001b[0;32mreturn\u001b[0m \u001b[0mresult\u001b[0m\u001b[0;34m\u001b[0m\u001b[0;34m\u001b[0m\u001b[0m\n\u001b[1;32m    217\u001b[0m \u001b[0;34m\u001b[0m\u001b[0m\n",
      "\u001b[0;32m~/dev/quansight/ibis-project/ibis/ibis/client.py\u001b[0m in \u001b[0;36m_execute_query\u001b[0;34m(self, dml, **kwargs)\u001b[0m\n\u001b[1;32m    218\u001b[0m     \u001b[0;32mdef\u001b[0m \u001b[0m_execute_query\u001b[0m\u001b[0;34m(\u001b[0m\u001b[0mself\u001b[0m\u001b[0;34m,\u001b[0m \u001b[0mdml\u001b[0m\u001b[0;34m,\u001b[0m \u001b[0;34m**\u001b[0m\u001b[0mkwargs\u001b[0m\u001b[0;34m)\u001b[0m\u001b[0;34m:\u001b[0m\u001b[0;34m\u001b[0m\u001b[0;34m\u001b[0m\u001b[0m\n\u001b[1;32m    219\u001b[0m         \u001b[0mquery\u001b[0m \u001b[0;34m=\u001b[0m \u001b[0mself\u001b[0m\u001b[0;34m.\u001b[0m\u001b[0mquery_class\u001b[0m\u001b[0;34m(\u001b[0m\u001b[0mself\u001b[0m\u001b[0;34m,\u001b[0m \u001b[0mdml\u001b[0m\u001b[0;34m,\u001b[0m \u001b[0;34m**\u001b[0m\u001b[0mkwargs\u001b[0m\u001b[0;34m)\u001b[0m\u001b[0;34m\u001b[0m\u001b[0;34m\u001b[0m\u001b[0m\n\u001b[0;32m--> 220\u001b[0;31m         \u001b[0;32mreturn\u001b[0m \u001b[0mquery\u001b[0m\u001b[0;34m.\u001b[0m\u001b[0mexecute\u001b[0m\u001b[0;34m(\u001b[0m\u001b[0;34m)\u001b[0m\u001b[0;34m\u001b[0m\u001b[0;34m\u001b[0m\u001b[0m\n\u001b[0m\u001b[1;32m    221\u001b[0m \u001b[0;34m\u001b[0m\u001b[0m\n\u001b[1;32m    222\u001b[0m     \u001b[0;32mdef\u001b[0m \u001b[0mcompile\u001b[0m\u001b[0;34m(\u001b[0m\u001b[0mself\u001b[0m\u001b[0;34m,\u001b[0m \u001b[0mexpr\u001b[0m\u001b[0;34m,\u001b[0m \u001b[0mparams\u001b[0m\u001b[0;34m=\u001b[0m\u001b[0;32mNone\u001b[0m\u001b[0;34m,\u001b[0m \u001b[0mlimit\u001b[0m\u001b[0;34m=\u001b[0m\u001b[0;32mNone\u001b[0m\u001b[0;34m)\u001b[0m\u001b[0;34m:\u001b[0m\u001b[0;34m\u001b[0m\u001b[0;34m\u001b[0m\u001b[0m\n",
      "\u001b[0;32m~/dev/quansight/ibis-project/ibis/ibis/spark/client.py\u001b[0m in \u001b[0;36mexecute\u001b[0;34m(self)\u001b[0m\n\u001b[1;32m    108\u001b[0m             )\n\u001b[1;32m    109\u001b[0m \u001b[0;34m\u001b[0m\u001b[0m\n\u001b[0;32m--> 110\u001b[0;31m         \u001b[0mresult\u001b[0m \u001b[0;34m=\u001b[0m \u001b[0msuper\u001b[0m\u001b[0;34m(\u001b[0m\u001b[0;34m)\u001b[0m\u001b[0;34m.\u001b[0m\u001b[0mexecute\u001b[0m\u001b[0;34m(\u001b[0m\u001b[0;34m)\u001b[0m\u001b[0;34m\u001b[0m\u001b[0;34m\u001b[0m\u001b[0m\n\u001b[0m\u001b[1;32m    111\u001b[0m \u001b[0;34m\u001b[0m\u001b[0m\n\u001b[1;32m    112\u001b[0m         \u001b[0;32mfor\u001b[0m \u001b[0mnode\u001b[0m \u001b[0;32min\u001b[0m \u001b[0mudf_nodes_unique\u001b[0m\u001b[0;34m:\u001b[0m\u001b[0;34m\u001b[0m\u001b[0;34m\u001b[0m\u001b[0m\n",
      "\u001b[0;32m~/dev/quansight/ibis-project/ibis/ibis/client.py\u001b[0m in \u001b[0;36mexecute\u001b[0;34m(self, **kwargs)\u001b[0m\n\u001b[1;32m     52\u001b[0m         \u001b[0;31m# synchronous by default\u001b[0m\u001b[0;34m\u001b[0m\u001b[0;34m\u001b[0m\u001b[0;34m\u001b[0m\u001b[0m\n\u001b[1;32m     53\u001b[0m         with self.client._execute(\n\u001b[0;32m---> 54\u001b[0;31m             \u001b[0mself\u001b[0m\u001b[0;34m.\u001b[0m\u001b[0mcompiled_sql\u001b[0m\u001b[0;34m,\u001b[0m \u001b[0mresults\u001b[0m\u001b[0;34m=\u001b[0m\u001b[0;32mTrue\u001b[0m\u001b[0;34m,\u001b[0m \u001b[0;34m**\u001b[0m\u001b[0mkwargs\u001b[0m\u001b[0;34m\u001b[0m\u001b[0;34m\u001b[0m\u001b[0m\n\u001b[0m\u001b[1;32m     55\u001b[0m         ) as cur:\n\u001b[1;32m     56\u001b[0m             \u001b[0mresult\u001b[0m \u001b[0;34m=\u001b[0m \u001b[0mself\u001b[0m\u001b[0;34m.\u001b[0m\u001b[0m_fetch\u001b[0m\u001b[0;34m(\u001b[0m\u001b[0mcur\u001b[0m\u001b[0;34m)\u001b[0m\u001b[0;34m\u001b[0m\u001b[0;34m\u001b[0m\u001b[0m\n",
      "\u001b[0;32m~/dev/quansight/ibis-project/ibis/ibis/spark/client.py\u001b[0m in \u001b[0;36m_execute\u001b[0;34m(self, stmt, results)\u001b[0m\n\u001b[1;32m    291\u001b[0m \u001b[0;34m\u001b[0m\u001b[0m\n\u001b[1;32m    292\u001b[0m     \u001b[0;32mdef\u001b[0m \u001b[0m_execute\u001b[0m\u001b[0;34m(\u001b[0m\u001b[0mself\u001b[0m\u001b[0;34m,\u001b[0m \u001b[0mstmt\u001b[0m\u001b[0;34m,\u001b[0m \u001b[0mresults\u001b[0m\u001b[0;34m=\u001b[0m\u001b[0;32mFalse\u001b[0m\u001b[0;34m)\u001b[0m\u001b[0;34m:\u001b[0m\u001b[0;34m\u001b[0m\u001b[0;34m\u001b[0m\u001b[0m\n\u001b[0;32m--> 293\u001b[0;31m         \u001b[0mquery\u001b[0m \u001b[0;34m=\u001b[0m \u001b[0mself\u001b[0m\u001b[0;34m.\u001b[0m\u001b[0m_session\u001b[0m\u001b[0;34m.\u001b[0m\u001b[0msql\u001b[0m\u001b[0;34m(\u001b[0m\u001b[0mstmt\u001b[0m\u001b[0;34m)\u001b[0m\u001b[0;34m\u001b[0m\u001b[0;34m\u001b[0m\u001b[0m\n\u001b[0m\u001b[1;32m    294\u001b[0m         \u001b[0;32mif\u001b[0m \u001b[0mresults\u001b[0m\u001b[0;34m:\u001b[0m\u001b[0;34m\u001b[0m\u001b[0;34m\u001b[0m\u001b[0m\n\u001b[1;32m    295\u001b[0m             \u001b[0;32mreturn\u001b[0m \u001b[0mSparkCursor\u001b[0m\u001b[0;34m(\u001b[0m\u001b[0mquery\u001b[0m\u001b[0;34m)\u001b[0m\u001b[0;34m\u001b[0m\u001b[0;34m\u001b[0m\u001b[0m\n",
      "\u001b[0;32m~/miniconda3/envs/ibis-nb/lib/python3.7/site-packages/pyspark/sql/session.py\u001b[0m in \u001b[0;36msql\u001b[0;34m(self, sqlQuery)\u001b[0m\n\u001b[1;32m    765\u001b[0m         \u001b[0;34m[\u001b[0m\u001b[0mRow\u001b[0m\u001b[0;34m(\u001b[0m\u001b[0mf1\u001b[0m\u001b[0;34m=\u001b[0m\u001b[0;36m1\u001b[0m\u001b[0;34m,\u001b[0m \u001b[0mf2\u001b[0m\u001b[0;34m=\u001b[0m\u001b[0;34mu'row1'\u001b[0m\u001b[0;34m)\u001b[0m\u001b[0;34m,\u001b[0m \u001b[0mRow\u001b[0m\u001b[0;34m(\u001b[0m\u001b[0mf1\u001b[0m\u001b[0;34m=\u001b[0m\u001b[0;36m2\u001b[0m\u001b[0;34m,\u001b[0m \u001b[0mf2\u001b[0m\u001b[0;34m=\u001b[0m\u001b[0;34mu'row2'\u001b[0m\u001b[0;34m)\u001b[0m\u001b[0;34m,\u001b[0m \u001b[0mRow\u001b[0m\u001b[0;34m(\u001b[0m\u001b[0mf1\u001b[0m\u001b[0;34m=\u001b[0m\u001b[0;36m3\u001b[0m\u001b[0;34m,\u001b[0m \u001b[0mf2\u001b[0m\u001b[0;34m=\u001b[0m\u001b[0;34mu'row3'\u001b[0m\u001b[0;34m)\u001b[0m\u001b[0;34m]\u001b[0m\u001b[0;34m\u001b[0m\u001b[0;34m\u001b[0m\u001b[0m\n\u001b[1;32m    766\u001b[0m         \"\"\"\n\u001b[0;32m--> 767\u001b[0;31m         \u001b[0;32mreturn\u001b[0m \u001b[0mDataFrame\u001b[0m\u001b[0;34m(\u001b[0m\u001b[0mself\u001b[0m\u001b[0;34m.\u001b[0m\u001b[0m_jsparkSession\u001b[0m\u001b[0;34m.\u001b[0m\u001b[0msql\u001b[0m\u001b[0;34m(\u001b[0m\u001b[0msqlQuery\u001b[0m\u001b[0;34m)\u001b[0m\u001b[0;34m,\u001b[0m \u001b[0mself\u001b[0m\u001b[0;34m.\u001b[0m\u001b[0m_wrapped\u001b[0m\u001b[0;34m)\u001b[0m\u001b[0;34m\u001b[0m\u001b[0;34m\u001b[0m\u001b[0m\n\u001b[0m\u001b[1;32m    768\u001b[0m \u001b[0;34m\u001b[0m\u001b[0m\n\u001b[1;32m    769\u001b[0m     \u001b[0;34m@\u001b[0m\u001b[0msince\u001b[0m\u001b[0;34m(\u001b[0m\u001b[0;36m2.0\u001b[0m\u001b[0;34m)\u001b[0m\u001b[0;34m\u001b[0m\u001b[0;34m\u001b[0m\u001b[0m\n",
      "\u001b[0;32m~/miniconda3/envs/ibis-nb/lib/python3.7/site-packages/py4j/java_gateway.py\u001b[0m in \u001b[0;36m__call__\u001b[0;34m(self, *args)\u001b[0m\n\u001b[1;32m   1255\u001b[0m         \u001b[0manswer\u001b[0m \u001b[0;34m=\u001b[0m \u001b[0mself\u001b[0m\u001b[0;34m.\u001b[0m\u001b[0mgateway_client\u001b[0m\u001b[0;34m.\u001b[0m\u001b[0msend_command\u001b[0m\u001b[0;34m(\u001b[0m\u001b[0mcommand\u001b[0m\u001b[0;34m)\u001b[0m\u001b[0;34m\u001b[0m\u001b[0;34m\u001b[0m\u001b[0m\n\u001b[1;32m   1256\u001b[0m         return_value = get_return_value(\n\u001b[0;32m-> 1257\u001b[0;31m             answer, self.gateway_client, self.target_id, self.name)\n\u001b[0m\u001b[1;32m   1258\u001b[0m \u001b[0;34m\u001b[0m\u001b[0m\n\u001b[1;32m   1259\u001b[0m         \u001b[0;32mfor\u001b[0m \u001b[0mtemp_arg\u001b[0m \u001b[0;32min\u001b[0m \u001b[0mtemp_args\u001b[0m\u001b[0;34m:\u001b[0m\u001b[0;34m\u001b[0m\u001b[0;34m\u001b[0m\u001b[0m\n",
      "\u001b[0;32m~/miniconda3/envs/ibis-nb/lib/python3.7/site-packages/pyspark/sql/utils.py\u001b[0m in \u001b[0;36mdeco\u001b[0;34m(*a, **kw)\u001b[0m\n\u001b[1;32m     67\u001b[0m                                              e.java_exception.getStackTrace()))\n\u001b[1;32m     68\u001b[0m             \u001b[0;32mif\u001b[0m \u001b[0ms\u001b[0m\u001b[0;34m.\u001b[0m\u001b[0mstartswith\u001b[0m\u001b[0;34m(\u001b[0m\u001b[0;34m'org.apache.spark.sql.AnalysisException: '\u001b[0m\u001b[0;34m)\u001b[0m\u001b[0;34m:\u001b[0m\u001b[0;34m\u001b[0m\u001b[0;34m\u001b[0m\u001b[0m\n\u001b[0;32m---> 69\u001b[0;31m                 \u001b[0;32mraise\u001b[0m \u001b[0mAnalysisException\u001b[0m\u001b[0;34m(\u001b[0m\u001b[0ms\u001b[0m\u001b[0;34m.\u001b[0m\u001b[0msplit\u001b[0m\u001b[0;34m(\u001b[0m\u001b[0;34m': '\u001b[0m\u001b[0;34m,\u001b[0m \u001b[0;36m1\u001b[0m\u001b[0;34m)\u001b[0m\u001b[0;34m[\u001b[0m\u001b[0;36m1\u001b[0m\u001b[0;34m]\u001b[0m\u001b[0;34m,\u001b[0m \u001b[0mstackTrace\u001b[0m\u001b[0;34m)\u001b[0m\u001b[0;34m\u001b[0m\u001b[0;34m\u001b[0m\u001b[0m\n\u001b[0m\u001b[1;32m     70\u001b[0m             \u001b[0;32mif\u001b[0m \u001b[0ms\u001b[0m\u001b[0;34m.\u001b[0m\u001b[0mstartswith\u001b[0m\u001b[0;34m(\u001b[0m\u001b[0;34m'org.apache.spark.sql.catalyst.analysis'\u001b[0m\u001b[0;34m)\u001b[0m\u001b[0;34m:\u001b[0m\u001b[0;34m\u001b[0m\u001b[0;34m\u001b[0m\u001b[0m\n\u001b[1;32m     71\u001b[0m                 \u001b[0;32mraise\u001b[0m \u001b[0mAnalysisException\u001b[0m\u001b[0;34m(\u001b[0m\u001b[0ms\u001b[0m\u001b[0;34m.\u001b[0m\u001b[0msplit\u001b[0m\u001b[0;34m(\u001b[0m\u001b[0;34m': '\u001b[0m\u001b[0;34m,\u001b[0m \u001b[0;36m1\u001b[0m\u001b[0;34m)\u001b[0m\u001b[0;34m[\u001b[0m\u001b[0;36m1\u001b[0m\u001b[0;34m]\u001b[0m\u001b[0;34m,\u001b[0m \u001b[0mstackTrace\u001b[0m\u001b[0;34m)\u001b[0m\u001b[0;34m\u001b[0m\u001b[0;34m\u001b[0m\u001b[0m\n",
      "\u001b[0;31mAnalysisException\u001b[0m: \"Undefined function: 'extract'. This function is neither a registered temporary function nor a permanent function registered in the database 'default'.; line 1 pos 7\""
     ]
    }
   ],
   "source": [
    "# spark\n",
    "\n",
    "expr = con['spark'].table('functional_alltypes').timestamp_col.millisecond()\n",
    "print(expr.compile())\n",
    "result = expr.execute()\n",
    "print('result:', result.values)"
   ]
  },
  {
   "cell_type": "markdown",
   "metadata": {},
   "source": [
    "### 5. microsecond"
   ]
  },
  {
   "cell_type": "code",
   "execution_count": 34,
   "metadata": {},
   "outputs": [
    {
     "name": "stdout",
     "output_type": "stream",
     "text": [
      "================================== omniscidb ===================================\n",
      "SELECT  mod(EXTRACT(MICROSECOND FROM \"timestamp_of_birth\"), 1000000) AS tmp\n",
      "FROM salary\n",
      "................................................................................\n",
      "result: [ 10101  10101  10101 ... 121231 121231 121231]\n",
      "expected: [ 10101  10101  10101 ... 121231 121231 121231]\n",
      "=================================== postgres ===================================\n",
      "SELECT CAST(floor(EXTRACT(microsecond FROM t0.timestamp_of_birth)) AS INTEGER) %% %(param_1)s AS tmp \n",
      "FROM salary AS t0\n",
      "................................................................................\n",
      "result: [ 10101  10101  10101 ... 121231 121231 121231]\n",
      "expected: [ 10101  10101  10101 ... 121231 121231 121231]\n"
     ]
    }
   ],
   "source": [
    "for b in BACKENDS:\n",
    "    try:\n",
    "        print(' {} '.format(b).center(80, '='))\n",
    "        expr = t[b].timestamp_of_birth.microsecond()\n",
    "        result = expr.execute().values % 10**6\n",
    "        expected = df.timestamp_of_birth.dt.microsecond.values\n",
    "        print(expr.compile())\n",
    "        print('.' * 80)\n",
    "        print('result:', result)\n",
    "        print('expected:', expected)\n",
    "        assert all((result == expected))\n",
    "    except ibis.common.exceptions.OperationNotDefinedError:\n",
    "        print('[WW] Not implemented.')\n",
    "    except AssertionError:\n",
    "        print('[EE] AssertionError')"
   ]
  },
  {
   "cell_type": "markdown",
   "metadata": {},
   "source": [
    "### 6. day of week (index)"
   ]
  },
  {
   "cell_type": "code",
   "execution_count": 35,
   "metadata": {},
   "outputs": [
    {
     "name": "stdout",
     "output_type": "stream",
     "text": [
      "================================== omniscidb ===================================\n",
      "SELECT EXTRACT(ISODOW FROM \"timestamp_of_birth\") - 1 AS tmp\n",
      "FROM salary\n",
      "................................................................................\n",
      "result: [4 5 6 ... 0 1 3]\n",
      "expected: [4 5 6 ... 0 1 3]\n",
      "=================================== postgres ===================================\n",
      "SELECT CAST(CAST(EXTRACT(dow FROM t0.timestamp_of_birth) + %(param_1)s AS SMALLINT) %% %(param_2)s AS SMALLINT) AS tmp \n",
      "FROM salary AS t0\n",
      "................................................................................\n",
      "result: [4 5 6 ... 0 1 3]\n",
      "expected: [4 5 6 ... 0 1 3]\n"
     ]
    }
   ],
   "source": [
    "for b in BACKENDS:\n",
    "    try:\n",
    "        print(' {} '.format(b).center(80, '='))\n",
    "        expr = t[b].timestamp_of_birth.day_of_week.index()\n",
    "        result = expr.execute().values\n",
    "        expected = df.timestamp_of_birth.dt.dayofweek.values\n",
    "        print(expr.compile())\n",
    "        print('.' * 80)\n",
    "        print('result:', result)\n",
    "        print('expected:', expected)\n",
    "        assert all((result == expected))\n",
    "    except ibis.common.exceptions.OperationNotDefinedError:\n",
    "        print('[WW] Not implemented.')\n",
    "    except AssertionError:\n",
    "        print('[EE] AssertionError')"
   ]
  },
  {
   "cell_type": "markdown",
   "metadata": {},
   "source": [
    "### 7. day of week (name)"
   ]
  },
  {
   "cell_type": "code",
   "execution_count": 36,
   "metadata": {},
   "outputs": [
    {
     "name": "stdout",
     "output_type": "stream",
     "text": [
      "================================== omniscidb ===================================\n",
      "SELECT\n",
      "  CASE EXTRACT(ISODOW FROM \"timestamp_of_birth\") - 1\n",
      "    WHEN 0 THEN 'Monday'\n",
      "    WHEN 1 THEN 'Tuesday'\n",
      "    WHEN 2 THEN 'Wednesday'\n",
      "    WHEN 3 THEN 'Thursday'\n",
      "    WHEN 4 THEN 'Friday'\n",
      "    WHEN 5 THEN 'Saturday'\n",
      "    WHEN 6 THEN 'Sunday'\n",
      "    ELSE ''\n",
      "  END AS tmp\n",
      "FROM salary\n",
      "................................................................................\n",
      "result: ['Friday' 'Saturday' 'Sunday' ... 'Monday' 'Tuesday' 'Thursday']\n",
      "expected: ['Friday' 'Saturday' 'Sunday' ... 'Monday' 'Tuesday' 'Thursday']\n",
      "=================================== postgres ===================================\n",
      "SELECT trim(to_char(t0.timestamp_of_birth, %(to_char_1)s)) AS tmp \n",
      "FROM salary AS t0\n",
      "................................................................................\n",
      "result: ['Friday' 'Saturday' 'Sunday' ... 'Monday' 'Tuesday' 'Thursday']\n",
      "expected: ['Friday' 'Saturday' 'Sunday' ... 'Monday' 'Tuesday' 'Thursday']\n"
     ]
    }
   ],
   "source": [
    "for b in BACKENDS:\n",
    "    WEEKNAME = {\n",
    "        0: 'Monday',\n",
    "        1: 'Tuesday',\n",
    "        2: 'Wednesday',\n",
    "        3: 'Thursday',\n",
    "        4: 'Friday',\n",
    "        5: 'Saturday',\n",
    "        6: 'Sunday'\n",
    "    }\n",
    "    try:\n",
    "        print(' {} '.format(b).center(80, '='))\n",
    "        expr = t[b].timestamp_of_birth.day_of_week.full_name()\n",
    "        result = expr.execute().values\n",
    "        expected = df.timestamp_of_birth.dt.dayofweek.apply(lambda k: WEEKNAME[k]).values\n",
    "        print(expr.compile())\n",
    "        print('.' * 80)\n",
    "        print('result:', result)\n",
    "        print('expected:', expected)\n",
    "        assert all((result == expected))\n",
    "    except ibis.common.exceptions.OperationNotDefinedError:\n",
    "        print('[WW] Not implemented.')\n",
    "    except AssertionError:\n",
    "        print('[EE] AssertionError')"
   ]
  }
 ],
 "metadata": {
  "kernelspec": {
   "display_name": "Python 3",
   "language": "python",
   "name": "python3"
  },
  "language_info": {
   "codemirror_mode": {
    "name": "ipython",
    "version": 3
   },
   "file_extension": ".py",
   "mimetype": "text/x-python",
   "name": "python",
   "nbconvert_exporter": "python",
   "pygments_lexer": "ipython3",
   "version": "3.7.6"
  }
 },
 "nbformat": 4,
 "nbformat_minor": 4
}
