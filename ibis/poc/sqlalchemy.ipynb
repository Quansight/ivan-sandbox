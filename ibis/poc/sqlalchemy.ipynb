{
 "cells": [
  {
   "cell_type": "code",
   "execution_count": 8,
   "metadata": {},
   "outputs": [],
   "source": [
    "import numpy as np\n",
    "\n",
    "import ibis\n",
    "from ibis.expr import operations as ops\n",
    "from ibis.expr import types as ir\n",
    "from ibis.expr import datatypes as dt\n",
    "import pandas as pd\n",
    "\n",
    "import sqlalchemy as sa\n",
    "from sqlalchemy.dialects import sqlite as sa_sqlite\n",
    "\n",
    "# local\n",
    "from settings import conf\n",
    "from utils import cursor2df"
   ]
  },
  {
   "cell_type": "markdown",
   "metadata": {},
   "source": [
    "### setup"
   ]
  },
  {
   "cell_type": "code",
   "execution_count": 3,
   "metadata": {},
   "outputs": [],
   "source": [
    "table_name = 'functional_alltypes'"
   ]
  },
  {
   "cell_type": "code",
   "execution_count": 4,
   "metadata": {},
   "outputs": [],
   "source": [
    "con = ibis.sqlite.connect(**conf['sqlite'])"
   ]
  },
  {
   "cell_type": "code",
   "execution_count": 5,
   "metadata": {},
   "outputs": [
    {
     "data": {
      "text/plain": [
       "['awards_players', 'batting', 'diamonds', 'functional_alltypes']"
      ]
     },
     "execution_count": 5,
     "metadata": {},
     "output_type": "execute_result"
    }
   ],
   "source": [
    "con.list_tables()"
   ]
  },
  {
   "cell_type": "markdown",
   "metadata": {},
   "source": [
    "### sqlalchemy experiments"
   ]
  },
  {
   "cell_type": "code",
   "execution_count": 18,
   "metadata": {},
   "outputs": [],
   "source": [
    "def compile(expr):\n",
    "    result = str(expr.compile(dialect=sa_sqlite.dialect()))\n",
    "    return result"
   ]
  },
  {
   "cell_type": "code",
   "execution_count": 50,
   "metadata": {},
   "outputs": [
    {
     "data": {
      "text/plain": [
       "'SELECT rowid - ? AS myrowid \\nFROM functional_alltypes'"
      ]
     },
     "execution_count": 50,
     "metadata": {},
     "output_type": "execute_result"
    }
   ],
   "source": [
    "t = sa.table(table_name)\n",
    "rowid = sa.literal_column('rowid')\n",
    "\n",
    "expr = sa.select([(rowid - sa.literal(1)).label('myrowid')])\n",
    "\n",
    "# sorted(expr.__dir__())\n",
    "compile(expr.select_from(t))"
   ]
  }
 ],
 "metadata": {
  "kernelspec": {
   "display_name": "Python 3",
   "language": "python",
   "name": "python3"
  },
  "language_info": {
   "codemirror_mode": {
    "name": "ipython",
    "version": 3
   },
   "file_extension": ".py",
   "mimetype": "text/x-python",
   "name": "python",
   "nbconvert_exporter": "python",
   "pygments_lexer": "ipython3",
   "version": "3.7.6"
  }
 },
 "nbformat": 4,
 "nbformat_minor": 4
}
