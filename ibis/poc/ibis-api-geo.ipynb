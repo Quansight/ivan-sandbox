{
 "cells": [
  {
   "cell_type": "markdown",
   "metadata": {},
   "source": [
    "# POC: Organize geospatial API functions into new \"geo\" module"
   ]
  },
  {
   "cell_type": "code",
   "execution_count": 1,
   "metadata": {},
   "outputs": [],
   "source": [
    "import ibis\n",
    "import imp"
   ]
  },
  {
   "cell_type": "code",
   "execution_count": 2,
   "metadata": {},
   "outputs": [],
   "source": [
    "fn_list = [\n",
    "    'geo_point',\n",
    "    'geo_area',\n",
    "    'geo_as_binary',\n",
    "    'geo_as_ewkb',\n",
    "    'geo_as_ewkt',\n",
    "    'geo_as_text',\n",
    "    'geo_azimuth',\n",
    "    'geo_buffer',\n",
    "    'geo_centroid',\n",
    "    'geo_contains',\n",
    "    'geo_contains_properly',\n",
    "    'geo_covers',\n",
    "    'geo_covered_by',\n",
    "    'geo_crosses',\n",
    "    'geo_d_fully_within',\n",
    "    'geo_disjoint',\n",
    "    'geo_difference',\n",
    "    'geo_d_within',\n",
    "    'geo_envelope',\n",
    "    'geo_equals',\n",
    "    'geo_geometry_n',\n",
    "    'geo_geometry_type',\n",
    "    'geo_intersection',\n",
    "    'geo_intersects',\n",
    "    'geo_is_valid',\n",
    "    'geo_line_locate_point',\n",
    "    'geo_line_merge',\n",
    "    'geo_line_substring',\n",
    "    'geo_ordering_equals',\n",
    "    'geo_overlaps',\n",
    "    'geo_touches',\n",
    "    'geo_distance',\n",
    "    'geo_end_point',\n",
    "    'geo_length',\n",
    "    'geo_max_distance',\n",
    "    'geo_n_points',\n",
    "    'geo_n_rings',\n",
    "    'geo_perimeter',\n",
    "    'geo_point_n',\n",
    "    'geo_simplify',\n",
    "    'geo_srid',\n",
    "    'geo_start_point',\n",
    "    'geo_transform',\n",
    "    'geo_unary_union',\n",
    "    'geo_union',\n",
    "    'geo_within',\n",
    "    'geo_x',\n",
    "    'geo_x_max',\n",
    "    'geo_x_min',\n",
    "    'geo_y',\n",
    "    'geo_y_max',\n",
    "    'geo_y_min',\n",
    "]"
   ]
  },
  {
   "cell_type": "code",
   "execution_count": 3,
   "metadata": {},
   "outputs": [],
   "source": [
    "for f in fn_list:\n",
    "    assert callable(getattr(ibis, f))"
   ]
  },
  {
   "cell_type": "code",
   "execution_count": 4,
   "metadata": {},
   "outputs": [],
   "source": [
    "assert not hasattr(ibis, 'geo')"
   ]
  },
  {
   "cell_type": "code",
   "execution_count": 5,
   "metadata": {},
   "outputs": [],
   "source": [
    "ibis.geo = imp.new_module('geo')\n",
    "for f in fn_list:\n",
    "    setattr(ibis.geo, f[4:], getattr(ibis, f))\n",
    "\n",
    "for f in fn_list:\n",
    "    assert callable(getattr(ibis.geo, f[4:]))"
   ]
  },
  {
   "cell_type": "code",
   "execution_count": 6,
   "metadata": {},
   "outputs": [
    {
     "data": {
      "image/png": "[encoded data removed]",
      "text/plain": [
       "GeoX[float64]\n",
       "  Literal[point]\n",
       "    (1, 1)"
      ]
     },
     "execution_count": 6,
     "metadata": {},
     "output_type": "execute_result"
    }
   ],
   "source": [
    "ibis.geo.x(ibis.literal((1,1), type='point'))"
   ]
  }
 ],
 "metadata": {
  "kernelspec": {
   "display_name": "Python 3",
   "language": "python",
   "name": "python3"
  },
  "language_info": {
   "codemirror_mode": {
    "name": "ipython",
    "version": 3
   },
   "file_extension": ".py",
   "mimetype": "text/x-python",
   "name": "python",
   "nbconvert_exporter": "python",
   "pygments_lexer": "ipython3",
   "version": "3.7.6"
  }
 },
 "nbformat": 4,
 "nbformat_minor": 4
}
