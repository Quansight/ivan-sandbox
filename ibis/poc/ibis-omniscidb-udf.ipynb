{
 "cells": [
  {
   "cell_type": "markdown",
   "metadata": {},
   "source": [
    "# Ibis OmnisciDB UDF implementation prototype"
   ]
  },
  {
   "cell_type": "code",
   "execution_count": 1,
   "metadata": {},
   "outputs": [],
   "source": [
    "from datetime import datetime, date\n",
    "from typing import Callable, List, Optional, Union\n",
    "\n",
    "import ibis\n",
    "from ibis.expr import datatypes as dt\n",
    "from ibis.expr import operations as ops\n",
    "from ibis.expr import types as ir\n",
    "import numpy as np\n",
    "import pandas as pd\n",
    "import rbc\n",
    "# local\n",
    "from settings import conf\n",
    "from utils import cursor2df\n",
    "from gen_data import salary_date, salary_date_schema"
   ]
  },
  {
   "cell_type": "code",
   "execution_count": 2,
   "metadata": {},
   "outputs": [],
   "source": [
    "omni_ibis = ibis.omniscidb.connect(**conf['omniscidb'])"
   ]
  },
  {
   "cell_type": "code",
   "execution_count": 3,
   "metadata": {},
   "outputs": [
    {
     "data": {
      "text/plain": [
       "['diamonds',\n",
       " 'batting',\n",
       " 'awards_players',\n",
       " 'functional_alltypes',\n",
       " 'geo',\n",
       " 'mytable']"
      ]
     },
     "execution_count": 3,
     "metadata": {},
     "output_type": "execute_result"
    }
   ],
   "source": [
    "omni_ibis.list_tables()"
   ]
  },
  {
   "cell_type": "code",
   "execution_count": 4,
   "metadata": {},
   "outputs": [],
   "source": [
    "# ibis.omniscidb bug workaround:\n",
    "import sys\n",
    "sys.modules['ibis.omniscidb.operations']._sql_type_names['float32'] = 'float'"
   ]
  },
  {
   "cell_type": "markdown",
   "metadata": {},
   "source": [
    "## Ibis OmniSciDB UDF Examples"
   ]
  },
  {
   "cell_type": "code",
   "execution_count": 5,
   "metadata": {},
   "outputs": [
    {
     "name": "stderr",
     "output_type": "stream",
     "text": [
      "/home/xmn/miniconda3/envs/ibis-nb/lib/python3.7/site-packages/rbc_project-0.2.2-py3.7.egg/rbc/omniscidb.py:364: UserWarning: \n",
      "  thrift type map: add new member TExtArgumentType.ArrayBool\n",
      "  thrift type map: update TExtArgumentType.ArrayDouble to 20 (was 19)\n",
      "  thrift type map: update TExtArgumentType.ArrayFloat to 19 (was 18)\n",
      "  thrift type map: update TExtArgumentType.ArrayInt16 to 16 (was 15)\n",
      "  thrift type map: update TExtArgumentType.ArrayInt32 to 17 (was 16)\n",
      "  thrift type map: update TExtArgumentType.ArrayInt64 to 18 (was 17)\n",
      "  thrift type map: update TExtArgumentType.ArrayInt8 to 15 (was 14)\n",
      "  thrift type map: update TExtArgumentType.Bool to 14 (was 13)\n",
      "  thrift type map: update TExtArgumentType.Cursor to 24 (was 21)\n",
      "  thrift type map: add new member TExtArgumentType.GeoLineString\n",
      "  thrift type map: add new member TExtArgumentType.GeoMultiPolygon\n",
      "  thrift type map: update TExtArgumentType.GeoPoint to 22 (was 20)\n",
      "  thrift type map: add new member TExtArgumentType.GeoPolygon\n",
      "  thrift type map: add new member TExtArgumentType.PBool\n",
      "  warnings.warn('\\n  '.join([''] + messages))\n"
     ]
    }
   ],
   "source": [
    "@omni_ibis.udf.elementwise(input_type=[dt.double, dt.double], output_type=dt.double)\n",
    "def my_add_func(left, right):\n",
    "    return left + right"
   ]
  },
  {
   "cell_type": "code",
   "execution_count": 6,
   "metadata": {},
   "outputs": [
    {
     "data": {
      "image/png": "[encoded data removed]",
      "text/plain": [
       "ref_0\n",
       "DatabaseTable[table]\n",
       "  name:\n",
       "    functional_alltypes\n",
       "  schema:\n",
       "    index\n",
       "    Unnamed__0\n",
       "    id\n",
       "    bool_col\n",
       "    tinyint_col\n",
       "    smallint_col\n",
       "    int_col\n",
       "    bigint_col\n",
       "    float_col\n",
       "    double_col\n",
       "    date_string_col\n",
       "    string_col\n",
       "    timestamp_col\n",
       "    year_\n",
       "    month_\n",
       "  source:\n",
       "    <ibis.omniscidb.client.OmniSciDBClient object at 0x7f7630331ed0>\n",
       "\n",
       "ElementWiseVectorizedUDF[float64*]\n",
       "  func:\n",
       "    <function my_add_func at 0x7f75f5302710>\n",
       "  func_args:\n",
       "    float_col = Column[float32*] 'float_col' from table\n",
       "      ref_0\n",
       "    float_col = Column[float32*] 'float_col' from table\n",
       "      ref_0\n",
       "  input_type:\n",
       "    float64\n",
       "    float64\n",
       "  _output_type:\n",
       "    float64"
      ]
     },
     "execution_count": 6,
     "metadata": {},
     "output_type": "execute_result"
    }
   ],
   "source": [
    "t = omni_ibis.table('functional_alltypes')\n",
    "\n",
    "expr = my_add_func(t.float_col, t.float_col)\n",
    "expr"
   ]
  },
  {
   "cell_type": "code",
   "execution_count": 7,
   "metadata": {},
   "outputs": [
    {
     "name": "stdout",
     "output_type": "stream",
     "text": [
      "SELECT my_add_func(\"float_col\", \"float_col\") AS tmp\n",
      "FROM functional_alltypes\n"
     ]
    }
   ],
   "source": [
    "assert isinstance(expr, ir.ColumnExpr)\n",
    "assert isinstance(expr, ir.NumericColumn)\n",
    "assert isinstance(expr, ir.FloatingColumn)\n",
    "print(omni_ibis.compile(expr))\n",
    "\n",
    "result = expr.execute()\n",
    "\n",
    "df = t.execute()\n",
    "expected = df.float_col + df.float_col\n",
    "\n",
    "pd.testing.assert_series_equal(result, expected, check_dtype=False, check_names=False)"
   ]
  }
 ],
 "metadata": {
  "kernelspec": {
   "display_name": "Python 3",
   "language": "python",
   "name": "python3"
  },
  "language_info": {
   "codemirror_mode": {
    "name": "ipython",
    "version": 3
   },
   "file_extension": ".py",
   "mimetype": "text/x-python",
   "name": "python",
   "nbconvert_exporter": "python",
   "pygments_lexer": "ipython3",
   "version": "3.7.6"
  }
 },
 "nbformat": 4,
 "nbformat_minor": 4
}
