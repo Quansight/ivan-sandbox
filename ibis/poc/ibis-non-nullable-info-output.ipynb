{
 "cells": [
  {
   "cell_type": "markdown",
   "metadata": {},
   "source": [
    "# FEAT: Add non-nullable info to schema output #2117"
   ]
  },
  {
   "cell_type": "code",
   "execution_count": 1,
   "metadata": {},
   "outputs": [],
   "source": [
    "import ibis"
   ]
  },
  {
   "cell_type": "code",
   "execution_count": 2,
   "metadata": {},
   "outputs": [
    {
     "data": {
      "text/plain": [
       "ibis.Schema {  \n",
       "  foo  int64\n",
       "  bar  int64[non-nullable]\n",
       "  baz  boolean\n",
       "}"
      ]
     },
     "execution_count": 2,
     "metadata": {},
     "output_type": "execute_result"
    }
   ],
   "source": [
    "sch = ibis.schema(\n",
    "    [\n",
    "        ('foo', 'int64'),\n",
    "        ('bar', ibis.expr.datatypes.int64(nullable=False)),\n",
    "        ('baz', 'boolean*'),\n",
    "    ]\n",
    ")\n",
    "sch"
   ]
  },
  {
   "cell_type": "code",
   "execution_count": 3,
   "metadata": {},
   "outputs": [
    {
     "data": {
      "text/plain": [
       "ibis.Schema {  \n",
       "  foo  Int64(nullable=True)\n",
       "  bar  Int64(nullable=False)\n",
       "  baz  Boolean(nullable=True)\n",
       "}"
      ]
     },
     "execution_count": 3,
     "metadata": {},
     "output_type": "execute_result"
    }
   ],
   "source": [
    "ibis.expr.datatypes.DataType.__str__ = ibis.expr.datatypes.DataType.__repr__\n",
    "sch"
   ]
  }
 ],
 "metadata": {
  "kernelspec": {
   "display_name": "Python 3",
   "language": "python",
   "name": "python3"
  },
  "language_info": {
   "codemirror_mode": {
    "name": "ipython",
    "version": 3
   },
   "file_extension": ".py",
   "mimetype": "text/x-python",
   "name": "python",
   "nbconvert_exporter": "python",
   "pygments_lexer": "ipython3",
   "version": "3.7.6"
  }
 },
 "nbformat": 4,
 "nbformat_minor": 4
}
