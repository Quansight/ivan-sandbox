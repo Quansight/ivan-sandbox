{
 "cells": [
  {
   "cell_type": "code",
   "execution_count": 4,
   "metadata": {},
   "outputs": [],
   "source": [
    "import ibis\n",
    "# local\n",
    "from settings import conf"
   ]
  },
  {
   "cell_type": "code",
   "execution_count": 3,
   "metadata": {},
   "outputs": [],
   "source": [
    "# Impala, PySpark and Spark"
   ]
  },
  {
   "cell_type": "code",
   "execution_count": 12,
   "metadata": {},
   "outputs": [
    {
     "name": "stdout",
     "output_type": "stream",
     "text": [
      "==================================== SCHEMA ====================================\n",
      "ibis.Schema {  \n",
      "  foo  int64\n",
      "  bar  int64[non-nullable]\n",
      "  baz  boolean\n",
      "}\n",
      "==================================== TABLE =====================================\n",
      "ImpalaDatabaseTable[table]\n",
      "  name: ibis_testing.`table_nullable`\n",
      "  schema:\n",
      "    foo : int64\n",
      "    bar : int64\n",
      "    baz : boolean\n"
     ]
    }
   ],
   "source": [
    "# impala\n",
    "con_impala = ibis.impala.connect(**conf['impala'])\n",
    "\n",
    "sch = ibis.schema(\n",
    "    [\n",
    "        ('foo', 'int64'),\n",
    "        ('bar', ibis.expr.datatypes.int64(nullable=False)),\n",
    "        ('baz', 'boolean*'),\n",
    "    ]\n",
    ")\n",
    "\n",
    "print(' SCHEMA '.center(80, '='))\n",
    "print(sch)\n",
    "\n",
    "table_name = 'table_nullable'\n",
    "con_impala.create_table(table_name, schema=sch)\n",
    "\n",
    "print(' TABLE '.center(80, '='))\n",
    "print(con_impala.table(table_name))\n",
    "con_impala.drop_table(table_name)"
   ]
  },
  {
   "cell_type": "code",
   "execution_count": 13,
   "metadata": {},
   "outputs": [
    {
     "name": "stdout",
     "output_type": "stream",
     "text": [
      "==================================== SCHEMA ====================================\n",
      "ibis.Schema {  \n",
      "  foo  int64\n",
      "  bar  int64[non-nullable]\n",
      "  baz  boolean\n",
      "}\n",
      "==================================== TABLE =====================================\n",
      "PySparkTable[table]\n",
      "  name: default.`table_nullable`\n",
      "  schema:\n",
      "    foo : int64\n",
      "    bar : int64\n",
      "    baz : boolean\n"
     ]
    }
   ],
   "source": [
    "# PySpark\n",
    "con_pyspark = ibis.pyspark.connect(**conf['pyspark'])\n",
    "\n",
    "sch = ibis.schema(\n",
    "    [\n",
    "        ('foo', 'int64'),\n",
    "        ('bar', ibis.expr.datatypes.int64(nullable=False)),\n",
    "        ('baz', 'boolean*'),\n",
    "    ]\n",
    ")\n",
    "\n",
    "print(' SCHEMA '.center(80, '='))\n",
    "print(sch)\n",
    "\n",
    "table_name = 'table_nullable'\n",
    "con_pyspark.create_table(table_name, schema=sch)\n",
    "\n",
    "print(' TABLE '.center(80, '='))\n",
    "print(con_pyspark.table(table_name))\n",
    "con_pyspark.drop_table(table_name)"
   ]
  },
  {
   "cell_type": "code",
   "execution_count": 14,
   "metadata": {},
   "outputs": [
    {
     "name": "stdout",
     "output_type": "stream",
     "text": [
      "==================================== SCHEMA ====================================\n",
      "ibis.Schema {  \n",
      "  foo  int64\n",
      "  bar  int64[non-nullable]\n",
      "  baz  boolean\n",
      "}\n",
      "==================================== TABLE =====================================\n",
      "SparkDatabaseTable[table]\n",
      "  name: default.`table_nullable`\n",
      "  schema:\n",
      "    foo : int64\n",
      "    bar : int64\n",
      "    baz : boolean\n"
     ]
    }
   ],
   "source": [
    "# SparkSQL\n",
    "con_spark = ibis.spark.connect(**conf['spark'])\n",
    "\n",
    "sch = ibis.schema(\n",
    "    [\n",
    "        ('foo', 'int64'),\n",
    "        ('bar', ibis.expr.datatypes.int64(nullable=False)),\n",
    "        ('baz', 'boolean*'),\n",
    "    ]\n",
    ")\n",
    "\n",
    "print(' SCHEMA '.center(80, '='))\n",
    "print(sch)\n",
    "\n",
    "table_name = 'table_nullable'\n",
    "con_spark.create_table(table_name, schema=sch)\n",
    "\n",
    "print(' TABLE '.center(80, '='))\n",
    "print(con_spark.table(table_name))\n",
    "con_spark.drop_table(table_name)"
   ]
  },
  {
   "cell_type": "code",
   "execution_count": 15,
   "metadata": {},
   "outputs": [
    {
     "name": "stdout",
     "output_type": "stream",
     "text": [
      "==================================== SCHEMA ====================================\n",
      "ibis.Schema {  \n",
      "  foo  int64\n",
      "  bar  int64[non-nullable]\n",
      "  baz  boolean\n",
      "}\n",
      "==================================== TABLE =====================================\n",
      "DatabaseTable[table]\n",
      "  name: table_nullable\n",
      "  schema:\n",
      "    foo : int64\n",
      "    bar : int64[non-nullable]\n",
      "    baz : boolean\n"
     ]
    }
   ],
   "source": [
    "# OmniSciDB\n",
    "con_omniscidb = ibis.omniscidb.connect(**conf['omniscidb'])\n",
    "\n",
    "sch = ibis.schema(\n",
    "    [\n",
    "        ('foo', 'int64'),\n",
    "        ('bar', ibis.expr.datatypes.int64(nullable=False)),\n",
    "        ('baz', 'boolean*'),\n",
    "    ]\n",
    ")\n",
    "\n",
    "print(' SCHEMA '.center(80, '='))\n",
    "print(sch)\n",
    "\n",
    "table_name = 'table_nullable'\n",
    "con_omniscidb.create_table(table_name, schema=sch)\n",
    "\n",
    "print(' TABLE '.center(80, '='))\n",
    "print(con_omniscidb.table(table_name))\n",
    "con_omniscidb.drop_table(table_name)"
   ]
  }
 ],
 "metadata": {
  "kernelspec": {
   "display_name": "Python 3",
   "language": "python",
   "name": "python3"
  },
  "language_info": {
   "codemirror_mode": {
    "name": "ipython",
    "version": 3
   },
   "file_extension": ".py",
   "mimetype": "text/x-python",
   "name": "python",
   "nbconvert_exporter": "python",
   "pygments_lexer": "ipython3",
   "version": "3.7.6"
  }
 },
 "nbformat": 4,
 "nbformat_minor": 4
}
