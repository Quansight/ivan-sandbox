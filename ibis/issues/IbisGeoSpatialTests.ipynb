{
 "cells": [
  {
   "cell_type": "markdown",
   "metadata": {},
   "source": [
    "# Ibis.MapD Geo Spatial Data Types and Functions"
   ]
  },
  {
   "cell_type": "code",
   "execution_count": 1,
   "metadata": {},
   "outputs": [],
   "source": [
    "import pymapd\n",
    "import os"
   ]
  },
  {
   "cell_type": "code",
   "execution_count": 2,
   "metadata": {},
   "outputs": [],
   "source": [
    "conn_info = dict(\n",
    "    host='metis.mapd.com', port='443', \n",
    "    user='mapd', password='HyperInteractive', \n",
    "    dbname='ibis_testing', protocol='https'\n",
    ")\n",
    "os.environ['IBIS_TEST_OMNISCI_HOST'] = conn_info['host']\n",
    "os.environ['IBIS_TEST_OMNISCI_PORT'] = conn_info['port']\n",
    "os.environ['IBIS_TEST_OMNISCI_USER'] = conn_info['user']\n",
    "os.environ['IBIS_TEST_OMNISCI_PASSWORD'] = conn_info['password']\n",
    "os.environ['IBIS_TEST_OMNISCI_DATABASE'] = conn_info['dbname']\n",
    "os.environ['IBIS_TEST_OMNISCI_PROTOCOL'] = conn_info['protocol']"
   ]
  },
  {
   "cell_type": "code",
   "execution_count": 4,
   "metadata": {},
   "outputs": [
    {
     "name": "stdout",
     "output_type": "stream",
     "text": [
      "fatal: la ruta de destino '/tmp/ibis' ya existe y no es un directorio vacío.\n",
      "  3163 datamgr              INFO     MainThread                Downloading https://github.com/ibis-project/testing-data/archive/master.zip to /tmp/ibis/ci/ibis-testing-data.zip...\n",
      "  % Total    % Received % Xferd  Average Speed   Time    Time     Time  Current\n",
      "                                 Dload  Upload   Total   Spent    Left  Speed\n",
      "100   130    0   130    0     0    211      0 --:--:-- --:--:-- --:--:--   210\n",
      "100  268M    0  268M    0     0  1520k      0 --:--:--  0:03:00 --:--:-- 1270k\n",
      "184394 datamgr              INFO     MainThread                Extracting archive to /tmp/ibis/ci/ibis-testing-data\n",
      "  2809 datamgr              INFO     MainThread                Initializing OmniSci...\n"
     ]
    }
   ],
   "source": [
    "!git clone https://github.com/ibis-project/ibis /tmp/ibis --depth=1\n",
    "!cp $HOME/dev/quansight/ibis-project/ibis/ci/datamgr.py /tmp/ibis/ci/\n",
    "!cd /tmp/ibis/ci && \\\n",
    "python datamgr.py download && \\\n",
    "python datamgr.py omnisci \\\n",
    "  --host ${IBIS_TEST_OMNISCI_HOST} \\\n",
    "  --port ${IBIS_TEST_OMNISCI_PORT} \\\n",
    "  --user ${IBIS_TEST_OMNISCI_USER} \\\n",
    "  --password ${IBIS_TEST_OMNISCI_PASSWORD} \\\n",
    "  --database ${IBIS_TEST_OMNISCI_DATABASE} \\\n",
    "  --protocol ${IBIS_TEST_OMNISCI_PROTOCOL}"
   ]
  },
  {
   "cell_type": "code",
   "execution_count": 5,
   "metadata": {},
   "outputs": [],
   "source": [
    "conn = pymapd.connect(**conn_info)"
   ]
  },
  {
   "cell_type": "code",
   "execution_count": 6,
   "metadata": {},
   "outputs": [
    {
     "data": {
      "text/plain": [
       "['diamonds', 'batting', 'awards_players', 'functional_alltypes', 'geo']"
      ]
     },
     "execution_count": 6,
     "metadata": {},
     "output_type": "execute_result"
    }
   ],
   "source": [
    "conn.get_tables()"
   ]
  },
  {
   "cell_type": "code",
   "execution_count": 7,
   "metadata": {},
   "outputs": [],
   "source": [
    "t_name = 'geo'"
   ]
  },
  {
   "cell_type": "code",
   "execution_count": 8,
   "metadata": {},
   "outputs": [
    {
     "data": {
      "text/plain": [
       "[ColumnDetails(name='id', type='INT', nullable=True, precision=0, scale=0, comp_param=0, encoding='NONE'),\n",
       " ColumnDetails(name='geo_point', type='POINT', nullable=True, precision=23, scale=0, comp_param=0, encoding='NONE'),\n",
       " ColumnDetails(name='geo_linestring', type='LINESTRING', nullable=True, precision=23, scale=0, comp_param=0, encoding='NONE'),\n",
       " ColumnDetails(name='geo_polygon', type='POLYGON', nullable=True, precision=23, scale=0, comp_param=0, encoding='NONE'),\n",
       " ColumnDetails(name='geo_multipolygon', type='MULTIPOLYGON', nullable=True, precision=23, scale=0, comp_param=0, encoding='NONE')]"
      ]
     },
     "execution_count": 8,
     "metadata": {},
     "output_type": "execute_result"
    }
   ],
   "source": [
    "conn.get_table_details(t_name)"
   ]
  },
  {
   "cell_type": "code",
   "execution_count": 9,
   "metadata": {},
   "outputs": [],
   "source": [
    "import ibis"
   ]
  },
  {
   "cell_type": "code",
   "execution_count": 10,
   "metadata": {},
   "outputs": [],
   "source": [
    "ibis_conn_info = conn_info.copy()\n",
    "ibis_conn_info['database'] = ibis_conn_info['dbname']\n",
    "del ibis_conn_info['dbname']\n",
    "\n",
    "ibis_conn = ibis.mapd.connect(**ibis_conn_info)"
   ]
  },
  {
   "cell_type": "code",
   "execution_count": 11,
   "metadata": {},
   "outputs": [
    {
     "data": {
      "image/png": "[encoded data removed]",
      "text/plain": [
       "DatabaseTable[table]\n",
       "  name: geo\n",
       "  schema:\n",
       "    id : int32\n",
       "    geo_point : point\n",
       "    geo_linestring : linestring\n",
       "    geo_polygon : polygon\n",
       "    geo_multipolygon : multipolygon"
      ]
     },
     "execution_count": 11,
     "metadata": {},
     "output_type": "execute_result"
    }
   ],
   "source": [
    "t = ibis_conn.table(t_name)\n",
    "t"
   ]
  },
  {
   "cell_type": "code",
   "execution_count": 16,
   "metadata": {},
   "outputs": [
    {
     "name": "stdout",
     "output_type": "stream",
     "text": [
      "   area\n",
      "0   0.0\n"
     ]
    }
   ],
   "source": [
    "print(t[t.geo_multipolygon.area().name('area')].head(1).execute())"
   ]
  },
  {
   "cell_type": "code",
   "execution_count": 17,
   "metadata": {},
   "outputs": [
    {
     "name": "stdout",
     "output_type": "stream",
     "text": [
      "   perimeter\n",
      "0   5.656854\n"
     ]
    }
   ],
   "source": [
    "print(t[t.geo_polygon.perimeter().name('perimeter')].head(1).execute())"
   ]
  },
  {
   "cell_type": "code",
   "execution_count": 18,
   "metadata": {},
   "outputs": [
    {
     "name": "stdout",
     "output_type": "stream",
     "text": [
      "SELECT *, ST_LENGTH('LINESTRING(0 1, 2 3)') AS length\n",
      "FROM geo\n",
      "LIMIT 5\n"
     ]
    },
    {
     "data": {
      "text/html": [
       "<div>\n",
       "<style scoped>\n",
       "    .dataframe tbody tr th:only-of-type {\n",
       "        vertical-align: middle;\n",
       "    }\n",
       "\n",
       "    .dataframe tbody tr th {\n",
       "        vertical-align: top;\n",
       "    }\n",
       "\n",
       "    .dataframe thead th {\n",
       "        text-align: right;\n",
       "    }\n",
       "</style>\n",
       "<table border=\"1\" class=\"dataframe\">\n",
       "  <thead>\n",
       "    <tr style=\"text-align: right;\">\n",
       "      <th></th>\n",
       "      <th>id</th>\n",
       "      <th>geo_point</th>\n",
       "      <th>geo_linestring</th>\n",
       "      <th>geo_polygon</th>\n",
       "      <th>geo_multipolygon</th>\n",
       "      <th>rowid</th>\n",
       "      <th>length</th>\n",
       "    </tr>\n",
       "  </thead>\n",
       "  <tbody>\n",
       "    <tr>\n",
       "      <th>0</th>\n",
       "      <td>1</td>\n",
       "      <td>POINT (0 0)</td>\n",
       "      <td>LINESTRING (0 0,1 1)</td>\n",
       "      <td>POLYGON ((0 0,1 1,2 2,0 0),(1 1,3 3,2 2,1 1))</td>\n",
       "      <td>MULTIPOLYGON (((0 0,1 1,2 2,0 0),(1 1,3 3,2 2,...</td>\n",
       "      <td>0</td>\n",
       "      <td>2.828427</td>\n",
       "    </tr>\n",
       "    <tr>\n",
       "      <th>1</th>\n",
       "      <td>2</td>\n",
       "      <td>POINT (1 1)</td>\n",
       "      <td>LINESTRING (1 1,2 2)</td>\n",
       "      <td>POLYGON ((1 1,2 2,3 3,1 1),(2 2,4 4,3 3,2 2))</td>\n",
       "      <td>MULTIPOLYGON (((1 1,2 2,3 3,1 1),(2 2,4 4,3 3,...</td>\n",
       "      <td>1</td>\n",
       "      <td>2.828427</td>\n",
       "    </tr>\n",
       "    <tr>\n",
       "      <th>2</th>\n",
       "      <td>3</td>\n",
       "      <td>POINT (2 2)</td>\n",
       "      <td>LINESTRING (2 2,3 3)</td>\n",
       "      <td>POLYGON ((2 2,3 3,4 4,2 2),(3 3,5 5,4 4,3 3))</td>\n",
       "      <td>MULTIPOLYGON (((2 2,3 3,4 4,2 2),(3 3,5 5,4 4,...</td>\n",
       "      <td>2</td>\n",
       "      <td>2.828427</td>\n",
       "    </tr>\n",
       "    <tr>\n",
       "      <th>3</th>\n",
       "      <td>4</td>\n",
       "      <td>POINT (3 3)</td>\n",
       "      <td>LINESTRING (3 3,4 4)</td>\n",
       "      <td>POLYGON ((3 3,4 4,5 5,3 3),(4 4,6 6,5 5,4 4))</td>\n",
       "      <td>MULTIPOLYGON (((3 3,4 4,5 5,3 3),(4 4,6 6,5 5,...</td>\n",
       "      <td>3</td>\n",
       "      <td>2.828427</td>\n",
       "    </tr>\n",
       "    <tr>\n",
       "      <th>4</th>\n",
       "      <td>5</td>\n",
       "      <td>POINT (4 4)</td>\n",
       "      <td>LINESTRING (4 4,5 5)</td>\n",
       "      <td>POLYGON ((4 4,5 5,6 6,4 4),(5 5,7 7,6 6,5 5))</td>\n",
       "      <td>MULTIPOLYGON (((4 4,5 5,6 6,4 4),(5 5,7 7,6 6,...</td>\n",
       "      <td>4</td>\n",
       "      <td>2.828427</td>\n",
       "    </tr>\n",
       "  </tbody>\n",
       "</table>\n",
       "</div>"
      ],
      "text/plain": [
       "   id    geo_point        geo_linestring  \\\n",
       "0   1  POINT (0 0)  LINESTRING (0 0,1 1)   \n",
       "1   2  POINT (1 1)  LINESTRING (1 1,2 2)   \n",
       "2   3  POINT (2 2)  LINESTRING (2 2,3 3)   \n",
       "3   4  POINT (3 3)  LINESTRING (3 3,4 4)   \n",
       "4   5  POINT (4 4)  LINESTRING (4 4,5 5)   \n",
       "\n",
       "                                     geo_polygon  \\\n",
       "0  POLYGON ((0 0,1 1,2 2,0 0),(1 1,3 3,2 2,1 1))   \n",
       "1  POLYGON ((1 1,2 2,3 3,1 1),(2 2,4 4,3 3,2 2))   \n",
       "2  POLYGON ((2 2,3 3,4 4,2 2),(3 3,5 5,4 4,3 3))   \n",
       "3  POLYGON ((3 3,4 4,5 5,3 3),(4 4,6 6,5 5,4 4))   \n",
       "4  POLYGON ((4 4,5 5,6 6,4 4),(5 5,7 7,6 6,5 5))   \n",
       "\n",
       "                                    geo_multipolygon  rowid    length  \n",
       "0  MULTIPOLYGON (((0 0,1 1,2 2,0 0),(1 1,3 3,2 2,...      0  2.828427  \n",
       "1  MULTIPOLYGON (((1 1,2 2,3 3,1 1),(2 2,4 4,3 3,...      1  2.828427  \n",
       "2  MULTIPOLYGON (((2 2,3 3,4 4,2 2),(3 3,5 5,4 4,...      2  2.828427  \n",
       "3  MULTIPOLYGON (((3 3,4 4,5 5,3 3),(4 4,6 6,5 5,...      3  2.828427  \n",
       "4  MULTIPOLYGON (((4 4,5 5,6 6,4 4),(5 5,7 7,6 6,...      4  2.828427  "
      ]
     },
     "execution_count": 18,
     "metadata": {},
     "output_type": "execute_result"
    }
   ],
   "source": [
    "linestring1 = ibis.literal([(0, 1), (2, 3)], type=\"linestring\")\n",
    "expr = t[[t, linestring1.length().name('length')]]\n",
    "print(expr.head().compile())\n",
    "expr.head().execute()"
   ]
  },
  {
   "cell_type": "code",
   "execution_count": 19,
   "metadata": {},
   "outputs": [
    {
     "name": "stdout",
     "output_type": "stream",
     "text": [
      "SELECT *, ST_DISTANCE('LINESTRING(0 1, 2 3)', 'POINT(0 0)') AS distance\n",
      "FROM geo\n",
      "LIMIT 5\n"
     ]
    },
    {
     "data": {
      "text/html": [
       "<div>\n",
       "<style scoped>\n",
       "    .dataframe tbody tr th:only-of-type {\n",
       "        vertical-align: middle;\n",
       "    }\n",
       "\n",
       "    .dataframe tbody tr th {\n",
       "        vertical-align: top;\n",
       "    }\n",
       "\n",
       "    .dataframe thead th {\n",
       "        text-align: right;\n",
       "    }\n",
       "</style>\n",
       "<table border=\"1\" class=\"dataframe\">\n",
       "  <thead>\n",
       "    <tr style=\"text-align: right;\">\n",
       "      <th></th>\n",
       "      <th>id</th>\n",
       "      <th>geo_point</th>\n",
       "      <th>geo_linestring</th>\n",
       "      <th>geo_polygon</th>\n",
       "      <th>geo_multipolygon</th>\n",
       "      <th>rowid</th>\n",
       "      <th>distance</th>\n",
       "    </tr>\n",
       "  </thead>\n",
       "  <tbody>\n",
       "    <tr>\n",
       "      <th>0</th>\n",
       "      <td>1</td>\n",
       "      <td>POINT (0 0)</td>\n",
       "      <td>LINESTRING (0 0,1 1)</td>\n",
       "      <td>POLYGON ((0 0,1 1,2 2,0 0),(1 1,3 3,2 2,1 1))</td>\n",
       "      <td>MULTIPOLYGON (((0 0,1 1,2 2,0 0),(1 1,3 3,2 2,...</td>\n",
       "      <td>0</td>\n",
       "      <td>1.0</td>\n",
       "    </tr>\n",
       "    <tr>\n",
       "      <th>1</th>\n",
       "      <td>2</td>\n",
       "      <td>POINT (1 1)</td>\n",
       "      <td>LINESTRING (1 1,2 2)</td>\n",
       "      <td>POLYGON ((1 1,2 2,3 3,1 1),(2 2,4 4,3 3,2 2))</td>\n",
       "      <td>MULTIPOLYGON (((1 1,2 2,3 3,1 1),(2 2,4 4,3 3,...</td>\n",
       "      <td>1</td>\n",
       "      <td>1.0</td>\n",
       "    </tr>\n",
       "    <tr>\n",
       "      <th>2</th>\n",
       "      <td>3</td>\n",
       "      <td>POINT (2 2)</td>\n",
       "      <td>LINESTRING (2 2,3 3)</td>\n",
       "      <td>POLYGON ((2 2,3 3,4 4,2 2),(3 3,5 5,4 4,3 3))</td>\n",
       "      <td>MULTIPOLYGON (((2 2,3 3,4 4,2 2),(3 3,5 5,4 4,...</td>\n",
       "      <td>2</td>\n",
       "      <td>1.0</td>\n",
       "    </tr>\n",
       "    <tr>\n",
       "      <th>3</th>\n",
       "      <td>4</td>\n",
       "      <td>POINT (3 3)</td>\n",
       "      <td>LINESTRING (3 3,4 4)</td>\n",
       "      <td>POLYGON ((3 3,4 4,5 5,3 3),(4 4,6 6,5 5,4 4))</td>\n",
       "      <td>MULTIPOLYGON (((3 3,4 4,5 5,3 3),(4 4,6 6,5 5,...</td>\n",
       "      <td>3</td>\n",
       "      <td>1.0</td>\n",
       "    </tr>\n",
       "    <tr>\n",
       "      <th>4</th>\n",
       "      <td>5</td>\n",
       "      <td>POINT (4 4)</td>\n",
       "      <td>LINESTRING (4 4,5 5)</td>\n",
       "      <td>POLYGON ((4 4,5 5,6 6,4 4),(5 5,7 7,6 6,5 5))</td>\n",
       "      <td>MULTIPOLYGON (((4 4,5 5,6 6,4 4),(5 5,7 7,6 6,...</td>\n",
       "      <td>4</td>\n",
       "      <td>1.0</td>\n",
       "    </tr>\n",
       "  </tbody>\n",
       "</table>\n",
       "</div>"
      ],
      "text/plain": [
       "   id    geo_point        geo_linestring  \\\n",
       "0   1  POINT (0 0)  LINESTRING (0 0,1 1)   \n",
       "1   2  POINT (1 1)  LINESTRING (1 1,2 2)   \n",
       "2   3  POINT (2 2)  LINESTRING (2 2,3 3)   \n",
       "3   4  POINT (3 3)  LINESTRING (3 3,4 4)   \n",
       "4   5  POINT (4 4)  LINESTRING (4 4,5 5)   \n",
       "\n",
       "                                     geo_polygon  \\\n",
       "0  POLYGON ((0 0,1 1,2 2,0 0),(1 1,3 3,2 2,1 1))   \n",
       "1  POLYGON ((1 1,2 2,3 3,1 1),(2 2,4 4,3 3,2 2))   \n",
       "2  POLYGON ((2 2,3 3,4 4,2 2),(3 3,5 5,4 4,3 3))   \n",
       "3  POLYGON ((3 3,4 4,5 5,3 3),(4 4,6 6,5 5,4 4))   \n",
       "4  POLYGON ((4 4,5 5,6 6,4 4),(5 5,7 7,6 6,5 5))   \n",
       "\n",
       "                                    geo_multipolygon  rowid  distance  \n",
       "0  MULTIPOLYGON (((0 0,1 1,2 2,0 0),(1 1,3 3,2 2,...      0       1.0  \n",
       "1  MULTIPOLYGON (((1 1,2 2,3 3,1 1),(2 2,4 4,3 3,...      1       1.0  \n",
       "2  MULTIPOLYGON (((2 2,3 3,4 4,2 2),(3 3,5 5,4 4,...      2       1.0  \n",
       "3  MULTIPOLYGON (((3 3,4 4,5 5,3 3),(4 4,6 6,5 5,...      3       1.0  \n",
       "4  MULTIPOLYGON (((4 4,5 5,6 6,4 4),(5 5,7 7,6 6,...      4       1.0  "
      ]
     },
     "execution_count": 19,
     "metadata": {},
     "output_type": "execute_result"
    }
   ],
   "source": [
    "linestring1 = ibis.literal([(0, 1), (2, 3)], type=\"linestring\")\n",
    "point1 = ibis.literal((0, 0), type=\"point\")\n",
    "\n",
    "expr = t[[t, linestring1.distance(point1).name('distance')]]\n",
    "print(expr.head().compile())\n",
    "expr.head().execute()"
   ]
  },
  {
   "cell_type": "code",
   "execution_count": 21,
   "metadata": {},
   "outputs": [
    {
     "name": "stdout",
     "output_type": "stream",
     "text": [
      "SELECT *,\n",
      "       ST_CONTAINS(\"geo_multipolygon\", ST_GeomFromText('POINT(0 0)', 4326)) AS contained\n",
      "FROM geo\n",
      "LIMIT 5\n"
     ]
    },
    {
     "data": {
      "text/html": [
       "<div>\n",
       "<style scoped>\n",
       "    .dataframe tbody tr th:only-of-type {\n",
       "        vertical-align: middle;\n",
       "    }\n",
       "\n",
       "    .dataframe tbody tr th {\n",
       "        vertical-align: top;\n",
       "    }\n",
       "\n",
       "    .dataframe thead th {\n",
       "        text-align: right;\n",
       "    }\n",
       "</style>\n",
       "<table border=\"1\" class=\"dataframe\">\n",
       "  <thead>\n",
       "    <tr style=\"text-align: right;\">\n",
       "      <th></th>\n",
       "      <th>id</th>\n",
       "      <th>geo_point</th>\n",
       "      <th>geo_linestring</th>\n",
       "      <th>geo_polygon</th>\n",
       "      <th>geo_multipolygon</th>\n",
       "      <th>rowid</th>\n",
       "      <th>contained</th>\n",
       "    </tr>\n",
       "  </thead>\n",
       "  <tbody>\n",
       "    <tr>\n",
       "      <th>0</th>\n",
       "      <td>1</td>\n",
       "      <td>POINT (0 0)</td>\n",
       "      <td>LINESTRING (0 0,1 1)</td>\n",
       "      <td>POLYGON ((0 0,1 1,2 2,0 0),(1 1,3 3,2 2,1 1))</td>\n",
       "      <td>MULTIPOLYGON (((0 0,1 1,2 2,0 0),(1 1,3 3,2 2,...</td>\n",
       "      <td>0</td>\n",
       "      <td>True</td>\n",
       "    </tr>\n",
       "    <tr>\n",
       "      <th>1</th>\n",
       "      <td>2</td>\n",
       "      <td>POINT (1 1)</td>\n",
       "      <td>LINESTRING (1 1,2 2)</td>\n",
       "      <td>POLYGON ((1 1,2 2,3 3,1 1),(2 2,4 4,3 3,2 2))</td>\n",
       "      <td>MULTIPOLYGON (((1 1,2 2,3 3,1 1),(2 2,4 4,3 3,...</td>\n",
       "      <td>1</td>\n",
       "      <td>False</td>\n",
       "    </tr>\n",
       "    <tr>\n",
       "      <th>2</th>\n",
       "      <td>3</td>\n",
       "      <td>POINT (2 2)</td>\n",
       "      <td>LINESTRING (2 2,3 3)</td>\n",
       "      <td>POLYGON ((2 2,3 3,4 4,2 2),(3 3,5 5,4 4,3 3))</td>\n",
       "      <td>MULTIPOLYGON (((2 2,3 3,4 4,2 2),(3 3,5 5,4 4,...</td>\n",
       "      <td>2</td>\n",
       "      <td>False</td>\n",
       "    </tr>\n",
       "    <tr>\n",
       "      <th>3</th>\n",
       "      <td>4</td>\n",
       "      <td>POINT (3 3)</td>\n",
       "      <td>LINESTRING (3 3,4 4)</td>\n",
       "      <td>POLYGON ((3 3,4 4,5 5,3 3),(4 4,6 6,5 5,4 4))</td>\n",
       "      <td>MULTIPOLYGON (((3 3,4 4,5 5,3 3),(4 4,6 6,5 5,...</td>\n",
       "      <td>3</td>\n",
       "      <td>False</td>\n",
       "    </tr>\n",
       "    <tr>\n",
       "      <th>4</th>\n",
       "      <td>5</td>\n",
       "      <td>POINT (4 4)</td>\n",
       "      <td>LINESTRING (4 4,5 5)</td>\n",
       "      <td>POLYGON ((4 4,5 5,6 6,4 4),(5 5,7 7,6 6,5 5))</td>\n",
       "      <td>MULTIPOLYGON (((4 4,5 5,6 6,4 4),(5 5,7 7,6 6,...</td>\n",
       "      <td>4</td>\n",
       "      <td>False</td>\n",
       "    </tr>\n",
       "  </tbody>\n",
       "</table>\n",
       "</div>"
      ],
      "text/plain": [
       "   id    geo_point        geo_linestring  \\\n",
       "0   1  POINT (0 0)  LINESTRING (0 0,1 1)   \n",
       "1   2  POINT (1 1)  LINESTRING (1 1,2 2)   \n",
       "2   3  POINT (2 2)  LINESTRING (2 2,3 3)   \n",
       "3   4  POINT (3 3)  LINESTRING (3 3,4 4)   \n",
       "4   5  POINT (4 4)  LINESTRING (4 4,5 5)   \n",
       "\n",
       "                                     geo_polygon  \\\n",
       "0  POLYGON ((0 0,1 1,2 2,0 0),(1 1,3 3,2 2,1 1))   \n",
       "1  POLYGON ((1 1,2 2,3 3,1 1),(2 2,4 4,3 3,2 2))   \n",
       "2  POLYGON ((2 2,3 3,4 4,2 2),(3 3,5 5,4 4,3 3))   \n",
       "3  POLYGON ((3 3,4 4,5 5,3 3),(4 4,6 6,5 5,4 4))   \n",
       "4  POLYGON ((4 4,5 5,6 6,4 4),(5 5,7 7,6 6,5 5))   \n",
       "\n",
       "                                    geo_multipolygon  rowid  contained  \n",
       "0  MULTIPOLYGON (((0 0,1 1,2 2,0 0),(1 1,3 3,2 2,...      0       True  \n",
       "1  MULTIPOLYGON (((1 1,2 2,3 3,1 1),(2 2,4 4,3 3,...      1      False  \n",
       "2  MULTIPOLYGON (((2 2,3 3,4 4,2 2),(3 3,5 5,4 4,...      2      False  \n",
       "3  MULTIPOLYGON (((3 3,4 4,5 5,3 3),(4 4,6 6,5 5,...      3      False  \n",
       "4  MULTIPOLYGON (((4 4,5 5,6 6,4 4),(5 5,7 7,6 6,...      4      False  "
      ]
     },
     "execution_count": 21,
     "metadata": {},
     "output_type": "execute_result"
    }
   ],
   "source": [
    "# \n",
    "\n",
    "point1 = ibis.literal((0, 0), type=\"point;4326:geometry\")\n",
    "expr = t[[t, t.geo_multipolygon.contains(point1).name('contained')]]\n",
    "\n",
    "\n",
    "print(expr.head().compile())\n",
    "expr.head().execute()"
   ]
  },
  {
   "cell_type": "code",
   "execution_count": 22,
   "metadata": {},
   "outputs": [
    {
     "name": "stdout",
     "output_type": "stream",
     "text": [
      "================================================================================\n",
      "SELECT *, ST_X(ST_GeomFromText('POINT(0 0)', 4326)) AS tmp\n",
      "FROM geo\n",
      "LIMIT 5\n",
      "================================================================================\n",
      "SELECT *, ST_Y(ST_GeomFromText('POINT(0 0)', 4326)) AS tmp\n",
      "FROM geo\n",
      "LIMIT 5\n",
      "================================================================================\n",
      "SELECT *, ST_SRID(ST_GeomFromText('POINT(0 0)', 4326)) AS tmp\n",
      "FROM geo\n",
      "LIMIT 5\n"
     ]
    }
   ],
   "source": [
    "fs_points = [\n",
    "    'x',\n",
    "    'y',\n",
    "    'srid'\n",
    "]\n",
    "\n",
    "point1 = ibis.literal((0, 0), type=\"point;4326:geometry\")\n",
    "\n",
    "for f in fs_points:\n",
    "    d = getattr(point1, f)\n",
    "    expr = t[[t, d().name('tmp')]]\n",
    "    print('=' * 80)\n",
    "    print(expr.head().compile())\n",
    "    expr.head().execute()"
   ]
  },
  {
   "cell_type": "code",
   "execution_count": 23,
   "metadata": {},
   "outputs": [
    {
     "name": "stdout",
     "output_type": "stream",
     "text": [
      "================================================================================\n",
      "SELECT *, ST_XMIN(ST_GeomFromText('LINESTRING(0 1, 2 3)', 4326)) AS tmp\n",
      "FROM geo\n",
      "LIMIT 5\n",
      "================================================================================\n",
      "SELECT *, ST_XMAX(ST_GeomFromText('LINESTRING(0 1, 2 3)', 4326)) AS tmp\n",
      "FROM geo\n",
      "LIMIT 5\n",
      "================================================================================\n",
      "SELECT *, ST_YMIN(ST_GeomFromText('LINESTRING(0 1, 2 3)', 4326)) AS tmp\n",
      "FROM geo\n",
      "LIMIT 5\n",
      "================================================================================\n",
      "SELECT *, ST_YMAX(ST_GeomFromText('LINESTRING(0 1, 2 3)', 4326)) AS tmp\n",
      "FROM geo\n",
      "LIMIT 5\n",
      "================================================================================\n",
      "SELECT *, ST_NPOINTS(ST_GeomFromText('LINESTRING(0 1, 2 3)', 4326)) AS tmp\n",
      "FROM geo\n",
      "LIMIT 5\n",
      "================================================================================\n",
      "SELECT *, ST_SRID(ST_GeomFromText('LINESTRING(0 1, 2 3)', 4326)) AS tmp\n",
      "FROM geo\n",
      "LIMIT 5\n"
     ]
    }
   ],
   "source": [
    "fs_lines = [\n",
    "    'x_min',\n",
    "    'x_max',\n",
    "    'y_min',\n",
    "    'y_max',\n",
    "    # 'start_point',  # Function ST_StartPoint not supported\n",
    "    # 'end_point',  # Function ST_EndPoint not supported\n",
    "    'n_points',\n",
    "    'srid'\n",
    "]\n",
    "\n",
    "linestring1 = ibis.literal([(0, 1), (2, 3)], type=\"linestring;4326:geometry\")\n",
    "\n",
    "for f in fs_lines:\n",
    "    d = getattr(linestring1, f)\n",
    "    expr = t[[t, d().name('tmp')]]\n",
    "    print('=' * 80)\n",
    "    print(expr.head().compile())\n",
    "    expr.head().execute()"
   ]
  },
  {
   "cell_type": "code",
   "execution_count": 24,
   "metadata": {},
   "outputs": [
    {
     "name": "stdout",
     "output_type": "stream",
     "text": [
      "================================================================================\n",
      "SELECT *,\n",
      "       ST_NRINGS(ST_GeomFromText('POLYGON((0 0, 4 0, 4 4, 0 4, 0 0), (1 1, 2 1, 2 2, 1 2, 1 1))', 4326)) AS tmp\n",
      "FROM geo\n",
      "LIMIT 5\n"
     ]
    }
   ],
   "source": [
    "fs_polygons = [\n",
    "    'n_rings',\n",
    "]\n",
    "\n",
    "polygon = [\n",
    "    ((0, 0), (4, 0), (4, 4), (0, 4), (0, 0)),\n",
    "    ((1, 1), (2, 1), (2, 2), (1, 2), (1, 1))\n",
    "]\n",
    "\n",
    "polygon1 = ibis.literal(polygon, type=\"polygon;4326:geometry\")\n",
    "\n",
    "for f in fs_polygons:\n",
    "    d = getattr(polygon1, f)\n",
    "    expr = t[[t, d().name('tmp')]]\n",
    "    print('=' * 80)\n",
    "    print(expr.head().compile())\n",
    "    expr.head().execute()"
   ]
  },
  {
   "cell_type": "code",
   "execution_count": 25,
   "metadata": {},
   "outputs": [
    {
     "name": "stdout",
     "output_type": "stream",
     "text": [
      "================================================================================\n",
      "SELECT *,\n",
      "       ST_MAXDISTANCE(ST_GeomFromText('LINESTRING(0 1, 2 3)', 4326), ST_GeomFromText('POINT(0 0)', 4326)) AS tmp\n",
      "FROM geo\n",
      "LIMIT 5\n"
     ]
    }
   ],
   "source": [
    "fs = [\n",
    "    ('max_distance', point1),\n",
    "    # ('point_n', 1)  # Function ST_PointN not supported\n",
    "]\n",
    "\n",
    "linestring1 = ibis.literal([(0, 1), (2, 3)], type=\"linestring;4326:geometry\")\n",
    "\n",
    "for f, arg in fs:\n",
    "    d = getattr(linestring1, f)\n",
    "    expr = t[[t, d(arg).name('tmp')]]\n",
    "    print('=' * 80)\n",
    "    print(expr.head().compile())\n",
    "    expr.head().execute()"
   ]
  }
 ],
 "metadata": {
  "kernelspec": {
   "display_name": "Python 3",
   "language": "python",
   "name": "python3"
  },
  "language_info": {
   "codemirror_mode": {
    "name": "ipython",
    "version": 3
   },
   "file_extension": ".py",
   "mimetype": "text/x-python",
   "name": "python",
   "nbconvert_exporter": "python",
   "pygments_lexer": "ipython3",
   "version": "3.6.7"
  }
 },
 "nbformat": 4,
 "nbformat_minor": 2
}
