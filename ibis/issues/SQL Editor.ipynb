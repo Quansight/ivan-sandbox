{
 "cells": [
  {
   "cell_type": "markdown",
   "metadata": {},
   "source": [
    "# OmniSci SQL editor\n",
    "\n",
    "Ibis is a great tool for abtracting SQL queries, and for more programmatic query generation. However, there are times when it is still useful to quickly test raw SQL. Fortunately, we can use an ibis connection and some display magics to accomplish this.\n",
    "\n",
    "First, we make the relevant imports:"
   ]
  },
  {
   "cell_type": "code",
   "execution_count": 1,
   "metadata": {},
   "outputs": [],
   "source": [
    "import ibis\n",
    "import jupyterlab_omnisci"
   ]
  },
  {
   "cell_type": "markdown",
   "metadata": {},
   "source": [
    "Now we make a connection to the database:"
   ]
  },
  {
   "cell_type": "code",
   "execution_count": 2,
   "metadata": {},
   "outputs": [],
   "source": [
    "omnisci_cli = ibis.mapd.connect(\n",
    "    host='metis.mapd.com', user='mapd', password='HyperInteractive',\n",
    "    port=443, database='mapd', protocol= 'https'\n",
    ")"
   ]
  },
  {
   "cell_type": "markdown",
   "metadata": {},
   "source": [
    "And verify that the connection worked"
   ]
  },
  {
   "cell_type": "code",
   "execution_count": 3,
   "metadata": {},
   "outputs": [
    {
     "data": {
      "text/plain": [
       "['flights_donotmodify',\n",
       " 'contributions_donotmodify',\n",
       " 'tweets_nov_feb',\n",
       " 'zipcodes_orig',\n",
       " 'zipcodes',\n",
       " 'demo_vote_clean',\n",
       " 'us_faults',\n",
       " 'zipcodes_2017']"
      ]
     },
     "execution_count": 3,
     "metadata": {},
     "output_type": "execute_result"
    }
   ],
   "source": [
    "omnisci_cli.list_tables()"
   ]
  },
  {
   "cell_type": "markdown",
   "metadata": {},
   "source": [
    "Let's create a SQL editor from this client:"
   ]
  },
  {
   "cell_type": "code",
   "execution_count": 53,
   "metadata": {},
   "outputs": [
    {
     "data": {
      "application/vnd.omnisci.sqleditor+json": {
       "connection": {
        "dbname": "mapd",
        "host": "metis.mapd.com",
        "password": "HyperInteractive",
        "port": 443,
        "protocol": "https",
        "user": "mapd"
       },
       "query": ""
      },
      "text/plain": [
       "<jupyterlab_omnisci.magics.OmniSciSQLEditorRenderer at 0x7f5486d33b70>"
      ]
     },
     "execution_count": 53,
     "metadata": {},
     "output_type": "execute_result"
    }
   ],
   "source": [
    "w = jupyterlab_omnisci.OmniSciSQLEditorRenderer(omnisci_cli)\n",
    "w"
   ]
  },
  {
   "cell_type": "code",
   "execution_count": 54,
   "metadata": {},
   "outputs": [],
   "source": [
    "db_conf = dict(\n",
    "    host='metis.mapd.com', user='mapd', password='HyperInteractive',\n",
    "    port=443, database='mapd', protocol= 'https'\n",
    ")\n",
    "mapd = ibis.mapd.connect(**db_conf)\n",
    "\n",
    "def editor(query):\n",
    "    w = jupyterlab_omnisci.OmniSciSQLEditorRenderer(omnisci_cli, query)\n",
    "    display(w)\n",
    "    display(mapd.sql(w.query))\n",
    "    return w"
   ]
  },
  {
   "cell_type": "code",
   "execution_count": 55,
   "metadata": {},
   "outputs": [
    {
     "data": {
      "application/vnd.omnisci.sqleditor+json": {
       "connection": {
        "dbname": "mapd",
        "host": "metis.mapd.com",
        "password": "HyperInteractive",
        "port": 443,
        "protocol": "https",
        "user": "mapd"
       },
       "query": "select flight_year from flights_donotmodify limit 1"
      },
      "text/plain": [
       "<jupyterlab_omnisci.magics.OmniSciSQLEditorRenderer at 0x7f5486cb79b0>"
      ]
     },
     "metadata": {},
     "output_type": "display_data"
    },
    {
     "data": {
      "image/png": "[encoded data removed]",
      "text/plain": [
       "SQLQueryResult[table]\n",
       "  query:\n",
       "    select flight_year from flights_donotmodify limit 1\n",
       "  schema:\n",
       "    flight_year\n",
       "  source:\n",
       "    <ibis.mapd.client.MapDClient object at 0x7f5486cb7278>"
      ]
     },
     "metadata": {},
     "output_type": "display_data"
    }
   ],
   "source": [
    "editor('select flight_year from flights_donotmodify limit 1');"
   ]
  },
  {
   "cell_type": "code",
   "execution_count": 49,
   "metadata": {},
   "outputs": [
    {
     "data": {
      "text/plain": [
       "jupyterlab_omnisci.magics.OmniSciSQLEditorRenderer"
      ]
     },
     "execution_count": 49,
     "metadata": {},
     "output_type": "execute_result"
    }
   ],
   "source": [
    "type(w)"
   ]
  },
  {
   "cell_type": "markdown",
   "metadata": {},
   "source": [
    "That gave us a blank canvas for getting data from the database. However, it can be nice to start from an ibis expreesion and then vary it from there. To do that, we can give an expression as the second argument for the `OmniSciSQLEditorRenderer`:"
   ]
  },
  {
   "cell_type": "code",
   "execution_count": 7,
   "metadata": {},
   "outputs": [
    {
     "data": {
      "application/vnd.omnisci.sqleditor+json": {
       "connection": {
        "dbname": "mapd",
        "host": "metis.mapd.com",
        "password": "HyperInteractive",
        "port": 443,
        "protocol": "https",
        "user": "mapd"
       },
       "query": "SELECT \"goog_x\" AS x, \"goog_y\" AS y, \"tweet_id\" AS rowid\nFROM tweets_nov_feb"
      },
      "text/plain": [
       "<jupyterlab_omnisci.magics.OmniSciSQLEditorRenderer at 0x7f548794b710>"
      ]
     },
     "execution_count": 7,
     "metadata": {},
     "output_type": "execute_result"
    }
   ],
   "source": [
    "table = omnisci_cli.table('tweets_nov_feb')\n",
    "expr = table[table.goog_x.name('x'), table.goog_y.name('y'), table.tweet_id.name('rowid')]\n",
    "\n",
    "jupyterlab_omnisci.OmniSciSQLEditorRenderer(omnisci_cli, expr)"
   ]
  }
 ],
 "metadata": {
  "kernelspec": {
   "display_name": "Python 3",
   "language": "python",
   "name": "python3"
  },
  "language_info": {
   "codemirror_mode": {
    "name": "ipython",
    "version": 3
   },
   "file_extension": ".py",
   "mimetype": "text/x-python",
   "name": "python",
   "nbconvert_exporter": "python",
   "pygments_lexer": "ipython3",
   "version": "3.7.2"
  }
 },
 "nbformat": 4,
 "nbformat_minor": 2
}
