{
 "cells": [
  {
   "cell_type": "markdown",
   "metadata": {},
   "source": [
    "# Prof of concept Ibis.MapD Geo Spatial Data Types"
   ]
  },
  {
   "cell_type": "code",
   "execution_count": 2,
   "metadata": {},
   "outputs": [
    {
     "data": {
      "text/plain": [
       "\"'SRID:4326;POINT(1 2)'::geographic\""
      ]
     },
     "execution_count": 2,
     "metadata": {},
     "output_type": "execute_result"
    }
   ],
   "source": [
    "# OPTION 1\n",
    "class GeoLiteral:\n",
    "    def __call__(self, value, type: str, srid: str=None):\n",
    "        if type == 'geographic':\n",
    "            pass\n",
    "        elif type == 'geometric':\n",
    "            pass\n",
    "        if srid:\n",
    "            return \"'SRID:{};{}'::{}\".format(srid, value, type)\n",
    "        return \"'{}'::{}\".format(value, type)\n",
    "    \n",
    "literal = GeoLiteral()\n",
    "literal('POINT(1 2)', type='geographic', srid='4326')"
   ]
  },
  {
   "cell_type": "code",
   "execution_count": 4,
   "metadata": {},
   "outputs": [
    {
     "data": {
      "text/plain": [
       "\"'SRID:4326;POINT(1 2)'::geographic\""
      ]
     },
     "execution_count": 4,
     "metadata": {},
     "output_type": "execute_result"
    }
   ],
   "source": [
    "# OPTION 1\n",
    "class GeoLiteral:\n",
    "    def __call__(self, value, type: str, geotype: str=None, srid: str=None):\n",
    "        if type == 'point':\n",
    "            pass\n",
    "        elif type == 'linestring':\n",
    "            pass\n",
    "        elif type == 'polygon':\n",
    "            pass\n",
    "        elif type == 'multipolygon':\n",
    "            pass\n",
    "        \n",
    "        result = ''\n",
    "        if srid:\n",
    "            result += \"'SRID:{};{}({})'\".format(srid, type.upper(), ' '.join(str(v) for v in value))\n",
    "        else:\n",
    "            result += \"'{}'\".format(type.upper(), ' '.join(str(v) for v in value))\n",
    "            \n",
    "        if geotype:\n",
    "            result += '::{}'.format(geotype)\n",
    "            \n",
    "        return result\n",
    "    \n",
    "literal = GeoLiteral()\n",
    "literal((1, 2), type='point', geotype='geographic', srid='4326')"
   ]
  }
 ],
 "metadata": {
  "kernelspec": {
   "display_name": "Python 3",
   "language": "python",
   "name": "python3"
  },
  "language_info": {
   "codemirror_mode": {
    "name": "ipython",
    "version": 3
   },
   "file_extension": ".py",
   "mimetype": "text/x-python",
   "name": "python",
   "nbconvert_exporter": "python",
   "pygments_lexer": "ipython3",
   "version": "3.6.6"
  }
 },
 "nbformat": 4,
 "nbformat_minor": 2
}
