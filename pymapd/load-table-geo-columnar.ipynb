{
 "cells": [
  {
   "cell_type": "code",
   "execution_count": 1,
   "metadata": {},
   "outputs": [],
   "source": [
    "import pyarrow\n",
    "import pymapd\n",
    "import pandas as pd\n",
    "import geopandas as gpd \n",
    "import shapely\n",
    "from shapely.geometry import Point, LineString, Polygon, MultiPolygon "
   ]
  },
  {
   "cell_type": "code",
   "execution_count": 2,
   "metadata": {},
   "outputs": [],
   "source": [
    "def cursor2df(cursor):\n",
    "    has_geodata = {\n",
    "        c.name: c.type_code in [13, 14, 15] for c in cursor.description\n",
    "    }\n",
    "    col_names = [c.name for c in cursor.description]\n",
    "\n",
    "    df_class = gpd.GeoDataFrame if any(has_geodata.values()) else pd.DataFrame\n",
    "    df = df_class(cursor.fetchall(), columns=col_names)\n",
    "\n",
    "    for c, _has_geodata in has_geodata.items():\n",
    "        if _has_geodata:\n",
    "            df.loc[:, c] = df.loc[:, c].apply(shapely.wkt.loads)\n",
    "\n",
    "    return df\n"
   ]
  },
  {
   "cell_type": "code",
   "execution_count": 3,
   "metadata": {},
   "outputs": [],
   "source": [
    "con = pymapd.connect(\n",
    "    host='localhost', user='admin', password='HyperInteractive',\n",
    "    protocol='http', port='6278'\n",
    ")"
   ]
  },
  {
   "cell_type": "code",
   "execution_count": 4,
   "metadata": {},
   "outputs": [
    {
     "data": {
      "text/plain": [
       "'5.2.0dev-20200329-cecceef8da'"
      ]
     },
     "execution_count": 4,
     "metadata": {},
     "output_type": "execute_result"
    }
   ],
   "source": [
    "con._client.get_version()"
   ]
  },
  {
   "cell_type": "markdown",
   "metadata": {},
   "source": [
    "## Geospatial fields"
   ]
  },
  {
   "cell_type": "markdown",
   "metadata": {},
   "source": [
    "### test 1"
   ]
  },
  {
   "cell_type": "code",
   "execution_count": 26,
   "metadata": {},
   "outputs": [
    {
     "data": {
      "text/plain": [
       "<pymapd.cursor.Cursor at 0x7f404bd2ce90>"
      ]
     },
     "execution_count": 26,
     "metadata": {},
     "output_type": "execute_result"
    }
   ],
   "source": [
    "table_name = 'mytablegeo'\n",
    "con.execute('''\n",
    "DROP TABLE IF EXISTS {};\n",
    "'''.format(table_name))\n",
    "\n",
    "con.execute('''\n",
    "CREATE TABLE {} (\n",
    "    a POINT, b LINESTRING, c POLYGON\n",
    ");\n",
    "'''.format(table_name))"
   ]
  },
  {
   "cell_type": "code",
   "execution_count": 27,
   "metadata": {},
   "outputs": [
    {
     "data": {
      "text/html": [
       "<div>\n",
       "<style scoped>\n",
       "    .dataframe tbody tr th:only-of-type {\n",
       "        vertical-align: middle;\n",
       "    }\n",
       "\n",
       "    .dataframe tbody tr th {\n",
       "        vertical-align: top;\n",
       "    }\n",
       "\n",
       "    .dataframe thead th {\n",
       "        text-align: right;\n",
       "    }\n",
       "</style>\n",
       "<table border=\"1\" class=\"dataframe\">\n",
       "  <thead>\n",
       "    <tr style=\"text-align: right;\">\n",
       "      <th></th>\n",
       "      <th>a</th>\n",
       "      <th>b</th>\n",
       "      <th>c</th>\n",
       "    </tr>\n",
       "  </thead>\n",
       "  <tbody>\n",
       "    <tr>\n",
       "      <th>0</th>\n",
       "      <td>POINT (0 0)</td>\n",
       "      <td>LINESTRING (2 0, 2 4, 3 4)</td>\n",
       "      <td>POLYGON ((0 0, 1 0, 0 1, 0 0))</td>\n",
       "    </tr>\n",
       "    <tr>\n",
       "      <th>1</th>\n",
       "      <td>POINT (1 1)</td>\n",
       "      <td>LINESTRING (0 0, 1 1)</td>\n",
       "      <td>POLYGON ((0 0, 4 0, 4 4, 0 4, 0 0))</td>\n",
       "    </tr>\n",
       "  </tbody>\n",
       "</table>\n",
       "</div>"
      ],
      "text/plain": [
       "             a                           b  \\\n",
       "0  POINT (0 0)  LINESTRING (2 0, 2 4, 3 4)   \n",
       "1  POINT (1 1)       LINESTRING (0 0, 1 1)   \n",
       "\n",
       "                                     c  \n",
       "0       POLYGON ((0 0, 1 0, 0 1, 0 0))  \n",
       "1  POLYGON ((0 0, 4 0, 4 4, 0 4, 0 0))  "
      ]
     },
     "execution_count": 27,
     "metadata": {},
     "output_type": "execute_result"
    }
   ],
   "source": [
    "df =  gpd.GeoDataFrame(\n",
    "    {\n",
    "        'a': [\n",
    "            shapely.geometry.Point(0, 0),\n",
    "            shapely.geometry.Point(1, 1),\n",
    "        ],\n",
    "        'b': [\n",
    "            shapely.geometry.LineString(\n",
    "                [(2, 0), (2, 4), (3, 4)]\n",
    "            ),\n",
    "            shapely.geometry.LineString([(0, 0), (1, 1)]),\n",
    "        ],\n",
    "        'c': [\n",
    "            shapely.geometry.Polygon(\n",
    "                [(0, 0), (1, 0), (0, 1), (0, 0)]\n",
    "            ),\n",
    "            shapely.geometry.Polygon(\n",
    "                [[0, 0], [4, 0], [4, 4], [0, 4], [0, 0]]\n",
    "            ),\n",
    "        ],\n",
    "    }\n",
    ")\n",
    "df"
   ]
  },
  {
   "cell_type": "code",
   "execution_count": 28,
   "metadata": {},
   "outputs": [
    {
     "data": {
      "text/html": [
       "<div>\n",
       "<style scoped>\n",
       "    .dataframe tbody tr th:only-of-type {\n",
       "        vertical-align: middle;\n",
       "    }\n",
       "\n",
       "    .dataframe tbody tr th {\n",
       "        vertical-align: top;\n",
       "    }\n",
       "\n",
       "    .dataframe thead th {\n",
       "        text-align: right;\n",
       "    }\n",
       "</style>\n",
       "<table border=\"1\" class=\"dataframe\">\n",
       "  <thead>\n",
       "    <tr style=\"text-align: right;\">\n",
       "      <th></th>\n",
       "      <th>a</th>\n",
       "      <th>b</th>\n",
       "      <th>c</th>\n",
       "    </tr>\n",
       "  </thead>\n",
       "  <tbody>\n",
       "    <tr>\n",
       "      <th>0</th>\n",
       "      <td>POINT (0 0)</td>\n",
       "      <td>LINESTRING (2 0, 2 4, 3 4)</td>\n",
       "      <td>POLYGON ((0 0, 1 0, 0 1, 0 0))</td>\n",
       "    </tr>\n",
       "    <tr>\n",
       "      <th>1</th>\n",
       "      <td>POINT (1 1)</td>\n",
       "      <td>LINESTRING (0 0, 1 1)</td>\n",
       "      <td>POLYGON ((0 0, 4 0, 4 4, 0 4, 0 0))</td>\n",
       "    </tr>\n",
       "  </tbody>\n",
       "</table>\n",
       "</div>"
      ],
      "text/plain": [
       "             a                           b  \\\n",
       "0  POINT (0 0)  LINESTRING (2 0, 2 4, 3 4)   \n",
       "1  POINT (1 1)       LINESTRING (0 0, 1 1)   \n",
       "\n",
       "                                     c  \n",
       "0       POLYGON ((0 0, 1 0, 0 1, 0 0))  \n",
       "1  POLYGON ((0 0, 4 0, 4 4, 0 4, 0 0))  "
      ]
     },
     "execution_count": 28,
     "metadata": {},
     "output_type": "execute_result"
    }
   ],
   "source": [
    "con.load_table(table_name, df, method='columnar')\n",
    "\n",
    "cur = con.execute('select * from {}'.format(table_name))\n",
    "\n",
    "df = cursor2df(cur)\n",
    "\n",
    "df"
   ]
  },
  {
   "cell_type": "markdown",
   "metadata": {},
   "source": [
    "### test 2"
   ]
  },
  {
   "cell_type": "code",
   "execution_count": 29,
   "metadata": {},
   "outputs": [
    {
     "data": {
      "text/plain": [
       "<pymapd.cursor.Cursor at 0x7f404bd2c690>"
      ]
     },
     "execution_count": 29,
     "metadata": {},
     "output_type": "execute_result"
    }
   ],
   "source": [
    "table_name = 'mytablegeo'\n",
    "con.execute('''\n",
    "DROP TABLE IF EXISTS {};\n",
    "'''.format(table_name))\n",
    "\n",
    "con.execute('''\n",
    "CREATE TABLE {} (\n",
    "    a POINT, \n",
    "    b LINESTRING, \n",
    "    c POLYGON, \n",
    "    d MULTIPOLYGON, \n",
    "    e INT,\n",
    "    f TEXT,\n",
    "    g DOUBLE\n",
    ");\n",
    "'''.format(table_name))"
   ]
  },
  {
   "cell_type": "code",
   "execution_count": 30,
   "metadata": {},
   "outputs": [
    {
     "data": {
      "text/html": [
       "<div>\n",
       "<style scoped>\n",
       "    .dataframe tbody tr th:only-of-type {\n",
       "        vertical-align: middle;\n",
       "    }\n",
       "\n",
       "    .dataframe tbody tr th {\n",
       "        vertical-align: top;\n",
       "    }\n",
       "\n",
       "    .dataframe thead th {\n",
       "        text-align: right;\n",
       "    }\n",
       "</style>\n",
       "<table border=\"1\" class=\"dataframe\">\n",
       "  <thead>\n",
       "    <tr style=\"text-align: right;\">\n",
       "      <th></th>\n",
       "      <th>a</th>\n",
       "      <th>b</th>\n",
       "      <th>c</th>\n",
       "      <th>d</th>\n",
       "      <th>e</th>\n",
       "      <th>f</th>\n",
       "      <th>g</th>\n",
       "    </tr>\n",
       "  </thead>\n",
       "  <tbody>\n",
       "    <tr>\n",
       "      <th>0</th>\n",
       "      <td>POINT (0 0)</td>\n",
       "      <td>LINESTRING (2 0, 2 4, 3 4)</td>\n",
       "      <td>POLYGON ((0 0, 1 0, 0 1, 0 0))</td>\n",
       "      <td>(POLYGON ((0 0, 1 1, 1 0, 0 0)), POLYGON ((0 0...</td>\n",
       "      <td>1</td>\n",
       "      <td>A</td>\n",
       "      <td>1.0</td>\n",
       "    </tr>\n",
       "    <tr>\n",
       "      <th>1</th>\n",
       "      <td>POINT (1 1)</td>\n",
       "      <td>LINESTRING (0 0, 1 1)</td>\n",
       "      <td>POLYGON ((0 0, 4 0, 4 4, 0 4, 0 0))</td>\n",
       "      <td>(POLYGON ((0 0, 4 0, 4 4, 0 4, 0 0)), POLYGON ...</td>\n",
       "      <td>2</td>\n",
       "      <td>B</td>\n",
       "      <td>2.2</td>\n",
       "    </tr>\n",
       "  </tbody>\n",
       "</table>\n",
       "</div>"
      ],
      "text/plain": [
       "             a                           b  \\\n",
       "0  POINT (0 0)  LINESTRING (2 0, 2 4, 3 4)   \n",
       "1  POINT (1 1)       LINESTRING (0 0, 1 1)   \n",
       "\n",
       "                                     c  \\\n",
       "0       POLYGON ((0 0, 1 0, 0 1, 0 0))   \n",
       "1  POLYGON ((0 0, 4 0, 4 4, 0 4, 0 0))   \n",
       "\n",
       "                                                   d  e  f    g  \n",
       "0  (POLYGON ((0 0, 1 1, 1 0, 0 0)), POLYGON ((0 0...  1  A  1.0  \n",
       "1  (POLYGON ((0 0, 4 0, 4 4, 0 4, 0 0)), POLYGON ...  2  B  2.2  "
      ]
     },
     "execution_count": 30,
     "metadata": {},
     "output_type": "execute_result"
    }
   ],
   "source": [
    "df =  gpd.GeoDataFrame(\n",
    "    {\n",
    "        'a': [Point(0, 0), Point(1, 1)],\n",
    "        'b': [\n",
    "            LineString([(2, 0), (2, 4), (3, 4)]),\n",
    "            LineString([(0, 0), (1, 1)]),\n",
    "        ],\n",
    "        'c': [\n",
    "            Polygon([(0, 0), (1, 0), (0, 1), (0, 0)]),\n",
    "            Polygon([[0, 0], [4, 0], [4, 4], [0, 4], [0, 0]]),\n",
    "        ],\n",
    "        'd': [\n",
    "            MultiPolygon(\n",
    "                [\n",
    "                    Polygon([(0, 0), (1, 1), (1, 0), (0, 0)]),\n",
    "                    Polygon(\n",
    "                        [\n",
    "                            (0, 0),\n",
    "                            (4, 0),\n",
    "                            (4, 4),\n",
    "                            (0, 4),\n",
    "                            (0, 0),\n",
    "                        ]\n",
    "                    ),\n",
    "                ]\n",
    "            ),\n",
    "            MultiPolygon(\n",
    "                [\n",
    "                    Polygon(\n",
    "                        [\n",
    "                            (0, 0),\n",
    "                            (4, 0),\n",
    "                            (4, 4),\n",
    "                            (0, 4),\n",
    "                            (0, 0),\n",
    "                        ]\n",
    "                    ),\n",
    "                    Polygon([(0, 0), (1, 1), (1, 0), (0, 0)]),\n",
    "                ]\n",
    "            ),\n",
    "        ],\n",
    "        'e': [1, 2],\n",
    "        'f': ['A', 'B'],\n",
    "        'g': [1.0, 2.2],\n",
    "    }\n",
    ")\n",
    "df"
   ]
  },
  {
   "cell_type": "code",
   "execution_count": 31,
   "metadata": {},
   "outputs": [
    {
     "data": {
      "text/html": [
       "<div>\n",
       "<style scoped>\n",
       "    .dataframe tbody tr th:only-of-type {\n",
       "        vertical-align: middle;\n",
       "    }\n",
       "\n",
       "    .dataframe tbody tr th {\n",
       "        vertical-align: top;\n",
       "    }\n",
       "\n",
       "    .dataframe thead th {\n",
       "        text-align: right;\n",
       "    }\n",
       "</style>\n",
       "<table border=\"1\" class=\"dataframe\">\n",
       "  <thead>\n",
       "    <tr style=\"text-align: right;\">\n",
       "      <th></th>\n",
       "      <th>a</th>\n",
       "      <th>b</th>\n",
       "      <th>c</th>\n",
       "      <th>d</th>\n",
       "      <th>e</th>\n",
       "      <th>f</th>\n",
       "      <th>g</th>\n",
       "    </tr>\n",
       "  </thead>\n",
       "  <tbody>\n",
       "    <tr>\n",
       "      <th>0</th>\n",
       "      <td>POINT (0 0)</td>\n",
       "      <td>LINESTRING (2 0, 2 4, 3 4)</td>\n",
       "      <td>POLYGON ((0 0, 1 0, 0 1, 0 0))</td>\n",
       "      <td>MULTIPOLYGON (((0 0,1 0,1 1,0 0)),((0 0,4 0,4 ...</td>\n",
       "      <td>1</td>\n",
       "      <td>A</td>\n",
       "      <td>1.0</td>\n",
       "    </tr>\n",
       "    <tr>\n",
       "      <th>1</th>\n",
       "      <td>POINT (1 1)</td>\n",
       "      <td>LINESTRING (0 0, 1 1)</td>\n",
       "      <td>POLYGON ((0 0, 4 0, 4 4, 0 4, 0 0))</td>\n",
       "      <td>MULTIPOLYGON (((0 0,4 0,4 4,0 4,0 0)),((0 0,1 ...</td>\n",
       "      <td>2</td>\n",
       "      <td>B</td>\n",
       "      <td>2.2</td>\n",
       "    </tr>\n",
       "  </tbody>\n",
       "</table>\n",
       "</div>"
      ],
      "text/plain": [
       "             a                           b  \\\n",
       "0  POINT (0 0)  LINESTRING (2 0, 2 4, 3 4)   \n",
       "1  POINT (1 1)       LINESTRING (0 0, 1 1)   \n",
       "\n",
       "                                     c  \\\n",
       "0       POLYGON ((0 0, 1 0, 0 1, 0 0))   \n",
       "1  POLYGON ((0 0, 4 0, 4 4, 0 4, 0 0))   \n",
       "\n",
       "                                                   d  e  f    g  \n",
       "0  MULTIPOLYGON (((0 0,1 0,1 1,0 0)),((0 0,4 0,4 ...  1  A  1.0  \n",
       "1  MULTIPOLYGON (((0 0,4 0,4 4,0 4,0 0)),((0 0,1 ...  2  B  2.2  "
      ]
     },
     "execution_count": 31,
     "metadata": {},
     "output_type": "execute_result"
    }
   ],
   "source": [
    "con.load_table(table_name, df, method='columnar')\n",
    "\n",
    "cur = con.execute('select * from {}'.format(table_name))\n",
    "\n",
    "df = cursor2df(cur)\n",
    "\n",
    "df"
   ]
  },
  {
   "cell_type": "markdown",
   "metadata": {},
   "source": [
    "## Auto create table"
   ]
  },
  {
   "cell_type": "code",
   "execution_count": 32,
   "metadata": {},
   "outputs": [
    {
     "data": {
      "text/plain": [
       "<pymapd.cursor.Cursor at 0x7f404bd55a50>"
      ]
     },
     "execution_count": 32,
     "metadata": {},
     "output_type": "execute_result"
    }
   ],
   "source": [
    "table_name = 'myautotableageo'\n",
    "con.execute('''\n",
    "DROP TABLE IF EXISTS {};\n",
    "'''.format(table_name))"
   ]
  },
  {
   "cell_type": "code",
   "execution_count": 33,
   "metadata": {},
   "outputs": [
    {
     "data": {
      "text/html": [
       "<div>\n",
       "<style scoped>\n",
       "    .dataframe tbody tr th:only-of-type {\n",
       "        vertical-align: middle;\n",
       "    }\n",
       "\n",
       "    .dataframe tbody tr th {\n",
       "        vertical-align: top;\n",
       "    }\n",
       "\n",
       "    .dataframe thead th {\n",
       "        text-align: right;\n",
       "    }\n",
       "</style>\n",
       "<table border=\"1\" class=\"dataframe\">\n",
       "  <thead>\n",
       "    <tr style=\"text-align: right;\">\n",
       "      <th></th>\n",
       "      <th>a</th>\n",
       "      <th>b</th>\n",
       "      <th>c</th>\n",
       "      <th>d</th>\n",
       "      <th>e</th>\n",
       "      <th>f</th>\n",
       "      <th>g</th>\n",
       "    </tr>\n",
       "  </thead>\n",
       "  <tbody>\n",
       "    <tr>\n",
       "      <th>0</th>\n",
       "      <td>POINT (0 0)</td>\n",
       "      <td>LINESTRING (2 0, 2 4, 3 4)</td>\n",
       "      <td>POLYGON ((0 0, 1 0, 0 1, 0 0))</td>\n",
       "      <td>(POLYGON ((0 0, 1 1, 1 0, 0 0)), POLYGON ((0 0...</td>\n",
       "      <td>1</td>\n",
       "      <td>A</td>\n",
       "      <td>1.0</td>\n",
       "    </tr>\n",
       "    <tr>\n",
       "      <th>1</th>\n",
       "      <td>POINT (1 1)</td>\n",
       "      <td>LINESTRING (0 0, 1 1)</td>\n",
       "      <td>POLYGON ((0 0, 4 0, 4 4, 0 4, 0 0))</td>\n",
       "      <td>(POLYGON ((0 0, 4 0, 4 4, 0 4, 0 0)), POLYGON ...</td>\n",
       "      <td>2</td>\n",
       "      <td>B</td>\n",
       "      <td>2.2</td>\n",
       "    </tr>\n",
       "  </tbody>\n",
       "</table>\n",
       "</div>"
      ],
      "text/plain": [
       "             a                           b  \\\n",
       "0  POINT (0 0)  LINESTRING (2 0, 2 4, 3 4)   \n",
       "1  POINT (1 1)       LINESTRING (0 0, 1 1)   \n",
       "\n",
       "                                     c  \\\n",
       "0       POLYGON ((0 0, 1 0, 0 1, 0 0))   \n",
       "1  POLYGON ((0 0, 4 0, 4 4, 0 4, 0 0))   \n",
       "\n",
       "                                                   d  e  f    g  \n",
       "0  (POLYGON ((0 0, 1 1, 1 0, 0 0)), POLYGON ((0 0...  1  A  1.0  \n",
       "1  (POLYGON ((0 0, 4 0, 4 4, 0 4, 0 0)), POLYGON ...  2  B  2.2  "
      ]
     },
     "execution_count": 33,
     "metadata": {},
     "output_type": "execute_result"
    }
   ],
   "source": [
    "df =  gpd.GeoDataFrame(\n",
    "    {\n",
    "        'a': [Point(0, 0), Point(1, 1)],\n",
    "        'b': [\n",
    "            LineString([(2, 0), (2, 4), (3, 4)]),\n",
    "            LineString([(0, 0), (1, 1)]),\n",
    "        ],\n",
    "        'c': [\n",
    "            Polygon([(0, 0), (1, 0), (0, 1), (0, 0)]),\n",
    "            Polygon([[0, 0], [4, 0], [4, 4], [0, 4], [0, 0]]),\n",
    "        ],\n",
    "        'd': [\n",
    "            MultiPolygon(\n",
    "                [\n",
    "                    Polygon([(0, 0), (1, 1), (1, 0), (0, 0)]),\n",
    "                    Polygon(\n",
    "                        [\n",
    "                            (0, 0),\n",
    "                            (4, 0),\n",
    "                            (4, 4),\n",
    "                            (0, 4),\n",
    "                            (0, 0),\n",
    "                        ]\n",
    "                    ),\n",
    "                ]\n",
    "            ),\n",
    "            MultiPolygon(\n",
    "                [\n",
    "                    Polygon(\n",
    "                        [\n",
    "                            (0, 0),\n",
    "                            (4, 0),\n",
    "                            (4, 4),\n",
    "                            (0, 4),\n",
    "                            (0, 0),\n",
    "                        ]\n",
    "                    ),\n",
    "                    Polygon([(0, 0), (1, 1), (1, 0), (0, 0)]),\n",
    "                ]\n",
    "            ),\n",
    "        ],\n",
    "        'e': [1, 2],\n",
    "        'f': ['A', 'B'],\n",
    "        'g': [1.0, 2.2],\n",
    "    }\n",
    ")\n",
    "df"
   ]
  },
  {
   "cell_type": "code",
   "execution_count": 34,
   "metadata": {},
   "outputs": [
    {
     "name": "stdout",
     "output_type": "stream",
     "text": [
      "> /home/xmn/dev/quansight/omnisci-project/pymapd/pymapd/_pandas_loaders.py(285)build_row_desc()\n",
      "-> return row_desc\n"
     ]
    },
    {
     "name": "stdin",
     "output_type": "stream",
     "text": [
      "(Pdb)  p row_desc\n"
     ]
    },
    {
     "name": "stdout",
     "output_type": "stream",
     "text": [
      "[TColumnType(col_name='a', col_type=TTypeInfo(type=13, encoding=None, nullable=None, is_array=None, precision=23, scale=None, comp_param=None, size=-1), is_reserved_keyword=None, src_name=None, is_system=None, is_physical=None, col_id=None), TColumnType(col_name='b', col_type=TTypeInfo(type=14, encoding=None, nullable=None, is_array=None, precision=23, scale=None, comp_param=None, size=-1), is_reserved_keyword=None, src_name=None, is_system=None, is_physical=None, col_id=None), TColumnType(col_name='c', col_type=TTypeInfo(type=15, encoding=None, nullable=None, is_array=None, precision=23, scale=None, comp_param=None, size=-1), is_reserved_keyword=None, src_name=None, is_system=None, is_physical=None, col_id=None), TColumnType(col_name='d', col_type=TTypeInfo(type=16, encoding=None, nullable=None, is_array=None, precision=23, scale=None, comp_param=None, size=-1), is_reserved_keyword=None, src_name=None, is_system=None, is_physical=None, col_id=None), TColumnType(col_name='e', col_type=TTypeInfo(type=2, encoding=None, nullable=None, is_array=None, precision=None, scale=None, comp_param=None, size=-1), is_reserved_keyword=None, src_name=None, is_system=None, is_physical=None, col_id=None), TColumnType(col_name='f', col_type=TTypeInfo(type=6, encoding=4, nullable=None, is_array=None, precision=None, scale=None, comp_param=None, size=-1), is_reserved_keyword=None, src_name=None, is_system=None, is_physical=None, col_id=None), TColumnType(col_name='g', col_type=TTypeInfo(type=5, encoding=None, nullable=None, is_array=None, precision=None, scale=None, comp_param=None, size=-1), is_reserved_keyword=None, src_name=None, is_system=None, is_physical=None, col_id=None)]\n"
     ]
    },
    {
     "name": "stdin",
     "output_type": "stream",
     "text": [
      "(Pdb)  c\n"
     ]
    },
    {
     "data": {
      "text/html": [
       "<div>\n",
       "<style scoped>\n",
       "    .dataframe tbody tr th:only-of-type {\n",
       "        vertical-align: middle;\n",
       "    }\n",
       "\n",
       "    .dataframe tbody tr th {\n",
       "        vertical-align: top;\n",
       "    }\n",
       "\n",
       "    .dataframe thead th {\n",
       "        text-align: right;\n",
       "    }\n",
       "</style>\n",
       "<table border=\"1\" class=\"dataframe\">\n",
       "  <thead>\n",
       "    <tr style=\"text-align: right;\">\n",
       "      <th></th>\n",
       "      <th>a</th>\n",
       "      <th>b</th>\n",
       "      <th>c</th>\n",
       "      <th>d</th>\n",
       "      <th>e</th>\n",
       "      <th>f</th>\n",
       "      <th>g</th>\n",
       "    </tr>\n",
       "  </thead>\n",
       "  <tbody>\n",
       "    <tr>\n",
       "      <th>0</th>\n",
       "      <td>POINT (0 0)</td>\n",
       "      <td>LINESTRING (2 0, 2 4, 3 4)</td>\n",
       "      <td>POLYGON ((0 0, 1 0, 0 1, 0 0))</td>\n",
       "      <td>MULTIPOLYGON (((0 0,1 0,1 1,0 0)),((0 0,4 0,4 ...</td>\n",
       "      <td>1</td>\n",
       "      <td>A</td>\n",
       "      <td>1.0</td>\n",
       "    </tr>\n",
       "    <tr>\n",
       "      <th>1</th>\n",
       "      <td>POINT (1 1)</td>\n",
       "      <td>LINESTRING (0 0, 1 1)</td>\n",
       "      <td>POLYGON ((0 0, 4 0, 4 4, 0 4, 0 0))</td>\n",
       "      <td>MULTIPOLYGON (((0 0,4 0,4 4,0 4,0 0)),((0 0,1 ...</td>\n",
       "      <td>2</td>\n",
       "      <td>B</td>\n",
       "      <td>2.2</td>\n",
       "    </tr>\n",
       "  </tbody>\n",
       "</table>\n",
       "</div>"
      ],
      "text/plain": [
       "             a                           b  \\\n",
       "0  POINT (0 0)  LINESTRING (2 0, 2 4, 3 4)   \n",
       "1  POINT (1 1)       LINESTRING (0 0, 1 1)   \n",
       "\n",
       "                                     c  \\\n",
       "0       POLYGON ((0 0, 1 0, 0 1, 0 0))   \n",
       "1  POLYGON ((0 0, 4 0, 4 4, 0 4, 0 0))   \n",
       "\n",
       "                                                   d  e  f    g  \n",
       "0  MULTIPOLYGON (((0 0,1 0,1 1,0 0)),((0 0,4 0,4 ...  1  A  1.0  \n",
       "1  MULTIPOLYGON (((0 0,4 0,4 4,0 4,0 0)),((0 0,1 ...  2  B  2.2  "
      ]
     },
     "execution_count": 34,
     "metadata": {},
     "output_type": "execute_result"
    }
   ],
   "source": [
    "con.load_table(table_name, df, method='columnar')\n",
    "\n",
    "cur = con.execute('select * from {}'.format(table_name))\n",
    "\n",
    "df = cursor2df(cur)\n",
    "\n",
    "df"
   ]
  },
  {
   "cell_type": "code",
   "execution_count": 35,
   "metadata": {},
   "outputs": [
    {
     "data": {
      "text/plain": [
       "[ColumnDetails(name='a', type='MULTIPOLYGON', nullable=True, precision=23, scale=0, comp_param=0, encoding='NONE', is_array=False)]"
      ]
     },
     "execution_count": 35,
     "metadata": {},
     "output_type": "execute_result"
    }
   ],
   "source": [
    "table_name = 'myautotableageo'\n",
    "con.execute('''\n",
    "DROP TABLE IF EXISTS {};\n",
    "'''.format(table_name))\n",
    "\n",
    "cur = con.execute('CREATE TABLE {} ( a GEOMETRY(MULTIPOLYGON))'.format(table_name))\n",
    "\n",
    "con.get_table_details(table_name)"
   ]
  }
 ],
 "metadata": {
  "kernelspec": {
   "display_name": "Python 3",
   "language": "python",
   "name": "python3"
  },
  "language_info": {
   "codemirror_mode": {
    "name": "ipython",
    "version": 3
   },
   "file_extension": ".py",
   "mimetype": "text/x-python",
   "name": "python",
   "nbconvert_exporter": "python",
   "pygments_lexer": "ipython3",
   "version": "3.7.6"
  }
 },
 "nbformat": 4,
 "nbformat_minor": 4
}
