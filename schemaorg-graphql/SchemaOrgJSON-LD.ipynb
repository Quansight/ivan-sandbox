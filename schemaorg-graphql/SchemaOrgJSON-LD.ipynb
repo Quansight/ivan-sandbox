{
 "cells": [
  {
   "cell_type": "markdown",
   "metadata": {},
   "source": [
    "# Exploring Schema.org JSON-LD data"
   ]
  },
  {
   "cell_type": "code",
   "execution_count": 60,
   "metadata": {},
   "outputs": [],
   "source": [
    "import copy\n",
    "import json\n",
    "import requests"
   ]
  },
  {
   "cell_type": "code",
   "execution_count": 2,
   "metadata": {},
   "outputs": [],
   "source": [
    "url = 'https://schema.org/version/3.5/schema.jsonld'\n",
    "content = requests.get(url).content.decode('utf8')"
   ]
  },
  {
   "cell_type": "code",
   "execution_count": 8,
   "metadata": {},
   "outputs": [],
   "source": [
    "content_js = json.loads(content)"
   ]
  },
  {
   "cell_type": "code",
   "execution_count": 21,
   "metadata": {},
   "outputs": [
    {
     "name": "stdout",
     "output_type": "stream",
     "text": [
      "Keys: dict_keys(['@context', '@graph', '@id'])\n",
      "@id: http://schema.org/#3.5\n",
      "@context: {'rdf': 'http://www.w3.org/1999/02/22-rdf-syntax-ns#', 'rdfs': 'http://www.w3.org/2000/01/rdf-schema#', 'xsd': 'http://www.w3.org/2001/XMLSchema#'}\n"
     ]
    }
   ],
   "source": [
    "print('Keys:', content_js.keys())\n",
    "print('@id:', content_js['@id'])\n",
    "print('@context:', content_js['@context'])"
   ]
  },
  {
   "cell_type": "code",
   "execution_count": 25,
   "metadata": {},
   "outputs": [
    {
     "name": "stdout",
     "output_type": "stream",
     "text": [
      "<class 'list'>\n",
      "1646\n"
     ]
    }
   ],
   "source": [
    "print(type(content_js['@graph']))\n",
    "print(len(content_js['@graph']))"
   ]
  },
  {
   "cell_type": "code",
   "execution_count": 38,
   "metadata": {},
   "outputs": [
    {
     "data": {
      "text/plain": [
       "{'@id',\n",
       " '@type',\n",
       " 'http://purl.org/dc/terms/source',\n",
       " 'http://schema.org/category',\n",
       " 'http://schema.org/domainIncludes',\n",
       " 'http://schema.org/inverseOf',\n",
       " 'http://schema.org/rangeIncludes',\n",
       " 'http://schema.org/sameAs',\n",
       " 'http://schema.org/supersededBy',\n",
       " 'http://www.w3.org/2002/07/owl#equivalentClass',\n",
       " 'http://www.w3.org/2002/07/owl#equivalentProperty',\n",
       " 'http://www.w3.org/2004/02/skos/core#closeMatch',\n",
       " 'rdfs:comment',\n",
       " 'rdfs:label',\n",
       " 'rdfs:subClassOf',\n",
       " 'rdfs:subPropertyOf'}"
      ]
     },
     "execution_count": 38,
     "metadata": {},
     "output_type": "execute_result"
    }
   ],
   "source": [
    "# show graph keys\n",
    "keys = set()\n",
    "\n",
    "for v in content_js['@graph']:\n",
    "    keys |= set(v.keys())\n",
    "\n",
    "keys"
   ]
  },
  {
   "cell_type": "code",
   "execution_count": 42,
   "metadata": {},
   "outputs": [
    {
     "data": {
      "text/plain": [
       "{'http://schema.org/ActionStatusType',\n",
       " 'http://schema.org/Audience',\n",
       " 'http://schema.org/BoardingPolicyType',\n",
       " 'http://schema.org/BookFormatType',\n",
       " 'http://schema.org/Boolean',\n",
       " 'http://schema.org/ContactPointOption',\n",
       " 'http://schema.org/DataType',\n",
       " 'http://schema.org/DayOfWeek',\n",
       " 'http://schema.org/DeliveryMethod',\n",
       " 'http://schema.org/DigitalDocumentPermissionType',\n",
       " 'http://schema.org/DriveWheelConfigurationValue',\n",
       " 'http://schema.org/EventStatusType',\n",
       " 'http://schema.org/GamePlayMode',\n",
       " 'http://schema.org/GameServerStatus',\n",
       " 'http://schema.org/GenderType',\n",
       " 'http://schema.org/ItemAvailability',\n",
       " 'http://schema.org/ItemListOrderType',\n",
       " 'http://schema.org/MapCategoryType',\n",
       " 'http://schema.org/MusicAlbumProductionType',\n",
       " 'http://schema.org/MusicAlbumReleaseType',\n",
       " 'http://schema.org/MusicReleaseFormatType',\n",
       " 'http://schema.org/OfferItemCondition',\n",
       " 'http://schema.org/OrderStatus',\n",
       " 'http://schema.org/PaymentStatusType',\n",
       " 'http://schema.org/ReservationStatusType',\n",
       " 'http://schema.org/RestrictedDiet',\n",
       " 'http://schema.org/RsvpResponseType',\n",
       " 'http://schema.org/SteeringPositionValue',\n",
       " 'rdf:Property',\n",
       " 'rdfs:Class'}"
      ]
     },
     "execution_count": 42,
     "metadata": {},
     "output_type": "execute_result"
    }
   ],
   "source": [
    "# show graph types\n",
    "types = set()\n",
    "for v in content_js['@graph']:\n",
    "    t = v['@type']\n",
    "    types |= set(t) if isinstance(t, list) else {t}\n",
    "types"
   ]
  },
  {
   "cell_type": "code",
   "execution_count": 59,
   "metadata": {},
   "outputs": [
    {
     "name": "stdout",
     "output_type": "stream",
     "text": [
      "# Classes: 624\n"
     ]
    }
   ],
   "source": [
    "# show graph rdfs:Class\n",
    "classes = {}\n",
    "for v in content_js['@graph']:\n",
    "    t = v['@type']\n",
    "    if not isinstance(t, list):\n",
    "        t = [t]\n",
    "    if 'rdfs:Class' not in t:\n",
    "        continue\n",
    "    classes[v['rdfs:label']] = v\n",
    "print('# Classes:', len(classes))"
   ]
  },
  {
   "cell_type": "code",
   "execution_count": 37,
   "metadata": {},
   "outputs": [
    {
     "data": {
      "text/plain": [
       "{'@id': 'http://schema.org/Dataset',\n",
       " '@type': 'rdfs:Class',\n",
       " 'http://purl.org/dc/terms/source': {'@id': 'http://www.w3.org/wiki/WebSchemas/SchemaDotOrgSources#source_DatasetClass'},\n",
       " 'http://www.w3.org/2002/07/owl#equivalentClass': [{'@id': 'http://rdfs.org/ns/void#Dataset'},\n",
       "  {'@id': 'http://purl.org/dc/dcmitype/Dataset'},\n",
       "  {'@id': 'http://www.w3.org/ns/dcat#Dataset'}],\n",
       " 'rdfs:comment': 'A body of structured information describing some topic(s) of interest.',\n",
       " 'rdfs:label': 'Dataset',\n",
       " 'rdfs:subClassOf': {'@id': 'http://schema.org/CreativeWork'}}"
      ]
     },
     "metadata": {},
     "output_type": "display_data"
    }
   ],
   "source": [
    "# get data about Dataset\n",
    "for v in content_js['@graph']:\n",
    "    if v['rdfs:label'] == 'Dataset':\n",
    "        display(v)"
   ]
  },
  {
   "cell_type": "code",
   "execution_count": 52,
   "metadata": {},
   "outputs": [
    {
     "name": "stdout",
     "output_type": "stream",
     "text": [
      "# Properties: 905\n"
     ]
    }
   ],
   "source": [
    "# get fields\n",
    "fields = set()\n",
    "for v in content_js['@graph']:\n",
    "    if v['@type'] == 'rdf:Property':\n",
    "        fields |= {v['rdfs:label']}\n",
    "print('# Properties:', len(fields))"
   ]
  },
  {
   "cell_type": "code",
   "execution_count": 54,
   "metadata": {},
   "outputs": [
    {
     "data": {
      "text/plain": [
       "{'@id': 'http://schema.org/about',\n",
       " '@type': 'rdf:Property',\n",
       " 'http://purl.org/dc/terms/source': {'@id': 'https://github.com/schemaorg/schemaorg/issues/1670'},\n",
       " 'http://schema.org/category': 'issue-1670',\n",
       " 'http://schema.org/domainIncludes': [{'@id': 'http://schema.org/CreativeWork'},\n",
       "  {'@id': 'http://schema.org/CommunicateAction'},\n",
       "  {'@id': 'http://schema.org/Event'}],\n",
       " 'http://schema.org/inverseOf': {'@id': 'http://schema.org/subjectOf'},\n",
       " 'http://schema.org/rangeIncludes': {'@id': 'http://schema.org/Thing'},\n",
       " 'rdfs:comment': 'The subject matter of the content.',\n",
       " 'rdfs:label': 'about'}"
      ]
     },
     "metadata": {},
     "output_type": "display_data"
    }
   ],
   "source": [
    "# get fields\n",
    "for v in content_js['@graph']:\n",
    "    if v['@type'] == 'rdf:Property' and v['rdfs:label'].lower() == 'about':\n",
    "        display(v)"
   ]
  },
  {
   "cell_type": "code",
   "execution_count": 63,
   "metadata": {},
   "outputs": [
    {
     "data": {
      "text/plain": [
       "{'@id': 'http://schema.org/Dataset',\n",
       " '@type': 'rdfs:Class',\n",
       " 'http://purl.org/dc/terms/source': {'@id': 'http://www.w3.org/wiki/WebSchemas/SchemaDotOrgSources#source_DatasetClass'},\n",
       " 'http://www.w3.org/2002/07/owl#equivalentClass': [{'@id': 'http://rdfs.org/ns/void#Dataset'},\n",
       "  {'@id': 'http://purl.org/dc/dcmitype/Dataset'},\n",
       "  {'@id': 'http://www.w3.org/ns/dcat#Dataset'}],\n",
       " 'rdfs:comment': 'A body of structured information describing some topic(s) of interest.',\n",
       " 'rdfs:label': 'Dataset',\n",
       " 'rdfs:subClassOf': {'@id': 'http://schema.org/CreativeWork'}}"
      ]
     },
     "execution_count": 63,
     "metadata": {},
     "output_type": "execute_result"
    }
   ],
   "source": [
    "# create schema js\n",
    "schema = copy.copy(classes)\n",
    "schema['Dataset']"
   ]
  },
  {
   "cell_type": "code",
   "execution_count": 64,
   "metadata": {},
   "outputs": [
    {
     "name": "stdout",
     "output_type": "stream",
     "text": [
      "/mnt/sda1/dev/quansight/notebooks/calpoly\n"
     ]
    }
   ],
   "source": [
    "!pwd"
   ]
  }
 ],
 "metadata": {
  "kernelspec": {
   "display_name": "Python 3",
   "language": "python",
   "name": "python3"
  },
  "language_info": {
   "codemirror_mode": {
    "name": "ipython",
    "version": 3
   },
   "file_extension": ".py",
   "mimetype": "text/x-python",
   "name": "python",
   "nbconvert_exporter": "python",
   "pygments_lexer": "ipython3",
   "version": "3.7.3"
  }
 },
 "nbformat": 4,
 "nbformat_minor": 2
}
