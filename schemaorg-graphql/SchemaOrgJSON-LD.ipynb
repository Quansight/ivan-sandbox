{
 "cells": [
  {
   "cell_type": "markdown",
   "metadata": {},
   "source": [
    "# Exploring Schema.org JSON-LD data"
   ]
  },
  {
   "cell_type": "code",
   "execution_count": 43,
   "metadata": {},
   "outputs": [],
   "source": [
    "import copy\n",
    "import json\n",
    "import requests\n",
    "from jinja2 import Template"
   ]
  },
  {
   "cell_type": "code",
   "execution_count": 2,
   "metadata": {},
   "outputs": [],
   "source": [
    "url = 'https://schema.org/version/3.5/schema.jsonld'\n",
    "content = requests.get(url).content.decode('utf8')"
   ]
  },
  {
   "cell_type": "code",
   "execution_count": 3,
   "metadata": {},
   "outputs": [],
   "source": [
    "content_js = json.loads(content)"
   ]
  },
  {
   "cell_type": "code",
   "execution_count": 4,
   "metadata": {},
   "outputs": [
    {
     "name": "stdout",
     "output_type": "stream",
     "text": [
      "Keys: dict_keys(['@context', '@graph', '@id'])\n",
      "@id: http://schema.org/#3.5\n",
      "@context: {'rdf': 'http://www.w3.org/1999/02/22-rdf-syntax-ns#', 'rdfs': 'http://www.w3.org/2000/01/rdf-schema#', 'xsd': 'http://www.w3.org/2001/XMLSchema#'}\n"
     ]
    }
   ],
   "source": [
    "print('Keys:', content_js.keys())\n",
    "print('@id:', content_js['@id'])\n",
    "print('@context:', content_js['@context'])"
   ]
  },
  {
   "cell_type": "code",
   "execution_count": 5,
   "metadata": {},
   "outputs": [
    {
     "name": "stdout",
     "output_type": "stream",
     "text": [
      "<class 'list'>\n",
      "1646\n"
     ]
    }
   ],
   "source": [
    "print(type(content_js['@graph']))\n",
    "print(len(content_js['@graph']))"
   ]
  },
  {
   "cell_type": "code",
   "execution_count": 6,
   "metadata": {},
   "outputs": [
    {
     "data": {
      "text/plain": [
       "{'@id',\n",
       " '@type',\n",
       " 'http://purl.org/dc/terms/source',\n",
       " 'http://schema.org/category',\n",
       " 'http://schema.org/domainIncludes',\n",
       " 'http://schema.org/inverseOf',\n",
       " 'http://schema.org/rangeIncludes',\n",
       " 'http://schema.org/sameAs',\n",
       " 'http://schema.org/supersededBy',\n",
       " 'http://www.w3.org/2002/07/owl#equivalentClass',\n",
       " 'http://www.w3.org/2002/07/owl#equivalentProperty',\n",
       " 'http://www.w3.org/2004/02/skos/core#closeMatch',\n",
       " 'rdfs:comment',\n",
       " 'rdfs:label',\n",
       " 'rdfs:subClassOf',\n",
       " 'rdfs:subPropertyOf'}"
      ]
     },
     "execution_count": 6,
     "metadata": {},
     "output_type": "execute_result"
    }
   ],
   "source": [
    "# show graph keys\n",
    "keys = set()\n",
    "\n",
    "for v in content_js['@graph']:\n",
    "    keys |= set(v.keys())\n",
    "\n",
    "keys"
   ]
  },
  {
   "cell_type": "code",
   "execution_count": 7,
   "metadata": {},
   "outputs": [
    {
     "data": {
      "text/plain": [
       "{'@id': 'http://schema.org/Male',\n",
       " '@type': 'http://schema.org/GenderType',\n",
       " 'rdfs:comment': 'The male gender.',\n",
       " 'rdfs:label': 'Male'}"
      ]
     },
     "metadata": {},
     "output_type": "display_data"
    },
    {
     "data": {
      "text/plain": [
       "{'@id': 'http://schema.org/Female',\n",
       " '@type': 'http://schema.org/GenderType',\n",
       " 'rdfs:comment': 'The female gender.',\n",
       " 'rdfs:label': 'Female'}"
      ]
     },
     "metadata": {},
     "output_type": "display_data"
    },
    {
     "data": {
      "text/plain": [
       "{'http://schema.org/ActionStatusType',\n",
       " 'http://schema.org/Audience',\n",
       " 'http://schema.org/BoardingPolicyType',\n",
       " 'http://schema.org/BookFormatType',\n",
       " 'http://schema.org/Boolean',\n",
       " 'http://schema.org/ContactPointOption',\n",
       " 'http://schema.org/DataType',\n",
       " 'http://schema.org/DayOfWeek',\n",
       " 'http://schema.org/DeliveryMethod',\n",
       " 'http://schema.org/DigitalDocumentPermissionType',\n",
       " 'http://schema.org/DriveWheelConfigurationValue',\n",
       " 'http://schema.org/EventStatusType',\n",
       " 'http://schema.org/GamePlayMode',\n",
       " 'http://schema.org/GameServerStatus',\n",
       " 'http://schema.org/GenderType',\n",
       " 'http://schema.org/ItemAvailability',\n",
       " 'http://schema.org/ItemListOrderType',\n",
       " 'http://schema.org/MapCategoryType',\n",
       " 'http://schema.org/MusicAlbumProductionType',\n",
       " 'http://schema.org/MusicAlbumReleaseType',\n",
       " 'http://schema.org/MusicReleaseFormatType',\n",
       " 'http://schema.org/OfferItemCondition',\n",
       " 'http://schema.org/OrderStatus',\n",
       " 'http://schema.org/PaymentStatusType',\n",
       " 'http://schema.org/ReservationStatusType',\n",
       " 'http://schema.org/RestrictedDiet',\n",
       " 'http://schema.org/RsvpResponseType',\n",
       " 'http://schema.org/SteeringPositionValue',\n",
       " 'rdf:Property',\n",
       " 'rdfs:Class'}"
      ]
     },
     "execution_count": 7,
     "metadata": {},
     "output_type": "execute_result"
    }
   ],
   "source": [
    "# show graph types\n",
    "types = set()\n",
    "for v in content_js['@graph']:\n",
    "    t = v['@type'] if isinstance(v['@type'], list) else {v['@type']}\n",
    "    types |= set(t) \n",
    "    if 'http://schema.org/GenderType' in t:\n",
    "        display(v)\n",
    "types"
   ]
  },
  {
   "cell_type": "code",
   "execution_count": 8,
   "metadata": {},
   "outputs": [
    {
     "name": "stdout",
     "output_type": "stream",
     "text": [
      "# Classes: 624\n"
     ]
    }
   ],
   "source": [
    "# show graph rdfs:Class\n",
    "classes = {}\n",
    "for v in content_js['@graph']:\n",
    "    t = v['@type']\n",
    "    if not isinstance(t, list):\n",
    "        t = [t]\n",
    "    if 'rdfs:Class' not in t:\n",
    "        continue\n",
    "    classes[v['@id']] = v\n",
    "print('# Classes:', len(classes))"
   ]
  },
  {
   "cell_type": "code",
   "execution_count": 9,
   "metadata": {},
   "outputs": [
    {
     "data": {
      "text/plain": [
       "{'@id': 'http://schema.org/AboutPage',\n",
       " '@type': 'rdfs:Class',\n",
       " 'rdfs:comment': 'Web page type: About page.',\n",
       " 'rdfs:label': 'AboutPage',\n",
       " 'rdfs:subClassOf': {'@id': 'http://schema.org/WebPage'}}"
      ]
     },
     "metadata": {},
     "output_type": "display_data"
    },
    {
     "data": {
      "text/plain": [
       "{'@id': 'http://schema.org/Dataset',\n",
       " '@type': 'rdfs:Class',\n",
       " 'http://purl.org/dc/terms/source': {'@id': 'http://www.w3.org/wiki/WebSchemas/SchemaDotOrgSources#source_DatasetClass'},\n",
       " 'http://www.w3.org/2002/07/owl#equivalentClass': [{'@id': 'http://rdfs.org/ns/void#Dataset'},\n",
       "  {'@id': 'http://purl.org/dc/dcmitype/Dataset'},\n",
       "  {'@id': 'http://www.w3.org/ns/dcat#Dataset'}],\n",
       " 'rdfs:comment': 'A body of structured information describing some topic(s) of interest.',\n",
       " 'rdfs:label': 'Dataset',\n",
       " 'rdfs:subClassOf': {'@id': 'http://schema.org/CreativeWork'}}"
      ]
     },
     "metadata": {},
     "output_type": "display_data"
    },
    {
     "data": {
      "text/plain": [
       "{'@id': 'http://schema.org/GenderType',\n",
       " '@type': 'rdfs:Class',\n",
       " 'rdfs:comment': 'An enumeration of genders.',\n",
       " 'rdfs:label': 'GenderType',\n",
       " 'rdfs:subClassOf': {'@id': 'http://schema.org/Enumeration'}}"
      ]
     },
     "metadata": {},
     "output_type": "display_data"
    }
   ],
   "source": [
    "# get data about some types\n",
    "for v in content_js['@graph']:\n",
    "    if (\n",
    "        v['rdfs:label'] == 'Dataset'\n",
    "        or v['rdfs:label'].startswith('About')\n",
    "        or v['rdfs:label'] == 'GenderType'\n",
    "    ):\n",
    "        display(v)"
   ]
  },
  {
   "cell_type": "code",
   "execution_count": 10,
   "metadata": {},
   "outputs": [
    {
     "name": "stdout",
     "output_type": "stream",
     "text": [
      "# Enums types: 29\n"
     ]
    }
   ],
   "source": [
    "enums = {}\n",
    "\n",
    "for v in content_js['@graph']:\n",
    "    if ('rdfs:subClassOf' in v):\n",
    "        if (\n",
    "            isinstance(v['rdfs:subClassOf'], dict) \n",
    "            and v['rdfs:subClassOf']['@id'] == 'http://schema.org/Enumeration'\n",
    "        ) or (\n",
    "            isinstance(v['rdfs:subClassOf'], list) \n",
    "            and len([True for item in v['rdfs:subClassOf'] if item['@id'] == 'http://schema.org/Enumeration'])\n",
    "        ): \n",
    "            enums[v['rdfs:label']] = v\n",
    "print('# Enums types:', len(enums))"
   ]
  },
  {
   "cell_type": "code",
   "execution_count": 55,
   "metadata": {},
   "outputs": [
    {
     "name": "stdout",
     "output_type": "stream",
     "text": [
      "# Gender Enum values:\n"
     ]
    },
    {
     "data": {
      "text/plain": [
       "[{'@id': 'http://schema.org/Male',\n",
       "  '@type': 'http://schema.org/GenderType',\n",
       "  'rdfs:comment': 'The male gender.',\n",
       "  'rdfs:label': 'Male'},\n",
       " {'@id': 'http://schema.org/Female',\n",
       "  '@type': 'http://schema.org/GenderType',\n",
       "  'rdfs:comment': 'The female gender.',\n",
       "  'rdfs:label': 'Female'}]"
      ]
     },
     "execution_count": 55,
     "metadata": {},
     "output_type": "execute_result"
    }
   ],
   "source": [
    "for k, e in enums.items():\n",
    "    e['__values'] = []\n",
    "    for v in content_js['@graph']:\n",
    "        if e['@id'] in v['@type']:\n",
    "            e['__values'].append(v)\n",
    "print('# Gender Enum values:')\n",
    "enums['GenderType']['__values']"
   ]
  },
  {
   "cell_type": "code",
   "execution_count": 58,
   "metadata": {},
   "outputs": [
    {
     "name": "stdout",
     "output_type": "stream",
     "text": [
      "# Properties: 905\n"
     ]
    },
    {
     "data": {
      "text/plain": [
       "\"{'http://schema.org/downloadUrl': 'downloadUrl', 'http://schema.org/pagination': 'pagination', 'http://schema.org/gameItem': 'gameItem', 'http://schema.org/departureStation': 'departureStation', 'http://schema.org/musicCompositionForm': 'musicCompositionForm', 'http://schema.org/result': 'result', 'http://schema.org/isbn': 'isbn', 'http://schema.org/occupationLocation': 'occupationLocation', 'http://schema.org/about': 'about', 'http://schema.org/accessibilitySummary': 'accessibilitySummary', 'http://schema.org/serviceArea': 'serviceArea', 'http://schema.org/memberOf': 'memberOf', 'http://schema.org/nextItem': 'nextItem', 'http://schema.org/recordingOf': 'recordingOf', 'http://schema.org/geoWithin': 'geoWithin', 'http://schema.org/audienceType': 'audienceType', 'http://schema.org/broadcastFrequency': 'broadcastFrequency', 'http://schema.org/appliesToPaymentMethod': 'appliesToPaymentMethod', 'http://schema.org/interactionService': 'interactionService', 'http://schema.org/targetDescriptio\""
      ]
     },
     "execution_count": 58,
     "metadata": {},
     "output_type": "execute_result"
    }
   ],
   "source": [
    "# get properties\n",
    "properties = {}\n",
    "for v in content_js['@graph']:\n",
    "    if v['@type'] == 'rdf:Property':\n",
    "        properties[v['@id']] = v['rdfs:label']\n",
    "print('# Properties:', len(properties))\n",
    "str(properties)[:1000]"
   ]
  },
  {
   "cell_type": "code",
   "execution_count": 28,
   "metadata": {},
   "outputs": [],
   "source": [
    "# schema properties domain\n",
    "def _prepare_types(types):\n",
    "    if isinstance(types, dict):\n",
    "        types = [types]\n",
    "    result = []\n",
    "    for t in types:\n",
    "        result.append(t['@id'])\n",
    "    return result\n",
    "\n",
    "\n",
    "schema_properties = {}\n",
    "k_domain = 'http://schema.org/domainIncludes'\n",
    "for v in content_js['@graph']:\n",
    "    if v['@type'] == 'rdf:Property' and k_domain in v:\n",
    "        v_domain = v[k_domain]\n",
    "        if isinstance(v_domain, list):\n",
    "            for d in v_domain:\n",
    "                id_domain = d['@id']\n",
    "                if id_domain not in schema_properties:\n",
    "                    schema_properties[id_domain] = {}\n",
    "                _t = _prepare_types(v.get('http://schema.org/rangeIncludes', None))\n",
    "                schema_properties[id_domain].update({v['@id']: _t})\n",
    "        else:\n",
    "            id_domain = v_domain['@id']\n",
    "            if id_domain not in schema_properties:\n",
    "                schema_properties[id_domain] = {}\n",
    "            _t = _prepare_types(v.get('http://schema.org/rangeIncludes', None))\n",
    "            schema_properties[id_domain].update({v['@id']: _t})"
   ]
  },
  {
   "cell_type": "code",
   "execution_count": 29,
   "metadata": {},
   "outputs": [
    {
     "data": {
      "text/plain": [
       "{'http://schema.org/about': ['http://schema.org/Thing'],\n",
       " 'http://schema.org/accessibilitySummary': ['http://schema.org/Text'],\n",
       " 'http://schema.org/educationalAlignment': ['http://schema.org/AlignmentObject'],\n",
       " 'http://schema.org/associatedMedia': ['http://schema.org/MediaObject'],\n",
       " 'http://schema.org/funder': ['http://schema.org/Organization',\n",
       "  'http://schema.org/Person'],\n",
       " 'http://schema.org/audio': ['http://schema.org/Clip',\n",
       "  'http://schema.org/AudioObject'],\n",
       " 'http://schema.org/provider': ['http://schema.org/Organization',\n",
       "  'http://schema.org/Person'],\n",
       " 'http://schema.org/encoding': ['http://schema.org/MediaObject'],\n",
       " 'http://schema.org/interactivityType': ['http://schema.org/Text'],\n",
       " 'http://schema.org/character': ['http://schema.org/Person'],\n",
       " 'http://schema.org/audience': ['http://schema.org/Audience'],\n",
       " 'http://schema.org/sourceOrganization': ['http://schema.org/Organization'],\n",
       " 'http://schema.org/isPartOf': ['http://schema.org/CreativeWork'],\n",
       " 'http://schema.org/video': ['http://schema.org/VideoObject',\n",
       "  'http://schema.org/Clip'],\n",
       " 'http://schema.org/publication': ['http://schema.org/PublicationEvent'],\n",
       " 'http://schema.org/text': ['http://schema.org/Text'],\n",
       " 'http://schema.org/expires': ['http://schema.org/Date'],\n",
       " 'http://schema.org/contributor': ['http://schema.org/Organization',\n",
       "  'http://schema.org/Person'],\n",
       " 'http://schema.org/publisher': ['http://schema.org/Person',\n",
       "  'http://schema.org/Organization'],\n",
       " 'http://schema.org/reviews': ['http://schema.org/Review'],\n",
       " 'http://schema.org/typicalAgeRange': ['http://schema.org/Text'],\n",
       " 'http://schema.org/position': ['http://schema.org/Integer',\n",
       "  'http://schema.org/Text'],\n",
       " 'http://schema.org/releasedEvent': ['http://schema.org/PublicationEvent'],\n",
       " 'http://schema.org/contentLocation': ['http://schema.org/Place'],\n",
       " 'http://schema.org/schemaVersion': ['http://schema.org/Text',\n",
       "  'http://schema.org/URL'],\n",
       " 'http://schema.org/accessibilityFeature': ['http://schema.org/Text'],\n",
       " 'http://schema.org/aggregateRating': ['http://schema.org/AggregateRating'],\n",
       " 'http://schema.org/locationCreated': ['http://schema.org/Place'],\n",
       " 'http://schema.org/accessModeSufficient': ['http://schema.org/Text'],\n",
       " 'http://schema.org/temporalCoverage': ['http://schema.org/Text',\n",
       "  'http://schema.org/URL',\n",
       "  'http://schema.org/DateTime'],\n",
       " 'http://schema.org/accountablePerson': ['http://schema.org/Person'],\n",
       " 'http://schema.org/spatialCoverage': ['http://schema.org/Place'],\n",
       " 'http://schema.org/offers': ['http://schema.org/Offer'],\n",
       " 'http://schema.org/editor': ['http://schema.org/Person'],\n",
       " 'http://schema.org/discussionUrl': ['http://schema.org/URL'],\n",
       " 'http://schema.org/award': ['http://schema.org/Text'],\n",
       " 'http://schema.org/copyrightHolder': ['http://schema.org/Organization',\n",
       "  'http://schema.org/Person'],\n",
       " 'http://schema.org/accessibilityHazard': ['http://schema.org/Text'],\n",
       " 'http://schema.org/copyrightYear': ['http://schema.org/Number'],\n",
       " 'http://schema.org/awards': ['http://schema.org/Text'],\n",
       " 'http://schema.org/recordedAt': ['http://schema.org/Event'],\n",
       " 'http://schema.org/spatial': ['http://schema.org/Place'],\n",
       " 'http://schema.org/commentCount': ['http://schema.org/Integer'],\n",
       " 'http://schema.org/fileFormat': ['http://schema.org/URL',\n",
       "  'http://schema.org/Text'],\n",
       " 'http://schema.org/inLanguage': ['http://schema.org/Text',\n",
       "  'http://schema.org/Language'],\n",
       " 'http://schema.org/temporal': ['http://schema.org/Text',\n",
       "  'http://schema.org/DateTime'],\n",
       " 'http://schema.org/accessibilityAPI': ['http://schema.org/Text'],\n",
       " 'http://schema.org/interactionStatistic': ['http://schema.org/InteractionCounter'],\n",
       " 'http://schema.org/contentRating': ['http://schema.org/Text',\n",
       "  'http://schema.org/Rating'],\n",
       " 'http://schema.org/learningResourceType': ['http://schema.org/Text'],\n",
       " 'http://schema.org/accessMode': ['http://schema.org/Text'],\n",
       " 'http://schema.org/material': ['http://schema.org/Product',\n",
       "  'http://schema.org/URL',\n",
       "  'http://schema.org/Text'],\n",
       " 'http://schema.org/isFamilyFriendly': ['http://schema.org/Boolean'],\n",
       " 'http://schema.org/exampleOfWork': ['http://schema.org/CreativeWork'],\n",
       " 'http://schema.org/version': ['http://schema.org/Number',\n",
       "  'http://schema.org/Text'],\n",
       " 'http://schema.org/dateModified': ['http://schema.org/DateTime',\n",
       "  'http://schema.org/Date'],\n",
       " 'http://schema.org/keywords': ['http://schema.org/Text'],\n",
       " 'http://schema.org/genre': ['http://schema.org/URL',\n",
       "  'http://schema.org/Text'],\n",
       " 'http://schema.org/mainEntity': ['http://schema.org/Thing'],\n",
       " 'http://schema.org/author': ['http://schema.org/Person',\n",
       "  'http://schema.org/Organization'],\n",
       " 'http://schema.org/encodings': ['http://schema.org/MediaObject'],\n",
       " 'http://schema.org/isBasedOnUrl': ['http://schema.org/Product',\n",
       "  'http://schema.org/URL',\n",
       "  'http://schema.org/CreativeWork'],\n",
       " 'http://schema.org/timeRequired': ['http://schema.org/Duration'],\n",
       " 'http://schema.org/translator': ['http://schema.org/Organization',\n",
       "  'http://schema.org/Person'],\n",
       " 'http://schema.org/thumbnailUrl': ['http://schema.org/URL'],\n",
       " 'http://schema.org/hasPart': ['http://schema.org/CreativeWork'],\n",
       " 'http://schema.org/comment': ['http://schema.org/Comment'],\n",
       " 'http://schema.org/encodingFormat': ['http://schema.org/Text',\n",
       "  'http://schema.org/URL'],\n",
       " 'http://schema.org/review': ['http://schema.org/Review'],\n",
       " 'http://schema.org/license': ['http://schema.org/CreativeWork',\n",
       "  'http://schema.org/URL'],\n",
       " 'http://schema.org/accessibilityControl': ['http://schema.org/Text'],\n",
       " 'http://schema.org/isBasedOn': ['http://schema.org/Product',\n",
       "  'http://schema.org/URL',\n",
       "  'http://schema.org/CreativeWork'],\n",
       " 'http://schema.org/creator': ['http://schema.org/Organization',\n",
       "  'http://schema.org/Person'],\n",
       " 'http://schema.org/publishingPrinciples': ['http://schema.org/CreativeWork',\n",
       "  'http://schema.org/URL'],\n",
       " 'http://schema.org/sponsor': ['http://schema.org/Person',\n",
       "  'http://schema.org/Organization'],\n",
       " 'http://schema.org/producer': ['http://schema.org/Person',\n",
       "  'http://schema.org/Organization'],\n",
       " 'http://schema.org/mentions': ['http://schema.org/Thing'],\n",
       " 'http://schema.org/workExample': ['http://schema.org/CreativeWork'],\n",
       " 'http://schema.org/dateCreated': ['http://schema.org/Date',\n",
       "  'http://schema.org/DateTime'],\n",
       " 'http://schema.org/educationalUse': ['http://schema.org/Text'],\n",
       " 'http://schema.org/datePublished': ['http://schema.org/Date'],\n",
       " 'http://schema.org/isAccessibleForFree': ['http://schema.org/Boolean'],\n",
       " 'http://schema.org/alternativeHeadline': ['http://schema.org/Text'],\n",
       " 'http://schema.org/headline': ['http://schema.org/Text'],\n",
       " 'http://schema.org/citation': ['http://schema.org/CreativeWork',\n",
       "  'http://schema.org/Text']}"
      ]
     },
     "metadata": {},
     "output_type": "display_data"
    }
   ],
   "source": [
    "display(schema_properties['http://schema.org/CreativeWork'])"
   ]
  },
  {
   "cell_type": "code",
   "execution_count": 59,
   "metadata": {},
   "outputs": [
    {
     "name": "stdout",
     "output_type": "stream",
     "text": [
      "EE http://schema.org/MedicalBusiness\n",
      "EE http://schema.org/MedicalBusiness\n",
      "EE http://schema.org/MedicalBusiness\n",
      "EE rdfs:Class\n"
     ]
    }
   ],
   "source": [
    "# create schema js\n",
    "def _get_properties(schema, properties):\n",
    "    schema_id = schema['@id']\n",
    "    properties.update(schema_properties.get(schema_id, {}))\n",
    "    \n",
    "    if not 'rdfs:subClassOf' in schema:\n",
    "        return\n",
    "    \n",
    "    sub_class_of = schema['rdfs:subClassOf']\n",
    "\n",
    "    if isinstance(sub_class_of, dict):\n",
    "        sub_class_of = [sub_class_of]\n",
    "\n",
    "    for c in sub_class_of:\n",
    "        if c['@id'] not in schemas:\n",
    "            print('EE', c['@id'])\n",
    "            continue\n",
    "        _get_properties(schemas[c['@id']], properties)\n",
    "\n",
    "    schema['__properties'] = properties\n",
    "        \n",
    "        \n",
    "def get_properties_recursively(schemas, schema=None):\n",
    "    if schema is None:\n",
    "        for k, schema in schemas.items():\n",
    "            schema_id = schema['@id']\n",
    "            properties = schema_properties.get(schema_id, {})\n",
    "            _get_properties(schema, properties)\n",
    "            \n",
    "    else:\n",
    "        schema_id = schema['@id']\n",
    "        properties = schema_properties.get(schema_id, {})\n",
    "        _get_properties(schema, properties)\n",
    "\n",
    "schemas = copy.copy(classes)\n",
    "get_properties_recursively(schemas)"
   ]
  },
  {
   "cell_type": "code",
   "execution_count": 60,
   "metadata": {},
   "outputs": [
    {
     "data": {
      "text/plain": [
       "{'http://schema.org/dataFeedElement': ['http://schema.org/Thing',\n",
       "  'http://schema.org/Text',\n",
       "  'http://schema.org/DataFeedItem'],\n",
       " 'http://schema.org/includedInDataCatalog': ['http://schema.org/DataCatalog'],\n",
       " 'http://schema.org/datasetTimeInterval': ['http://schema.org/DateTime'],\n",
       " 'http://schema.org/issn': ['http://schema.org/Text'],\n",
       " 'http://schema.org/catalog': ['http://schema.org/DataCatalog'],\n",
       " 'http://schema.org/includedDataCatalog': ['http://schema.org/DataCatalog'],\n",
       " 'http://schema.org/distribution': ['http://schema.org/DataDownload'],\n",
       " 'http://schema.org/about': ['http://schema.org/Thing'],\n",
       " 'http://schema.org/accessibilitySummary': ['http://schema.org/Text'],\n",
       " 'http://schema.org/educationalAlignment': ['http://schema.org/AlignmentObject'],\n",
       " 'http://schema.org/associatedMedia': ['http://schema.org/MediaObject'],\n",
       " 'http://schema.org/funder': ['http://schema.org/Organization',\n",
       "  'http://schema.org/Person'],\n",
       " 'http://schema.org/audio': ['http://schema.org/Clip',\n",
       "  'http://schema.org/AudioObject'],\n",
       " 'http://schema.org/provider': ['http://schema.org/Organization',\n",
       "  'http://schema.org/Person'],\n",
       " 'http://schema.org/encoding': ['http://schema.org/MediaObject'],\n",
       " 'http://schema.org/interactivityType': ['http://schema.org/Text'],\n",
       " 'http://schema.org/character': ['http://schema.org/Person'],\n",
       " 'http://schema.org/audience': ['http://schema.org/Audience'],\n",
       " 'http://schema.org/sourceOrganization': ['http://schema.org/Organization'],\n",
       " 'http://schema.org/isPartOf': ['http://schema.org/CreativeWork'],\n",
       " 'http://schema.org/video': ['http://schema.org/VideoObject',\n",
       "  'http://schema.org/Clip'],\n",
       " 'http://schema.org/publication': ['http://schema.org/PublicationEvent'],\n",
       " 'http://schema.org/text': ['http://schema.org/Text'],\n",
       " 'http://schema.org/expires': ['http://schema.org/Date'],\n",
       " 'http://schema.org/contributor': ['http://schema.org/Organization',\n",
       "  'http://schema.org/Person'],\n",
       " 'http://schema.org/publisher': ['http://schema.org/Person',\n",
       "  'http://schema.org/Organization'],\n",
       " 'http://schema.org/reviews': ['http://schema.org/Review'],\n",
       " 'http://schema.org/typicalAgeRange': ['http://schema.org/Text'],\n",
       " 'http://schema.org/position': ['http://schema.org/Integer',\n",
       "  'http://schema.org/Text'],\n",
       " 'http://schema.org/releasedEvent': ['http://schema.org/PublicationEvent'],\n",
       " 'http://schema.org/contentLocation': ['http://schema.org/Place'],\n",
       " 'http://schema.org/schemaVersion': ['http://schema.org/Text',\n",
       "  'http://schema.org/URL'],\n",
       " 'http://schema.org/accessibilityFeature': ['http://schema.org/Text'],\n",
       " 'http://schema.org/aggregateRating': ['http://schema.org/AggregateRating'],\n",
       " 'http://schema.org/locationCreated': ['http://schema.org/Place'],\n",
       " 'http://schema.org/accessModeSufficient': ['http://schema.org/Text'],\n",
       " 'http://schema.org/temporalCoverage': ['http://schema.org/Text',\n",
       "  'http://schema.org/URL',\n",
       "  'http://schema.org/DateTime'],\n",
       " 'http://schema.org/accountablePerson': ['http://schema.org/Person'],\n",
       " 'http://schema.org/spatialCoverage': ['http://schema.org/Place'],\n",
       " 'http://schema.org/offers': ['http://schema.org/Offer'],\n",
       " 'http://schema.org/editor': ['http://schema.org/Person'],\n",
       " 'http://schema.org/discussionUrl': ['http://schema.org/URL'],\n",
       " 'http://schema.org/award': ['http://schema.org/Text'],\n",
       " 'http://schema.org/copyrightHolder': ['http://schema.org/Organization',\n",
       "  'http://schema.org/Person'],\n",
       " 'http://schema.org/accessibilityHazard': ['http://schema.org/Text'],\n",
       " 'http://schema.org/copyrightYear': ['http://schema.org/Number'],\n",
       " 'http://schema.org/awards': ['http://schema.org/Text'],\n",
       " 'http://schema.org/recordedAt': ['http://schema.org/Event'],\n",
       " 'http://schema.org/spatial': ['http://schema.org/Place'],\n",
       " 'http://schema.org/commentCount': ['http://schema.org/Integer'],\n",
       " 'http://schema.org/fileFormat': ['http://schema.org/URL',\n",
       "  'http://schema.org/Text'],\n",
       " 'http://schema.org/inLanguage': ['http://schema.org/Text',\n",
       "  'http://schema.org/Language'],\n",
       " 'http://schema.org/temporal': ['http://schema.org/Text',\n",
       "  'http://schema.org/DateTime'],\n",
       " 'http://schema.org/accessibilityAPI': ['http://schema.org/Text'],\n",
       " 'http://schema.org/interactionStatistic': ['http://schema.org/InteractionCounter'],\n",
       " 'http://schema.org/contentRating': ['http://schema.org/Text',\n",
       "  'http://schema.org/Rating'],\n",
       " 'http://schema.org/learningResourceType': ['http://schema.org/Text'],\n",
       " 'http://schema.org/accessMode': ['http://schema.org/Text'],\n",
       " 'http://schema.org/material': ['http://schema.org/Product',\n",
       "  'http://schema.org/URL',\n",
       "  'http://schema.org/Text'],\n",
       " 'http://schema.org/isFamilyFriendly': ['http://schema.org/Boolean'],\n",
       " 'http://schema.org/exampleOfWork': ['http://schema.org/CreativeWork'],\n",
       " 'http://schema.org/version': ['http://schema.org/Number',\n",
       "  'http://schema.org/Text'],\n",
       " 'http://schema.org/dateModified': ['http://schema.org/DateTime',\n",
       "  'http://schema.org/Date'],\n",
       " 'http://schema.org/keywords': ['http://schema.org/Text'],\n",
       " 'http://schema.org/genre': ['http://schema.org/URL',\n",
       "  'http://schema.org/Text'],\n",
       " 'http://schema.org/mainEntity': ['http://schema.org/Thing'],\n",
       " 'http://schema.org/author': ['http://schema.org/Person',\n",
       "  'http://schema.org/Organization'],\n",
       " 'http://schema.org/encodings': ['http://schema.org/MediaObject'],\n",
       " 'http://schema.org/isBasedOnUrl': ['http://schema.org/Product',\n",
       "  'http://schema.org/URL',\n",
       "  'http://schema.org/CreativeWork'],\n",
       " 'http://schema.org/timeRequired': ['http://schema.org/Duration'],\n",
       " 'http://schema.org/translator': ['http://schema.org/Organization',\n",
       "  'http://schema.org/Person'],\n",
       " 'http://schema.org/thumbnailUrl': ['http://schema.org/URL'],\n",
       " 'http://schema.org/hasPart': ['http://schema.org/CreativeWork'],\n",
       " 'http://schema.org/comment': ['http://schema.org/Comment'],\n",
       " 'http://schema.org/encodingFormat': ['http://schema.org/Text',\n",
       "  'http://schema.org/URL'],\n",
       " 'http://schema.org/review': ['http://schema.org/Review'],\n",
       " 'http://schema.org/license': ['http://schema.org/CreativeWork',\n",
       "  'http://schema.org/URL'],\n",
       " 'http://schema.org/accessibilityControl': ['http://schema.org/Text'],\n",
       " 'http://schema.org/isBasedOn': ['http://schema.org/Product',\n",
       "  'http://schema.org/URL',\n",
       "  'http://schema.org/CreativeWork'],\n",
       " 'http://schema.org/creator': ['http://schema.org/Organization',\n",
       "  'http://schema.org/Person'],\n",
       " 'http://schema.org/publishingPrinciples': ['http://schema.org/CreativeWork',\n",
       "  'http://schema.org/URL'],\n",
       " 'http://schema.org/sponsor': ['http://schema.org/Person',\n",
       "  'http://schema.org/Organization'],\n",
       " 'http://schema.org/producer': ['http://schema.org/Person',\n",
       "  'http://schema.org/Organization'],\n",
       " 'http://schema.org/mentions': ['http://schema.org/Thing'],\n",
       " 'http://schema.org/workExample': ['http://schema.org/CreativeWork'],\n",
       " 'http://schema.org/dateCreated': ['http://schema.org/Date',\n",
       "  'http://schema.org/DateTime'],\n",
       " 'http://schema.org/educationalUse': ['http://schema.org/Text'],\n",
       " 'http://schema.org/datePublished': ['http://schema.org/Date'],\n",
       " 'http://schema.org/isAccessibleForFree': ['http://schema.org/Boolean'],\n",
       " 'http://schema.org/alternativeHeadline': ['http://schema.org/Text'],\n",
       " 'http://schema.org/headline': ['http://schema.org/Text'],\n",
       " 'http://schema.org/citation': ['http://schema.org/CreativeWork',\n",
       "  'http://schema.org/Text'],\n",
       " 'http://schema.org/sameAs': ['http://schema.org/URL'],\n",
       " 'http://schema.org/alternateName': ['http://schema.org/Text'],\n",
       " 'http://schema.org/image': ['http://schema.org/URL',\n",
       "  'http://schema.org/ImageObject'],\n",
       " 'http://schema.org/additionalType': ['http://schema.org/URL'],\n",
       " 'http://schema.org/name': ['http://schema.org/Text'],\n",
       " 'http://schema.org/identifier': ['http://schema.org/Text',\n",
       "  'http://schema.org/URL',\n",
       "  'http://schema.org/PropertyValue'],\n",
       " 'http://schema.org/subjectOf': ['http://schema.org/CreativeWork',\n",
       "  'http://schema.org/Event'],\n",
       " 'http://schema.org/mainEntityOfPage': ['http://schema.org/CreativeWork',\n",
       "  'http://schema.org/URL'],\n",
       " 'http://schema.org/url': ['http://schema.org/URL'],\n",
       " 'http://schema.org/potentialAction': ['http://schema.org/Action'],\n",
       " 'http://schema.org/description': ['http://schema.org/Text'],\n",
       " 'http://schema.org/disambiguatingDescription': ['http://schema.org/Text']}"
      ]
     },
     "metadata": {},
     "output_type": "display_data"
    }
   ],
   "source": [
    "display(schemas['http://schema.org/Dataset']['__properties'])"
   ]
  },
  {
   "cell_type": "code",
   "execution_count": 61,
   "metadata": {},
   "outputs": [
    {
     "data": {
      "text/plain": [
       "{'http://schema.org/memberOf': ['http://schema.org/ProgramMembership',\n",
       "  'http://schema.org/Organization'],\n",
       " 'http://schema.org/address': ['http://schema.org/Text',\n",
       "  'http://schema.org/PostalAddress'],\n",
       " 'http://schema.org/spouse': ['http://schema.org/Person'],\n",
       " 'http://schema.org/funder': ['http://schema.org/Organization',\n",
       "  'http://schema.org/Person'],\n",
       " 'http://schema.org/colleagues': ['http://schema.org/Person'],\n",
       " 'http://schema.org/deathDate': ['http://schema.org/Date'],\n",
       " 'http://schema.org/height': ['http://schema.org/Distance',\n",
       "  'http://schema.org/QuantitativeValue'],\n",
       " 'http://schema.org/workLocation': ['http://schema.org/Place',\n",
       "  'http://schema.org/ContactPoint'],\n",
       " 'http://schema.org/children': ['http://schema.org/Person'],\n",
       " 'http://schema.org/hasOccupation': ['http://schema.org/Occupation'],\n",
       " 'http://schema.org/jobTitle': ['http://schema.org/Text'],\n",
       " 'http://schema.org/hasOfferCatalog': ['http://schema.org/OfferCatalog'],\n",
       " 'http://schema.org/deathPlace': ['http://schema.org/Place'],\n",
       " 'http://schema.org/globalLocationNumber': ['http://schema.org/Text'],\n",
       " 'http://schema.org/birthPlace': ['http://schema.org/Place'],\n",
       " 'http://schema.org/gender': ['http://schema.org/Text',\n",
       "  'http://schema.org/GenderType'],\n",
       " 'http://schema.org/alumniOf': ['http://schema.org/Organization',\n",
       "  'http://schema.org/EducationalOrganization'],\n",
       " 'http://schema.org/homeLocation': ['http://schema.org/Place',\n",
       "  'http://schema.org/ContactPoint'],\n",
       " 'http://schema.org/duns': ['http://schema.org/Text'],\n",
       " 'http://schema.org/taxID': ['http://schema.org/Text'],\n",
       " 'http://schema.org/award': ['http://schema.org/Text'],\n",
       " 'http://schema.org/birthDate': ['http://schema.org/Date'],\n",
       " 'http://schema.org/makesOffer': ['http://schema.org/Offer'],\n",
       " 'http://schema.org/contactPoints': ['http://schema.org/ContactPoint'],\n",
       " 'http://schema.org/awards': ['http://schema.org/Text'],\n",
       " 'http://schema.org/familyName': ['http://schema.org/Text'],\n",
       " 'http://schema.org/seeks': ['http://schema.org/Demand'],\n",
       " 'http://schema.org/sibling': ['http://schema.org/Person'],\n",
       " 'http://schema.org/performerIn': ['http://schema.org/Event'],\n",
       " 'http://schema.org/honorificPrefix': ['http://schema.org/Text'],\n",
       " 'http://schema.org/additionalName': ['http://schema.org/Text'],\n",
       " 'http://schema.org/siblings': ['http://schema.org/Person'],\n",
       " 'http://schema.org/telephone': ['http://schema.org/Text'],\n",
       " 'http://schema.org/email': ['http://schema.org/Text'],\n",
       " 'http://schema.org/weight': ['http://schema.org/QuantitativeValue'],\n",
       " 'http://schema.org/contactPoint': ['http://schema.org/ContactPoint'],\n",
       " 'http://schema.org/colleague': ['http://schema.org/Person',\n",
       "  'http://schema.org/URL'],\n",
       " 'http://schema.org/parents': ['http://schema.org/Person'],\n",
       " 'http://schema.org/givenName': ['http://schema.org/Text'],\n",
       " 'http://schema.org/naics': ['http://schema.org/Text'],\n",
       " 'http://schema.org/hasPOS': ['http://schema.org/Place'],\n",
       " 'http://schema.org/parent': ['http://schema.org/Person'],\n",
       " 'http://schema.org/owns': ['http://schema.org/Product',\n",
       "  'http://schema.org/OwnershipInfo'],\n",
       " 'http://schema.org/affiliation': ['http://schema.org/Organization'],\n",
       " 'http://schema.org/publishingPrinciples': ['http://schema.org/CreativeWork',\n",
       "  'http://schema.org/URL'],\n",
       " 'http://schema.org/sponsor': ['http://schema.org/Person',\n",
       "  'http://schema.org/Organization'],\n",
       " 'http://schema.org/isicV4': ['http://schema.org/Text'],\n",
       " 'http://schema.org/brand': ['http://schema.org/Organization',\n",
       "  'http://schema.org/Brand'],\n",
       " 'http://schema.org/honorificSuffix': ['http://schema.org/Text'],\n",
       " 'http://schema.org/netWorth': ['http://schema.org/PriceSpecification',\n",
       "  'http://schema.org/MonetaryAmount'],\n",
       " 'http://schema.org/vatID': ['http://schema.org/Text'],\n",
       " 'http://schema.org/nationality': ['http://schema.org/Country'],\n",
       " 'http://schema.org/faxNumber': ['http://schema.org/Text'],\n",
       " 'http://schema.org/relatedTo': ['http://schema.org/Person'],\n",
       " 'http://schema.org/follows': ['http://schema.org/Person'],\n",
       " 'http://schema.org/knows': ['http://schema.org/Person'],\n",
       " 'http://schema.org/worksFor': ['http://schema.org/Organization'],\n",
       " 'http://schema.org/sameAs': ['http://schema.org/URL'],\n",
       " 'http://schema.org/alternateName': ['http://schema.org/Text'],\n",
       " 'http://schema.org/image': ['http://schema.org/URL',\n",
       "  'http://schema.org/ImageObject'],\n",
       " 'http://schema.org/additionalType': ['http://schema.org/URL'],\n",
       " 'http://schema.org/name': ['http://schema.org/Text'],\n",
       " 'http://schema.org/identifier': ['http://schema.org/Text',\n",
       "  'http://schema.org/URL',\n",
       "  'http://schema.org/PropertyValue'],\n",
       " 'http://schema.org/subjectOf': ['http://schema.org/CreativeWork',\n",
       "  'http://schema.org/Event'],\n",
       " 'http://schema.org/mainEntityOfPage': ['http://schema.org/CreativeWork',\n",
       "  'http://schema.org/URL'],\n",
       " 'http://schema.org/url': ['http://schema.org/URL'],\n",
       " 'http://schema.org/potentialAction': ['http://schema.org/Action'],\n",
       " 'http://schema.org/description': ['http://schema.org/Text'],\n",
       " 'http://schema.org/disambiguatingDescription': ['http://schema.org/Text']}"
      ]
     },
     "metadata": {},
     "output_type": "display_data"
    }
   ],
   "source": [
    "display(schemas['http://schema.org/Person']['__properties'])"
   ]
  },
  {
   "cell_type": "markdown",
   "metadata": {},
   "source": [
    "## Converting to GraphQL types"
   ]
  },
  {
   "cell_type": "code",
   "execution_count": 131,
   "metadata": {},
   "outputs": [
    {
     "data": {
      "text/plain": [
       "{'DataFeedItem', 'Thing'}"
      ]
     },
     "execution_count": 131,
     "metadata": {},
     "output_type": "execute_result"
    }
   ],
   "source": [
    "# Schema Data Types -> GraphQL Types\n",
    "schema_graphql_map = {\n",
    "    'Text': 'GraphQLString',\n",
    "    'URL': 'GraphQLString',\n",
    "    'PropertyValue': 'GraphQLString',\n",
    "    'Date': 'GraphQLString',\n",
    "    'Number': 'GraphQLFloat',\n",
    "    'Float': 'GraphQLFloat',\n",
    "    'Integer': 'GraphQLInt',\n",
    "    'Time': 'GraphQLString',\n",
    "    'DateTime': 'GraphQLString',\n",
    "    'Boolean': 'GraphQLBoolean',\n",
    "    'CssSelectorType': 'GraphQLString',\n",
    "    'XPathType': 'GraphQLString',\n",
    "}\n",
    "\n",
    "# GraphQL Types\n",
    "graphql_primitive_types = (\n",
    "    'GraphQLString',\n",
    "    'GraphQLInt',\n",
    "    'GraphQLFloat',\n",
    "    'GraphQLBoolean',\n",
    ")\n",
    "\n",
    "def fix_expected_types(\n",
    "    types,\n",
    "    schema_graphql_map=schema_graphql_map,\n",
    "    graphql_primitive_types=graphql_primitive_types\n",
    "):\n",
    "    \"\"\"fix_expected_types\"\"\"\n",
    "    result = {\n",
    "        schema_graphql_map[t] if t in schema_graphql_map\n",
    "        else t\n",
    "        for t in types\n",
    "    }\n",
    "    \n",
    "    n_total = len(result)\n",
    "    n_primitive = len([\n",
    "        None for t in result if t in graphql_primitive_types\n",
    "    ])\n",
    "    \n",
    "    if n_total > 1:\n",
    "        if n_total == n_primitive:\n",
    "            result = {'GraphQLString'}\n",
    "        else:\n",
    "            result = {\n",
    "                t for t in result \n",
    "                if t not in graphql_primitive_types\n",
    "            }\n",
    "    return result\n",
    "\n",
    "\n",
    "def get_name_from_id(schema_id):\n",
    "    return schema_id.split('/')[-1]\n",
    "\n",
    "\n",
    "def get_graphql_type_names(schemas, types):\n",
    "    result = []\n",
    "    for t in types:\n",
    "        if t in schemas:\n",
    "            result.append(schemas[t]['rdfs:label'])\n",
    "        else:\n",
    "            _type_name = get_name_from_id(t)\n",
    "            # print('EE', t, _type_name)\n",
    "            result.append(_type_name)\n",
    "    return fix_expected_types(result)\n",
    "\n",
    "\n",
    "get_graphql_type_names(\n",
    "    schemas, {\n",
    "        'http://schema.org/DataFeedItem',\n",
    "        'http://schema.org/Text',\n",
    "        'http://schema.org/Thing'}\n",
    ")"
   ]
  },
  {
   "cell_type": "code",
   "execution_count": 132,
   "metadata": {},
   "outputs": [
    {
     "data": {
      "text/plain": [
       "{'dataFeedElement': 'dataFeedElement',\n",
       " 'includedInDataCatalog': 'DataCatalog',\n",
       " 'datasetTimeInterval': 'GraphQLString',\n",
       " 'issn': 'GraphQLString',\n",
       " 'catalog': 'DataCatalog',\n",
       " 'includedDataCatalog': 'DataCatalog',\n",
       " 'distribution': 'DataDownload',\n",
       " 'about': 'Thing',\n",
       " 'accessibilitySummary': 'GraphQLString',\n",
       " 'educationalAlignment': 'AlignmentObject',\n",
       " 'associatedMedia': 'MediaObject',\n",
       " 'funder': 'funder',\n",
       " 'audio': 'audio',\n",
       " 'provider': 'provider',\n",
       " 'encoding': 'MediaObject',\n",
       " 'interactivityType': 'GraphQLString',\n",
       " 'character': 'Person',\n",
       " 'audience': 'Audience',\n",
       " 'sourceOrganization': 'Organization',\n",
       " 'isPartOf': 'CreativeWork',\n",
       " 'video': 'video',\n",
       " 'publication': 'PublicationEvent',\n",
       " 'text': 'GraphQLString',\n",
       " 'expires': 'GraphQLString',\n",
       " 'contributor': 'contributor',\n",
       " 'publisher': 'publisher',\n",
       " 'reviews': 'Review',\n",
       " 'typicalAgeRange': 'GraphQLString',\n",
       " 'position': 'position',\n",
       " 'releasedEvent': 'PublicationEvent',\n",
       " 'contentLocation': 'Place',\n",
       " 'schemaVersion': 'schemaVersion',\n",
       " 'accessibilityFeature': 'GraphQLString',\n",
       " 'aggregateRating': 'AggregateRating',\n",
       " 'locationCreated': 'Place',\n",
       " 'accessModeSufficient': 'GraphQLString',\n",
       " 'temporalCoverage': 'temporalCoverage',\n",
       " 'accountablePerson': 'Person',\n",
       " 'spatialCoverage': 'Place',\n",
       " 'offers': 'Offer',\n",
       " 'editor': 'Person',\n",
       " 'discussionUrl': 'GraphQLString',\n",
       " 'award': 'GraphQLString',\n",
       " 'copyrightHolder': 'copyrightHolder',\n",
       " 'accessibilityHazard': 'GraphQLString',\n",
       " 'copyrightYear': 'GraphQLFloat',\n",
       " 'awards': 'GraphQLString',\n",
       " 'recordedAt': 'Event',\n",
       " 'spatial': 'Place',\n",
       " 'commentCount': 'GraphQLInt',\n",
       " 'fileFormat': 'fileFormat',\n",
       " 'inLanguage': 'inLanguage',\n",
       " 'temporal': 'temporal',\n",
       " 'accessibilityAPI': 'GraphQLString',\n",
       " 'interactionStatistic': 'InteractionCounter',\n",
       " 'contentRating': 'contentRating',\n",
       " 'learningResourceType': 'GraphQLString',\n",
       " 'accessMode': 'GraphQLString',\n",
       " 'material': 'material',\n",
       " 'isFamilyFriendly': 'GraphQLBoolean',\n",
       " 'exampleOfWork': 'CreativeWork',\n",
       " 'version': 'version',\n",
       " 'dateModified': 'dateModified',\n",
       " 'keywords': 'GraphQLString',\n",
       " 'genre': 'genre',\n",
       " 'mainEntity': 'Thing',\n",
       " 'author': 'author',\n",
       " 'encodings': 'MediaObject',\n",
       " 'isBasedOnUrl': 'isBasedOnUrl',\n",
       " 'timeRequired': 'Duration',\n",
       " 'translator': 'translator',\n",
       " 'thumbnailUrl': 'GraphQLString',\n",
       " 'hasPart': 'CreativeWork',\n",
       " 'comment': 'Comment',\n",
       " 'encodingFormat': 'encodingFormat',\n",
       " 'review': 'Review',\n",
       " 'license': 'license',\n",
       " 'accessibilityControl': 'GraphQLString',\n",
       " 'isBasedOn': 'isBasedOn',\n",
       " 'creator': 'creator',\n",
       " 'publishingPrinciples': 'publishingPrinciples',\n",
       " 'sponsor': 'sponsor',\n",
       " 'producer': 'producer',\n",
       " 'mentions': 'Thing',\n",
       " 'workExample': 'CreativeWork',\n",
       " 'dateCreated': 'dateCreated',\n",
       " 'educationalUse': 'GraphQLString',\n",
       " 'datePublished': 'GraphQLString',\n",
       " 'isAccessibleForFree': 'GraphQLBoolean',\n",
       " 'alternativeHeadline': 'GraphQLString',\n",
       " 'headline': 'GraphQLString',\n",
       " 'citation': 'citation',\n",
       " 'sameAs': 'GraphQLString',\n",
       " 'alternateName': 'GraphQLString',\n",
       " 'image': 'image',\n",
       " 'additionalType': 'GraphQLString',\n",
       " 'name': 'GraphQLString',\n",
       " 'identifier': 'identifier',\n",
       " 'subjectOf': 'subjectOf',\n",
       " 'mainEntityOfPage': 'mainEntityOfPage',\n",
       " 'url': 'GraphQLString',\n",
       " 'potentialAction': 'Action',\n",
       " 'description': 'GraphQLString',\n",
       " 'disambiguatingDescription': 'GraphQLString'}"
      ]
     },
     "execution_count": 132,
     "metadata": {},
     "output_type": "execute_result"
    }
   ],
   "source": [
    "# TODO: convert to the new structure\n",
    "\n",
    "def get_union_types(schemas, schema_properties):\n",
    "    schema_properties = copy.copy(schema_properties)\n",
    "    \n",
    "    result = {}\n",
    "    for schema_id, v in schema_properties.items():\n",
    "        schema_name = get_name_from_id(schema_id) \n",
    "        if len(v) > 1:\n",
    "            result[schema_name] = schema_name\n",
    "        else:\n",
    "            result[schema_name] = list(get_graphql_type_names(schemas, v))[0]\n",
    "    return result\n",
    "\n",
    "\n",
    "get_union_types(schemas, schemas['http://schema.org/Dataset']['__properties'])"
   ]
  },
  {
   "cell_type": "code",
   "execution_count": 133,
   "metadata": {},
   "outputs": [
    {
     "data": {
      "text/plain": [
       "\"{'about': 'Thing', 'funder': 'funder', 'workFeatured': 'CreativeWork', 'audience': 'Audience', 'remainingAttendeeCapacity': 'GraphQLInt', 'actor': 'Person', 'performers': 'performers', 'endDate': 'endDate', 'doorTime': 'GraphQLString', 'contributor': 'contributor', 'maximumAttendeeCapacity': 'GraphQLInt', 'typicalAgeRange': 'GraphQLString', 'organizer': 'organizer', 'attendees': 'attendees', 'aggregateRating': 'AggregateRating', 'subEvent': 'Event', 'subEvents': 'Event', 'offers': 'Offer', 'inLanguage': 'inLanguage', 'attendee': 'attendee', 'workPerformed': 'CreativeWork', 'eventStatus': 'EventStatusType', 'startDate': 'startDate', 'director': 'Person', 'superEvent': 'Event', 'duration': 'Duration', 'translator': 'translator', 'previousStartDate': 'GraphQLString', 'review': 'Review', 'sponsor': 'sponsor', 'location': 'location', 'recordedIn': 'CreativeWork', 'composer': 'composer', 'isAccessibleForFree': 'GraphQLBoolean', 'performer': 'performer', 'sameAs': 'GraphQLString', 'alternateN\""
      ]
     },
     "execution_count": 133,
     "metadata": {},
     "output_type": "execute_result"
    }
   ],
   "source": [
    "def get_schemas_union_types(schemas):\n",
    "    union_types = {}\n",
    "\n",
    "    for schema_name, schema_detail in schemas.items():\n",
    "        if '__properties' not in schema_detail:\n",
    "            # Schema.org Primitive Data types don't have properties\n",
    "            # print('EE', schema_name)\n",
    "            continue\n",
    "        union_types.update(get_union_types(schemas, schema_detail['__properties']))\n",
    "    return union_types\n",
    "\n",
    "\n",
    "str(get_schemas_union_types(schemas))[:1000]"
   ]
  },
  {
   "cell_type": "code",
   "execution_count": 134,
   "metadata": {},
   "outputs": [
    {
     "data": {
      "text/plain": [
       "\"{'http://schema.org/UserLikes': {'about': {'Thing'}, 'funder': {'Organization', 'Person'}, 'workFeatured': {'CreativeWork'}, 'audience': {'Audience'}, 'remainingAttendeeCapacity': {'GraphQLInt'}, 'actor': {'Person'}, 'performers': {'Organization', 'Person'}, 'endDate': {'GraphQLString'}, 'doorTime': {'GraphQLString'}, 'contributor': {'Organization', 'Person'}, 'maximumAttendeeCapacity': {'GraphQLInt'}, 'typicalAgeRange': {'GraphQLString'}, 'organizer': {'Organization', 'Person'}, 'attendees': {'Organization', 'Person'}, 'aggregateRating': {'AggregateRating'}, 'subEvent': {'Event'}, 'subEvents': {'Event'}, 'offers': {'Offer'}, 'inLanguage': {'Language'}, 'attendee': {'Organization', 'Person'}, 'workPerformed': {'CreativeWork'}, 'eventStatus': {'EventStatusType'}, 'startDate': {'GraphQLString'}, 'director': {'Person'}, 'superEvent': {'Event'}, 'duration': {'Duration'}, 'translator': {'Organization', 'Person'}, 'previousStartDate': {'GraphQLString'}, 'review': {'Review'}, 'sponsor': {'Org\""
      ]
     },
     "execution_count": 134,
     "metadata": {},
     "output_type": "execute_result"
    }
   ],
   "source": [
    "def get_schemas_type_defs(schemas):\n",
    "    type_defs = {}\n",
    "    \n",
    "    for schema_name, schema_detail in schemas.items():\n",
    "        if '__properties' not in schema_detail:\n",
    "            continue\n",
    "        type_defs[schema_name] = {}\n",
    "        \n",
    "        for prop_id, prop_defs in schema_detail['__properties'].items():\n",
    "            prop_name = properties[prop_id]\n",
    "            type_defs[schema_name][prop_name] = get_graphql_type_names(schemas, prop_defs)\n",
    "    return type_defs\n",
    "\n",
    "str(get_schemas_type_defs(schemas))[:1000]"
   ]
  },
  {
   "cell_type": "code",
   "execution_count": 135,
   "metadata": {},
   "outputs": [
    {
     "ename": "ValueError",
     "evalue": "too many values to unpack (expected 2)",
     "output_type": "error",
     "traceback": [
      "\u001b[0;31m---------------------------------------------------------------------------\u001b[0m",
      "\u001b[0;31mValueError\u001b[0m                                Traceback (most recent call last)",
      "\u001b[0;32m<ipython-input-135-8a4b4ed87ee7>\u001b[0m in \u001b[0;36m<module>\u001b[0;34m\u001b[0m\n\u001b[1;32m     13\u001b[0m     \u001b[0;32mreturn\u001b[0m \u001b[0mresult\u001b[0m\u001b[0;34m.\u001b[0m\u001b[0mreplace\u001b[0m\u001b[0;34m(\u001b[0m\u001b[0;34m'\\n\\n'\u001b[0m\u001b[0;34m,\u001b[0m \u001b[0;34m'\\n'\u001b[0m\u001b[0;34m)\u001b[0m\u001b[0;34m\u001b[0m\u001b[0;34m\u001b[0m\u001b[0m\n\u001b[1;32m     14\u001b[0m \u001b[0;34m\u001b[0m\u001b[0m\n\u001b[0;32m---> 15\u001b[0;31m \u001b[0mresult\u001b[0m \u001b[0;34m=\u001b[0m \u001b[0mcreate_schema_type\u001b[0m\u001b[0;34m(\u001b[0m\u001b[0mschemas\u001b[0m\u001b[0;34m)\u001b[0m\u001b[0;34m\u001b[0m\u001b[0;34m\u001b[0m\u001b[0m\n\u001b[0m\u001b[1;32m     16\u001b[0m \u001b[0;34m\u001b[0m\u001b[0m\n\u001b[1;32m     17\u001b[0m \u001b[0mprint\u001b[0m\u001b[0;34m(\u001b[0m\u001b[0mresult\u001b[0m\u001b[0;34m[\u001b[0m\u001b[0;34m:\u001b[0m\u001b[0;36m500\u001b[0m\u001b[0;34m]\u001b[0m \u001b[0;34m+\u001b[0m \u001b[0;34m'\\n...\\n'\u001b[0m \u001b[0;34m+\u001b[0m \u001b[0mresult\u001b[0m\u001b[0;34m[\u001b[0m\u001b[0;34m-\u001b[0m\u001b[0;36m250\u001b[0m\u001b[0;34m:\u001b[0m\u001b[0;34m]\u001b[0m\u001b[0;34m)\u001b[0m\u001b[0;34m\u001b[0m\u001b[0;34m\u001b[0m\u001b[0m\n",
      "\u001b[0;32m<ipython-input-135-8a4b4ed87ee7>\u001b[0m in \u001b[0;36mcreate_schema_type\u001b[0;34m(schemas)\u001b[0m\n\u001b[1;32m      8\u001b[0m     result = template_type.render(\n\u001b[1;32m      9\u001b[0m         \u001b[0mtype_defs\u001b[0m\u001b[0;34m=\u001b[0m\u001b[0mtype_defs\u001b[0m\u001b[0;34m.\u001b[0m\u001b[0mitems\u001b[0m\u001b[0;34m(\u001b[0m\u001b[0;34m)\u001b[0m\u001b[0;34m,\u001b[0m\u001b[0;34m\u001b[0m\u001b[0;34m\u001b[0m\u001b[0m\n\u001b[0;32m---> 10\u001b[0;31m         \u001b[0munion_types\u001b[0m\u001b[0;34m=\u001b[0m\u001b[0munion_types\u001b[0m\u001b[0;34m.\u001b[0m\u001b[0mitems\u001b[0m\u001b[0;34m(\u001b[0m\u001b[0;34m)\u001b[0m\u001b[0;34m\u001b[0m\u001b[0;34m\u001b[0m\u001b[0m\n\u001b[0m\u001b[1;32m     11\u001b[0m     )\n\u001b[1;32m     12\u001b[0m \u001b[0;34m\u001b[0m\u001b[0m\n",
      "\u001b[0;32m/mnt/sda1/storage/miniconda/envs/jlab-test/lib/python3.7/site-packages/jinja2/asyncsupport.py\u001b[0m in \u001b[0;36mrender\u001b[0;34m(self, *args, **kwargs)\u001b[0m\n\u001b[1;32m     74\u001b[0m     \u001b[0;32mdef\u001b[0m \u001b[0mrender\u001b[0m\u001b[0;34m(\u001b[0m\u001b[0mself\u001b[0m\u001b[0;34m,\u001b[0m \u001b[0;34m*\u001b[0m\u001b[0margs\u001b[0m\u001b[0;34m,\u001b[0m \u001b[0;34m**\u001b[0m\u001b[0mkwargs\u001b[0m\u001b[0;34m)\u001b[0m\u001b[0;34m:\u001b[0m\u001b[0;34m\u001b[0m\u001b[0;34m\u001b[0m\u001b[0m\n\u001b[1;32m     75\u001b[0m         \u001b[0;32mif\u001b[0m \u001b[0;32mnot\u001b[0m \u001b[0mself\u001b[0m\u001b[0;34m.\u001b[0m\u001b[0menvironment\u001b[0m\u001b[0;34m.\u001b[0m\u001b[0mis_async\u001b[0m\u001b[0;34m:\u001b[0m\u001b[0;34m\u001b[0m\u001b[0;34m\u001b[0m\u001b[0m\n\u001b[0;32m---> 76\u001b[0;31m             \u001b[0;32mreturn\u001b[0m \u001b[0moriginal_render\u001b[0m\u001b[0;34m(\u001b[0m\u001b[0mself\u001b[0m\u001b[0;34m,\u001b[0m \u001b[0;34m*\u001b[0m\u001b[0margs\u001b[0m\u001b[0;34m,\u001b[0m \u001b[0;34m**\u001b[0m\u001b[0mkwargs\u001b[0m\u001b[0;34m)\u001b[0m\u001b[0;34m\u001b[0m\u001b[0;34m\u001b[0m\u001b[0m\n\u001b[0m\u001b[1;32m     77\u001b[0m         \u001b[0mloop\u001b[0m \u001b[0;34m=\u001b[0m \u001b[0masyncio\u001b[0m\u001b[0;34m.\u001b[0m\u001b[0mget_event_loop\u001b[0m\u001b[0;34m(\u001b[0m\u001b[0;34m)\u001b[0m\u001b[0;34m\u001b[0m\u001b[0;34m\u001b[0m\u001b[0m\n\u001b[1;32m     78\u001b[0m         \u001b[0;32mreturn\u001b[0m \u001b[0mloop\u001b[0m\u001b[0;34m.\u001b[0m\u001b[0mrun_until_complete\u001b[0m\u001b[0;34m(\u001b[0m\u001b[0mself\u001b[0m\u001b[0;34m.\u001b[0m\u001b[0mrender_async\u001b[0m\u001b[0;34m(\u001b[0m\u001b[0;34m*\u001b[0m\u001b[0margs\u001b[0m\u001b[0;34m,\u001b[0m \u001b[0;34m**\u001b[0m\u001b[0mkwargs\u001b[0m\u001b[0;34m)\u001b[0m\u001b[0;34m)\u001b[0m\u001b[0;34m\u001b[0m\u001b[0;34m\u001b[0m\u001b[0m\n",
      "\u001b[0;32m/mnt/sda1/storage/miniconda/envs/jlab-test/lib/python3.7/site-packages/jinja2/environment.py\u001b[0m in \u001b[0;36mrender\u001b[0;34m(self, *args, **kwargs)\u001b[0m\n\u001b[1;32m   1006\u001b[0m         \u001b[0;32mexcept\u001b[0m \u001b[0mException\u001b[0m\u001b[0;34m:\u001b[0m\u001b[0;34m\u001b[0m\u001b[0;34m\u001b[0m\u001b[0m\n\u001b[1;32m   1007\u001b[0m             \u001b[0mexc_info\u001b[0m \u001b[0;34m=\u001b[0m \u001b[0msys\u001b[0m\u001b[0;34m.\u001b[0m\u001b[0mexc_info\u001b[0m\u001b[0;34m(\u001b[0m\u001b[0;34m)\u001b[0m\u001b[0;34m\u001b[0m\u001b[0;34m\u001b[0m\u001b[0m\n\u001b[0;32m-> 1008\u001b[0;31m         \u001b[0;32mreturn\u001b[0m \u001b[0mself\u001b[0m\u001b[0;34m.\u001b[0m\u001b[0menvironment\u001b[0m\u001b[0;34m.\u001b[0m\u001b[0mhandle_exception\u001b[0m\u001b[0;34m(\u001b[0m\u001b[0mexc_info\u001b[0m\u001b[0;34m,\u001b[0m \u001b[0;32mTrue\u001b[0m\u001b[0;34m)\u001b[0m\u001b[0;34m\u001b[0m\u001b[0;34m\u001b[0m\u001b[0m\n\u001b[0m\u001b[1;32m   1009\u001b[0m \u001b[0;34m\u001b[0m\u001b[0m\n\u001b[1;32m   1010\u001b[0m     \u001b[0;32mdef\u001b[0m \u001b[0mrender_async\u001b[0m\u001b[0;34m(\u001b[0m\u001b[0mself\u001b[0m\u001b[0;34m,\u001b[0m \u001b[0;34m*\u001b[0m\u001b[0margs\u001b[0m\u001b[0;34m,\u001b[0m \u001b[0;34m**\u001b[0m\u001b[0mkwargs\u001b[0m\u001b[0;34m)\u001b[0m\u001b[0;34m:\u001b[0m\u001b[0;34m\u001b[0m\u001b[0;34m\u001b[0m\u001b[0m\n",
      "\u001b[0;32m/mnt/sda1/storage/miniconda/envs/jlab-test/lib/python3.7/site-packages/jinja2/environment.py\u001b[0m in \u001b[0;36mhandle_exception\u001b[0;34m(self, exc_info, rendered, source_hint)\u001b[0m\n\u001b[1;32m    778\u001b[0m             \u001b[0mself\u001b[0m\u001b[0;34m.\u001b[0m\u001b[0mexception_handler\u001b[0m\u001b[0;34m(\u001b[0m\u001b[0mtraceback\u001b[0m\u001b[0;34m)\u001b[0m\u001b[0;34m\u001b[0m\u001b[0;34m\u001b[0m\u001b[0m\n\u001b[1;32m    779\u001b[0m         \u001b[0mexc_type\u001b[0m\u001b[0;34m,\u001b[0m \u001b[0mexc_value\u001b[0m\u001b[0;34m,\u001b[0m \u001b[0mtb\u001b[0m \u001b[0;34m=\u001b[0m \u001b[0mtraceback\u001b[0m\u001b[0;34m.\u001b[0m\u001b[0mstandard_exc_info\u001b[0m\u001b[0;34m\u001b[0m\u001b[0;34m\u001b[0m\u001b[0m\n\u001b[0;32m--> 780\u001b[0;31m         \u001b[0mreraise\u001b[0m\u001b[0;34m(\u001b[0m\u001b[0mexc_type\u001b[0m\u001b[0;34m,\u001b[0m \u001b[0mexc_value\u001b[0m\u001b[0;34m,\u001b[0m \u001b[0mtb\u001b[0m\u001b[0;34m)\u001b[0m\u001b[0;34m\u001b[0m\u001b[0;34m\u001b[0m\u001b[0m\n\u001b[0m\u001b[1;32m    781\u001b[0m \u001b[0;34m\u001b[0m\u001b[0m\n\u001b[1;32m    782\u001b[0m     \u001b[0;32mdef\u001b[0m \u001b[0mjoin_path\u001b[0m\u001b[0;34m(\u001b[0m\u001b[0mself\u001b[0m\u001b[0;34m,\u001b[0m \u001b[0mtemplate\u001b[0m\u001b[0;34m,\u001b[0m \u001b[0mparent\u001b[0m\u001b[0;34m)\u001b[0m\u001b[0;34m:\u001b[0m\u001b[0;34m\u001b[0m\u001b[0;34m\u001b[0m\u001b[0m\n",
      "\u001b[0;32m/mnt/sda1/storage/miniconda/envs/jlab-test/lib/python3.7/site-packages/jinja2/_compat.py\u001b[0m in \u001b[0;36mreraise\u001b[0;34m(tp, value, tb)\u001b[0m\n\u001b[1;32m     35\u001b[0m     \u001b[0;32mdef\u001b[0m \u001b[0mreraise\u001b[0m\u001b[0;34m(\u001b[0m\u001b[0mtp\u001b[0m\u001b[0;34m,\u001b[0m \u001b[0mvalue\u001b[0m\u001b[0;34m,\u001b[0m \u001b[0mtb\u001b[0m\u001b[0;34m=\u001b[0m\u001b[0;32mNone\u001b[0m\u001b[0;34m)\u001b[0m\u001b[0;34m:\u001b[0m\u001b[0;34m\u001b[0m\u001b[0;34m\u001b[0m\u001b[0m\n\u001b[1;32m     36\u001b[0m         \u001b[0;32mif\u001b[0m \u001b[0mvalue\u001b[0m\u001b[0;34m.\u001b[0m\u001b[0m__traceback__\u001b[0m \u001b[0;32mis\u001b[0m \u001b[0;32mnot\u001b[0m \u001b[0mtb\u001b[0m\u001b[0;34m:\u001b[0m\u001b[0;34m\u001b[0m\u001b[0;34m\u001b[0m\u001b[0m\n\u001b[0;32m---> 37\u001b[0;31m             \u001b[0;32mraise\u001b[0m \u001b[0mvalue\u001b[0m\u001b[0;34m.\u001b[0m\u001b[0mwith_traceback\u001b[0m\u001b[0;34m(\u001b[0m\u001b[0mtb\u001b[0m\u001b[0;34m)\u001b[0m\u001b[0;34m\u001b[0m\u001b[0;34m\u001b[0m\u001b[0m\n\u001b[0m\u001b[1;32m     38\u001b[0m         \u001b[0;32mraise\u001b[0m \u001b[0mvalue\u001b[0m\u001b[0;34m\u001b[0m\u001b[0;34m\u001b[0m\u001b[0m\n\u001b[1;32m     39\u001b[0m \u001b[0;34m\u001b[0m\u001b[0m\n",
      "\u001b[0;32m<template>\u001b[0m in \u001b[0;36mtop-level template code\u001b[0;34m()\u001b[0m\n",
      "\u001b[0;31mValueError\u001b[0m: too many values to unpack (expected 2)"
     ]
    }
   ],
   "source": [
    "def create_schema_type(schemas):\n",
    "    with open('templates/template_type.txt', 'r') as f:\n",
    "        template_type = Template(f.read())\n",
    "\n",
    "    type_defs = get_schemas_type_defs(schemas)\n",
    "    union_types = get_schemas_union_types(schemas)\n",
    "\n",
    "    result = template_type.render(\n",
    "        type_defs=type_defs.items(),\n",
    "        union_types=union_types.items()\n",
    "    )\n",
    "\n",
    "    return result.replace('\\n\\n', '\\n')\n",
    "\n",
    "result = create_schema_type(schemas)\n",
    "\n",
    "print(result[:500] + '\\n...\\n' + result[-250:])"
   ]
  },
  {
   "cell_type": "code",
   "execution_count": 36,
   "metadata": {},
   "outputs": [
    {
     "ename": "KeyError",
     "evalue": "'Expected Type'",
     "output_type": "error",
     "traceback": [
      "\u001b[0;31m---------------------------------------------------------------------------\u001b[0m",
      "\u001b[0;31mKeyError\u001b[0m                                  Traceback (most recent call last)",
      "\u001b[0;32m<ipython-input-36-447c44370ae3>\u001b[0m in \u001b[0;36m<module>\u001b[0;34m\u001b[0m\n\u001b[1;32m     27\u001b[0m     \u001b[0;32mreturn\u001b[0m \u001b[0mresult\u001b[0m\u001b[0;34m.\u001b[0m\u001b[0mreplace\u001b[0m\u001b[0;34m(\u001b[0m\u001b[0;34m'\\n\\n'\u001b[0m\u001b[0;34m,\u001b[0m \u001b[0;34m'\\n'\u001b[0m\u001b[0;34m)\u001b[0m\u001b[0;34m\u001b[0m\u001b[0;34m\u001b[0m\u001b[0m\n\u001b[1;32m     28\u001b[0m \u001b[0;34m\u001b[0m\u001b[0m\n\u001b[0;32m---> 29\u001b[0;31m \u001b[0mresult\u001b[0m \u001b[0;34m=\u001b[0m \u001b[0mcreate_schema_type\u001b[0m\u001b[0;34m(\u001b[0m\u001b[0mschemas\u001b[0m\u001b[0;34m)\u001b[0m\u001b[0;34m\u001b[0m\u001b[0;34m\u001b[0m\u001b[0m\n\u001b[0m\u001b[1;32m     30\u001b[0m \u001b[0;34m\u001b[0m\u001b[0m\n\u001b[1;32m     31\u001b[0m \u001b[0mprint\u001b[0m\u001b[0;34m(\u001b[0m\u001b[0mresult\u001b[0m\u001b[0;34m[\u001b[0m\u001b[0;34m:\u001b[0m\u001b[0;36m500\u001b[0m\u001b[0;34m]\u001b[0m \u001b[0;34m+\u001b[0m \u001b[0;34m'\\n...\\n'\u001b[0m \u001b[0;34m+\u001b[0m \u001b[0mresult\u001b[0m\u001b[0;34m[\u001b[0m\u001b[0;34m-\u001b[0m\u001b[0;36m250\u001b[0m\u001b[0;34m:\u001b[0m\u001b[0;34m]\u001b[0m\u001b[0;34m)\u001b[0m\u001b[0;34m\u001b[0m\u001b[0;34m\u001b[0m\u001b[0m\n",
      "\u001b[0;32m<ipython-input-36-447c44370ae3>\u001b[0m in \u001b[0;36mcreate_schema_type\u001b[0;34m(schemas)\u001b[0m\n\u001b[1;32m     17\u001b[0m \u001b[0;34m\u001b[0m\u001b[0m\n\u001b[1;32m     18\u001b[0m \u001b[0;32mdef\u001b[0m \u001b[0mcreate_schema_type\u001b[0m\u001b[0;34m(\u001b[0m\u001b[0mschemas\u001b[0m\u001b[0;34m)\u001b[0m\u001b[0;34m:\u001b[0m\u001b[0;34m\u001b[0m\u001b[0;34m\u001b[0m\u001b[0m\n\u001b[0;32m---> 19\u001b[0;31m     \u001b[0mtype_defs\u001b[0m \u001b[0;34m=\u001b[0m \u001b[0mget_schemas_type_defs\u001b[0m\u001b[0;34m(\u001b[0m\u001b[0mschemas\u001b[0m\u001b[0;34m)\u001b[0m\u001b[0;34m\u001b[0m\u001b[0;34m\u001b[0m\u001b[0m\n\u001b[0m\u001b[1;32m     20\u001b[0m     \u001b[0munion_types\u001b[0m \u001b[0;34m=\u001b[0m \u001b[0mget_schemas_union_types\u001b[0m\u001b[0;34m(\u001b[0m\u001b[0mschemas\u001b[0m\u001b[0;34m)\u001b[0m\u001b[0;34m\u001b[0m\u001b[0;34m\u001b[0m\u001b[0m\n\u001b[1;32m     21\u001b[0m \u001b[0;34m\u001b[0m\u001b[0m\n",
      "\u001b[0;32m<ipython-input-36-447c44370ae3>\u001b[0m in \u001b[0;36mget_schemas_type_defs\u001b[0;34m(schemas)\u001b[0m\n\u001b[1;32m      5\u001b[0m         \u001b[0m_df\u001b[0m \u001b[0;34m=\u001b[0m \u001b[0mschema_df\u001b[0m\u001b[0;34m.\u001b[0m\u001b[0mcopy\u001b[0m\u001b[0;34m(\u001b[0m\u001b[0;34m)\u001b[0m\u001b[0;34m\u001b[0m\u001b[0;34m\u001b[0m\u001b[0m\n\u001b[1;32m      6\u001b[0m \u001b[0;34m\u001b[0m\u001b[0m\n\u001b[0;32m----> 7\u001b[0;31m         \u001b[0mmask_union\u001b[0m \u001b[0;34m=\u001b[0m \u001b[0m_df\u001b[0m\u001b[0;34m[\u001b[0m\u001b[0;34m'Expected Type'\u001b[0m\u001b[0;34m]\u001b[0m\u001b[0;34m.\u001b[0m\u001b[0mapply\u001b[0m\u001b[0;34m(\u001b[0m\u001b[0;32mlambda\u001b[0m \u001b[0mv\u001b[0m\u001b[0;34m:\u001b[0m \u001b[0mlen\u001b[0m\u001b[0;34m(\u001b[0m\u001b[0mv\u001b[0m\u001b[0;34m)\u001b[0m \u001b[0;34m>\u001b[0m \u001b[0;36m1\u001b[0m\u001b[0;34m)\u001b[0m\u001b[0;34m\u001b[0m\u001b[0;34m\u001b[0m\u001b[0m\n\u001b[0m\u001b[1;32m      8\u001b[0m         \u001b[0mmask_single\u001b[0m \u001b[0;34m=\u001b[0m \u001b[0m_df\u001b[0m\u001b[0;34m[\u001b[0m\u001b[0;34m'Expected Type'\u001b[0m\u001b[0;34m]\u001b[0m\u001b[0;34m.\u001b[0m\u001b[0mapply\u001b[0m\u001b[0;34m(\u001b[0m\u001b[0;32mlambda\u001b[0m \u001b[0mv\u001b[0m\u001b[0;34m:\u001b[0m \u001b[0mlen\u001b[0m\u001b[0;34m(\u001b[0m\u001b[0mv\u001b[0m\u001b[0;34m)\u001b[0m \u001b[0;34m==\u001b[0m \u001b[0;36m1\u001b[0m\u001b[0;34m)\u001b[0m\u001b[0;34m\u001b[0m\u001b[0;34m\u001b[0m\u001b[0m\n\u001b[1;32m      9\u001b[0m \u001b[0;34m\u001b[0m\u001b[0m\n",
      "\u001b[0;31mKeyError\u001b[0m: 'Expected Type'"
     ]
    }
   ],
   "source": [
    "def create_union_input_types(schemas):\n",
    "    type_defs = get_schemas_type_defs(schemas)\n",
    "    union_types = get_schemas_union_types(schemas)\n",
    "    \n",
    "    result = template_union_input.render(\n",
    "        input_types=union_types.items(),\n",
    "        type_defs=type_defs.items()\n",
    "    )\n",
    "    return result\n",
    "\n",
    "\n",
    "print(create_union_input_types(schemas)[:1500] + ' ...')\n",
    "\n",
    "\n",
    "path = '/home/xmn/dev/quansight/tmp/schemas'\n",
    "# path = '/tmp/jupyterlab-metadata-service/backend/jupyterlab_metadata_service_server/src/schemas'\n",
    "os.makedirs(path, exist_ok=True)\n",
    "\n",
    "with open(os.path.join(path, 'schemaorg-typedef.js'), 'w') as f:\n",
    "    f.write(create_schema_type(schemas))\n",
    "    \n",
    "with open(os.path.join(path, 'schemaorg-input.js'), 'w') as f:\n",
    "    f.write(create_union_input_types(schemas))"
   ]
  }
 ],
 "metadata": {
  "kernelspec": {
   "display_name": "Python 3",
   "language": "python",
   "name": "python3"
  },
  "language_info": {
   "codemirror_mode": {
    "name": "ipython",
    "version": 3
   },
   "file_extension": ".py",
   "mimetype": "text/x-python",
   "name": "python",
   "nbconvert_exporter": "python",
   "pygments_lexer": "ipython3",
   "version": "3.7.3"
  }
 },
 "nbformat": 4,
 "nbformat_minor": 2
}
