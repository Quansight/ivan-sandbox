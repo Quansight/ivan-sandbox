{
 "cells": [
  {
   "cell_type": "markdown",
   "metadata": {},
   "source": [
    "# Exploring Schema.org JSON-LD data"
   ]
  },
  {
   "cell_type": "code",
   "execution_count": 1,
   "metadata": {},
   "outputs": [],
   "source": [
    "import copy\n",
    "import json\n",
    "import requests"
   ]
  },
  {
   "cell_type": "code",
   "execution_count": 2,
   "metadata": {},
   "outputs": [],
   "source": [
    "url = 'https://schema.org/version/3.5/schema.jsonld'\n",
    "content = requests.get(url).content.decode('utf8')"
   ]
  },
  {
   "cell_type": "code",
   "execution_count": 3,
   "metadata": {},
   "outputs": [],
   "source": [
    "content_js = json.loads(content)"
   ]
  },
  {
   "cell_type": "code",
   "execution_count": 4,
   "metadata": {},
   "outputs": [
    {
     "name": "stdout",
     "output_type": "stream",
     "text": [
      "Keys: dict_keys(['@context', '@graph', '@id'])\n",
      "@id: http://schema.org/#3.5\n",
      "@context: {'rdf': 'http://www.w3.org/1999/02/22-rdf-syntax-ns#', 'rdfs': 'http://www.w3.org/2000/01/rdf-schema#', 'xsd': 'http://www.w3.org/2001/XMLSchema#'}\n"
     ]
    }
   ],
   "source": [
    "print('Keys:', content_js.keys())\n",
    "print('@id:', content_js['@id'])\n",
    "print('@context:', content_js['@context'])"
   ]
  },
  {
   "cell_type": "code",
   "execution_count": 5,
   "metadata": {},
   "outputs": [
    {
     "name": "stdout",
     "output_type": "stream",
     "text": [
      "<class 'list'>\n",
      "1646\n"
     ]
    }
   ],
   "source": [
    "print(type(content_js['@graph']))\n",
    "print(len(content_js['@graph']))"
   ]
  },
  {
   "cell_type": "code",
   "execution_count": 6,
   "metadata": {},
   "outputs": [
    {
     "data": {
      "text/plain": [
       "{'@id',\n",
       " '@type',\n",
       " 'http://purl.org/dc/terms/source',\n",
       " 'http://schema.org/category',\n",
       " 'http://schema.org/domainIncludes',\n",
       " 'http://schema.org/inverseOf',\n",
       " 'http://schema.org/rangeIncludes',\n",
       " 'http://schema.org/sameAs',\n",
       " 'http://schema.org/supersededBy',\n",
       " 'http://www.w3.org/2002/07/owl#equivalentClass',\n",
       " 'http://www.w3.org/2002/07/owl#equivalentProperty',\n",
       " 'http://www.w3.org/2004/02/skos/core#closeMatch',\n",
       " 'rdfs:comment',\n",
       " 'rdfs:label',\n",
       " 'rdfs:subClassOf',\n",
       " 'rdfs:subPropertyOf'}"
      ]
     },
     "execution_count": 6,
     "metadata": {},
     "output_type": "execute_result"
    }
   ],
   "source": [
    "# show graph keys\n",
    "keys = set()\n",
    "\n",
    "for v in content_js['@graph']:\n",
    "    keys |= set(v.keys())\n",
    "\n",
    "keys"
   ]
  },
  {
   "cell_type": "code",
   "execution_count": 7,
   "metadata": {},
   "outputs": [
    {
     "data": {
      "text/plain": [
       "{'@id': 'http://schema.org/Male',\n",
       " '@type': 'http://schema.org/GenderType',\n",
       " 'rdfs:comment': 'The male gender.',\n",
       " 'rdfs:label': 'Male'}"
      ]
     },
     "metadata": {},
     "output_type": "display_data"
    },
    {
     "data": {
      "text/plain": [
       "{'@id': 'http://schema.org/Female',\n",
       " '@type': 'http://schema.org/GenderType',\n",
       " 'rdfs:comment': 'The female gender.',\n",
       " 'rdfs:label': 'Female'}"
      ]
     },
     "metadata": {},
     "output_type": "display_data"
    },
    {
     "data": {
      "text/plain": [
       "{'http://schema.org/ActionStatusType',\n",
       " 'http://schema.org/Audience',\n",
       " 'http://schema.org/BoardingPolicyType',\n",
       " 'http://schema.org/BookFormatType',\n",
       " 'http://schema.org/Boolean',\n",
       " 'http://schema.org/ContactPointOption',\n",
       " 'http://schema.org/DataType',\n",
       " 'http://schema.org/DayOfWeek',\n",
       " 'http://schema.org/DeliveryMethod',\n",
       " 'http://schema.org/DigitalDocumentPermissionType',\n",
       " 'http://schema.org/DriveWheelConfigurationValue',\n",
       " 'http://schema.org/EventStatusType',\n",
       " 'http://schema.org/GamePlayMode',\n",
       " 'http://schema.org/GameServerStatus',\n",
       " 'http://schema.org/GenderType',\n",
       " 'http://schema.org/ItemAvailability',\n",
       " 'http://schema.org/ItemListOrderType',\n",
       " 'http://schema.org/MapCategoryType',\n",
       " 'http://schema.org/MusicAlbumProductionType',\n",
       " 'http://schema.org/MusicAlbumReleaseType',\n",
       " 'http://schema.org/MusicReleaseFormatType',\n",
       " 'http://schema.org/OfferItemCondition',\n",
       " 'http://schema.org/OrderStatus',\n",
       " 'http://schema.org/PaymentStatusType',\n",
       " 'http://schema.org/ReservationStatusType',\n",
       " 'http://schema.org/RestrictedDiet',\n",
       " 'http://schema.org/RsvpResponseType',\n",
       " 'http://schema.org/SteeringPositionValue',\n",
       " 'rdf:Property',\n",
       " 'rdfs:Class'}"
      ]
     },
     "execution_count": 7,
     "metadata": {},
     "output_type": "execute_result"
    }
   ],
   "source": [
    "# show graph types\n",
    "types = set()\n",
    "for v in content_js['@graph']:\n",
    "    t = v['@type'] if isinstance(v['@type'], list) else {v['@type']}\n",
    "    types |= set(t) \n",
    "    if 'http://schema.org/GenderType' in t:\n",
    "        display(v)\n",
    "types"
   ]
  },
  {
   "cell_type": "code",
   "execution_count": 8,
   "metadata": {},
   "outputs": [
    {
     "name": "stdout",
     "output_type": "stream",
     "text": [
      "# Classes: 624\n"
     ]
    }
   ],
   "source": [
    "# show graph rdfs:Class\n",
    "classes = {}\n",
    "for v in content_js['@graph']:\n",
    "    t = v['@type']\n",
    "    if not isinstance(t, list):\n",
    "        t = [t]\n",
    "    if 'rdfs:Class' not in t:\n",
    "        continue\n",
    "    classes[v['rdfs:label']] = v\n",
    "print('# Classes:', len(classes))"
   ]
  },
  {
   "cell_type": "code",
   "execution_count": 9,
   "metadata": {},
   "outputs": [
    {
     "data": {
      "text/plain": [
       "{'@id': 'http://schema.org/AboutPage',\n",
       " '@type': 'rdfs:Class',\n",
       " 'rdfs:comment': 'Web page type: About page.',\n",
       " 'rdfs:label': 'AboutPage',\n",
       " 'rdfs:subClassOf': {'@id': 'http://schema.org/WebPage'}}"
      ]
     },
     "metadata": {},
     "output_type": "display_data"
    },
    {
     "data": {
      "text/plain": [
       "{'@id': 'http://schema.org/Dataset',\n",
       " '@type': 'rdfs:Class',\n",
       " 'http://purl.org/dc/terms/source': {'@id': 'http://www.w3.org/wiki/WebSchemas/SchemaDotOrgSources#source_DatasetClass'},\n",
       " 'http://www.w3.org/2002/07/owl#equivalentClass': [{'@id': 'http://rdfs.org/ns/void#Dataset'},\n",
       "  {'@id': 'http://purl.org/dc/dcmitype/Dataset'},\n",
       "  {'@id': 'http://www.w3.org/ns/dcat#Dataset'}],\n",
       " 'rdfs:comment': 'A body of structured information describing some topic(s) of interest.',\n",
       " 'rdfs:label': 'Dataset',\n",
       " 'rdfs:subClassOf': {'@id': 'http://schema.org/CreativeWork'}}"
      ]
     },
     "metadata": {},
     "output_type": "display_data"
    },
    {
     "data": {
      "text/plain": [
       "{'@id': 'http://schema.org/GenderType',\n",
       " '@type': 'rdfs:Class',\n",
       " 'rdfs:comment': 'An enumeration of genders.',\n",
       " 'rdfs:label': 'GenderType',\n",
       " 'rdfs:subClassOf': {'@id': 'http://schema.org/Enumeration'}}"
      ]
     },
     "metadata": {},
     "output_type": "display_data"
    }
   ],
   "source": [
    "# get data about some types\n",
    "for v in content_js['@graph']:\n",
    "    if (\n",
    "        v['rdfs:label'] == 'Dataset'\n",
    "        or v['rdfs:label'].startswith('About')\n",
    "        or v['rdfs:label'] == 'GenderType'\n",
    "    ):\n",
    "        display(v)"
   ]
  },
  {
   "cell_type": "code",
   "execution_count": 10,
   "metadata": {},
   "outputs": [
    {
     "name": "stdout",
     "output_type": "stream",
     "text": [
      "# Enums types: 29\n"
     ]
    }
   ],
   "source": [
    "enums = {}\n",
    "\n",
    "for v in content_js['@graph']:\n",
    "    if ('rdfs:subClassOf' in v):\n",
    "        if (\n",
    "            isinstance(v['rdfs:subClassOf'], dict) \n",
    "            and v['rdfs:subClassOf']['@id'] == 'http://schema.org/Enumeration'\n",
    "        ) or (\n",
    "            isinstance(v['rdfs:subClassOf'], list) \n",
    "            and len([True for item in v['rdfs:subClassOf'] if item['@id'] == 'http://schema.org/Enumeration'])\n",
    "        ): \n",
    "            enums[v['rdfs:label']] = v\n",
    "print('# Enums types:', len(enums))"
   ]
  },
  {
   "cell_type": "code",
   "execution_count": 11,
   "metadata": {},
   "outputs": [
    {
     "name": "stdout",
     "output_type": "stream",
     "text": [
      "# Gender Enum values:\n"
     ]
    },
    {
     "data": {
      "text/plain": [
       "[{'@id': 'http://schema.org/Male',\n",
       "  '@type': 'http://schema.org/GenderType',\n",
       "  'rdfs:comment': 'The male gender.',\n",
       "  'rdfs:label': 'Male'},\n",
       " {'@id': 'http://schema.org/Female',\n",
       "  '@type': 'http://schema.org/GenderType',\n",
       "  'rdfs:comment': 'The female gender.',\n",
       "  'rdfs:label': 'Female'}]"
      ]
     },
     "execution_count": 11,
     "metadata": {},
     "output_type": "execute_result"
    }
   ],
   "source": [
    "for k, e in enums.items():\n",
    "    e['values'] = []\n",
    "    for v in content_js['@graph']:\n",
    "        if e['@id'] in v['@type']:\n",
    "            e['values'].append(v)\n",
    "print('# Gender Enum values:')\n",
    "enums['GenderType']['values']"
   ]
  },
  {
   "cell_type": "code",
   "execution_count": 12,
   "metadata": {},
   "outputs": [
    {
     "name": "stdout",
     "output_type": "stream",
     "text": [
      "# Properties: 905\n"
     ]
    }
   ],
   "source": [
    "# get properties\n",
    "properties = set()\n",
    "for v in content_js['@graph']:\n",
    "    if v['@type'] == 'rdf:Property':\n",
    "        properties |= {v['rdfs:label']}\n",
    "print('# Properties:', len(properties))"
   ]
  },
  {
   "cell_type": "code",
   "execution_count": 20,
   "metadata": {},
   "outputs": [],
   "source": [
    "# schema properties domain\n",
    "schema_properties = {}\n",
    "k_domain = 'http://schema.org/domainIncludes'\n",
    "for v in content_js['@graph']:\n",
    "    if v['@type'] == 'rdf:Property' and k_domain in v:\n",
    "        v_domain = v[k_domain]\n",
    "        if isinstance(v_domain, list):\n",
    "            for d in v_domain:\n",
    "                id_domain = d['@id']\n",
    "                if id_domain not in schema_properties:\n",
    "                    schema_properties[id_domain] = []\n",
    "                schema_properties[id_domain].append(v['@id'])\n",
    "        else:\n",
    "            id_domain = v_domain['@id']\n",
    "            if id_domain not in schema_properties:\n",
    "                schema_properties[id_domain] = []\n",
    "            schema_properties[id_domain].append(v['@id'])"
   ]
  },
  {
   "cell_type": "code",
   "execution_count": 22,
   "metadata": {},
   "outputs": [
    {
     "name": "stdout",
     "output_type": "stream",
     "text": [
      "['http://schema.org/about', 'http://schema.org/accessibilitySummary', 'http://schema.org/educationalAlignment', 'http://schema.org/associatedMedia', 'http://schema.org/funder', 'http://schema.org/audio', 'http://schema.org/provider', 'http://schema.org/encoding', 'http://schema.org/interactivityType', 'http://schema.org/character', 'http://schema.org/audience', 'http://schema.org/sourceOrganization', 'http://schema.org/isPartOf', 'http://schema.org/video', 'http://schema.org/publication', 'http://schema.org/text', 'http://schema.org/expires', 'http://schema.org/contributor', 'http://schema.org/publisher', 'http://schema.org/reviews', 'http://schema.org/typicalAgeRange', 'http://schema.org/position', 'http://schema.org/releasedEvent', 'http://schema.org/contentLocation', 'http://schema.org/schemaVersion', 'http://schema.org/accessibilityFeature', 'http://schema.org/aggregateRating', 'http://schema.org/locationCreated', 'http://schema.org/accessModeSufficient', 'http://schema.org/temporalCoverage', 'http://schema.org/accountablePerson', 'http://schema.org/spatialCoverage', 'http://schema.org/offers', 'http://schema.org/editor', 'http://schema.org/discussionUrl', 'http://schema.org/award', 'http://schema.org/copyrightHolder', 'http://schema.org/accessibilityHazard', 'http://schema.org/copyrightYear', 'http://schema.org/awards', 'http://schema.org/recordedAt', 'http://schema.org/spatial', 'http://schema.org/commentCount', 'http://schema.org/fileFormat', 'http://schema.org/inLanguage', 'http://schema.org/temporal', 'http://schema.org/accessibilityAPI', 'http://schema.org/interactionStatistic', 'http://schema.org/contentRating', 'http://schema.org/learningResourceType', 'http://schema.org/accessMode', 'http://schema.org/material', 'http://schema.org/isFamilyFriendly', 'http://schema.org/exampleOfWork', 'http://schema.org/version', 'http://schema.org/dateModified', 'http://schema.org/keywords', 'http://schema.org/genre', 'http://schema.org/mainEntity', 'http://schema.org/author', 'http://schema.org/encodings', 'http://schema.org/isBasedOnUrl', 'http://schema.org/timeRequired', 'http://schema.org/translator', 'http://schema.org/thumbnailUrl', 'http://schema.org/hasPart', 'http://schema.org/comment', 'http://schema.org/encodingFormat', 'http://schema.org/review', 'http://schema.org/license', 'http://schema.org/accessibilityControl', 'http://schema.org/isBasedOn', 'http://schema.org/creator', 'http://schema.org/publishingPrinciples', 'http://schema.org/sponsor', 'http://schema.org/producer', 'http://schema.org/mentions', 'http://schema.org/workExample', 'http://schema.org/dateCreated', 'http://schema.org/educationalUse', 'http://schema.org/datePublished', 'http://schema.org/isAccessibleForFree', 'http://schema.org/alternativeHeadline', 'http://schema.org/headline', 'http://schema.org/citation']\n"
     ]
    }
   ],
   "source": [
    "print(schema_properties['http://schema.org/CreativeWork'])"
   ]
  },
  {
   "cell_type": "code",
   "execution_count": 14,
   "metadata": {},
   "outputs": [
    {
     "data": {
      "text/plain": [
       "{'@id': 'http://schema.org/Dataset',\n",
       " '@type': 'rdfs:Class',\n",
       " 'http://purl.org/dc/terms/source': {'@id': 'http://www.w3.org/wiki/WebSchemas/SchemaDotOrgSources#source_DatasetClass'},\n",
       " 'http://www.w3.org/2002/07/owl#equivalentClass': [{'@id': 'http://rdfs.org/ns/void#Dataset'},\n",
       "  {'@id': 'http://purl.org/dc/dcmitype/Dataset'},\n",
       "  {'@id': 'http://www.w3.org/ns/dcat#Dataset'}],\n",
       " 'rdfs:comment': 'A body of structured information describing some topic(s) of interest.',\n",
       " 'rdfs:label': 'Dataset',\n",
       " 'rdfs:subClassOf': {'@id': 'http://schema.org/CreativeWork'}}"
      ]
     },
     "execution_count": 14,
     "metadata": {},
     "output_type": "execute_result"
    }
   ],
   "source": [
    "# create schema js\n",
    "schema = copy.copy(classes)\n",
    "schema['Dataset']"
   ]
  },
  {
   "cell_type": "code",
   "execution_count": 15,
   "metadata": {},
   "outputs": [
    {
     "name": "stdout",
     "output_type": "stream",
     "text": [
      "/mnt/sda1/dev/quansight/xmnlab/ivan-sandbox/schemaorg-graphql\n"
     ]
    }
   ],
   "source": [
    "!pwd"
   ]
  }
 ],
 "metadata": {
  "kernelspec": {
   "display_name": "Python 3",
   "language": "python",
   "name": "python3"
  },
  "language_info": {
   "codemirror_mode": {
    "name": "ipython",
    "version": 3
   },
   "file_extension": ".py",
   "mimetype": "text/x-python",
   "name": "python",
   "nbconvert_exporter": "python",
   "pygments_lexer": "ipython3",
   "version": "3.7.3"
  }
 },
 "nbformat": 4,
 "nbformat_minor": 2
}
